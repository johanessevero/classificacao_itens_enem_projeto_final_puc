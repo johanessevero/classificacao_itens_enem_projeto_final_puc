{
 "cells": [
  {
   "cell_type": "code",
   "execution_count": 3,
   "id": "c9a2c671",
   "metadata": {
    "scrolled": true
   },
   "outputs": [],
   "source": [
    "# O módulo LocalOutlierFactor da biblioteca scikit-learn é usado para detectar outliers em um conjunto de dados\n",
    "from sklearn.neighbors import LocalOutlierFactor\n",
    "# O módulo KBinsDiscretizer da biblioteca scikit-learn é usado para discretizar \n",
    "# variáveis contínuas em bins (intervalos) de valores discretos\n",
    "from sklearn.preprocessing import KBinsDiscretizer\n",
    "\n",
    "#analise\n",
    "from scipy.stats import shapiro\n",
    "\n",
    "#data\n",
    "import numpy as np\n",
    "import pandas as pd\n",
    "\n",
    "#visualização\n",
    "import seaborn as sns\n",
    "\n",
    "#aux\n",
    "import os\n",
    "import pickle\n",
    "from IPython.display import clear_output\n",
    "\n",
    "# essas duas linhas são usadas para definir como os números de ponto flutuante \n",
    "# serão formatados ao serem exibidos em numpy e pandas, garantindo que eles sejam \n",
    "# exibidos com uma precisão específica e sem notação científica.'''\n",
    "np.set_printoptions(suppress=True, formatter={'float_kind':'{:16.3f}'.format}, linewidth=130)\n",
    "pd.set_option('display.float_format', lambda x: '%.5f' % x)"
   ]
  },
  {
   "cell_type": "markdown",
   "id": "8c8bd015",
   "metadata": {},
   "source": [
    "## carregar os dados"
   ]
  },
  {
   "cell_type": "code",
   "execution_count": 4,
   "id": "5dccac0e",
   "metadata": {
    "scrolled": true
   },
   "outputs": [],
   "source": [
    "# load the dataframe object from the pickle file\n",
    "with open(os.path.join('data', 'df_itens_geral_validos.pkl'), 'rb') as f:\n",
    "    data = pickle.load(f)"
   ]
  },
  {
   "cell_type": "code",
   "execution_count": 5,
   "id": "b236db27",
   "metadata": {
    "scrolled": true
   },
   "outputs": [
    {
     "data": {
      "text/plain": [
       "(1922, 32)"
      ]
     },
     "execution_count": 5,
     "metadata": {},
     "output_type": "execute_result"
    }
   ],
   "source": [
    "data.shape #1922 itens"
   ]
  },
  {
   "cell_type": "code",
   "execution_count": 55,
   "id": "7e054dfa",
   "metadata": {
    "scrolled": true
   },
   "outputs": [
    {
     "data": {
      "text/html": [
       "<div>\n",
       "<style scoped>\n",
       "    .dataframe tbody tr th:only-of-type {\n",
       "        vertical-align: middle;\n",
       "    }\n",
       "\n",
       "    .dataframe tbody tr th {\n",
       "        vertical-align: top;\n",
       "    }\n",
       "\n",
       "    .dataframe thead th {\n",
       "        text-align: right;\n",
       "    }\n",
       "</style>\n",
       "<table border=\"1\" class=\"dataframe\">\n",
       "  <thead>\n",
       "    <tr style=\"text-align: right;\">\n",
       "      <th></th>\n",
       "      <th>co_posicao</th>\n",
       "      <th>sg_area</th>\n",
       "      <th>co_item</th>\n",
       "      <th>tx_gabarito</th>\n",
       "      <th>co_habilidade</th>\n",
       "      <th>in_item_aban</th>\n",
       "      <th>tx_motivo_aban</th>\n",
       "      <th>nu_param_a</th>\n",
       "      <th>nu_param_b</th>\n",
       "      <th>nu_param_c</th>\n",
       "      <th>...</th>\n",
       "      <th>tp_lingua</th>\n",
       "      <th>in_item_adaptado</th>\n",
       "      <th>tp_versao_digital</th>\n",
       "      <th>texto_questao_tratado</th>\n",
       "      <th>wes</th>\n",
       "      <th>tf_idf</th>\n",
       "      <th>wes_own</th>\n",
       "      <th>classes_param_a_1</th>\n",
       "      <th>classes_param_b_1</th>\n",
       "      <th>classes_param_c_1</th>\n",
       "    </tr>\n",
       "  </thead>\n",
       "  <tbody>\n",
       "    <tr>\n",
       "      <th>0</th>\n",
       "      <td>1</td>\n",
       "      <td>CH</td>\n",
       "      <td>71933</td>\n",
       "      <td>A</td>\n",
       "      <td>6.00000</td>\n",
       "      <td>0</td>\n",
       "      <td>NaN</td>\n",
       "      <td>2.23777</td>\n",
       "      <td>1.04258</td>\n",
       "      <td>0.29804</td>\n",
       "      <td>...</td>\n",
       "      <td>NaN</td>\n",
       "      <td>NaN</td>\n",
       "      <td>NaN</td>\n",
       "      <td>gráfico representar relação tamanho totalidade...</td>\n",
       "      <td>[[0.0087, -0.015, 0.073, 0.0244, -0.0139, -0.0...</td>\n",
       "      <td>[0.15448001662671257, 0.19314334362072388, 0.1...</td>\n",
       "      <td>[[-0.2735036, -0.19421376, 0.26711008, 0.26224...</td>\n",
       "      <td>&gt;2.092 e &lt;=2.735</td>\n",
       "      <td>&gt;0.652 e &lt;=1.224</td>\n",
       "      <td>&gt;0.203</td>\n",
       "    </tr>\n",
       "    <tr>\n",
       "      <th>1</th>\n",
       "      <td>2</td>\n",
       "      <td>CH</td>\n",
       "      <td>71990</td>\n",
       "      <td>B</td>\n",
       "      <td>19.00000</td>\n",
       "      <td>0</td>\n",
       "      <td>NaN</td>\n",
       "      <td>1.35599</td>\n",
       "      <td>1.23358</td>\n",
       "      <td>0.23895</td>\n",
       "      <td>...</td>\n",
       "      <td>NaN</td>\n",
       "      <td>NaN</td>\n",
       "      <td>NaN</td>\n",
       "      <td>apenas grande cidade apresentar império técnic...</td>\n",
       "      <td>[[-0.0457, -0.009, 0.0753, -0.0198, -0.0479, -...</td>\n",
       "      <td>[0.14463912531808382, 0.1882090195082598, 0.11...</td>\n",
       "      <td>[[0.33006182, 0.08265074, 0.0863686, 0.1423417...</td>\n",
       "      <td>&lt;=1.581</td>\n",
       "      <td>&gt;1.224 e &lt;=1.837</td>\n",
       "      <td>&gt;0.203</td>\n",
       "    </tr>\n",
       "    <tr>\n",
       "      <th>2</th>\n",
       "      <td>3</td>\n",
       "      <td>CH</td>\n",
       "      <td>73431</td>\n",
       "      <td>A</td>\n",
       "      <td>17.00000</td>\n",
       "      <td>0</td>\n",
       "      <td>NaN</td>\n",
       "      <td>1.58426</td>\n",
       "      <td>1.26006</td>\n",
       "      <td>0.19016</td>\n",
       "      <td>...</td>\n",
       "      <td>NaN</td>\n",
       "      <td>NaN</td>\n",
       "      <td>NaN</td>\n",
       "      <td>maioria pessoa campo Vila Maria hoje exportado...</td>\n",
       "      <td>[[-0.0246, -0.0379, 0.1021, 0.0378, -0.0864, -...</td>\n",
       "      <td>[0.08937166525923214, 0.12822456358498585, 0.1...</td>\n",
       "      <td>[[0.2161539, 0.16423477, -0.022779496, 0.32457...</td>\n",
       "      <td>&gt;1.581 e &lt;=2.092</td>\n",
       "      <td>&gt;1.224 e &lt;=1.837</td>\n",
       "      <td>&gt;165 e &lt;=0.203</td>\n",
       "    </tr>\n",
       "    <tr>\n",
       "      <th>3</th>\n",
       "      <td>4</td>\n",
       "      <td>CH</td>\n",
       "      <td>58249</td>\n",
       "      <td>B</td>\n",
       "      <td>26.00000</td>\n",
       "      <td>0</td>\n",
       "      <td>NaN</td>\n",
       "      <td>1.87124</td>\n",
       "      <td>-0.40493</td>\n",
       "      <td>0.17401</td>\n",
       "      <td>...</td>\n",
       "      <td>NaN</td>\n",
       "      <td>NaN</td>\n",
       "      <td>NaN</td>\n",
       "      <td>lixão mau tipo disposição final resíduo sólido...</td>\n",
       "      <td>[[-0.0016, -0.0689, 0.0547, -0.0424, 0.0693, -...</td>\n",
       "      <td>[0.07309805460729854, 0.07309805460729854, 0.0...</td>\n",
       "      <td>[[-0.06490169, 0.25573078, 0.082524896, 0.1681...</td>\n",
       "      <td>&gt;1.581 e &lt;=2.092</td>\n",
       "      <td>&lt;=0.652</td>\n",
       "      <td>&gt;165 e &lt;=0.203</td>\n",
       "    </tr>\n",
       "    <tr>\n",
       "      <th>4</th>\n",
       "      <td>5</td>\n",
       "      <td>CH</td>\n",
       "      <td>73854</td>\n",
       "      <td>D</td>\n",
       "      <td>27.00000</td>\n",
       "      <td>0</td>\n",
       "      <td>NaN</td>\n",
       "      <td>0.40830</td>\n",
       "      <td>1.46209</td>\n",
       "      <td>0.02447</td>\n",
       "      <td>...</td>\n",
       "      <td>NaN</td>\n",
       "      <td>NaN</td>\n",
       "      <td>NaN</td>\n",
       "      <td>esquema representar processo erosão encosta pr...</td>\n",
       "      <td>[[-0.0128, -0.0053, 0.029, -0.052, -0.0304, -0...</td>\n",
       "      <td>[0.238915125308662, 0.2103826054875806, 0.2674...</td>\n",
       "      <td>[[-0.123734914, 0.036533087, 0.20261528, 0.195...</td>\n",
       "      <td>&lt;=1.581</td>\n",
       "      <td>&gt;1.224 e &lt;=1.837</td>\n",
       "      <td>&lt;=0.12487</td>\n",
       "    </tr>\n",
       "  </tbody>\n",
       "</table>\n",
       "<p>5 rows × 35 columns</p>\n",
       "</div>"
      ],
      "text/plain": [
       "   co_posicao sg_area  co_item tx_gabarito  co_habilidade  in_item_aban  \\\n",
       "0           1      CH    71933           A        6.00000             0   \n",
       "1           2      CH    71990           B       19.00000             0   \n",
       "2           3      CH    73431           A       17.00000             0   \n",
       "3           4      CH    58249           B       26.00000             0   \n",
       "4           5      CH    73854           D       27.00000             0   \n",
       "\n",
       "   tx_motivo_aban  nu_param_a  nu_param_b  nu_param_c  ... tp_lingua  \\\n",
       "0             NaN     2.23777     1.04258     0.29804  ...       NaN   \n",
       "1             NaN     1.35599     1.23358     0.23895  ...       NaN   \n",
       "2             NaN     1.58426     1.26006     0.19016  ...       NaN   \n",
       "3             NaN     1.87124    -0.40493     0.17401  ...       NaN   \n",
       "4             NaN     0.40830     1.46209     0.02447  ...       NaN   \n",
       "\n",
       "   in_item_adaptado tp_versao_digital  \\\n",
       "0               NaN               NaN   \n",
       "1               NaN               NaN   \n",
       "2               NaN               NaN   \n",
       "3               NaN               NaN   \n",
       "4               NaN               NaN   \n",
       "\n",
       "                               texto_questao_tratado  \\\n",
       "0  gráfico representar relação tamanho totalidade...   \n",
       "1  apenas grande cidade apresentar império técnic...   \n",
       "2  maioria pessoa campo Vila Maria hoje exportado...   \n",
       "3  lixão mau tipo disposição final resíduo sólido...   \n",
       "4  esquema representar processo erosão encosta pr...   \n",
       "\n",
       "                                                 wes  \\\n",
       "0  [[0.0087, -0.015, 0.073, 0.0244, -0.0139, -0.0...   \n",
       "1  [[-0.0457, -0.009, 0.0753, -0.0198, -0.0479, -...   \n",
       "2  [[-0.0246, -0.0379, 0.1021, 0.0378, -0.0864, -...   \n",
       "3  [[-0.0016, -0.0689, 0.0547, -0.0424, 0.0693, -...   \n",
       "4  [[-0.0128, -0.0053, 0.029, -0.052, -0.0304, -0...   \n",
       "\n",
       "                                              tf_idf  \\\n",
       "0  [0.15448001662671257, 0.19314334362072388, 0.1...   \n",
       "1  [0.14463912531808382, 0.1882090195082598, 0.11...   \n",
       "2  [0.08937166525923214, 0.12822456358498585, 0.1...   \n",
       "3  [0.07309805460729854, 0.07309805460729854, 0.0...   \n",
       "4  [0.238915125308662, 0.2103826054875806, 0.2674...   \n",
       "\n",
       "                                             wes_own classes_param_a_1  \\\n",
       "0  [[-0.2735036, -0.19421376, 0.26711008, 0.26224...  >2.092 e <=2.735   \n",
       "1  [[0.33006182, 0.08265074, 0.0863686, 0.1423417...           <=1.581   \n",
       "2  [[0.2161539, 0.16423477, -0.022779496, 0.32457...  >1.581 e <=2.092   \n",
       "3  [[-0.06490169, 0.25573078, 0.082524896, 0.1681...  >1.581 e <=2.092   \n",
       "4  [[-0.123734914, 0.036533087, 0.20261528, 0.195...           <=1.581   \n",
       "\n",
       "  classes_param_b_1 classes_param_c_1  \n",
       "0  >0.652 e <=1.224            >0.203  \n",
       "1  >1.224 e <=1.837            >0.203  \n",
       "2  >1.224 e <=1.837    >165 e <=0.203  \n",
       "3           <=0.652    >165 e <=0.203  \n",
       "4  >1.224 e <=1.837         <=0.12487  \n",
       "\n",
       "[5 rows x 35 columns]"
      ]
     },
     "execution_count": 55,
     "metadata": {},
     "output_type": "execute_result"
    }
   ],
   "source": [
    "data.head()"
   ]
  },
  {
   "cell_type": "markdown",
   "id": "15042a01",
   "metadata": {},
   "source": [
    "## discretizar os parâmetros formando classes"
   ]
  },
  {
   "cell_type": "markdown",
   "id": "1cc16b16",
   "metadata": {},
   "source": [
    "- Discretização para agrupar valores contínuos em grupos distintos com o objetivo de simplificar a representação dos dados, torná-los mais fáceis de serem lidos e processados, além de tratar outliers ou problemas de escalonamento."
   ]
  },
  {
   "cell_type": "markdown",
   "id": "26b0f2da",
   "metadata": {},
   "source": [
    "- Justificativa para a escolha do tipo de discretização:\n",
    "    - como os parâmetros possuem uma característica de proporção, no sentido de que, por exemplo, para o parâmetro de discriminação \"a\" quanto maior o valor do parâmetro de discriminação, mais capaz o item será de identificar corretamente os indivíduos que possuem a habilidade e os que não a possuem, assim como os parâmetros de dificuldade e de acerto ao acaso, a melhor estratégia foi a com base em quartis. Também a divisão em quartis é balanceada, com o mesmo número de elementos em cada classe."
   ]
  },
  {
   "cell_type": "markdown",
   "id": "677e959c",
   "metadata": {},
   "source": [
    "#### utilizando quartis"
   ]
  },
  {
   "cell_type": "markdown",
   "id": "025bf485",
   "metadata": {},
   "source": [
    "- **parametro a**"
   ]
  },
  {
   "cell_type": "code",
   "execution_count": 29,
   "id": "18cb924c",
   "metadata": {
    "scrolled": true
   },
   "outputs": [
    {
     "name": "stdout",
     "output_type": "stream",
     "text": [
      "1.5814750000000002\n",
      "2.092105\n",
      "2.734825\n"
     ]
    }
   ],
   "source": [
    "print(data[\"nu_param_a\"].quantile(0.25))\n",
    "print(data[\"nu_param_a\"].quantile(0.50))\n",
    "print(data[\"nu_param_a\"].quantile(0.75))"
   ]
  },
  {
   "cell_type": "markdown",
   "id": "ae1b7851",
   "metadata": {},
   "source": [
    "- Discretização por quartis, agrupa os valores contínuos em quatro classes com base nos quartis. Cada classe terá a mesma quantidade de de elementos, ou seja as classes estão balanceadas."
   ]
  },
  {
   "cell_type": "code",
   "execution_count": 30,
   "id": "df0e21fb",
   "metadata": {
    "scrolled": true
   },
   "outputs": [],
   "source": [
    "# definir os intervalos de discretização\n",
    "intervalos = [data[\"nu_param_a\"].min(), data[\"nu_param_a\"].quantile(0.25), data[\"nu_param_a\"].quantile(0.5), data[\"nu_param_a\"].quantile(0.75), data[\"nu_param_a\"].max()]\n",
    "# criar uma nova coluna com as classes discretizadas\n",
    "data[\"classes_param_a_1\"] = pd.cut(data[\"nu_param_a\"], intervalos, labels=['<=1.581', '>1.581 e <=2.092', '>2.092 e <=2.735', '>2.735'])"
   ]
  },
  {
   "cell_type": "code",
   "execution_count": 82,
   "id": "c34556cb",
   "metadata": {
    "scrolled": true
   },
   "outputs": [
    {
     "data": {
      "text/plain": [
       "classes_param_a_1\n",
       "<=1.581             481\n",
       ">1.581 e <=2.092    480\n",
       ">2.092 e <=2.735    480\n",
       ">2.735              481\n",
       "Name: classes_param_a_1, dtype: int64"
      ]
     },
     "execution_count": 82,
     "metadata": {},
     "output_type": "execute_result"
    }
   ],
   "source": [
    "data.groupby('classes_param_a_1')['classes_param_a_1'].count()"
   ]
  },
  {
   "cell_type": "code",
   "execution_count": 32,
   "id": "0842191e",
   "metadata": {
    "scrolled": true
   },
   "outputs": [
    {
     "data": {
      "text/plain": [
       "co_posicao                  0\n",
       "sg_area                     0\n",
       "co_item                     0\n",
       "tx_gabarito                 0\n",
       "co_habilidade              12\n",
       "in_item_aban                0\n",
       "tx_motivo_aban           1922\n",
       "nu_param_a                  0\n",
       "nu_param_b                  0\n",
       "nu_param_c                  0\n",
       "tx_cor                      0\n",
       "co_prova                    0\n",
       "id                          0\n",
       "ano                         0\n",
       "cor                         0\n",
       "meio_aplicacao              0\n",
       "num_questao                 0\n",
       "area                      405\n",
       "texto_questao               0\n",
       "texto_base                266\n",
       "alternativa_a             308\n",
       "alternativa_b             114\n",
       "alternativa_c             116\n",
       "alternativa_d             112\n",
       "alternativa_e              97\n",
       "tp_lingua                1920\n",
       "in_item_adaptado          722\n",
       "tp_versao_digital        1517\n",
       "texto_questao_tratado       0\n",
       "wes                         0\n",
       "tf_idf                      0\n",
       "wes_own                     0\n",
       "classes_param_a_1           1\n",
       "classes_param_b_1           0\n",
       "classes_param_c_1           0\n",
       "dtype: int64"
      ]
     },
     "execution_count": 32,
     "metadata": {},
     "output_type": "execute_result"
    }
   ],
   "source": [
    "data.isnull().sum()"
   ]
  },
  {
   "cell_type": "code",
   "execution_count": 33,
   "id": "b8f58efd",
   "metadata": {
    "scrolled": true
   },
   "outputs": [
    {
     "data": {
      "text/html": [
       "<div>\n",
       "<style scoped>\n",
       "    .dataframe tbody tr th:only-of-type {\n",
       "        vertical-align: middle;\n",
       "    }\n",
       "\n",
       "    .dataframe tbody tr th {\n",
       "        vertical-align: top;\n",
       "    }\n",
       "\n",
       "    .dataframe thead th {\n",
       "        text-align: right;\n",
       "    }\n",
       "</style>\n",
       "<table border=\"1\" class=\"dataframe\">\n",
       "  <thead>\n",
       "    <tr style=\"text-align: right;\">\n",
       "      <th></th>\n",
       "      <th>co_posicao</th>\n",
       "      <th>sg_area</th>\n",
       "      <th>co_item</th>\n",
       "      <th>tx_gabarito</th>\n",
       "      <th>co_habilidade</th>\n",
       "      <th>in_item_aban</th>\n",
       "      <th>tx_motivo_aban</th>\n",
       "      <th>nu_param_a</th>\n",
       "      <th>nu_param_b</th>\n",
       "      <th>nu_param_c</th>\n",
       "      <th>...</th>\n",
       "      <th>tp_lingua</th>\n",
       "      <th>in_item_adaptado</th>\n",
       "      <th>tp_versao_digital</th>\n",
       "      <th>texto_questao_tratado</th>\n",
       "      <th>wes</th>\n",
       "      <th>tf_idf</th>\n",
       "      <th>wes_own</th>\n",
       "      <th>classes_param_a_1</th>\n",
       "      <th>classes_param_b_1</th>\n",
       "      <th>classes_param_c_1</th>\n",
       "    </tr>\n",
       "  </thead>\n",
       "  <tbody>\n",
       "    <tr>\n",
       "      <th>1272</th>\n",
       "      <td>114</td>\n",
       "      <td>CN</td>\n",
       "      <td>117868</td>\n",
       "      <td>E</td>\n",
       "      <td>25.00000</td>\n",
       "      <td>0</td>\n",
       "      <td>NaN</td>\n",
       "      <td>0.05808</td>\n",
       "      <td>8.96186</td>\n",
       "      <td>0.22071</td>\n",
       "      <td>...</td>\n",
       "      <td>NaN</td>\n",
       "      <td>0.00000</td>\n",
       "      <td>NaN</td>\n",
       "      <td>grupo pesquisa todo mundo vir buscar solução v...</td>\n",
       "      <td>[[-0.022, 0.0315, 0.0752, -0.0268, 0.0625, -0....</td>\n",
       "      <td>[0.08895006210952702, 0.1322489084993874, 0.04...</td>\n",
       "      <td>[[-0.20457007, 0.2068289, -0.22812223, 0.41948...</td>\n",
       "      <td>NaN</td>\n",
       "      <td>&gt;1.837</td>\n",
       "      <td>&gt;0.203</td>\n",
       "    </tr>\n",
       "  </tbody>\n",
       "</table>\n",
       "<p>1 rows × 35 columns</p>\n",
       "</div>"
      ],
      "text/plain": [
       "      co_posicao sg_area  co_item tx_gabarito  co_habilidade  in_item_aban  \\\n",
       "1272         114      CN   117868           E       25.00000             0   \n",
       "\n",
       "      tx_motivo_aban  nu_param_a  nu_param_b  nu_param_c  ... tp_lingua  \\\n",
       "1272             NaN     0.05808     8.96186     0.22071  ...       NaN   \n",
       "\n",
       "      in_item_adaptado tp_versao_digital  \\\n",
       "1272           0.00000               NaN   \n",
       "\n",
       "                                  texto_questao_tratado  \\\n",
       "1272  grupo pesquisa todo mundo vir buscar solução v...   \n",
       "\n",
       "                                                    wes  \\\n",
       "1272  [[-0.022, 0.0315, 0.0752, -0.0268, 0.0625, -0....   \n",
       "\n",
       "                                                 tf_idf  \\\n",
       "1272  [0.08895006210952702, 0.1322489084993874, 0.04...   \n",
       "\n",
       "                                                wes_own classes_param_a_1  \\\n",
       "1272  [[-0.20457007, 0.2068289, -0.22812223, 0.41948...               NaN   \n",
       "\n",
       "     classes_param_b_1 classes_param_c_1  \n",
       "1272            >1.837            >0.203  \n",
       "\n",
       "[1 rows x 35 columns]"
      ]
     },
     "execution_count": 33,
     "metadata": {},
     "output_type": "execute_result"
    }
   ],
   "source": [
    "data[data.classes_param_a_1.isna()]"
   ]
  },
  {
   "cell_type": "code",
   "execution_count": 34,
   "id": "f9f423a3",
   "metadata": {},
   "outputs": [],
   "source": [
    "data.loc[1272, 'classes_param_a_1'] = '<=1.581'"
   ]
  },
  {
   "cell_type": "code",
   "execution_count": 35,
   "id": "58c5ceae",
   "metadata": {
    "scrolled": true
   },
   "outputs": [
    {
     "data": {
      "text/plain": [
       "<AxesSubplot:xlabel='nu_param_a', ylabel='Density'>"
      ]
     },
     "execution_count": 35,
     "metadata": {},
     "output_type": "execute_result"
    },
    {
     "data": {
      "image/png": "[encoded data removed]",
      "text/plain": [
       "<Figure size 432x288 with 1 Axes>"
      ]
     },
     "metadata": {
      "needs_background": "light"
     },
     "output_type": "display_data"
    }
   ],
   "source": [
    "sns.kdeplot(data[data.classes_param_a_1 == '<=1.581']['nu_param_a'])\n",
    "sns.kdeplot(data[data.classes_param_a_1 == '>1.581 e <=2.092']['nu_param_a'])\n",
    "sns.kdeplot(data[data.classes_param_a_1 == '>2.092 e <=2.735']['nu_param_a'])\n",
    "sns.kdeplot(data[data.classes_param_a_1 == '>2.735']['nu_param_a'])"
   ]
  },
  {
   "cell_type": "markdown",
   "id": "9e8bbef0",
   "metadata": {},
   "source": [
    "- **parametro b**"
   ]
  },
  {
   "cell_type": "code",
   "execution_count": 36,
   "id": "dcdddbae",
   "metadata": {
    "scrolled": true
   },
   "outputs": [
    {
     "name": "stdout",
     "output_type": "stream",
     "text": [
      "0.652025\n",
      "1.224335\n",
      "1.8368575\n"
     ]
    }
   ],
   "source": [
    "print(data[\"nu_param_b\"].quantile(0.25))\n",
    "print(data[\"nu_param_b\"].quantile(0.50))\n",
    "print(data[\"nu_param_b\"].quantile(0.75))"
   ]
  },
  {
   "cell_type": "code",
   "execution_count": 37,
   "id": "e8285386",
   "metadata": {
    "scrolled": true
   },
   "outputs": [],
   "source": [
    "# definir os intervalos de discretização\n",
    "intervalos = [data[\"nu_param_b\"].min(), data[\"nu_param_b\"].quantile(0.25), data[\"nu_param_b\"].quantile(0.5), data[\"nu_param_b\"].quantile(0.75), data[\"nu_param_b\"].max()]\n",
    "# criar uma nova coluna com as classes discretizadas\n",
    "data[\"classes_param_b_1\"] = pd.cut(data[\"nu_param_b\"], intervalos, labels=['<=0.652', '>0.652 e <=1.224', '>1.224 e <=1.837', '>1.837'])"
   ]
  },
  {
   "cell_type": "code",
   "execution_count": 83,
   "id": "c0c3f024",
   "metadata": {
    "scrolled": true
   },
   "outputs": [
    {
     "data": {
      "text/plain": [
       "classes_param_b_1\n",
       "<=0.652             481\n",
       ">0.652 e <=1.224    480\n",
       ">1.224 e <=1.837    480\n",
       ">1.837              481\n",
       "Name: classes_param_b_1, dtype: int64"
      ]
     },
     "execution_count": 83,
     "metadata": {},
     "output_type": "execute_result"
    }
   ],
   "source": [
    "data.groupby('classes_param_b_1')['classes_param_b_1'].count()"
   ]
  },
  {
   "cell_type": "code",
   "execution_count": 39,
   "id": "13db4a1a",
   "metadata": {
    "scrolled": true
   },
   "outputs": [
    {
     "data": {
      "text/plain": [
       "1"
      ]
     },
     "execution_count": 39,
     "metadata": {},
     "output_type": "execute_result"
    }
   ],
   "source": [
    "data.classes_param_b_1.isnull().sum()"
   ]
  },
  {
   "cell_type": "code",
   "execution_count": 40,
   "id": "f006ff19",
   "metadata": {
    "scrolled": true
   },
   "outputs": [
    {
     "data": {
      "text/html": [
       "<div>\n",
       "<style scoped>\n",
       "    .dataframe tbody tr th:only-of-type {\n",
       "        vertical-align: middle;\n",
       "    }\n",
       "\n",
       "    .dataframe tbody tr th {\n",
       "        vertical-align: top;\n",
       "    }\n",
       "\n",
       "    .dataframe thead th {\n",
       "        text-align: right;\n",
       "    }\n",
       "</style>\n",
       "<table border=\"1\" class=\"dataframe\">\n",
       "  <thead>\n",
       "    <tr style=\"text-align: right;\">\n",
       "      <th></th>\n",
       "      <th>co_posicao</th>\n",
       "      <th>sg_area</th>\n",
       "      <th>co_item</th>\n",
       "      <th>tx_gabarito</th>\n",
       "      <th>co_habilidade</th>\n",
       "      <th>in_item_aban</th>\n",
       "      <th>tx_motivo_aban</th>\n",
       "      <th>nu_param_a</th>\n",
       "      <th>nu_param_b</th>\n",
       "      <th>nu_param_c</th>\n",
       "      <th>...</th>\n",
       "      <th>tp_lingua</th>\n",
       "      <th>in_item_adaptado</th>\n",
       "      <th>tp_versao_digital</th>\n",
       "      <th>texto_questao_tratado</th>\n",
       "      <th>wes</th>\n",
       "      <th>tf_idf</th>\n",
       "      <th>wes_own</th>\n",
       "      <th>classes_param_a_1</th>\n",
       "      <th>classes_param_b_1</th>\n",
       "      <th>classes_param_c_1</th>\n",
       "    </tr>\n",
       "  </thead>\n",
       "  <tbody>\n",
       "    <tr>\n",
       "      <th>32</th>\n",
       "      <td>37</td>\n",
       "      <td>CH</td>\n",
       "      <td>58919</td>\n",
       "      <td>A</td>\n",
       "      <td>21.00000</td>\n",
       "      <td>0</td>\n",
       "      <td>NaN</td>\n",
       "      <td>0.98999</td>\n",
       "      <td>-1.26778</td>\n",
       "      <td>0.23087</td>\n",
       "      <td>...</td>\n",
       "      <td>NaN</td>\n",
       "      <td>NaN</td>\n",
       "      <td>NaN</td>\n",
       "      <td>meio comunicação funcionar elo diferente segme...</td>\n",
       "      <td>[[0.0368, -0.0385, 0.0528, 0.0069, -0.0587, -0...</td>\n",
       "      <td>[0.1485992889868012, 0.2533665614268401, 0.121...</td>\n",
       "      <td>[[-0.1763143, 0.40396994, 0.013750436, -0.4270...</td>\n",
       "      <td>&lt;=1.581</td>\n",
       "      <td>NaN</td>\n",
       "      <td>&gt;0.203</td>\n",
       "    </tr>\n",
       "  </tbody>\n",
       "</table>\n",
       "<p>1 rows × 35 columns</p>\n",
       "</div>"
      ],
      "text/plain": [
       "    co_posicao sg_area  co_item tx_gabarito  co_habilidade  in_item_aban  \\\n",
       "32          37      CH    58919           A       21.00000             0   \n",
       "\n",
       "    tx_motivo_aban  nu_param_a  nu_param_b  nu_param_c  ... tp_lingua  \\\n",
       "32             NaN     0.98999    -1.26778     0.23087  ...       NaN   \n",
       "\n",
       "    in_item_adaptado tp_versao_digital  \\\n",
       "32               NaN               NaN   \n",
       "\n",
       "                                texto_questao_tratado  \\\n",
       "32  meio comunicação funcionar elo diferente segme...   \n",
       "\n",
       "                                                  wes  \\\n",
       "32  [[0.0368, -0.0385, 0.0528, 0.0069, -0.0587, -0...   \n",
       "\n",
       "                                               tf_idf  \\\n",
       "32  [0.1485992889868012, 0.2533665614268401, 0.121...   \n",
       "\n",
       "                                              wes_own classes_param_a_1  \\\n",
       "32  [[-0.1763143, 0.40396994, 0.013750436, -0.4270...           <=1.581   \n",
       "\n",
       "   classes_param_b_1 classes_param_c_1  \n",
       "32               NaN            >0.203  \n",
       "\n",
       "[1 rows x 35 columns]"
      ]
     },
     "execution_count": 40,
     "metadata": {},
     "output_type": "execute_result"
    }
   ],
   "source": [
    "data[data.classes_param_b_1.isna()]"
   ]
  },
  {
   "cell_type": "code",
   "execution_count": 41,
   "id": "83ace4c4",
   "metadata": {
    "scrolled": true
   },
   "outputs": [],
   "source": [
    "data.loc[32, 'classes_param_b_1'] = '<=0.652'"
   ]
  },
  {
   "cell_type": "code",
   "execution_count": 42,
   "id": "41e85569",
   "metadata": {
    "scrolled": true
   },
   "outputs": [
    {
     "data": {
      "text/plain": [
       "<AxesSubplot:xlabel='nu_param_b', ylabel='Density'>"
      ]
     },
     "execution_count": 42,
     "metadata": {},
     "output_type": "execute_result"
    },
    {
     "data": {
      "image/png": "[encoded data removed]",
      "text/plain": [
       "<Figure size 432x288 with 1 Axes>"
      ]
     },
     "metadata": {
      "needs_background": "light"
     },
     "output_type": "display_data"
    }
   ],
   "source": [
    "sns.kdeplot(data[data.classes_param_b_1 == '<=0.652']['nu_param_b'])\n",
    "sns.kdeplot(data[data.classes_param_b_1 == '>0.652 e <=1.224']['nu_param_b'])\n",
    "sns.kdeplot(data[data.classes_param_b_1 == '>1.224 e <=1.837']['nu_param_b'])\n",
    "sns.kdeplot(data[data.classes_param_b_1 == '>1.837 ']['nu_param_b'])"
   ]
  },
  {
   "cell_type": "markdown",
   "id": "5bba2184",
   "metadata": {},
   "source": [
    "- **parametro c**"
   ]
  },
  {
   "cell_type": "code",
   "execution_count": 43,
   "id": "4b60c720",
   "metadata": {
    "scrolled": true
   },
   "outputs": [
    {
     "name": "stdout",
     "output_type": "stream",
     "text": [
      "0.12487\n",
      "0.165\n",
      "0.2031625\n"
     ]
    }
   ],
   "source": [
    "print(data[\"nu_param_c\"].quantile(0.25))\n",
    "print(data[\"nu_param_c\"].quantile(0.50))\n",
    "print(data[\"nu_param_c\"].quantile(0.75))"
   ]
  },
  {
   "cell_type": "code",
   "execution_count": 57,
   "id": "4cd93146",
   "metadata": {
    "scrolled": true
   },
   "outputs": [],
   "source": [
    "# definir os intervalos de discretização\n",
    "intervalos = [data[\"nu_param_c\"].min(), data[\"nu_param_c\"].quantile(0.25), data[\"nu_param_c\"].quantile(0.5), data[\"nu_param_c\"].quantile(0.75), data[\"nu_param_c\"].max()]\n",
    "# criar uma nova coluna com as classes discretizadas\n",
    "data[\"classes_param_c_1\"] = pd.cut(data[\"nu_param_c\"], intervalos, labels=['<=0.12487', '>0.12487 e <=0.165', '>0.165 e <=0.203', '>0.203'])"
   ]
  },
  {
   "cell_type": "code",
   "execution_count": 84,
   "id": "b3636ef9",
   "metadata": {
    "scrolled": true
   },
   "outputs": [
    {
     "data": {
      "text/plain": [
       "classes_param_c_1\n",
       "<=0.12487             482\n",
       ">0.12487 e <=0.165    480\n",
       ">0.165 e <=0.203      479\n",
       ">0.203                481\n",
       "Name: classes_param_c_1, dtype: int64"
      ]
     },
     "execution_count": 84,
     "metadata": {},
     "output_type": "execute_result"
    }
   ],
   "source": [
    "data.groupby('classes_param_c_1')['classes_param_c_1'].count()"
   ]
  },
  {
   "cell_type": "code",
   "execution_count": 63,
   "id": "18d738dc",
   "metadata": {
    "scrolled": true
   },
   "outputs": [
    {
     "data": {
      "text/plain": [
       "co_posicao                  0\n",
       "sg_area                     0\n",
       "co_item                     0\n",
       "tx_gabarito                 0\n",
       "co_habilidade              12\n",
       "in_item_aban                0\n",
       "tx_motivo_aban           1922\n",
       "nu_param_a                  0\n",
       "nu_param_b                  0\n",
       "nu_param_c                  0\n",
       "tx_cor                      0\n",
       "co_prova                    0\n",
       "id                          0\n",
       "ano                         0\n",
       "cor                         0\n",
       "meio_aplicacao              0\n",
       "num_questao                 0\n",
       "area                      405\n",
       "texto_questao               0\n",
       "texto_base                266\n",
       "alternativa_a             308\n",
       "alternativa_b             114\n",
       "alternativa_c             116\n",
       "alternativa_d             112\n",
       "alternativa_e              97\n",
       "tp_lingua                1920\n",
       "in_item_adaptado          722\n",
       "tp_versao_digital        1517\n",
       "texto_questao_tratado       0\n",
       "wes                         0\n",
       "tf_idf                      0\n",
       "wes_own                     0\n",
       "classes_param_a_1           0\n",
       "classes_param_b_1           0\n",
       "classes_param_c_1           0\n",
       "dtype: int64"
      ]
     },
     "execution_count": 63,
     "metadata": {},
     "output_type": "execute_result"
    }
   ],
   "source": [
    "data.isnull().sum()"
   ]
  },
  {
   "cell_type": "code",
   "execution_count": 60,
   "id": "124860fd",
   "metadata": {
    "scrolled": true
   },
   "outputs": [
    {
     "data": {
      "text/html": [
       "<div>\n",
       "<style scoped>\n",
       "    .dataframe tbody tr th:only-of-type {\n",
       "        vertical-align: middle;\n",
       "    }\n",
       "\n",
       "    .dataframe tbody tr th {\n",
       "        vertical-align: top;\n",
       "    }\n",
       "\n",
       "    .dataframe thead th {\n",
       "        text-align: right;\n",
       "    }\n",
       "</style>\n",
       "<table border=\"1\" class=\"dataframe\">\n",
       "  <thead>\n",
       "    <tr style=\"text-align: right;\">\n",
       "      <th></th>\n",
       "      <th>co_posicao</th>\n",
       "      <th>sg_area</th>\n",
       "      <th>co_item</th>\n",
       "      <th>tx_gabarito</th>\n",
       "      <th>co_habilidade</th>\n",
       "      <th>in_item_aban</th>\n",
       "      <th>tx_motivo_aban</th>\n",
       "      <th>nu_param_a</th>\n",
       "      <th>nu_param_b</th>\n",
       "      <th>nu_param_c</th>\n",
       "      <th>...</th>\n",
       "      <th>tp_lingua</th>\n",
       "      <th>in_item_adaptado</th>\n",
       "      <th>tp_versao_digital</th>\n",
       "      <th>texto_questao_tratado</th>\n",
       "      <th>wes</th>\n",
       "      <th>tf_idf</th>\n",
       "      <th>wes_own</th>\n",
       "      <th>classes_param_a_1</th>\n",
       "      <th>classes_param_b_1</th>\n",
       "      <th>classes_param_c_1</th>\n",
       "    </tr>\n",
       "  </thead>\n",
       "  <tbody>\n",
       "    <tr>\n",
       "      <th>1148</th>\n",
       "      <td>51</td>\n",
       "      <td>CH</td>\n",
       "      <td>118125</td>\n",
       "      <td>E</td>\n",
       "      <td>21.00000</td>\n",
       "      <td>0</td>\n",
       "      <td>NaN</td>\n",
       "      <td>1.14176</td>\n",
       "      <td>0.61713</td>\n",
       "      <td>0.00161</td>\n",
       "      <td>...</td>\n",
       "      <td>NaN</td>\n",
       "      <td>0.00000</td>\n",
       "      <td>NaN</td>\n",
       "      <td>nenhum outro época corpo magro adquirir sentid...</td>\n",
       "      <td>[[-0.042, -0.044, 0.0544, 0.0243, -0.0372, -0....</td>\n",
       "      <td>[0.06440539172358772, 0.02406724874754997, 0.0...</td>\n",
       "      <td>[[-0.21183322, 0.2763258, -0.28025597, 0.26888...</td>\n",
       "      <td>&lt;=1.581</td>\n",
       "      <td>&lt;=0.652</td>\n",
       "      <td>NaN</td>\n",
       "    </tr>\n",
       "  </tbody>\n",
       "</table>\n",
       "<p>1 rows × 35 columns</p>\n",
       "</div>"
      ],
      "text/plain": [
       "      co_posicao sg_area  co_item tx_gabarito  co_habilidade  in_item_aban  \\\n",
       "1148          51      CH   118125           E       21.00000             0   \n",
       "\n",
       "      tx_motivo_aban  nu_param_a  nu_param_b  nu_param_c  ... tp_lingua  \\\n",
       "1148             NaN     1.14176     0.61713     0.00161  ...       NaN   \n",
       "\n",
       "      in_item_adaptado tp_versao_digital  \\\n",
       "1148           0.00000               NaN   \n",
       "\n",
       "                                  texto_questao_tratado  \\\n",
       "1148  nenhum outro época corpo magro adquirir sentid...   \n",
       "\n",
       "                                                    wes  \\\n",
       "1148  [[-0.042, -0.044, 0.0544, 0.0243, -0.0372, -0....   \n",
       "\n",
       "                                                 tf_idf  \\\n",
       "1148  [0.06440539172358772, 0.02406724874754997, 0.0...   \n",
       "\n",
       "                                                wes_own classes_param_a_1  \\\n",
       "1148  [[-0.21183322, 0.2763258, -0.28025597, 0.26888...           <=1.581   \n",
       "\n",
       "     classes_param_b_1 classes_param_c_1  \n",
       "1148           <=0.652               NaN  \n",
       "\n",
       "[1 rows x 35 columns]"
      ]
     },
     "execution_count": 60,
     "metadata": {},
     "output_type": "execute_result"
    }
   ],
   "source": [
    "data[data.classes_param_c_1.isna()]"
   ]
  },
  {
   "cell_type": "code",
   "execution_count": 61,
   "id": "49bf7b2d",
   "metadata": {
    "scrolled": true
   },
   "outputs": [],
   "source": [
    "data.loc[1148, 'classes_param_c_1'] = '<=0.12487'"
   ]
  },
  {
   "cell_type": "code",
   "execution_count": 66,
   "id": "c41adf3c",
   "metadata": {
    "scrolled": true
   },
   "outputs": [
    {
     "data": {
      "text/plain": [
       "<AxesSubplot:xlabel='nu_param_c', ylabel='Density'>"
      ]
     },
     "execution_count": 66,
     "metadata": {},
     "output_type": "execute_result"
    },
    {
     "data": {
      "image/png": "[encoded data removed]",
      "text/plain": [
       "<Figure size 432x288 with 1 Axes>"
      ]
     },
     "metadata": {
      "needs_background": "light"
     },
     "output_type": "display_data"
    }
   ],
   "source": [
    "sns.kdeplot(data[data.classes_param_c_1 == '<=0.12487']['nu_param_c'])\n",
    "sns.kdeplot(data[data.classes_param_c_1 == '>0.12487 e <=0.165']['nu_param_c'])\n",
    "sns.kdeplot(data[data.classes_param_c_1 == '>0.165 e <=0.203']['nu_param_c'])\n",
    "sns.kdeplot(data[data.classes_param_c_1 == '>0.203']['nu_param_c'])"
   ]
  },
  {
   "cell_type": "code",
   "execution_count": 64,
   "id": "de42d86b",
   "metadata": {
    "scrolled": true
   },
   "outputs": [
    {
     "data": {
      "text/plain": [
       "<seaborn.axisgrid.FacetGrid at 0x20d3e94fdc0>"
      ]
     },
     "execution_count": 64,
     "metadata": {},
     "output_type": "execute_result"
    },
    {
     "data": {
      "image/png": "[encoded data removed]",
      "text/plain": [
       "<Figure size 360x360 with 1 Axes>"
      ]
     },
     "metadata": {
      "needs_background": "light"
     },
     "output_type": "display_data"
    }
   ],
   "source": [
    "sns.displot(data.classes_param_c_1)"
   ]
  },
  {
   "cell_type": "code",
   "execution_count": 65,
   "id": "2fee8588",
   "metadata": {},
   "outputs": [],
   "source": [
    "# salvar o objeto dataframe em um arquivo .pkl\n",
    "file = os.path.join('data', 'df_itens_geral_validos.pkl')\n",
    "with open(file, 'wb') as f:\n",
    "    pickle.dump(data, f)"
   ]
  },
  {
   "cell_type": "code",
   "execution_count": null,
   "id": "ce3016a2",
   "metadata": {},
   "outputs": [],
   "source": []
  }
 ],
 "metadata": {
  "kernelspec": {
   "display_name": "Python 3 (ipykernel)",
   "language": "python",
   "name": "python3"
  },
  "language_info": {
   "codemirror_mode": {
    "name": "ipython",
    "version": 3
   },
   "file_extension": ".py",
   "mimetype": "text/x-python",
   "name": "python",
   "nbconvert_exporter": "python",
   "pygments_lexer": "ipython3",
   "version": "3.9.12"
  }
 },
 "nbformat": 4,
 "nbformat_minor": 5
}
