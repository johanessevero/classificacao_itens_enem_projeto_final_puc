{
 "cells": [
  {
   "cell_type": "code",
   "execution_count": 87,
   "id": "c9a2c671",
   "metadata": {
    "scrolled": true
   },
   "outputs": [],
   "source": [
    "# O módulo LocalOutlierFactor da biblioteca scikit-learn é usado para detectar outliers em um conjunto de dados\n",
    "from sklearn.neighbors import LocalOutlierFactor\n",
    "# O módulo KBinsDiscretizer da biblioteca scikit-learn é usado para discretizar \n",
    "# variáveis contínuas em bins (intervalos) de valores discretos\n",
    "from sklearn.preprocessing import KBinsDiscretizer\n",
    "\n",
    "#analise\n",
    "from scipy.stats import shapiro\n",
    "from scipy.stats import spearmanr\n",
    "from scipy.stats import pearsonr\n",
    "from scipy.stats import kendalltau\n",
    "\n",
    "#data\n",
    "import numpy as np\n",
    "import pandas as pd\n",
    "\n",
    "#visualização\n",
    "import seaborn as sns\n",
    "import matplotlib.pyplot as plt\n",
    "\n",
    "#aux\n",
    "import os\n",
    "\n",
    "# essas duas linhas são usadas para definir como os números de ponto flutuante \n",
    "# serão formatados ao serem exibidos em numpy e pandas, garantindo que eles sejam \n",
    "# exibidos com uma precisão específica e sem notação científica.'''\n",
    "np.set_printoptions(suppress=True, formatter={'float_kind':'{:16.3f}'.format}, linewidth=130)\n",
    "pd.set_option('display.float_format', lambda x: '%.5f' % x)"
   ]
  },
  {
   "cell_type": "markdown",
   "id": "cb6f1be1",
   "metadata": {},
   "source": [
    "# exploração de dados da amostra de parâmetros a, b e c dos itens\n",
    "\n",
    "- **nu_param_a**: Parâmetro de discriminação: é o poder de discriminação do item para diferenciar os participantes que dominam dos participantes que não dominam a habilidade avaliada.\n",
    "- **nu_param_b**: Parâmetro de dificuldade: associado à dificuldade do item, sendo que quanto maior seu valor, mais difícil é o item.\n",
    "- **nu_param_c**: Parâmetro de acerto ao acaso: é a probabilidade de um participante acertar o item não dominando a habilidade exigida."
   ]
  },
  {
   "cell_type": "markdown",
   "id": "8c8bd015",
   "metadata": {},
   "source": [
    "## carregar os dados"
   ]
  },
  {
   "cell_type": "code",
   "execution_count": 1,
   "id": "5dccac0e",
   "metadata": {
    "scrolled": true
   },
   "outputs": [
    {
     "ename": "NameError",
     "evalue": "name 'os' is not defined",
     "output_type": "error",
     "traceback": [
      "\u001b[1;31m---------------------------------------------------------------------------\u001b[0m",
      "\u001b[1;31mNameError\u001b[0m                                 Traceback (most recent call last)",
      "Input \u001b[1;32mIn [1]\u001b[0m, in \u001b[0;36m<cell line: 1>\u001b[1;34m()\u001b[0m\n\u001b[1;32m----> 1\u001b[0m file \u001b[38;5;241m=\u001b[39m \u001b[43mos\u001b[49m\u001b[38;5;241m.\u001b[39mpath\u001b[38;5;241m.\u001b[39mjoin(\u001b[38;5;124m'\u001b[39m\u001b[38;5;124mdata\u001b[39m\u001b[38;5;124m'\u001b[39m, \u001b[38;5;124m'\u001b[39m\u001b[38;5;124mdf_itens_geral_validos.csv\u001b[39m\u001b[38;5;124m'\u001b[39m)\n\u001b[0;32m      2\u001b[0m df_itens \u001b[38;5;241m=\u001b[39m pd\u001b[38;5;241m.\u001b[39mread_csv(file, sep \u001b[38;5;241m=\u001b[39m \u001b[38;5;124m'\u001b[39m\u001b[38;5;124m;\u001b[39m\u001b[38;5;124m'\u001b[39m, encoding \u001b[38;5;241m=\u001b[39m \u001b[38;5;124m'\u001b[39m\u001b[38;5;124mUTF-8\u001b[39m\u001b[38;5;124m'\u001b[39m)\n",
      "\u001b[1;31mNameError\u001b[0m: name 'os' is not defined"
     ]
    }
   ],
   "source": [
    "file = os.path.join('data', 'df_itens_geral_validos.csv')\n",
    "df_itens = pd.read_csv(file, sep = ';', encoding = 'UTF-8')"
   ]
  },
  {
   "cell_type": "code",
   "execution_count": 3,
   "id": "b236db27",
   "metadata": {
    "scrolled": true
   },
   "outputs": [
    {
     "data": {
      "text/plain": [
       "(1922, 28)"
      ]
     },
     "execution_count": 3,
     "metadata": {},
     "output_type": "execute_result"
    }
   ],
   "source": [
    "df_itens.shape #1922 itens"
   ]
  },
  {
   "cell_type": "code",
   "execution_count": 4,
   "id": "7e054dfa",
   "metadata": {
    "scrolled": true
   },
   "outputs": [
    {
     "data": {
      "text/html": [
       "<div>\n",
       "<style scoped>\n",
       "    .dataframe tbody tr th:only-of-type {\n",
       "        vertical-align: middle;\n",
       "    }\n",
       "\n",
       "    .dataframe tbody tr th {\n",
       "        vertical-align: top;\n",
       "    }\n",
       "\n",
       "    .dataframe thead th {\n",
       "        text-align: right;\n",
       "    }\n",
       "</style>\n",
       "<table border=\"1\" class=\"dataframe\">\n",
       "  <thead>\n",
       "    <tr style=\"text-align: right;\">\n",
       "      <th></th>\n",
       "      <th>co_posicao</th>\n",
       "      <th>sg_area</th>\n",
       "      <th>co_item</th>\n",
       "      <th>tx_gabarito</th>\n",
       "      <th>co_habilidade</th>\n",
       "      <th>in_item_aban</th>\n",
       "      <th>tx_motivo_aban</th>\n",
       "      <th>nu_param_a</th>\n",
       "      <th>nu_param_b</th>\n",
       "      <th>nu_param_c</th>\n",
       "      <th>...</th>\n",
       "      <th>texto_questao</th>\n",
       "      <th>texto_base</th>\n",
       "      <th>alternativa_a</th>\n",
       "      <th>alternativa_b</th>\n",
       "      <th>alternativa_c</th>\n",
       "      <th>alternativa_d</th>\n",
       "      <th>alternativa_e</th>\n",
       "      <th>tp_lingua</th>\n",
       "      <th>in_item_adaptado</th>\n",
       "      <th>tp_versao_digital</th>\n",
       "    </tr>\n",
       "  </thead>\n",
       "  <tbody>\n",
       "    <tr>\n",
       "      <th>0</th>\n",
       "      <td>1</td>\n",
       "      <td>CH</td>\n",
       "      <td>71933</td>\n",
       "      <td>A</td>\n",
       "      <td>6.00000</td>\n",
       "      <td>0</td>\n",
       "      <td>NaN</td>\n",
       "      <td>2.23777</td>\n",
       "      <td>1.04258</td>\n",
       "      <td>0.29804</td>\n",
       "      <td>...</td>\n",
       "      <td>O gráfico representa a relação entre o tamanho...</td>\n",
       "      <td>O gráfico representa a relação entre o tamanh...</td>\n",
       "      <td>A concentraçao de terras nas mãos de poucos.</td>\n",
       "      <td>A existência de poucas terras agricultáveis.</td>\n",
       "      <td>O domínio territorial dos minifúndios.</td>\n",
       "      <td>A primazia da agricultura familiar.</td>\n",
       "      <td>A debilidade dos plantations modernos.</td>\n",
       "      <td>NaN</td>\n",
       "      <td>NaN</td>\n",
       "      <td>NaN</td>\n",
       "    </tr>\n",
       "    <tr>\n",
       "      <th>1</th>\n",
       "      <td>2</td>\n",
       "      <td>CH</td>\n",
       "      <td>71990</td>\n",
       "      <td>B</td>\n",
       "      <td>19.00000</td>\n",
       "      <td>0</td>\n",
       "      <td>NaN</td>\n",
       "      <td>1.35599</td>\n",
       "      <td>1.23358</td>\n",
       "      <td>0.23895</td>\n",
       "      <td>...</td>\n",
       "      <td>Antes, eram apenas as grandes cidades que se a...</td>\n",
       "      <td>Antes, eram apenas as grandes cidades que se a...</td>\n",
       "      <td>a redução do processo de concentração de terras.</td>\n",
       "      <td>o aumento do aproveitamento de solos menos fé...</td>\n",
       "      <td>a ampliação do isolamento do espaço rural.</td>\n",
       "      <td>a estagnação da fronteira agrícola do país.</td>\n",
       "      <td>a diminuição do nível de emprego formal.</td>\n",
       "      <td>NaN</td>\n",
       "      <td>NaN</td>\n",
       "      <td>NaN</td>\n",
       "    </tr>\n",
       "    <tr>\n",
       "      <th>2</th>\n",
       "      <td>3</td>\n",
       "      <td>CH</td>\n",
       "      <td>73431</td>\n",
       "      <td>A</td>\n",
       "      <td>17.00000</td>\n",
       "      <td>0</td>\n",
       "      <td>NaN</td>\n",
       "      <td>1.58426</td>\n",
       "      <td>1.26006</td>\n",
       "      <td>0.19016</td>\n",
       "      <td>...</td>\n",
       "      <td>A maioria das pessoas daqui era do campo. Vila...</td>\n",
       "      <td>A maioria das pessoas daqui era do campo. Vila...</td>\n",
       "      <td>dos impactos sociais da modernização da agric...</td>\n",
       "      <td>da recomposição dos salários do trabalhador r...</td>\n",
       "      <td>da exigência de qualificação do trabalhador r...</td>\n",
       "      <td>da diminuição da importância da agricultura.</td>\n",
       "      <td>dos processos de desvalorização de áreas rurais.</td>\n",
       "      <td>NaN</td>\n",
       "      <td>NaN</td>\n",
       "      <td>NaN</td>\n",
       "    </tr>\n",
       "    <tr>\n",
       "      <th>3</th>\n",
       "      <td>4</td>\n",
       "      <td>CH</td>\n",
       "      <td>58249</td>\n",
       "      <td>B</td>\n",
       "      <td>26.00000</td>\n",
       "      <td>0</td>\n",
       "      <td>NaN</td>\n",
       "      <td>1.87124</td>\n",
       "      <td>-0.40493</td>\n",
       "      <td>0.17401</td>\n",
       "      <td>...</td>\n",
       "      <td>Os lixões são o pior tipo de disposição final ...</td>\n",
       "      <td>Os lixões são o pior tipo de disposição final ...</td>\n",
       "      <td>causam problemas respiratórios, devido ao mau...</td>\n",
       "      <td>são locais propícios à proliferação de vetore...</td>\n",
       "      <td>provocam o fenômeno da chuva ácida, devido ao...</td>\n",
       "      <td>são instalados próximos ao centro das cidades...</td>\n",
       "      <td>são responsáveis pelo desaparecimento das nas...</td>\n",
       "      <td>NaN</td>\n",
       "      <td>NaN</td>\n",
       "      <td>NaN</td>\n",
       "    </tr>\n",
       "    <tr>\n",
       "      <th>4</th>\n",
       "      <td>5</td>\n",
       "      <td>CH</td>\n",
       "      <td>73854</td>\n",
       "      <td>D</td>\n",
       "      <td>27.00000</td>\n",
       "      <td>0</td>\n",
       "      <td>NaN</td>\n",
       "      <td>0.40830</td>\n",
       "      <td>1.46209</td>\n",
       "      <td>0.02447</td>\n",
       "      <td>...</td>\n",
       "      <td>O esquema representa um processo de erosão em ...</td>\n",
       "      <td>O esquema representa um processo de erosão em...</td>\n",
       "      <td>Plantio direto.</td>\n",
       "      <td>Associação de culturas.</td>\n",
       "      <td>Implantação de curvas de nível.</td>\n",
       "      <td>Aração do solo, do topo ao vale.</td>\n",
       "      <td>Terraceamento na propriedade</td>\n",
       "      <td>NaN</td>\n",
       "      <td>NaN</td>\n",
       "      <td>NaN</td>\n",
       "    </tr>\n",
       "  </tbody>\n",
       "</table>\n",
       "<p>5 rows × 28 columns</p>\n",
       "</div>"
      ],
      "text/plain": [
       "   co_posicao sg_area  co_item tx_gabarito  co_habilidade  in_item_aban  \\\n",
       "0           1      CH    71933           A        6.00000             0   \n",
       "1           2      CH    71990           B       19.00000             0   \n",
       "2           3      CH    73431           A       17.00000             0   \n",
       "3           4      CH    58249           B       26.00000             0   \n",
       "4           5      CH    73854           D       27.00000             0   \n",
       "\n",
       "   tx_motivo_aban  nu_param_a  nu_param_b  nu_param_c  ...  \\\n",
       "0             NaN     2.23777     1.04258     0.29804  ...   \n",
       "1             NaN     1.35599     1.23358     0.23895  ...   \n",
       "2             NaN     1.58426     1.26006     0.19016  ...   \n",
       "3             NaN     1.87124    -0.40493     0.17401  ...   \n",
       "4             NaN     0.40830     1.46209     0.02447  ...   \n",
       "\n",
       "                                       texto_questao  \\\n",
       "0  O gráfico representa a relação entre o tamanho...   \n",
       "1  Antes, eram apenas as grandes cidades que se a...   \n",
       "2  A maioria das pessoas daqui era do campo. Vila...   \n",
       "3  Os lixões são o pior tipo de disposição final ...   \n",
       "4  O esquema representa um processo de erosão em ...   \n",
       "\n",
       "                                          texto_base  \\\n",
       "0   O gráfico representa a relação entre o tamanh...   \n",
       "1  Antes, eram apenas as grandes cidades que se a...   \n",
       "2  A maioria das pessoas daqui era do campo. Vila...   \n",
       "3  Os lixões são o pior tipo de disposição final ...   \n",
       "4   O esquema representa um processo de erosão em...   \n",
       "\n",
       "                                       alternativa_a  \\\n",
       "0       A concentraçao de terras nas mãos de poucos.   \n",
       "1   a redução do processo de concentração de terras.   \n",
       "2   dos impactos sociais da modernização da agric...   \n",
       "3   causam problemas respiratórios, devido ao mau...   \n",
       "4                                    Plantio direto.   \n",
       "\n",
       "                                       alternativa_b  \\\n",
       "0       A existência de poucas terras agricultáveis.   \n",
       "1   o aumento do aproveitamento de solos menos fé...   \n",
       "2   da recomposição dos salários do trabalhador r...   \n",
       "3   são locais propícios à proliferação de vetore...   \n",
       "4                            Associação de culturas.   \n",
       "\n",
       "                                       alternativa_c  \\\n",
       "0             O domínio territorial dos minifúndios.   \n",
       "1         a ampliação do isolamento do espaço rural.   \n",
       "2   da exigência de qualificação do trabalhador r...   \n",
       "3   provocam o fenômeno da chuva ácida, devido ao...   \n",
       "4                    Implantação de curvas de nível.   \n",
       "\n",
       "                                       alternativa_d  \\\n",
       "0                A primazia da agricultura familiar.   \n",
       "1        a estagnação da fronteira agrícola do país.   \n",
       "2       da diminuição da importância da agricultura.   \n",
       "3   são instalados próximos ao centro das cidades...   \n",
       "4                   Aração do solo, do topo ao vale.   \n",
       "\n",
       "                                       alternativa_e tp_lingua  \\\n",
       "0             A debilidade dos plantations modernos.       NaN   \n",
       "1           a diminuição do nível de emprego formal.       NaN   \n",
       "2   dos processos de desvalorização de áreas rurais.       NaN   \n",
       "3   são responsáveis pelo desaparecimento das nas...       NaN   \n",
       "4                       Terraceamento na propriedade       NaN   \n",
       "\n",
       "  in_item_adaptado tp_versao_digital  \n",
       "0              NaN               NaN  \n",
       "1              NaN               NaN  \n",
       "2              NaN               NaN  \n",
       "3              NaN               NaN  \n",
       "4              NaN               NaN  \n",
       "\n",
       "[5 rows x 28 columns]"
      ]
     },
     "execution_count": 4,
     "metadata": {},
     "output_type": "execute_result"
    }
   ],
   "source": [
    "df_itens.head()"
   ]
  },
  {
   "cell_type": "code",
   "execution_count": 5,
   "id": "dadbfd58",
   "metadata": {
    "scrolled": true
   },
   "outputs": [],
   "source": [
    "data = df_itens"
   ]
  },
  {
   "cell_type": "code",
   "execution_count": 6,
   "id": "c7ebc29b",
   "metadata": {
    "scrolled": true
   },
   "outputs": [
    {
     "data": {
      "text/plain": [
       "co_posicao              0\n",
       "sg_area                 0\n",
       "co_item                 0\n",
       "tx_gabarito             0\n",
       "co_habilidade          12\n",
       "in_item_aban            0\n",
       "tx_motivo_aban       1922\n",
       "nu_param_a              0\n",
       "nu_param_b              0\n",
       "nu_param_c              0\n",
       "tx_cor                  0\n",
       "co_prova                0\n",
       "id                      0\n",
       "ano                     0\n",
       "cor                     0\n",
       "meio_aplicacao          0\n",
       "num_questao             0\n",
       "area                  405\n",
       "texto_questao           0\n",
       "texto_base            266\n",
       "alternativa_a         308\n",
       "alternativa_b         114\n",
       "alternativa_c         116\n",
       "alternativa_d         112\n",
       "alternativa_e          97\n",
       "tp_lingua            1920\n",
       "in_item_adaptado      722\n",
       "tp_versao_digital    1517\n",
       "dtype: int64"
      ]
     },
     "execution_count": 6,
     "metadata": {},
     "output_type": "execute_result"
    }
   ],
   "source": [
    "data.isnull().sum()"
   ]
  },
  {
   "cell_type": "code",
   "execution_count": 10,
   "id": "2445a2f2",
   "metadata": {
    "scrolled": true
   },
   "outputs": [],
   "source": [
    "# data contem totas as linhas com o texto da questão \n",
    "data = data.loc[:, ['texto_questao', 'nu_param_a', 'nu_param_b', 'nu_param_c']]"
   ]
  },
  {
   "cell_type": "code",
   "execution_count": 81,
   "id": "6d445169",
   "metadata": {},
   "outputs": [
    {
     "data": {
      "text/html": [
       "<div>\n",
       "<style scoped>\n",
       "    .dataframe tbody tr th:only-of-type {\n",
       "        vertical-align: middle;\n",
       "    }\n",
       "\n",
       "    .dataframe tbody tr th {\n",
       "        vertical-align: top;\n",
       "    }\n",
       "\n",
       "    .dataframe thead th {\n",
       "        text-align: right;\n",
       "    }\n",
       "</style>\n",
       "<table border=\"1\" class=\"dataframe\">\n",
       "  <thead>\n",
       "    <tr style=\"text-align: right;\">\n",
       "      <th></th>\n",
       "      <th>nu_param_a</th>\n",
       "      <th>nu_param_b</th>\n",
       "      <th>nu_param_c</th>\n",
       "    </tr>\n",
       "  </thead>\n",
       "  <tbody>\n",
       "    <tr>\n",
       "      <th>count</th>\n",
       "      <td>1922.00000</td>\n",
       "      <td>1922.00000</td>\n",
       "      <td>1922.00000</td>\n",
       "    </tr>\n",
       "    <tr>\n",
       "      <th>mean</th>\n",
       "      <td>2.19187</td>\n",
       "      <td>1.31213</td>\n",
       "      <td>0.16447</td>\n",
       "    </tr>\n",
       "    <tr>\n",
       "      <th>std</th>\n",
       "      <td>0.89697</td>\n",
       "      <td>1.09993</td>\n",
       "      <td>0.06572</td>\n",
       "    </tr>\n",
       "    <tr>\n",
       "      <th>min</th>\n",
       "      <td>0.05808</td>\n",
       "      <td>-1.26778</td>\n",
       "      <td>0.00161</td>\n",
       "    </tr>\n",
       "    <tr>\n",
       "      <th>25%</th>\n",
       "      <td>1.58148</td>\n",
       "      <td>0.65202</td>\n",
       "      <td>0.12487</td>\n",
       "    </tr>\n",
       "    <tr>\n",
       "      <th>50%</th>\n",
       "      <td>2.09211</td>\n",
       "      <td>1.22433</td>\n",
       "      <td>0.16500</td>\n",
       "    </tr>\n",
       "    <tr>\n",
       "      <th>75%</th>\n",
       "      <td>2.73482</td>\n",
       "      <td>1.83686</td>\n",
       "      <td>0.20316</td>\n",
       "    </tr>\n",
       "    <tr>\n",
       "      <th>max</th>\n",
       "      <td>8.78435</td>\n",
       "      <td>17.62443</td>\n",
       "      <td>0.50000</td>\n",
       "    </tr>\n",
       "  </tbody>\n",
       "</table>\n",
       "</div>"
      ],
      "text/plain": [
       "       nu_param_a  nu_param_b  nu_param_c\n",
       "count  1922.00000  1922.00000  1922.00000\n",
       "mean      2.19187     1.31213     0.16447\n",
       "std       0.89697     1.09993     0.06572\n",
       "min       0.05808    -1.26778     0.00161\n",
       "25%       1.58148     0.65202     0.12487\n",
       "50%       2.09211     1.22433     0.16500\n",
       "75%       2.73482     1.83686     0.20316\n",
       "max       8.78435    17.62443     0.50000"
      ]
     },
     "execution_count": 81,
     "metadata": {},
     "output_type": "execute_result"
    }
   ],
   "source": [
    "data.describe()"
   ]
  },
  {
   "cell_type": "code",
   "execution_count": 11,
   "id": "3c08aecc",
   "metadata": {
    "scrolled": true
   },
   "outputs": [
    {
     "data": {
      "text/html": [
       "<div>\n",
       "<style scoped>\n",
       "    .dataframe tbody tr th:only-of-type {\n",
       "        vertical-align: middle;\n",
       "    }\n",
       "\n",
       "    .dataframe tbody tr th {\n",
       "        vertical-align: top;\n",
       "    }\n",
       "\n",
       "    .dataframe thead th {\n",
       "        text-align: right;\n",
       "    }\n",
       "</style>\n",
       "<table border=\"1\" class=\"dataframe\">\n",
       "  <thead>\n",
       "    <tr style=\"text-align: right;\">\n",
       "      <th></th>\n",
       "      <th>texto_questao</th>\n",
       "      <th>nu_param_a</th>\n",
       "      <th>nu_param_b</th>\n",
       "      <th>nu_param_c</th>\n",
       "    </tr>\n",
       "  </thead>\n",
       "  <tbody>\n",
       "    <tr>\n",
       "      <th>0</th>\n",
       "      <td>O gráfico representa a relação entre o tamanho...</td>\n",
       "      <td>2.23777</td>\n",
       "      <td>1.04258</td>\n",
       "      <td>0.29804</td>\n",
       "    </tr>\n",
       "    <tr>\n",
       "      <th>1</th>\n",
       "      <td>Antes, eram apenas as grandes cidades que se a...</td>\n",
       "      <td>1.35599</td>\n",
       "      <td>1.23358</td>\n",
       "      <td>0.23895</td>\n",
       "    </tr>\n",
       "    <tr>\n",
       "      <th>2</th>\n",
       "      <td>A maioria das pessoas daqui era do campo. Vila...</td>\n",
       "      <td>1.58426</td>\n",
       "      <td>1.26006</td>\n",
       "      <td>0.19016</td>\n",
       "    </tr>\n",
       "    <tr>\n",
       "      <th>3</th>\n",
       "      <td>Os lixões são o pior tipo de disposição final ...</td>\n",
       "      <td>1.87124</td>\n",
       "      <td>-0.40493</td>\n",
       "      <td>0.17401</td>\n",
       "    </tr>\n",
       "    <tr>\n",
       "      <th>4</th>\n",
       "      <td>O esquema representa um processo de erosão em ...</td>\n",
       "      <td>0.40830</td>\n",
       "      <td>1.46209</td>\n",
       "      <td>0.02447</td>\n",
       "    </tr>\n",
       "  </tbody>\n",
       "</table>\n",
       "</div>"
      ],
      "text/plain": [
       "                                       texto_questao  nu_param_a  nu_param_b  \\\n",
       "0  O gráfico representa a relação entre o tamanho...     2.23777     1.04258   \n",
       "1  Antes, eram apenas as grandes cidades que se a...     1.35599     1.23358   \n",
       "2  A maioria das pessoas daqui era do campo. Vila...     1.58426     1.26006   \n",
       "3  Os lixões são o pior tipo de disposição final ...     1.87124    -0.40493   \n",
       "4  O esquema representa um processo de erosão em ...     0.40830     1.46209   \n",
       "\n",
       "   nu_param_c  \n",
       "0     0.29804  \n",
       "1     0.23895  \n",
       "2     0.19016  \n",
       "3     0.17401  \n",
       "4     0.02447  "
      ]
     },
     "execution_count": 11,
     "metadata": {},
     "output_type": "execute_result"
    }
   ],
   "source": [
    "data.head()"
   ]
  },
  {
   "cell_type": "code",
   "execution_count": 12,
   "id": "f2ec3cad",
   "metadata": {
    "scrolled": true
   },
   "outputs": [
    {
     "data": {
      "text/html": [
       "<div>\n",
       "<style scoped>\n",
       "    .dataframe tbody tr th:only-of-type {\n",
       "        vertical-align: middle;\n",
       "    }\n",
       "\n",
       "    .dataframe tbody tr th {\n",
       "        vertical-align: top;\n",
       "    }\n",
       "\n",
       "    .dataframe thead th {\n",
       "        text-align: right;\n",
       "    }\n",
       "</style>\n",
       "<table border=\"1\" class=\"dataframe\">\n",
       "  <thead>\n",
       "    <tr style=\"text-align: right;\">\n",
       "      <th></th>\n",
       "      <th>nu_param_a</th>\n",
       "      <th>nu_param_b</th>\n",
       "      <th>nu_param_c</th>\n",
       "    </tr>\n",
       "  </thead>\n",
       "  <tbody>\n",
       "    <tr>\n",
       "      <th>count</th>\n",
       "      <td>1922.00000</td>\n",
       "      <td>1922.00000</td>\n",
       "      <td>1922.00000</td>\n",
       "    </tr>\n",
       "    <tr>\n",
       "      <th>mean</th>\n",
       "      <td>2.19187</td>\n",
       "      <td>1.31213</td>\n",
       "      <td>0.16447</td>\n",
       "    </tr>\n",
       "    <tr>\n",
       "      <th>std</th>\n",
       "      <td>0.89697</td>\n",
       "      <td>1.09993</td>\n",
       "      <td>0.06572</td>\n",
       "    </tr>\n",
       "    <tr>\n",
       "      <th>min</th>\n",
       "      <td>0.05808</td>\n",
       "      <td>-1.26778</td>\n",
       "      <td>0.00161</td>\n",
       "    </tr>\n",
       "    <tr>\n",
       "      <th>25%</th>\n",
       "      <td>1.58148</td>\n",
       "      <td>0.65202</td>\n",
       "      <td>0.12487</td>\n",
       "    </tr>\n",
       "    <tr>\n",
       "      <th>50%</th>\n",
       "      <td>2.09211</td>\n",
       "      <td>1.22433</td>\n",
       "      <td>0.16500</td>\n",
       "    </tr>\n",
       "    <tr>\n",
       "      <th>75%</th>\n",
       "      <td>2.73482</td>\n",
       "      <td>1.83686</td>\n",
       "      <td>0.20316</td>\n",
       "    </tr>\n",
       "    <tr>\n",
       "      <th>max</th>\n",
       "      <td>8.78435</td>\n",
       "      <td>17.62443</td>\n",
       "      <td>0.50000</td>\n",
       "    </tr>\n",
       "  </tbody>\n",
       "</table>\n",
       "</div>"
      ],
      "text/plain": [
       "       nu_param_a  nu_param_b  nu_param_c\n",
       "count  1922.00000  1922.00000  1922.00000\n",
       "mean      2.19187     1.31213     0.16447\n",
       "std       0.89697     1.09993     0.06572\n",
       "min       0.05808    -1.26778     0.00161\n",
       "25%       1.58148     0.65202     0.12487\n",
       "50%       2.09211     1.22433     0.16500\n",
       "75%       2.73482     1.83686     0.20316\n",
       "max       8.78435    17.62443     0.50000"
      ]
     },
     "execution_count": 12,
     "metadata": {},
     "output_type": "execute_result"
    }
   ],
   "source": [
    "data.describe()"
   ]
  },
  {
   "cell_type": "code",
   "execution_count": 14,
   "id": "da6be768",
   "metadata": {
    "scrolled": true
   },
   "outputs": [
    {
     "data": {
      "text/plain": [
       "texto_questao    0\n",
       "nu_param_a       0\n",
       "nu_param_b       0\n",
       "nu_param_c       0\n",
       "dtype: int64"
      ]
     },
     "execution_count": 14,
     "metadata": {},
     "output_type": "execute_result"
    }
   ],
   "source": [
    "data.isnull().sum()"
   ]
  },
  {
   "cell_type": "markdown",
   "id": "eeaa7060",
   "metadata": {},
   "source": [
    "## teste de normalidade"
   ]
  },
  {
   "cell_type": "markdown",
   "id": "d5ff382f",
   "metadata": {},
   "source": [
    "### sem remoção de outliers\n",
    "\n",
    "- **parametro a**"
   ]
  },
  {
   "cell_type": "code",
   "execution_count": 13,
   "id": "f0e167ed",
   "metadata": {},
   "outputs": [
    {
     "data": {
      "text/plain": [
       "<AxesSubplot:xlabel='nu_param_a', ylabel='Density'>"
      ]
     },
     "execution_count": 13,
     "metadata": {},
     "output_type": "execute_result"
    },
    {
     "data": {
      "image/png": "[encoded data removed]",
      "text/plain": [
       "<Figure size 432x288 with 1 Axes>"
      ]
     },
     "metadata": {
      "needs_background": "light"
     },
     "output_type": "display_data"
    }
   ],
   "source": [
    "# distribuição estatística da coluna do parâmetro a\n",
    "sns.kdeplot(data=data, x=\"nu_param_a\")"
   ]
  },
  {
   "cell_type": "markdown",
   "id": "7ba00acc",
   "metadata": {},
   "source": [
    "O teste de Shapiro é um teste estatístico utilizado para verificar se uma amostra de dados segue uma distribuição normal. A hipótese nula e a hipótese alternativa desse teste são:\n",
    "\n",
    "Hipótese nula (H0): A amostra segue uma distribuição normal.\n",
    "Hipótese alternativa (H1): A amostra não segue uma distribuição normal.\n",
    "Ou seja, a hipótese nula assume que os dados foram retirados de uma população com uma distribuição normal e a hipótese alternativa assume que os dados não seguiram uma distribuição normal.\n",
    "\n",
    "O resultado do teste de Shapiro fornece um valor-p que indica a probabilidade de se obter uma amostra com a mesma estatística de teste (estatística W) sob a hipótese nula. Se o valor-p for menor do que um determinado nível de significância pré-definido (por exemplo, 0,05), então a hipótese nula é rejeitada, o que significa que não se pode afirmar com 95% de confiança que a amostra segue uma distribuição normal. Caso contrário, se o valor-p for maior do que o nível de significância, então não há evidências suficientes para rejeitar a hipótese nula, o que significa que a amostra pode ser considerada como tendo uma distribuição normal."
   ]
  },
  {
   "cell_type": "code",
   "execution_count": 20,
   "id": "58b33e8f",
   "metadata": {},
   "outputs": [
    {
     "name": "stdout",
     "output_type": "stream",
     "text": [
      "Estatística do teste:  0.9691320657730103\n",
      "Valor p:  6.952752901480248e-20\n",
      "Distribuição não é normal\n"
     ]
    }
   ],
   "source": [
    "# teste de normalidade de Shapiro-Wilk\n",
    "stat, p = shapiro(data.nu_param_a.values)\n",
    "\n",
    "# resultados do teste\n",
    "print('Estatística do teste: ', stat)\n",
    "print('Valor p: ', p)\n",
    "if p > 0.05:\n",
    "    print('Distribuição é normal')\n",
    "else:\n",
    "    print('Distribuição não é normal')"
   ]
  },
  {
   "cell_type": "code",
   "execution_count": 16,
   "id": "bd76be8b",
   "metadata": {},
   "outputs": [
    {
     "data": {
      "image/png": "[encoded data removed]",
      "text/plain": [
       "<Figure size 432x288 with 1 Axes>"
      ]
     },
     "metadata": {
      "needs_background": "light"
     },
     "output_type": "display_data"
    }
   ],
   "source": [
    "# boxplot dos dados\n",
    "fig, ax = plt.subplots()\n",
    "ax.boxplot(data.nu_param_a.values)\n",
    "\n",
    "# Configurar eixo y\n",
    "ax.set_ylabel('Valores')\n",
    "\n",
    "# Mostrar gráfico\n",
    "plt.show()"
   ]
  },
  {
   "cell_type": "markdown",
   "id": "e8c9a5d8",
   "metadata": {},
   "source": [
    "- **parametro b**"
   ]
  },
  {
   "cell_type": "code",
   "execution_count": 15,
   "id": "180884a9",
   "metadata": {},
   "outputs": [
    {
     "data": {
      "text/plain": [
       "<AxesSubplot:xlabel='nu_param_b', ylabel='Density'>"
      ]
     },
     "execution_count": 15,
     "metadata": {},
     "output_type": "execute_result"
    },
    {
     "data": {
      "image/png": "[encoded data removed]",
      "text/plain": [
       "<Figure size 432x288 with 1 Axes>"
      ]
     },
     "metadata": {
      "needs_background": "light"
     },
     "output_type": "display_data"
    }
   ],
   "source": [
    "# distribuição estatística da coluna do parâmetro b\n",
    "sns.kdeplot(data=data, x=\"nu_param_b\")"
   ]
  },
  {
   "cell_type": "code",
   "execution_count": 21,
   "id": "68c41779",
   "metadata": {},
   "outputs": [
    {
     "name": "stdout",
     "output_type": "stream",
     "text": [
      "Estatística do teste:  0.7948774695396423\n",
      "Valor p:  5.324934164434305e-44\n",
      "Distribuição não é normal\n"
     ]
    }
   ],
   "source": [
    "# teste de normalidade de Shapiro-Wilk\n",
    "stat, p = shapiro(data.nu_param_b.values)\n",
    "\n",
    "# resultados do teste\n",
    "print('Estatística do teste: ', stat)\n",
    "print('Valor p: ', p)\n",
    "if p > 0.05:\n",
    "    print('Distribuição é normal')\n",
    "else:\n",
    "    print('Distribuição não é normal')"
   ]
  },
  {
   "cell_type": "code",
   "execution_count": 17,
   "id": "cff9d465",
   "metadata": {},
   "outputs": [
    {
     "data": {
      "image/png": "[encoded data removed]",
      "text/plain": [
       "<Figure size 432x288 with 1 Axes>"
      ]
     },
     "metadata": {
      "needs_background": "light"
     },
     "output_type": "display_data"
    }
   ],
   "source": [
    "# boxplot dos dados\n",
    "fig, ax = plt.subplots()\n",
    "ax.boxplot(data.nu_param_b.values)\n",
    "\n",
    "# Configurar eixo y\n",
    "ax.set_ylabel('Valores')\n",
    "\n",
    "# Mostrar gráfico\n",
    "plt.show()"
   ]
  },
  {
   "cell_type": "markdown",
   "id": "f9189c06",
   "metadata": {},
   "source": [
    "- **parametro c**"
   ]
  },
  {
   "cell_type": "code",
   "execution_count": 16,
   "id": "1be216f8",
   "metadata": {},
   "outputs": [
    {
     "data": {
      "text/plain": [
       "<AxesSubplot:xlabel='nu_param_c', ylabel='Density'>"
      ]
     },
     "execution_count": 16,
     "metadata": {},
     "output_type": "execute_result"
    },
    {
     "data": {
      "image/png": "[encoded data removed]",
      "text/plain": [
       "<Figure size 432x288 with 1 Axes>"
      ]
     },
     "metadata": {
      "needs_background": "light"
     },
     "output_type": "display_data"
    }
   ],
   "source": [
    "# distribuição estatística da coluna do parâmetro c\n",
    "sns.kdeplot(data=data, x=\"nu_param_c\")"
   ]
  },
  {
   "cell_type": "code",
   "execution_count": 22,
   "id": "364ce5d0",
   "metadata": {},
   "outputs": [
    {
     "name": "stdout",
     "output_type": "stream",
     "text": [
      "Estatística do teste:  0.9893860816955566\n",
      "Valor p:  1.1384914538892232e-10\n",
      "Distribuição não é normal\n"
     ]
    }
   ],
   "source": [
    "# teste de normalidade de Shapiro-Wilk\n",
    "stat, p = shapiro(data.nu_param_c.values)\n",
    "\n",
    "# resultados do teste\n",
    "print('Estatística do teste: ', stat)\n",
    "print('Valor p: ', p)\n",
    "if p > 0.05:\n",
    "    print('Distribuição é normal')\n",
    "else:\n",
    "    print('Distribuição não é normal')"
   ]
  },
  {
   "cell_type": "code",
   "execution_count": 18,
   "id": "70590f12",
   "metadata": {},
   "outputs": [
    {
     "data": {
      "image/png": "[encoded data removed]",
      "text/plain": [
       "<Figure size 432x288 with 1 Axes>"
      ]
     },
     "metadata": {
      "needs_background": "light"
     },
     "output_type": "display_data"
    }
   ],
   "source": [
    "# boxplot dos dados\n",
    "fig, ax = plt.subplots()\n",
    "ax.boxplot(data.nu_param_c.values)\n",
    "\n",
    "# Configurar eixo y\n",
    "ax.set_ylabel('Valores')\n",
    "\n",
    "# Mostrar gráfico\n",
    "plt.show()"
   ]
  },
  {
   "cell_type": "markdown",
   "id": "86b972cf",
   "metadata": {},
   "source": [
    "- conclui-se que as distribuições estatísticas da amostra de parâmetros a, b e c não são normais."
   ]
  },
  {
   "cell_type": "markdown",
   "id": "d347400c",
   "metadata": {},
   "source": [
    "### com remoção de outliers"
   ]
  },
  {
   "cell_type": "markdown",
   "id": "af062dfc",
   "metadata": {},
   "source": [
    "O Local Outlier Factor (LOF) é um algoritmo de detecção de outliers que utiliza a relação de densidade entre pontos para identificar pontos anômalos em um conjunto de dados. Em vez de agrupar pontos juntos como o DBSCAN, o LOF avalia a relação de densidade de cada ponto com seus vizinhos mais próximos e atribui a cada ponto uma pontuação de anomalia. Os pontos com pontuações mais altas são considerados outliers.\n",
    "\n",
    "A vantagem do LOF em relação a outros algoritmos de detecção de outliers é que ele é capaz de detectar outliers em formas complexas e não lineares, além de ser robusto a ruído e variações na densidade dos dados. No entanto, o LOF também pode ser computacionalmente intensivo, especialmente em grandes conjuntos de dados.\n",
    "\n",
    "O Local Outlier Factor (LOF), usa a relação de densidade para avaliar se um ponto é anômalo ou não. Um ponto é considerado anômalo se sua relação de densidade com seus vizinhos é significativamente menor ou maior do que a relação de densidade dos vizinhos. Em outras palavras, se um ponto estiver em uma região muito menos densa ou muito mais densa do que a região circundante, ele é considerado um outlier.\n",
    "\n",
    "LocalOutlierFactor(n_neighbors=10) cria uma instância da classe LocalOutlierFactor do pacote sklearn.neighbors e define o parâmetro n_neighbors como 10. O parâmetro n_neighbors é o número de vizinhos considerados pelo algoritmo para determinar a densidade local de cada ponto no conjunto de dados."
   ]
  },
  {
   "cell_type": "code",
   "execution_count": 41,
   "id": "820783ba",
   "metadata": {
    "scrolled": true
   },
   "outputs": [],
   "source": [
    "lof = LocalOutlierFactor(n_neighbors=20)"
   ]
  },
  {
   "cell_type": "markdown",
   "id": "ecdc8edf",
   "metadata": {},
   "source": [
    "- **parâmetro a**"
   ]
  },
  {
   "cell_type": "code",
   "execution_count": 42,
   "id": "15beb174",
   "metadata": {
    "scrolled": true
   },
   "outputs": [
    {
     "name": "stdout",
     "output_type": "stream",
     "text": [
      "Outliers:\n"
     ]
    },
    {
     "data": {
      "text/html": [
       "<div>\n",
       "<style scoped>\n",
       "    .dataframe tbody tr th:only-of-type {\n",
       "        vertical-align: middle;\n",
       "    }\n",
       "\n",
       "    .dataframe tbody tr th {\n",
       "        vertical-align: top;\n",
       "    }\n",
       "\n",
       "    .dataframe thead th {\n",
       "        text-align: right;\n",
       "    }\n",
       "</style>\n",
       "<table border=\"1\" class=\"dataframe\">\n",
       "  <thead>\n",
       "    <tr style=\"text-align: right;\">\n",
       "      <th></th>\n",
       "      <th>valores</th>\n",
       "      <th>anomalies</th>\n",
       "      <th>scores</th>\n",
       "    </tr>\n",
       "  </thead>\n",
       "  <tbody>\n",
       "    <tr>\n",
       "      <th>1662</th>\n",
       "      <td>8.78435</td>\n",
       "      <td>-1</td>\n",
       "      <td>-8.05599</td>\n",
       "    </tr>\n",
       "    <tr>\n",
       "      <th>1199</th>\n",
       "      <td>7.09582</td>\n",
       "      <td>-1</td>\n",
       "      <td>-4.98255</td>\n",
       "    </tr>\n",
       "    <tr>\n",
       "      <th>1047</th>\n",
       "      <td>6.73355</td>\n",
       "      <td>-1</td>\n",
       "      <td>-4.41359</td>\n",
       "    </tr>\n",
       "    <tr>\n",
       "      <th>982</th>\n",
       "      <td>6.20439</td>\n",
       "      <td>-1</td>\n",
       "      <td>-3.68028</td>\n",
       "    </tr>\n",
       "    <tr>\n",
       "      <th>1263</th>\n",
       "      <td>5.93339</td>\n",
       "      <td>-1</td>\n",
       "      <td>-3.23971</td>\n",
       "    </tr>\n",
       "    <tr>\n",
       "      <th>1663</th>\n",
       "      <td>5.86603</td>\n",
       "      <td>-1</td>\n",
       "      <td>-3.13066</td>\n",
       "    </tr>\n",
       "    <tr>\n",
       "      <th>1695</th>\n",
       "      <td>5.39524</td>\n",
       "      <td>-1</td>\n",
       "      <td>-2.56680</td>\n",
       "    </tr>\n",
       "    <tr>\n",
       "      <th>1346</th>\n",
       "      <td>5.31206</td>\n",
       "      <td>-1</td>\n",
       "      <td>-2.51009</td>\n",
       "    </tr>\n",
       "    <tr>\n",
       "      <th>1537</th>\n",
       "      <td>5.09946</td>\n",
       "      <td>-1</td>\n",
       "      <td>-2.23053</td>\n",
       "    </tr>\n",
       "    <tr>\n",
       "      <th>548</th>\n",
       "      <td>5.05216</td>\n",
       "      <td>-1</td>\n",
       "      <td>-2.13530</td>\n",
       "    </tr>\n",
       "    <tr>\n",
       "      <th>726</th>\n",
       "      <td>5.00249</td>\n",
       "      <td>-1</td>\n",
       "      <td>-2.04357</td>\n",
       "    </tr>\n",
       "    <tr>\n",
       "      <th>541</th>\n",
       "      <td>4.94938</td>\n",
       "      <td>-1</td>\n",
       "      <td>-1.94549</td>\n",
       "    </tr>\n",
       "    <tr>\n",
       "      <th>766</th>\n",
       "      <td>4.93511</td>\n",
       "      <td>-1</td>\n",
       "      <td>-1.91914</td>\n",
       "    </tr>\n",
       "    <tr>\n",
       "      <th>788</th>\n",
       "      <td>4.85658</td>\n",
       "      <td>-1</td>\n",
       "      <td>-1.80078</td>\n",
       "    </tr>\n",
       "    <tr>\n",
       "      <th>674</th>\n",
       "      <td>4.76122</td>\n",
       "      <td>-1</td>\n",
       "      <td>-1.62065</td>\n",
       "    </tr>\n",
       "    <tr>\n",
       "      <th>400</th>\n",
       "      <td>4.69100</td>\n",
       "      <td>-1</td>\n",
       "      <td>-1.51103</td>\n",
       "    </tr>\n",
       "    <tr>\n",
       "      <th>455</th>\n",
       "      <td>0.09882</td>\n",
       "      <td>-1</td>\n",
       "      <td>-1.70286</td>\n",
       "    </tr>\n",
       "    <tr>\n",
       "      <th>1272</th>\n",
       "      <td>0.05808</td>\n",
       "      <td>-1</td>\n",
       "      <td>-1.91393</td>\n",
       "    </tr>\n",
       "  </tbody>\n",
       "</table>\n",
       "</div>"
      ],
      "text/plain": [
       "      valores  anomalies   scores\n",
       "1662  8.78435         -1 -8.05599\n",
       "1199  7.09582         -1 -4.98255\n",
       "1047  6.73355         -1 -4.41359\n",
       "982   6.20439         -1 -3.68028\n",
       "1263  5.93339         -1 -3.23971\n",
       "1663  5.86603         -1 -3.13066\n",
       "1695  5.39524         -1 -2.56680\n",
       "1346  5.31206         -1 -2.51009\n",
       "1537  5.09946         -1 -2.23053\n",
       "548   5.05216         -1 -2.13530\n",
       "726   5.00249         -1 -2.04357\n",
       "541   4.94938         -1 -1.94549\n",
       "766   4.93511         -1 -1.91914\n",
       "788   4.85658         -1 -1.80078\n",
       "674   4.76122         -1 -1.62065\n",
       "400   4.69100         -1 -1.51103\n",
       "455   0.09882         -1 -1.70286\n",
       "1272  0.05808         -1 -1.91393"
      ]
     },
     "execution_count": 42,
     "metadata": {},
     "output_type": "execute_result"
    }
   ],
   "source": [
    "valores = data.nu_param_a.values.reshape(data.shape[0], 1)\n",
    "# aplicar o algoritmo LOF\n",
    "anomalies = lof.fit_predict(valores)\n",
    "\n",
    "# obter as pontuações de anomalia para cada ponto\n",
    "scores = lof.negative_outlier_factor_\n",
    "\n",
    "# um dataframe para visualizar os dados e as pontuações de anomalia\n",
    "df = pd.DataFrame(valores, columns=['valores'])\n",
    "df['anomalies'] = anomalies\n",
    "df['scores'] = scores\n",
    "\n",
    "# imprimir outliers\n",
    "outliers = df[df['anomalies'] == -1]\n",
    "print(\"Outliers:\")\n",
    "outliers.sort_values('valores', ascending = False)"
   ]
  },
  {
   "cell_type": "code",
   "execution_count": 43,
   "id": "f4a10191",
   "metadata": {
    "scrolled": true
   },
   "outputs": [],
   "source": [
    "data_1 = data[~data.index.isin(df[df['anomalies'] == -1].index)].reset_index(drop = True)"
   ]
  },
  {
   "cell_type": "code",
   "execution_count": 44,
   "id": "104ab322",
   "metadata": {
    "scrolled": true
   },
   "outputs": [
    {
     "data": {
      "text/plain": [
       "(1904, 4)"
      ]
     },
     "execution_count": 44,
     "metadata": {},
     "output_type": "execute_result"
    }
   ],
   "source": [
    "data_1.shape"
   ]
  },
  {
   "cell_type": "code",
   "execution_count": 45,
   "id": "bb67fde4",
   "metadata": {
    "scrolled": true
   },
   "outputs": [
    {
     "data": {
      "text/plain": [
       "array([           2.238,            1.356,            1.584, ...,            3.018,            3.249,            1.416])"
      ]
     },
     "execution_count": 45,
     "metadata": {},
     "output_type": "execute_result"
    }
   ],
   "source": [
    "params_a_sem_outliers = data_1.nu_param_a.values\n",
    "params_a_sem_outliers"
   ]
  },
  {
   "cell_type": "code",
   "execution_count": 46,
   "id": "f6000af1",
   "metadata": {},
   "outputs": [
    {
     "data": {
      "text/plain": [
       "<AxesSubplot:ylabel='Density'>"
      ]
     },
     "execution_count": 46,
     "metadata": {},
     "output_type": "execute_result"
    },
    {
     "data": {
      "image/png": "[encoded data removed]",
      "text/plain": [
       "<Figure size 432x288 with 1 Axes>"
      ]
     },
     "metadata": {
      "needs_background": "light"
     },
     "output_type": "display_data"
    }
   ],
   "source": [
    "# distribuição estatística da coluna do parâmetro b\n",
    "sns.kdeplot(x=params_a_sem_outliers)"
   ]
  },
  {
   "cell_type": "code",
   "execution_count": 47,
   "id": "de750167",
   "metadata": {},
   "outputs": [
    {
     "name": "stdout",
     "output_type": "stream",
     "text": [
      "Estatística do teste:  0.9896274209022522\n",
      "Valor p:  1.9366083736649387e-10\n",
      "Distribuição não é normal\n"
     ]
    }
   ],
   "source": [
    "# teste de normalidade de Shapiro-Wilk\n",
    "stat, p = shapiro(params_a_sem_outliers)\n",
    "\n",
    "# resultados do teste\n",
    "print('Estatística do teste: ', stat)\n",
    "print('Valor p: ', p)\n",
    "if p > 0.05:\n",
    "    print('Distribuição é normal')\n",
    "else:\n",
    "    print('Distribuição não é normal')"
   ]
  },
  {
   "cell_type": "code",
   "execution_count": 48,
   "id": "f3bb20dc",
   "metadata": {},
   "outputs": [
    {
     "data": {
      "image/png": "[encoded data removed]",
      "text/plain": [
       "<Figure size 432x288 with 1 Axes>"
      ]
     },
     "metadata": {
      "needs_background": "light"
     },
     "output_type": "display_data"
    }
   ],
   "source": [
    "# boxplot dos dados\n",
    "fig, ax = plt.subplots()\n",
    "ax.boxplot(params_a_sem_outliers)\n",
    "\n",
    "# Configurar eixo y\n",
    "ax.set_ylabel('Valores')\n",
    "\n",
    "# Mostrar gráfico\n",
    "plt.show()"
   ]
  },
  {
   "cell_type": "markdown",
   "id": "3f00e1fb",
   "metadata": {},
   "source": [
    "- **parâmetro b**"
   ]
  },
  {
   "cell_type": "code",
   "execution_count": 49,
   "id": "bf66604b",
   "metadata": {
    "scrolled": true
   },
   "outputs": [
    {
     "name": "stdout",
     "output_type": "stream",
     "text": [
      "Outliers:\n"
     ]
    },
    {
     "data": {
      "text/html": [
       "<div>\n",
       "<style scoped>\n",
       "    .dataframe tbody tr th:only-of-type {\n",
       "        vertical-align: middle;\n",
       "    }\n",
       "\n",
       "    .dataframe tbody tr th {\n",
       "        vertical-align: top;\n",
       "    }\n",
       "\n",
       "    .dataframe thead th {\n",
       "        text-align: right;\n",
       "    }\n",
       "</style>\n",
       "<table border=\"1\" class=\"dataframe\">\n",
       "  <thead>\n",
       "    <tr style=\"text-align: right;\">\n",
       "      <th></th>\n",
       "      <th>valores</th>\n",
       "      <th>anomalies</th>\n",
       "      <th>scores</th>\n",
       "    </tr>\n",
       "  </thead>\n",
       "  <tbody>\n",
       "    <tr>\n",
       "      <th>455</th>\n",
       "      <td>17.62443</td>\n",
       "      <td>-1</td>\n",
       "      <td>-11.61103</td>\n",
       "    </tr>\n",
       "    <tr>\n",
       "      <th>478</th>\n",
       "      <td>14.23385</td>\n",
       "      <td>-1</td>\n",
       "      <td>-8.94789</td>\n",
       "    </tr>\n",
       "    <tr>\n",
       "      <th>1299</th>\n",
       "      <td>12.41660</td>\n",
       "      <td>-1</td>\n",
       "      <td>-7.60431</td>\n",
       "    </tr>\n",
       "    <tr>\n",
       "      <th>642</th>\n",
       "      <td>11.43966</td>\n",
       "      <td>-1</td>\n",
       "      <td>-6.91456</td>\n",
       "    </tr>\n",
       "    <tr>\n",
       "      <th>1272</th>\n",
       "      <td>8.96186</td>\n",
       "      <td>-1</td>\n",
       "      <td>-5.66721</td>\n",
       "    </tr>\n",
       "    <tr>\n",
       "      <th>1011</th>\n",
       "      <td>7.92092</td>\n",
       "      <td>-1</td>\n",
       "      <td>-4.86909</td>\n",
       "    </tr>\n",
       "    <tr>\n",
       "      <th>444</th>\n",
       "      <td>7.32950</td>\n",
       "      <td>-1</td>\n",
       "      <td>-4.37146</td>\n",
       "    </tr>\n",
       "    <tr>\n",
       "      <th>187</th>\n",
       "      <td>5.86198</td>\n",
       "      <td>-1</td>\n",
       "      <td>-2.91869</td>\n",
       "    </tr>\n",
       "    <tr>\n",
       "      <th>628</th>\n",
       "      <td>5.61338</td>\n",
       "      <td>-1</td>\n",
       "      <td>-2.69392</td>\n",
       "    </tr>\n",
       "    <tr>\n",
       "      <th>1448</th>\n",
       "      <td>5.45136</td>\n",
       "      <td>-1</td>\n",
       "      <td>-2.53781</td>\n",
       "    </tr>\n",
       "    <tr>\n",
       "      <th>1848</th>\n",
       "      <td>4.96788</td>\n",
       "      <td>-1</td>\n",
       "      <td>-1.97197</td>\n",
       "    </tr>\n",
       "    <tr>\n",
       "      <th>1834</th>\n",
       "      <td>4.78322</td>\n",
       "      <td>-1</td>\n",
       "      <td>-1.79827</td>\n",
       "    </tr>\n",
       "    <tr>\n",
       "      <th>756</th>\n",
       "      <td>4.65555</td>\n",
       "      <td>-1</td>\n",
       "      <td>-1.70943</td>\n",
       "    </tr>\n",
       "    <tr>\n",
       "      <th>64</th>\n",
       "      <td>4.43681</td>\n",
       "      <td>-1</td>\n",
       "      <td>-1.52748</td>\n",
       "    </tr>\n",
       "    <tr>\n",
       "      <th>629</th>\n",
       "      <td>3.71347</td>\n",
       "      <td>-1</td>\n",
       "      <td>-1.58080</td>\n",
       "    </tr>\n",
       "    <tr>\n",
       "      <th>755</th>\n",
       "      <td>3.70512</td>\n",
       "      <td>-1</td>\n",
       "      <td>-1.57217</td>\n",
       "    </tr>\n",
       "    <tr>\n",
       "      <th>1015</th>\n",
       "      <td>3.62845</td>\n",
       "      <td>-1</td>\n",
       "      <td>-1.57090</td>\n",
       "    </tr>\n",
       "    <tr>\n",
       "      <th>142</th>\n",
       "      <td>3.61504</td>\n",
       "      <td>-1</td>\n",
       "      <td>-1.54876</td>\n",
       "    </tr>\n",
       "    <tr>\n",
       "      <th>1275</th>\n",
       "      <td>3.60668</td>\n",
       "      <td>-1</td>\n",
       "      <td>-1.53628</td>\n",
       "    </tr>\n",
       "    <tr>\n",
       "      <th>1728</th>\n",
       "      <td>3.51778</td>\n",
       "      <td>-1</td>\n",
       "      <td>-1.50613</td>\n",
       "    </tr>\n",
       "    <tr>\n",
       "      <th>611</th>\n",
       "      <td>0.73092</td>\n",
       "      <td>-1</td>\n",
       "      <td>-1.50025</td>\n",
       "    </tr>\n",
       "    <tr>\n",
       "      <th>724</th>\n",
       "      <td>-0.60590</td>\n",
       "      <td>-1</td>\n",
       "      <td>-1.50011</td>\n",
       "    </tr>\n",
       "    <tr>\n",
       "      <th>260</th>\n",
       "      <td>-0.63900</td>\n",
       "      <td>-1</td>\n",
       "      <td>-1.56036</td>\n",
       "    </tr>\n",
       "    <tr>\n",
       "      <th>1828</th>\n",
       "      <td>-0.65267</td>\n",
       "      <td>-1</td>\n",
       "      <td>-1.60506</td>\n",
       "    </tr>\n",
       "    <tr>\n",
       "      <th>1801</th>\n",
       "      <td>-0.66104</td>\n",
       "      <td>-1</td>\n",
       "      <td>-1.63381</td>\n",
       "    </tr>\n",
       "    <tr>\n",
       "      <th>47</th>\n",
       "      <td>-0.67482</td>\n",
       "      <td>-1</td>\n",
       "      <td>-1.68449</td>\n",
       "    </tr>\n",
       "    <tr>\n",
       "      <th>117</th>\n",
       "      <td>-0.71560</td>\n",
       "      <td>-1</td>\n",
       "      <td>-1.79423</td>\n",
       "    </tr>\n",
       "    <tr>\n",
       "      <th>1899</th>\n",
       "      <td>-0.72714</td>\n",
       "      <td>-1</td>\n",
       "      <td>-1.83844</td>\n",
       "    </tr>\n",
       "    <tr>\n",
       "      <th>1137</th>\n",
       "      <td>-0.75250</td>\n",
       "      <td>-1</td>\n",
       "      <td>-1.83953</td>\n",
       "    </tr>\n",
       "    <tr>\n",
       "      <th>94</th>\n",
       "      <td>-0.80441</td>\n",
       "      <td>-1</td>\n",
       "      <td>-1.98571</td>\n",
       "    </tr>\n",
       "    <tr>\n",
       "      <th>309</th>\n",
       "      <td>-0.91700</td>\n",
       "      <td>-1</td>\n",
       "      <td>-2.19403</td>\n",
       "    </tr>\n",
       "    <tr>\n",
       "      <th>702</th>\n",
       "      <td>-1.01603</td>\n",
       "      <td>-1</td>\n",
       "      <td>-2.50737</td>\n",
       "    </tr>\n",
       "    <tr>\n",
       "      <th>44</th>\n",
       "      <td>-1.05106</td>\n",
       "      <td>-1</td>\n",
       "      <td>-2.63483</td>\n",
       "    </tr>\n",
       "    <tr>\n",
       "      <th>336</th>\n",
       "      <td>-1.25900</td>\n",
       "      <td>-1</td>\n",
       "      <td>-3.48051</td>\n",
       "    </tr>\n",
       "    <tr>\n",
       "      <th>32</th>\n",
       "      <td>-1.26778</td>\n",
       "      <td>-1</td>\n",
       "      <td>-3.51737</td>\n",
       "    </tr>\n",
       "  </tbody>\n",
       "</table>\n",
       "</div>"
      ],
      "text/plain": [
       "      valores  anomalies    scores\n",
       "455  17.62443         -1 -11.61103\n",
       "478  14.23385         -1  -8.94789\n",
       "1299 12.41660         -1  -7.60431\n",
       "642  11.43966         -1  -6.91456\n",
       "1272  8.96186         -1  -5.66721\n",
       "1011  7.92092         -1  -4.86909\n",
       "444   7.32950         -1  -4.37146\n",
       "187   5.86198         -1  -2.91869\n",
       "628   5.61338         -1  -2.69392\n",
       "1448  5.45136         -1  -2.53781\n",
       "1848  4.96788         -1  -1.97197\n",
       "1834  4.78322         -1  -1.79827\n",
       "756   4.65555         -1  -1.70943\n",
       "64    4.43681         -1  -1.52748\n",
       "629   3.71347         -1  -1.58080\n",
       "755   3.70512         -1  -1.57217\n",
       "1015  3.62845         -1  -1.57090\n",
       "142   3.61504         -1  -1.54876\n",
       "1275  3.60668         -1  -1.53628\n",
       "1728  3.51778         -1  -1.50613\n",
       "611   0.73092         -1  -1.50025\n",
       "724  -0.60590         -1  -1.50011\n",
       "260  -0.63900         -1  -1.56036\n",
       "1828 -0.65267         -1  -1.60506\n",
       "1801 -0.66104         -1  -1.63381\n",
       "47   -0.67482         -1  -1.68449\n",
       "117  -0.71560         -1  -1.79423\n",
       "1899 -0.72714         -1  -1.83844\n",
       "1137 -0.75250         -1  -1.83953\n",
       "94   -0.80441         -1  -1.98571\n",
       "309  -0.91700         -1  -2.19403\n",
       "702  -1.01603         -1  -2.50737\n",
       "44   -1.05106         -1  -2.63483\n",
       "336  -1.25900         -1  -3.48051\n",
       "32   -1.26778         -1  -3.51737"
      ]
     },
     "execution_count": 49,
     "metadata": {},
     "output_type": "execute_result"
    }
   ],
   "source": [
    "valores = data.nu_param_b.values.reshape(data.shape[0], 1)\n",
    "# aplicar o algoritmo LOF\n",
    "anomalies = lof.fit_predict(valores)\n",
    "\n",
    "# obter as pontuações de anomalia para cada ponto\n",
    "scores = lof.negative_outlier_factor_\n",
    "\n",
    "# criar um dataframe para visualizar os dados e as pontuações de anomalia\n",
    "df = pd.DataFrame(valores, columns=['valores'])\n",
    "df['anomalies'] = anomalies\n",
    "df['scores'] = scores\n",
    "\n",
    "# imprimir outliers\n",
    "outliers = df[df['anomalies'] == -1]\n",
    "print(\"Outliers:\")\n",
    "outliers.sort_values('valores', ascending = False)"
   ]
  },
  {
   "cell_type": "code",
   "execution_count": 50,
   "id": "e84fc92a",
   "metadata": {
    "scrolled": true
   },
   "outputs": [],
   "source": [
    "data_2 = data[~data.index.isin(df[df['anomalies'] == -1].index)].reset_index(drop = True)"
   ]
  },
  {
   "cell_type": "code",
   "execution_count": 51,
   "id": "3d52822d",
   "metadata": {
    "scrolled": true
   },
   "outputs": [
    {
     "data": {
      "text/plain": [
       "(1887, 4)"
      ]
     },
     "execution_count": 51,
     "metadata": {},
     "output_type": "execute_result"
    }
   ],
   "source": [
    "data_2.shape"
   ]
  },
  {
   "cell_type": "code",
   "execution_count": 52,
   "id": "113749ed",
   "metadata": {
    "scrolled": true
   },
   "outputs": [
    {
     "data": {
      "text/plain": [
       "array([           1.043,            1.234,            1.260, ...,            1.657,            1.218,            0.309])"
      ]
     },
     "execution_count": 52,
     "metadata": {},
     "output_type": "execute_result"
    }
   ],
   "source": [
    "params_b_sem_outliers = data_2.nu_param_b.values\n",
    "params_b_sem_outliers"
   ]
  },
  {
   "cell_type": "code",
   "execution_count": 53,
   "id": "8be4594f",
   "metadata": {},
   "outputs": [
    {
     "data": {
      "text/plain": [
       "<AxesSubplot:ylabel='Density'>"
      ]
     },
     "execution_count": 53,
     "metadata": {},
     "output_type": "execute_result"
    },
    {
     "data": {
      "image/png": "[encoded data removed]",
      "text/plain": [
       "<Figure size 432x288 with 1 Axes>"
      ]
     },
     "metadata": {
      "needs_background": "light"
     },
     "output_type": "display_data"
    }
   ],
   "source": [
    "# distribuição estatística da coluna do parâmetro b\n",
    "sns.kdeplot(x=params_b_sem_outliers)"
   ]
  },
  {
   "cell_type": "code",
   "execution_count": 64,
   "id": "59e771fe",
   "metadata": {},
   "outputs": [
    {
     "name": "stdout",
     "output_type": "stream",
     "text": [
      "Estatística do teste:  0.9915659427642822\n",
      "Valor p:  5.6119220381845025e-09\n",
      "Distribuição não é normal\n"
     ]
    }
   ],
   "source": [
    "# teste de normalidade de Shapiro-Wilk\n",
    "stat, p = shapiro(params_b_sem_outliers)\n",
    "\n",
    "# resultados do teste\n",
    "print('Estatística do teste: ', stat)\n",
    "print('Valor p: ', p)\n",
    "if p > 0.05:\n",
    "    print('Distribuição é normal')\n",
    "else:\n",
    "    print('Distribuição não é normal')"
   ]
  },
  {
   "cell_type": "code",
   "execution_count": 54,
   "id": "1a5081f8",
   "metadata": {},
   "outputs": [
    {
     "data": {
      "image/png": "[encoded data removed]",
      "text/plain": [
       "<Figure size 432x288 with 1 Axes>"
      ]
     },
     "metadata": {
      "needs_background": "light"
     },
     "output_type": "display_data"
    }
   ],
   "source": [
    "# boxplot dos dados\n",
    "fig, ax = plt.subplots()\n",
    "ax.boxplot(params_b_sem_outliers)\n",
    "\n",
    "# Configurar eixo y\n",
    "ax.set_ylabel('Valores')\n",
    "\n",
    "# Mostrar gráfico\n",
    "plt.show()"
   ]
  },
  {
   "cell_type": "markdown",
   "id": "4bf87f46",
   "metadata": {},
   "source": [
    "- **parâmetro c**"
   ]
  },
  {
   "cell_type": "code",
   "execution_count": 55,
   "id": "8f7f186d",
   "metadata": {
    "scrolled": true
   },
   "outputs": [
    {
     "name": "stdout",
     "output_type": "stream",
     "text": [
      "Outliers:\n"
     ]
    },
    {
     "data": {
      "text/html": [
       "<div>\n",
       "<style scoped>\n",
       "    .dataframe tbody tr th:only-of-type {\n",
       "        vertical-align: middle;\n",
       "    }\n",
       "\n",
       "    .dataframe tbody tr th {\n",
       "        vertical-align: top;\n",
       "    }\n",
       "\n",
       "    .dataframe thead th {\n",
       "        text-align: right;\n",
       "    }\n",
       "</style>\n",
       "<table border=\"1\" class=\"dataframe\">\n",
       "  <thead>\n",
       "    <tr style=\"text-align: right;\">\n",
       "      <th></th>\n",
       "      <th>valores</th>\n",
       "      <th>anomalies</th>\n",
       "      <th>scores</th>\n",
       "    </tr>\n",
       "  </thead>\n",
       "  <tbody>\n",
       "    <tr>\n",
       "      <th>684</th>\n",
       "      <td>0.50000</td>\n",
       "      <td>-1</td>\n",
       "      <td>-4.05685</td>\n",
       "    </tr>\n",
       "    <tr>\n",
       "      <th>1652</th>\n",
       "      <td>0.46479</td>\n",
       "      <td>-1</td>\n",
       "      <td>-3.22506</td>\n",
       "    </tr>\n",
       "    <tr>\n",
       "      <th>621</th>\n",
       "      <td>0.41758</td>\n",
       "      <td>-1</td>\n",
       "      <td>-2.26188</td>\n",
       "    </tr>\n",
       "    <tr>\n",
       "      <th>680</th>\n",
       "      <td>0.41167</td>\n",
       "      <td>-1</td>\n",
       "      <td>-2.16503</td>\n",
       "    </tr>\n",
       "    <tr>\n",
       "      <th>83</th>\n",
       "      <td>0.40145</td>\n",
       "      <td>-1</td>\n",
       "      <td>-1.97488</td>\n",
       "    </tr>\n",
       "    <tr>\n",
       "      <th>698</th>\n",
       "      <td>0.39136</td>\n",
       "      <td>-1</td>\n",
       "      <td>-1.79757</td>\n",
       "    </tr>\n",
       "    <tr>\n",
       "      <th>950</th>\n",
       "      <td>0.38411</td>\n",
       "      <td>-1</td>\n",
       "      <td>-1.66331</td>\n",
       "    </tr>\n",
       "  </tbody>\n",
       "</table>\n",
       "</div>"
      ],
      "text/plain": [
       "      valores  anomalies   scores\n",
       "684   0.50000         -1 -4.05685\n",
       "1652  0.46479         -1 -3.22506\n",
       "621   0.41758         -1 -2.26188\n",
       "680   0.41167         -1 -2.16503\n",
       "83    0.40145         -1 -1.97488\n",
       "698   0.39136         -1 -1.79757\n",
       "950   0.38411         -1 -1.66331"
      ]
     },
     "execution_count": 55,
     "metadata": {},
     "output_type": "execute_result"
    }
   ],
   "source": [
    "valores = data.nu_param_c.values.reshape(data.shape[0], 1)\n",
    "# aplicar o algoritmo LOF\n",
    "anomalies = lof.fit_predict(valores)\n",
    "\n",
    "# obter as pontuações de anomalia para cada ponto\n",
    "scores = lof.negative_outlier_factor_\n",
    "\n",
    "# criar um dataframe para visualizar os dados e as pontuações de anomalia\n",
    "df = pd.DataFrame(valores, columns=['valores'])\n",
    "df['anomalies'] = anomalies\n",
    "df['scores'] = scores\n",
    "\n",
    "# imprimir outliers\n",
    "outliers = df[df['anomalies'] == -1]\n",
    "print(\"Outliers:\")\n",
    "outliers.sort_values('valores', ascending = False)"
   ]
  },
  {
   "cell_type": "code",
   "execution_count": 59,
   "id": "826b5cf8",
   "metadata": {
    "scrolled": true
   },
   "outputs": [],
   "source": [
    "data_3 = data[~data.index.isin(df[df['anomalies'] == -1].index)].reset_index(drop = True)"
   ]
  },
  {
   "cell_type": "code",
   "execution_count": 60,
   "id": "7a2ed14d",
   "metadata": {
    "scrolled": true
   },
   "outputs": [
    {
     "data": {
      "text/plain": [
       "(1915, 4)"
      ]
     },
     "execution_count": 60,
     "metadata": {},
     "output_type": "execute_result"
    }
   ],
   "source": [
    "data_3.shape"
   ]
  },
  {
   "cell_type": "code",
   "execution_count": 61,
   "id": "fbf543de",
   "metadata": {
    "scrolled": true
   },
   "outputs": [
    {
     "data": {
      "text/plain": [
       "array([           0.298,            0.239,            0.190, ...,            0.153,            0.094,            0.079])"
      ]
     },
     "execution_count": 61,
     "metadata": {},
     "output_type": "execute_result"
    }
   ],
   "source": [
    "params_c_sem_outliers = data_3.nu_param_c.values\n",
    "params_c_sem_outliers"
   ]
  },
  {
   "cell_type": "code",
   "execution_count": 62,
   "id": "538b0b17",
   "metadata": {},
   "outputs": [
    {
     "data": {
      "text/plain": [
       "<AxesSubplot:ylabel='Density'>"
      ]
     },
     "execution_count": 62,
     "metadata": {},
     "output_type": "execute_result"
    },
    {
     "data": {
      "image/png": "[encoded data removed]",
      "text/plain": [
       "<Figure size 432x288 with 1 Axes>"
      ]
     },
     "metadata": {
      "needs_background": "light"
     },
     "output_type": "display_data"
    }
   ],
   "source": [
    "# distribuição estatística da coluna do parâmetro b\n",
    "sns.kdeplot(x=params_c_sem_outliers)"
   ]
  },
  {
   "cell_type": "code",
   "execution_count": 65,
   "id": "47e92465",
   "metadata": {},
   "outputs": [
    {
     "name": "stdout",
     "output_type": "stream",
     "text": [
      "Estatística do teste:  0.9942623972892761\n",
      "Valor p:  9.217797014571261e-07\n",
      "Distribuição não é normal\n"
     ]
    }
   ],
   "source": [
    "# teste de normalidade de Shapiro-Wilk\n",
    "stat, p = shapiro(params_c_sem_outliers)\n",
    "\n",
    "# resultados do teste\n",
    "print('Estatística do teste: ', stat)\n",
    "print('Valor p: ', p)\n",
    "if p > 0.05:\n",
    "    print('Distribuição é normal')\n",
    "else:\n",
    "    print('Distribuição não é normal')"
   ]
  },
  {
   "cell_type": "code",
   "execution_count": 63,
   "id": "4c05fade",
   "metadata": {},
   "outputs": [
    {
     "data": {
      "image/png": "[encoded data removed]",
      "text/plain": [
       "<Figure size 432x288 with 1 Axes>"
      ]
     },
     "metadata": {
      "needs_background": "light"
     },
     "output_type": "display_data"
    }
   ],
   "source": [
    "# boxplot dos dados\n",
    "fig, ax = plt.subplots()\n",
    "ax.boxplot(params_c_sem_outliers)\n",
    "\n",
    "# Configurar eixo y\n",
    "ax.set_ylabel('Valores')\n",
    "\n",
    "# Mostrar gráfico\n",
    "plt.show()"
   ]
  },
  {
   "cell_type": "markdown",
   "id": "b89c95cf",
   "metadata": {},
   "source": [
    "- mesmo com a remoção de outliers a distribuições resultantes continuam a não serem distribuições normais"
   ]
  },
  {
   "cell_type": "markdown",
   "id": "7613475e",
   "metadata": {},
   "source": [
    "## correlação\n",
    "\n",
    "- como o teste de Shapiro mostrou que as amostras de parâmetros não possuem distribuição normal escolhe-se os testes de correlação não parâmetricos correlação de Spearman ou Kendall."
   ]
  },
  {
   "cell_type": "markdown",
   "id": "2d7f604a",
   "metadata": {},
   "source": [
    "### entre os parâmetros a e b"
   ]
  },
  {
   "cell_type": "markdown",
   "id": "51fb8228",
   "metadata": {},
   "source": [
    "#### spearman"
   ]
  },
  {
   "cell_type": "code",
   "execution_count": 72,
   "id": "9da55e7a",
   "metadata": {},
   "outputs": [
    {
     "name": "stdout",
     "output_type": "stream",
     "text": [
      "A hipótese nula foi rejeitada. Há correlação entre as variáveis p-value: 0.010504262208904611 correlação: -0.0583535480227736\n"
     ]
    },
    {
     "data": {
      "image/png": "[encoded data removed]",
      "text/plain": [
       "<Figure size 432x288 with 1 Axes>"
      ]
     },
     "metadata": {
      "needs_background": "light"
     },
     "output_type": "display_data"
    }
   ],
   "source": [
    "# linha de regressão linear\n",
    "regressao = np.polyfit(data.nu_param_a, data.nu_param_b, 1)\n",
    "\n",
    "# correlação de Spearman\n",
    "corr, p_value = spearmanr(data.nu_param_a, data.nu_param_b)\n",
    "\n",
    "#se p menor que 0.05 o erro é menor se a hipótese nula for rejeitada\n",
    "if p_value < 0.05:\n",
    "    print(\"A hipótese nula foi rejeitada. Há correlação entre as variáveis\", 'p-value:', p_value, 'correlação:', corr)\n",
    "else:\n",
    "    print(\"A hipótese nula não foi rejeitada. Não há correlação entre as variáveis.\", 'p-value:', p_value, 'correlação:', corr)\n",
    "\n",
    "# plotar a correlação de Spearman\n",
    "plt.scatter(data.nu_param_a, data.nu_param_b)\n",
    "plt.plot(data.nu_param_a, regressao[0]*data.nu_param_a + regressao[1], color='red')\n",
    "plt.title(f'Correlação de Spearman: {corr:.2f} (p-valor={p_value:.2f})')\n",
    "plt.xlabel('parametro a')\n",
    "plt.ylabel('parametro b')\n",
    "plt.show()"
   ]
  },
  {
   "cell_type": "markdown",
   "id": "e1057dbc",
   "metadata": {},
   "source": [
    "#### kendall"
   ]
  },
  {
   "cell_type": "code",
   "execution_count": 86,
   "id": "4d4d4c6f",
   "metadata": {},
   "outputs": [
    {
     "name": "stdout",
     "output_type": "stream",
     "text": [
      "A hipótese nula foi rejeitada. Há correlação entre as variáveis p-value: 0.009514829067909467 correlação: -0.03946655312818224\n"
     ]
    },
    {
     "data": {
      "text/plain": [
       "Text(0, 0.5, 'parametro b')"
      ]
     },
     "execution_count": 86,
     "metadata": {},
     "output_type": "execute_result"
    },
    {
     "data": {
      "image/png": "[encoded data removed]",
      "text/plain": [
       "<Figure size 432x288 with 1 Axes>"
      ]
     },
     "metadata": {
      "needs_background": "light"
     },
     "output_type": "display_data"
    }
   ],
   "source": [
    "# Calculando a correlação de Kendall\n",
    "corr, p_value = kendalltau(data.nu_param_a, data.nu_param_b)\n",
    "\n",
    "#se p menor que 0.05 o erro é menor se a hipótese nula for rejeitada\n",
    "if p_value < 0.05:\n",
    "    print(\"A hipótese nula foi rejeitada. Há correlação entre as variáveis\", 'p-value:', p_value, 'correlação:', corr)\n",
    "else:\n",
    "    print(\"A hipótese nula não foi rejeitada. Não há correlação entre as variáveis.\", 'p-value:', p_value, 'correlação:', corr)\n",
    "\n",
    "# Plotando o gráfico de dispersão e a reta de regressão\n",
    "plt.scatter(data.nu_param_a, data.nu_param_b)\n",
    "plt.plot(np.unique(data.nu_param_a), np.poly1d(np.polyfit(data.nu_param_a, data.nu_param_b, 1))(np.unique(data.nu_param_a)), color='red')\n",
    "plt.title('Correlação de Kendall: ' + str(corr))\n",
    "plt.xlabel('parametro a')\n",
    "plt.ylabel('parametro b')"
   ]
  },
  {
   "cell_type": "markdown",
   "id": "0902880b",
   "metadata": {},
   "source": [
    "- há uma correlação ligeiramente negativa entre os parâmetros a e b, ou seja, entre os parâmetros de discriminação e dificuldade. Isso significa que quando maior a discriminação menor a dificuldade do item, mas como os valores de correlação negativa foram baixos pode ser que essa correlação seja insignificante."
   ]
  },
  {
   "cell_type": "markdown",
   "id": "5cc38abe",
   "metadata": {},
   "source": [
    "### entre os parâmetros a e c"
   ]
  },
  {
   "cell_type": "markdown",
   "id": "5b08897a",
   "metadata": {},
   "source": [
    "#### spearman"
   ]
  },
  {
   "cell_type": "code",
   "execution_count": 75,
   "id": "2c62886c",
   "metadata": {},
   "outputs": [
    {
     "name": "stdout",
     "output_type": "stream",
     "text": [
      "A hipótese nula foi rejeitada. Há correlação entre as variáveis p-value: 0.013246560062470948 correlação: 0.05649335602462241\n"
     ]
    },
    {
     "data": {
      "image/png": "[encoded data removed]",
      "text/plain": [
       "<Figure size 432x288 with 1 Axes>"
      ]
     },
     "metadata": {
      "needs_background": "light"
     },
     "output_type": "display_data"
    }
   ],
   "source": [
    "# Ajustar uma linha de regressão linear\n",
    "regressao = np.polyfit(data.nu_param_a, data.nu_param_c, 1)\n",
    "\n",
    "#realizar a correlação de spearman entre as similaridades\n",
    "# calcular a correlação de Spearman\n",
    "corr, p_value = spearmanr(data.nu_param_a, data.nu_param_c)\n",
    "\n",
    "#se p menor que 0.05 o erro é menor se a hipótese nula for rejeitada\n",
    "if p_value < 0.05:\n",
    "    print(\"A hipótese nula foi rejeitada. Há correlação entre as variáveis\", 'p-value:', p_value, 'correlação:', corr)\n",
    "else:\n",
    "    print(\"A hipótese nula não foi rejeitada. Não há correlação entre as variáveis.\", 'p-value:', p_value, 'correlação:', corr)\n",
    "\n",
    "# plotar a correlação de Spearman\n",
    "plt.scatter(data.nu_param_a, data.nu_param_c)\n",
    "plt.plot(data.nu_param_a, regressao[0]*data.nu_param_a + regressao[1], color='red')\n",
    "plt.title(f'Correlação de Spearman: {corr:.2f} (p-valor={p_value:.2f})')\n",
    "plt.xlabel('parametro a')\n",
    "plt.ylabel('parametro c')\n",
    "plt.show()"
   ]
  },
  {
   "cell_type": "markdown",
   "id": "d24e67fb",
   "metadata": {},
   "source": [
    "#### kendall"
   ]
  },
  {
   "cell_type": "code",
   "execution_count": 90,
   "id": "1042e67d",
   "metadata": {},
   "outputs": [
    {
     "name": "stdout",
     "output_type": "stream",
     "text": [
      "A hipótese nula foi rejeitada. Há correlação entre as variáveis p-value: 0.017753288184460574 correlação: 0.03608530290980029\n"
     ]
    },
    {
     "data": {
      "image/png": "[encoded data removed]",
      "text/plain": [
       "<Figure size 432x288 with 1 Axes>"
      ]
     },
     "metadata": {
      "needs_background": "light"
     },
     "output_type": "display_data"
    }
   ],
   "source": [
    "# calcular a correlação de kendall e o p-valor\n",
    "corr, p_value = kendalltau(data.nu_param_a, data.nu_param_c)\n",
    "\n",
    "#se p menor que 0.05 o erro é menor se a hipótese nula for rejeitada\n",
    "if p_value < 0.05:\n",
    "    print(\"A hipótese nula foi rejeitada. Há correlação entre as variáveis\", 'p-value:', p_value, 'correlação:', corr)\n",
    "else:\n",
    "    print(\"A hipótese nula não foi rejeitada. Não há correlação entre as variáveis.\", 'p-value:', p_value, 'correlação:', corr)\n",
    "\n",
    "# plotar os dados e a reta de correlação\n",
    "plt.scatter(data.nu_param_a, data.nu_param_c)\n",
    "plt.plot(data.nu_param_a, regressao[0]*data.nu_param_a + regressao[1], color='red')\n",
    "plt.xlabel('parametro a')\n",
    "plt.ylabel('parametro c')\n",
    "plt.title(f'Correlação de Kendall: {corr:.2f} (p-valor={p_value:.2f})')\n",
    "plt.show()"
   ]
  },
  {
   "cell_type": "markdown",
   "id": "740210ba",
   "metadata": {},
   "source": [
    "- a correlação entre os parâmetros a e c é ligeiramente positiva. Uma correlação positiva entre o parâmetro de discriminação e o parâmetro de acerto ao acaso indicaria que os itens que são mais discriminativos (ou seja, que diferenciam melhor os respondentes mais habilidosos dos menos habilidosos) também são aqueles que têm uma maior probabilidade de serem acertados ao acaso por respondentes menos habilidosos. É importante destacar que a correlação positiva é baixa 0.06 (spearman) e 0.04 (Kendall)."
   ]
  },
  {
   "cell_type": "markdown",
   "id": "f442a36d",
   "metadata": {},
   "source": [
    "### entre os parâmetros b e c"
   ]
  },
  {
   "cell_type": "markdown",
   "id": "eba2f2e1",
   "metadata": {},
   "source": [
    "#### spearman"
   ]
  },
  {
   "cell_type": "code",
   "execution_count": 78,
   "id": "a6dccad3",
   "metadata": {},
   "outputs": [
    {
     "name": "stdout",
     "output_type": "stream",
     "text": [
      "A hipótese nula não foi rejeitada. Não há correlação entre as variáveis. p-value: 0.6559491211890041 correlação: -0.010168456043067087\n"
     ]
    },
    {
     "data": {
      "image/png": "[encoded data removed]",
      "text/plain": [
       "<Figure size 432x288 with 1 Axes>"
      ]
     },
     "metadata": {
      "needs_background": "light"
     },
     "output_type": "display_data"
    }
   ],
   "source": [
    "# Ajustar uma linha de regressão linear\n",
    "regressao = np.polyfit(data.nu_param_b, data.nu_param_c, 1)\n",
    "\n",
    "#realizar a correlação de spearman entre as similaridades\n",
    "# calcular a correlação de Spearman\n",
    "corr, p_value = spearmanr(data.nu_param_b, data.nu_param_c)\n",
    "\n",
    "#se p menor que 0.05 o erro é menor se a hipótese nula for rejeitada\n",
    "if p_value < 0.05:\n",
    "    print(\"A hipótese nula foi rejeitada. Há correlação entre as variáveis\", 'p-value:', p_value, 'correlação:', corr)\n",
    "else:\n",
    "    print(\"A hipótese nula não foi rejeitada. Não há correlação entre as variáveis.\", 'p-value:', p_value, 'correlação:', corr)\n",
    "\n",
    "# plotar a correlação de Spearman\n",
    "plt.scatter(data.nu_param_b, data.nu_param_c)\n",
    "plt.plot(data.nu_param_b, regressao[0]*data.nu_param_b + regressao[1], color='red')\n",
    "plt.title(f'Correlação de Spearman: {corr:.2f} (p-valor={p_value:.2f})')\n",
    "plt.xlabel('parametro b')\n",
    "plt.ylabel('parametro c')\n",
    "plt.show()"
   ]
  },
  {
   "cell_type": "markdown",
   "id": "bc6d87ca",
   "metadata": {},
   "source": [
    "#### kendall"
   ]
  },
  {
   "cell_type": "code",
   "execution_count": 91,
   "id": "bff28ace",
   "metadata": {},
   "outputs": [
    {
     "name": "stdout",
     "output_type": "stream",
     "text": [
      "A hipótese nula não foi rejeitada. Não há correlação entre as variáveis. p-value: 0.602048127742811 correlação: -0.007937206584670405\n"
     ]
    },
    {
     "data": {
      "image/png": "[encoded data removed]",
      "text/plain": [
       "<Figure size 432x288 with 1 Axes>"
      ]
     },
     "metadata": {
      "needs_background": "light"
     },
     "output_type": "display_data"
    }
   ],
   "source": [
    "#realizar a correlação de spearman entre as similaridades\n",
    "# calcular a correlação de Spearman\n",
    "corr, p_value = kendalltau(data.nu_param_b, data.nu_param_c)\n",
    "\n",
    "#se p menor que 0.05 o erro é menor se a hipótese nula for rejeitada\n",
    "if p_value < 0.05:\n",
    "    print(\"A hipótese nula foi rejeitada. Há correlação entre as variáveis\", 'p-value:', p_value, 'correlação:', corr)\n",
    "else:\n",
    "    print(\"A hipótese nula não foi rejeitada. Não há correlação entre as variáveis.\", 'p-value:', p_value, 'correlação:', corr)\n",
    "\n",
    "# plotar a correlação de Spearman\n",
    "plt.scatter(data.nu_param_b, data.nu_param_c)\n",
    "plt.plot(data.nu_param_b, regressao[0]*data.nu_param_b + regressao[1], color='red')\n",
    "plt.title(f'Correlação de Kendall: {corr:.2f} (p-valor={p_value:.2f})')\n",
    "plt.xlabel('parametro b')\n",
    "plt.ylabel('parametro c')\n",
    "plt.show()"
   ]
  },
  {
   "cell_type": "markdown",
   "id": "a20fbf75",
   "metadata": {},
   "source": [
    "- não há correlação entre os parâmetros de dificuldade e de acerto ao acaso, ou seja, independente de o item ser difícil ou fácil isso não influencia o acerto ao acaso."
   ]
  },
  {
   "cell_type": "markdown",
   "id": "54de625d",
   "metadata": {},
   "source": [
    "- considerando os valores baixos de correlação de spearman e kendall, pode-se afirmar que para a amostra dos 1922 itens os parâmetros não se correlacionam entre si. Isso indica que não há relação monotônica dos parêmetros entre si e que, em geral, mudanças em um parâmetro não são acompanhadas de mudanças consistentes em outro parâmetro. Se houvesse uma correlação muito forte entre as amostras de parâmetros bastaria treinar um modelo para um dos parâmetros, mas como não há essa correlação então o mais adequado é treinar um modelo para cada parâmetro."
   ]
  },
  {
   "cell_type": "code",
   "execution_count": null,
   "id": "f7dbd136",
   "metadata": {},
   "outputs": [],
   "source": []
  }
 ],
 "metadata": {
  "kernelspec": {
   "display_name": "Python 3 (ipykernel)",
   "language": "python",
   "name": "python3"
  },
  "language_info": {
   "codemirror_mode": {
    "name": "ipython",
    "version": 3
   },
   "file_extension": ".py",
   "mimetype": "text/x-python",
   "name": "python",
   "nbconvert_exporter": "python",
   "pygments_lexer": "ipython3",
   "version": "3.10.9"
  }
 },
 "nbformat": 4,
 "nbformat_minor": 5
}
