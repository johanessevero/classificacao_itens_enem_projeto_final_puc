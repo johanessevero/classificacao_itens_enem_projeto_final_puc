{
 "cells": [
  {
   "cell_type": "code",
   "execution_count": null,
   "id": "e510ce36",
   "metadata": {},
   "outputs": [],
   "source": [
    "#data\n",
    "import pandas as pd\n",
    "import numpy as np\n",
    "\n",
    "#text\n",
    "from bs4 import BeautifulSoup\n",
    "import re\n",
    "\n",
    "#requests\n",
    "import requests\n",
    "\n",
    "#aux\n",
    "import PyPDF2\n",
    "import os"
   ]
  },
  {
   "cell_type": "markdown",
   "id": "e1f1af83",
   "metadata": {},
   "source": [
    "### extrair dados de questão de prova"
   ]
  },
  {
   "cell_type": "markdown",
   "id": "2101fb8e",
   "metadata": {},
   "source": [
    "- os seguintes dados serão os atributos do csv com as questões de prova\n",
    "    - ano;\n",
    "    - cor da prova;\n",
    "    - digital ou papel;\n",
    "    - área da questão;\n",
    "    - numero da questão;\n",
    "    - texto completo;\n",
    "    - texto base com comandos e referências (quando possível);\n",
    "    - texto da alternativa A da questão (quando possível);\n",
    "    - texto da alternativa B da questão (quando possível);\n",
    "    - texto da alternativa C da questão (quando possível);\n",
    "    - texto da alternativa D da questão (quando possível);\n",
    "    - texto da alternativa E da questão (quando possível);"
   ]
  },
  {
   "cell_type": "markdown",
   "id": "8690d3ee",
   "metadata": {},
   "source": [
    "### ENEM 2009"
   ]
  },
  {
   "cell_type": "code",
   "execution_count": null,
   "id": "61fc8b1c",
   "metadata": {},
   "outputs": [],
   "source": [
    "#aplicado a 2009\n",
    "def extrai_questoes_1(dir_, ano, pdf, cor, meio_aplicacao, area, num_primeira_questao, num_ultima_questao):\n",
    "    dados = []\n",
    "    #arquivo pdf\n",
    "    file_path = os.path.join(dir_, str(ano), pdf)\n",
    "    # Abre o arquivo PDF\n",
    "    pdf_file = open(file_path, \"rb\")\n",
    "\n",
    "    # Cria um objeto PDFReader\n",
    "    pdf_reader = PyPDF2.PdfReader(pdf_file)\n",
    "\n",
    "    txt_pdf = ''\n",
    "    # Loop através de cada página do PDF\n",
    "    for page in range(len(pdf_reader.pages)):\n",
    "        # Obtém o objeto da página atual\n",
    "        page_obj = pdf_reader.pages[page]\n",
    "\n",
    "        # Extrai o texto da página atual\n",
    "        page_text = page_obj.extract_text()\n",
    "\n",
    "        # Escreve o texto extraído em um arquivo TXT\n",
    "        with open(file_path + '.txt', \"a\",  encoding=\"utf-8\") as text_file:\n",
    "            text_file.write(page_text)\n",
    "            txt_pdf += page_text + ' '\n",
    "\n",
    "    #txt_pdf = txt_pdf.replace('\\n', '')\n",
    "    # Fecha o arquivo PDF\n",
    "    pdf_file.close()\n",
    "\n",
    "    file_path = os.path.join(dir_, str(ano), pdf+'.txt')\n",
    "\n",
    "    txt_pdf  = re.sub(r\"CH – 1º dia(.*?)ENEM 2009\", '', txt_pdf, re.DOTALL)\n",
    "    txt_pdf  = re.sub(r\"CN – 1º dia(.*?)ENEM 2009\", '', txt_pdf, re.DOTALL)\n",
    "    txt_pdf  = re.sub(r\"LC – 1º dia(.*?)ENEM 2009\", '', txt_pdf, re.DOTALL)\n",
    "    txt_pdf  = re.sub(r\"MT – 1º dia(.*?)ENEM 2009\", '', txt_pdf, re.DOTALL)\n",
    "    txt_pdf  = re.sub(r\"CH – 2º dia(.*?)ENEM 2009\", '', txt_pdf, re.DOTALL)\n",
    "    txt_pdf  = re.sub(r\"CN – 2º dia(.*?)ENEM 2009\", '', txt_pdf, re.DOTALL)\n",
    "    txt_pdf  = re.sub(r\"LC – 2º dia(.*?)ENEM 2009\", '', txt_pdf, re.DOTALL)\n",
    "    txt_pdf  = re.sub(r\"MT – 2º dia(.*?)ENEM 2009\", '', txt_pdf, re.DOTALL)\n",
    "    txt_pdf  = re.sub(r\"RED – 2º dia(.*?)ENEM 2009\", '', txt_pdf, re.DOTALL)\n",
    "    txt_pdf  = re.sub(r\"RED – 1º dia(.*?)ENEM 2009\", '', txt_pdf, re.DOTALL)\n",
    "    txt_pdf  = re.sub(r\"Transcreva(.*?)Folha de Redação\", '', txt_pdf,  re.DOTALL)\n",
    "    txt_pdf  = txt_pdf.replace(\"1  \\n2  \\n3  \\n4  \\n5  \\n6  \\n7  \\n8  \\n9  \\n10  \\n11  \\n12  \\n13  \\n14  \\n15  \\n16  \\n17  \\n18  \\n19  \\n20  \\n21  \\n22  \\n23  \\n24  \\n25  \\n26  \\n27  \\n28  \\n29  \\n30  \\n\", '')\n",
    "    txt_pdf  = txt_pdf.replace(\"Transcreva a sua Redação para a Folha de Redação\", '')\n",
    "    txt_pdf = txt_pdf.replace('Rascunho', '')\n",
    "    letras = ['\\nA ', '\\nB ',  '\\nC ','\\nD ', '\\nE ']\n",
    "    globals()['alternativa0'] = ''\n",
    "    globals()['alternativa1'] = ''\n",
    "    globals()['alternativa2'] = ''\n",
    "    globals()['alternativa3'] = ''\n",
    "    globals()['alternativa4'] = ''\n",
    "    for i in range(num_primeira_questao, num_ultima_questao+1):\n",
    "        print(i)\n",
    "        if i < num_ultima_questao:\n",
    "            pattern = re.compile(r\"Questão \"+str(i)+\"(.*?)Questão \"+str(i+1), re.DOTALL)\n",
    "            questao = pattern.findall(txt_pdf)\n",
    "            if (len(questao) > 0):\n",
    "                questao = questao[0].strip()\n",
    "            else:\n",
    "                questao = ''\n",
    "            pattern = re.compile(r\"(.*)\"+letras[0], re.DOTALL)\n",
    "            texto_base = pattern.findall(questao)\n",
    "            if (len(texto_base) > 0):\n",
    "                texto_base = texto_base[0].replace('\\n',' ')\n",
    "                texto_base = re.sub(r'\\s+', ' ', texto_base, flags=re.DOTALL)\n",
    "                print(texto_base)\n",
    "            else:\n",
    "                texto_base = ''\n",
    "            for j in range(len(letras)):\n",
    "                if j < 4:\n",
    "                    pattern = re.compile(r''+letras[j]+\"(.*?)\"+letras[j+1], re.DOTALL)\n",
    "                    alternativa = pattern.findall(questao)\n",
    "                    if (len(alternativa) > 0):\n",
    "                        alternativa = alternativa[0].replace('\\n','').strip()\n",
    "                        print(j, alternativa)\n",
    "                        globals()['alternativa'+str(j)] = alternativa\n",
    "                    else:\n",
    "                        globals()['alternativa'+str(j)] = ''\n",
    "                else:\n",
    "                    pattern = re.compile(r''+letras[j]+\"(.*)\", re.DOTALL)\n",
    "                    alternativa = pattern.findall(questao)\n",
    "                    if (len(alternativa) > 0):\n",
    "                        alternativa = alternativa[0].replace('\\n','').strip()\n",
    "                        print(j, alternativa)\n",
    "                        globals()['alternativa'+str(j)] = alternativa\n",
    "                    else:\n",
    "                        globals()['alternativa'+str(j)] = ''\n",
    "            questao = questao.replace('\\n', '')\n",
    "            print(questao)\n",
    "        else:\n",
    "            pattern = re.compile(r\"Questão \"+str(i)+\"(.*)\", re.DOTALL)\n",
    "            questao = pattern.findall(txt_pdf)\n",
    "            questao = questao[0].strip()\n",
    "            pattern = re.compile(r\"(.*)\"+letras[0], re.DOTALL)\n",
    "            texto_base = pattern.findall(questao)\n",
    "            if (len(texto_base) > 0):\n",
    "                texto_base = texto_base[0].replace('\\n',' ')\n",
    "                texto_base = re.sub(r'\\s+', ' ', texto_base, flags=re.DOTALL)\n",
    "            else:\n",
    "                texto_base = ''\n",
    "            for j in range(len(letras)):\n",
    "                if j < 4:\n",
    "                    pattern = re.compile(r''+letras[j]+\"(.*?)\"+letras[j+1], re.DOTALL)\n",
    "                    alternativa = pattern.findall(questao)\n",
    "                    if (len(alternativa) > 0):\n",
    "                        alternativa = alternativa[0].replace('\\n','').strip()\n",
    "                        print(j, alternativa)\n",
    "                        globals()['alternativa'+str(j)] = alternativa\n",
    "                    else:\n",
    "                        globals()['alternativa'+str(j)] = ''\n",
    "                else:\n",
    "                    pattern = re.compile(r''+letras[j]+\"(.*)\", re.DOTALL)\n",
    "                    alternativa = pattern.findall(questao)\n",
    "                    if (len(alternativa) > 0):\n",
    "                        alternativa = alternativa[0].replace('\\n','').strip()\n",
    "                        print(j, alternativa)\n",
    "                        globals()['alternativa'+str(j)] = alternativa\n",
    "                    else:\n",
    "                        globals()['alternativa'+str(j)] = ''\n",
    "            questao = questao.replace('\\n', ' ')\n",
    "            questao = re.sub(r'\\s+', ' ', questao, flags=re.DOTALL)\n",
    "            print(questao)\n",
    "        dados.append([ano, cor, meio_aplicacao, i, area, questao, texto_base, globals()['alternativa0'], globals()['alternativa1'], globals()['alternativa2'], globals()['alternativa3'], globals()['alternativa4']])\n",
    "    \n",
    "    #print(dados)\n",
    "    df_dados = pd.DataFrame(dados)\n",
    "    df_dados = df_dados.rename(columns={0: 'ano', 1: 'cor', 2: 'meio_aplicacao', 3: 'num_questao', 4: 'area', 5: 'texto_questao', 6: 'texto_base', 7: 'alternativa_A', 8: 'alternativa_B', 9: 'alternativa_C', 10: 'alternativa_D', 11: 'alternativa_E'})\n",
    "    df_dados = df_dados.sort_values(by='num_questao', ascending = True).reset_index(drop = True)\n",
    "    df_dados.to_csv(file_path + '.csv', sep = ';', index = False)\n",
    "    \n",
    "    return file_path, df_dados"
   ]
  },
  {
   "cell_type": "code",
   "execution_count": null,
   "id": "398efaca",
   "metadata": {},
   "outputs": [],
   "source": [
    "file_path, df_dados_ENEM_2009_PROVA_DIA_1_AMARELO_2 = extrai_questoes_1('_itens', 2009, 'ENEM_2009_PROVA_DIA_1_AMARELO_2.pdf', 'AMARELO', 'PAPEL', 'CN', 1, 90)"
   ]
  },
  {
   "cell_type": "code",
   "execution_count": null,
   "id": "24a164a8",
   "metadata": {},
   "outputs": [],
   "source": [
    "df_dados_ENEM_2009_PROVA_DIA_1_AMARELO_2.head(2)"
   ]
  },
  {
   "cell_type": "code",
   "execution_count": null,
   "id": "062cdf87",
   "metadata": {},
   "outputs": [],
   "source": [
    "df_dados_ENEM_2009_PROVA_DIA_1_AMARELO_2.loc[df_dados_ENEM_2009_PROVA_DIA_1_AMARELO_2['num_questao'] > 45, 'area'] = 'CH'\n",
    "print(df_dados_ENEM_2009_PROVA_DIA_1_AMARELO_2.area.unique())\n",
    "df_dados_ENEM_2009_PROVA_DIA_1_AMARELO_2.to_csv(file_path + '.csv', sep = ';', index = False)"
   ]
  },
  {
   "cell_type": "code",
   "execution_count": null,
   "id": "b2551dd3",
   "metadata": {},
   "outputs": [],
   "source": [
    "file_path, df_ENEM_2009_PROVA_DIA_1_AZUL_1 = extrai_questoes_1('_itens', 2009, 'ENEM_2009_PROVA_DIA_1_AZUL_1.pdf', 'AZUL', 'PAPEL', 'CN', 1, 90)"
   ]
  },
  {
   "cell_type": "code",
   "execution_count": null,
   "id": "44fbd8b0",
   "metadata": {},
   "outputs": [],
   "source": [
    "df_ENEM_2009_PROVA_DIA_1_AZUL_1.head(2)"
   ]
  },
  {
   "cell_type": "code",
   "execution_count": null,
   "id": "db744ef9",
   "metadata": {},
   "outputs": [],
   "source": [
    "df_ENEM_2009_PROVA_DIA_1_AZUL_1.loc[df_ENEM_2009_PROVA_DIA_1_AZUL_1['num_questao'] > 45, 'area'] = 'CH'\n",
    "print(df_ENEM_2009_PROVA_DIA_1_AZUL_1.area.unique())\n",
    "df_ENEM_2009_PROVA_DIA_1_AZUL_1.to_csv(file_path + '.csv', sep = ';', index = False)"
   ]
  },
  {
   "cell_type": "code",
   "execution_count": null,
   "id": "e1d07d92",
   "metadata": {},
   "outputs": [],
   "source": [
    "file_path, df_ENEM_2009_PROVA_DIA_1_BRANCO_3 = extrai_questoes_1('_itens', 2009, 'ENEM_2009_PROVA_DIA_1_BRANCO_3.pdf', 'BRANCO', 'PAPEL', 'CN', 1, 90)"
   ]
  },
  {
   "cell_type": "code",
   "execution_count": null,
   "id": "fcaea6f2",
   "metadata": {},
   "outputs": [],
   "source": [
    "df_ENEM_2009_PROVA_DIA_1_BRANCO_3.head(2)"
   ]
  },
  {
   "cell_type": "code",
   "execution_count": null,
   "id": "827cc22b",
   "metadata": {},
   "outputs": [],
   "source": [
    "df_ENEM_2009_PROVA_DIA_1_BRANCO_3.loc[df_ENEM_2009_PROVA_DIA_1_BRANCO_3['num_questao'] > 45, 'area'] = 'CH'\n",
    "print(df_ENEM_2009_PROVA_DIA_1_BRANCO_3.area.unique())\n",
    "df_ENEM_2009_PROVA_DIA_1_BRANCO_3.to_csv(file_path + '.csv', sep = ';', index = False)"
   ]
  },
  {
   "cell_type": "code",
   "execution_count": null,
   "id": "a815d926",
   "metadata": {},
   "outputs": [],
   "source": [
    "file_path, df_ENEM_2009_PROVA_DIA_1_ROSA_4 = extrai_questoes_1('_itens', 2009, 'ENEM_2009_PROVA_DIA_1_ROSA_4.pdf', 'ROSA', 'PAPEL', 'CN', 1, 90)"
   ]
  },
  {
   "cell_type": "code",
   "execution_count": null,
   "id": "779fe974",
   "metadata": {},
   "outputs": [],
   "source": [
    "df_ENEM_2009_PROVA_DIA_1_ROSA_4.head(2)"
   ]
  },
  {
   "cell_type": "code",
   "execution_count": null,
   "id": "b02de43a",
   "metadata": {},
   "outputs": [],
   "source": [
    "df_ENEM_2009_PROVA_DIA_1_ROSA_4.loc[df_ENEM_2009_PROVA_DIA_1_ROSA_4['num_questao'] > 45, 'area'] = 'CH'\n",
    "print(df_ENEM_2009_PROVA_DIA_1_ROSA_4.area.unique())\n",
    "df_ENEM_2009_PROVA_DIA_1_ROSA_4.to_csv(file_path + '.csv', sep = ';', index = False)"
   ]
  },
  {
   "cell_type": "code",
   "execution_count": null,
   "id": "d69dc435",
   "metadata": {},
   "outputs": [],
   "source": [
    "file_path, df_ENEM_2009_PROVA_DIA_2_AMARELO_5 = extrai_questoes_1('_itens', 2009, 'ENEM_2009_PROVA_DIA_2_AMARELO_5.pdf', 'AMARELO', 'PAPEL', 'LC', 91, 180)"
   ]
  },
  {
   "cell_type": "code",
   "execution_count": null,
   "id": "19905520",
   "metadata": {},
   "outputs": [],
   "source": [
    "df_ENEM_2009_PROVA_DIA_2_AMARELO_5.head(2)"
   ]
  },
  {
   "cell_type": "code",
   "execution_count": null,
   "id": "fac8205a",
   "metadata": {},
   "outputs": [],
   "source": [
    "df_ENEM_2009_PROVA_DIA_2_AMARELO_5.loc[df_ENEM_2009_PROVA_DIA_2_AMARELO_5['num_questao'] > 136, 'area'] = 'MT'\n",
    "print(df_ENEM_2009_PROVA_DIA_2_AMARELO_5.area.unique())\n",
    "df_ENEM_2009_PROVA_DIA_2_AMARELO_5.to_csv(file_path + '.csv', sep = ';', index = False)"
   ]
  },
  {
   "cell_type": "code",
   "execution_count": null,
   "id": "d987f18a",
   "metadata": {},
   "outputs": [],
   "source": [
    "file_path, df_ENEM_2009_PROVA_DIA_2_AZUL_7 = extrai_questoes_1('_itens', 2009, 'ENEM_2009_PROVA_DIA_2_AZUL_7.pdf', 'AZUL', 'PAPEL', 'LC', 91, 180)"
   ]
  },
  {
   "cell_type": "code",
   "execution_count": null,
   "id": "307547df",
   "metadata": {},
   "outputs": [],
   "source": [
    "df_ENEM_2009_PROVA_DIA_2_AZUL_7.head(2)"
   ]
  },
  {
   "cell_type": "code",
   "execution_count": null,
   "id": "b0320382",
   "metadata": {},
   "outputs": [],
   "source": [
    "df_ENEM_2009_PROVA_DIA_2_AZUL_7.loc[df_ENEM_2009_PROVA_DIA_2_AZUL_7['num_questao'] > 136, 'area'] = 'MT'\n",
    "print(df_ENEM_2009_PROVA_DIA_2_AZUL_7.area.unique())\n",
    "df_ENEM_2009_PROVA_DIA_2_AZUL_7.to_csv(file_path + '.csv', sep = ';', index = False)"
   ]
  },
  {
   "cell_type": "code",
   "execution_count": null,
   "id": "5811d769",
   "metadata": {},
   "outputs": [],
   "source": [
    "file_path, df_ENEM_2009_PROVA_DIA_2_CINZA_6 = extrai_questoes_1('_itens', 2009, 'ENEM_2009_PROVA_DIA_2_CINZA_6.pdf', 'CINZA', 'PAPEL', 'LC', 91, 180)"
   ]
  },
  {
   "cell_type": "code",
   "execution_count": null,
   "id": "f3bc8cb1",
   "metadata": {},
   "outputs": [],
   "source": [
    "df_ENEM_2009_PROVA_DIA_2_CINZA_6.head(2)"
   ]
  },
  {
   "cell_type": "code",
   "execution_count": null,
   "id": "28c39e7c",
   "metadata": {},
   "outputs": [],
   "source": [
    "df_ENEM_2009_PROVA_DIA_2_CINZA_6.loc[df_ENEM_2009_PROVA_DIA_2_CINZA_6['num_questao'] > 136, 'area'] = 'MT'\n",
    "print(df_ENEM_2009_PROVA_DIA_2_CINZA_6.area.unique())\n",
    "df_ENEM_2009_PROVA_DIA_2_CINZA_6.to_csv(file_path + '.csv', sep = ';', index = False)"
   ]
  },
  {
   "cell_type": "code",
   "execution_count": null,
   "id": "4f5137b8",
   "metadata": {},
   "outputs": [],
   "source": [
    "file_path, df_ENEM_2009_PROVA_DIA_2_ROSA_8 = extrai_questoes_1('_itens', 2009, 'ENEM_2009_PROVA_DIA_2_ROSA_8.pdf', 'ROSA', 'PAPEL', 'LC', 91, 180)"
   ]
  },
  {
   "cell_type": "code",
   "execution_count": null,
   "id": "ff343483",
   "metadata": {},
   "outputs": [],
   "source": [
    "df_ENEM_2009_PROVA_DIA_2_ROSA_8.head(2)"
   ]
  },
  {
   "cell_type": "code",
   "execution_count": null,
   "id": "eab55b70",
   "metadata": {},
   "outputs": [],
   "source": [
    "df_ENEM_2009_PROVA_DIA_2_ROSA_8.loc[df_ENEM_2009_PROVA_DIA_2_ROSA_8['num_questao'] > 136, 'area'] = 'MT'\n",
    "print(df_ENEM_2009_PROVA_DIA_2_ROSA_8.area.unique())\n",
    "df_ENEM_2009_PROVA_DIA_2_ROSA_8.to_csv(file_path + '.csv', sep = ';', index = False)"
   ]
  },
  {
   "cell_type": "code",
   "execution_count": null,
   "id": "a6ae7c31",
   "metadata": {},
   "outputs": [],
   "source": [
    "# Concatenação dos dataframes de 2009\n",
    "df_prova_2009 = pd.concat([df_dados_ENEM_2009_PROVA_DIA_1_AMARELO_2, \n",
    "                           df_ENEM_2009_PROVA_DIA_1_AZUL_1, \n",
    "                           df_ENEM_2009_PROVA_DIA_1_BRANCO_3, \n",
    "                           df_ENEM_2009_PROVA_DIA_1_ROSA_4, \n",
    "                           df_ENEM_2009_PROVA_DIA_2_AMARELO_5,\n",
    "                           df_ENEM_2009_PROVA_DIA_2_AZUL_7,\n",
    "                           df_ENEM_2009_PROVA_DIA_2_CINZA_6,\n",
    "                           df_ENEM_2009_PROVA_DIA_2_ROSA_8], ignore_index=True, axis = 0)\n",
    "\n",
    "# Resultado\n",
    "df_prova_2009.shape"
   ]
  },
  {
   "cell_type": "code",
   "execution_count": null,
   "id": "fc0626fd",
   "metadata": {},
   "outputs": [],
   "source": [
    "#geração da base de textos de 2009\n",
    "file = os.path.join('_itens', str(2009), '2009_ENEM_itens')\n",
    "df_prova_2009.to_csv(file + '.csv', sep = ';', index = False)"
   ]
  },
  {
   "cell_type": "code",
   "execution_count": null,
   "id": "2a0765f5",
   "metadata": {},
   "outputs": [],
   "source": [
    "df_prova_2009.head(60)"
   ]
  },
  {
   "cell_type": "code",
   "execution_count": null,
   "id": "7ddf1b8f",
   "metadata": {},
   "outputs": [],
   "source": [
    "file = os.path.join('_itens', str(2009), 'ITENS_PROVA_2009')\n",
    "df_itens_2009 = pd.read_csv(file + '.csv', sep = ';', encoding = 'ISO-8859-1')\n",
    "df_itens_2009.head()"
   ]
  },
  {
   "cell_type": "code",
   "execution_count": null,
   "id": "2d8fb888",
   "metadata": {},
   "outputs": [],
   "source": [
    "df_itens_2009.loc[df_itens_2009['SG_AREA'] == 'CH', 'SG_AREA'] = 'CN_'\n",
    "df_itens_2009.loc[df_itens_2009['SG_AREA'] == 'CN', 'SG_AREA'] = 'CH' \n",
    "df_itens_2009.loc[df_itens_2009['SG_AREA'] == 'CN_', 'SG_AREA'] = 'CN'"
   ]
  },
  {
   "cell_type": "code",
   "execution_count": null,
   "id": "e6afefbe",
   "metadata": {},
   "outputs": [],
   "source": [
    "df_itens_2009['id'] = df_itens_2009['CO_POSICAO'].apply(str) + '_' + df_itens_2009['SG_AREA'].apply(str) + '_' + df_itens_2009['TX_COR'].apply(str)"
   ]
  },
  {
   "cell_type": "code",
   "execution_count": null,
   "id": "ec8f703b",
   "metadata": {},
   "outputs": [],
   "source": [
    "df_prova_2009['id'] = df_prova_2009['num_questao'].apply(str) + '_' + df_prova_2009['area'].apply(str) + '_' + df_prova_2009['cor'].apply(str)"
   ]
  },
  {
   "cell_type": "code",
   "execution_count": null,
   "id": "40e77ffe",
   "metadata": {},
   "outputs": [],
   "source": [
    "df_2009_merge = pd.merge(df_itens_2009, df_prova_2009, on='id', how='left')"
   ]
  },
  {
   "cell_type": "code",
   "execution_count": null,
   "id": "df94eb40",
   "metadata": {},
   "outputs": [],
   "source": [
    "df_2009_merge.head(5)"
   ]
  },
  {
   "cell_type": "code",
   "execution_count": null,
   "id": "14b65789",
   "metadata": {},
   "outputs": [],
   "source": [
    "for col in df_2009_merge.columns:\n",
    "    df_2009_merge = df_2009_merge.rename(columns = {col:col.lower()})"
   ]
  },
  {
   "cell_type": "code",
   "execution_count": null,
   "id": "224050a2",
   "metadata": {},
   "outputs": [],
   "source": [
    "file = os.path.join('_itens', str(2009), '2009_ENEM_COMPLETA')\n",
    "df_2009_merge.to_csv(file + '.csv', sep = ';', index = False)"
   ]
  },
  {
   "cell_type": "markdown",
   "id": "35e3e2ca",
   "metadata": {},
   "source": [
    "### ENEM 2010"
   ]
  },
  {
   "cell_type": "code",
   "execution_count": null,
   "id": "63dc42be",
   "metadata": {},
   "outputs": [],
   "source": [
    "#aplicado a 2010\n",
    "def extrai_questoes_2(dir_, ano, pdf, cor, meio_aplicacao, area, num_primeira_questao, num_ultima_questao):\n",
    "    dados = []\n",
    "    #arquivo pdf\n",
    "    file_path = os.path.join(dir_, str(ano), pdf)\n",
    "    # Abre o arquivo PDF\n",
    "    pdf_file = open(file_path, \"rb\")\n",
    "\n",
    "    # Cria um objeto PDFReader\n",
    "    pdf_reader = PyPDF2.PdfReader(pdf_file)\n",
    "\n",
    "    txt_pdf = ''\n",
    "    # Loop através de cada página do PDF\n",
    "    for page in range(len(pdf_reader.pages)):\n",
    "        # Obtém o objeto da página atual\n",
    "        page_obj = pdf_reader.pages[page]\n",
    "\n",
    "        # Extrai o texto da página atual\n",
    "        page_text = page_obj.extract_text()\n",
    "\n",
    "        # Escreve o texto extraído em um arquivo TXT\n",
    "        with open(file_path + '.txt', \"a\",  encoding=\"utf-8\") as text_file:\n",
    "            text_file.write(page_text)\n",
    "            txt_pdf += page_text + ' '\n",
    "\n",
    "    # Fecha o arquivo PDF\n",
    "    pdf_file.close()\n",
    "\n",
    "    file_path = os.path.join(dir_, str(ano), pdf+'.txt')\n",
    "    #print(txt_pdf)\n",
    "    txt_pdf  = re.sub(r'/g\\d+/', '', txt_pdf)\n",
    "    txt_pdf  = re.sub(r'g/', '', txt_pdf)\n",
    "    txt_pdf  = re.sub(r'/g/', '', txt_pdf)\n",
    "    txt_pdf  = re.sub(r'g\\d+', '', txt_pdf)\n",
    "    txt_pdf = re.sub('  ', '', txt_pdf)\n",
    "    txt_pdf = re.sub(\" +\", \" \", txt_pdf)\n",
    "    txt_pdf = re.sub(r'\\{2,}', \"\", txt_pdf)\n",
    "    txt_pdf = txt_pdf.replace('   ', '')\n",
    "    txt_pdf = txt_pdf.replace('      ', '')\n",
    "    txt_pdf = re.sub(r'\\/\\d+', \"\", txt_pdf)\n",
    "    txt_pdf = re.sub(r'#\\d+', \"\", txt_pdf)\n",
    "    txt_pdf = txt_pdf.replace('#2/', '')\n",
    "    txt_pdf = txt_pdf.replace('/', '')\n",
    "    txt_pdf = re.sub(r'\\*azul75sab\\d+\\*', '', txt_pdf)\n",
    "    txt_pdf = re.sub(r'\\*azul25dom\\d+\\*', '', txt_pdf)\n",
    "    txt_pdf = txt_pdf.replace('2ª APLICAÇÃO', '')\n",
    "    txt_pdf = txt_pdf.replace('CIÊNCIAS HUMANAS E SUAS TECNOLOGIAS', '')\n",
    "    txt_pdf = txt_pdf.replace('Questões de 1 a 45', '')\n",
    "    txt_pdf = txt_pdf.replace('CIÊNCIAS DA NATUREZA E SUAS TECNOLOGIAS', '')\n",
    "    txt_pdf = txt_pdf.replace('Questões de 46 a 90', '')\n",
    "    txt_pdf = txt_pdf.replace('LINGUAGENS E CÓDIGOS E SUAS TECNOLOGIAS', '')\n",
    "    txt_pdf = txt_pdf.replace('Questões de 91 a 135', '')\n",
    "    txt_pdf = txt_pdf.replace('MATEMÁTICA E SUAS TECNOLOGIAS', '')\n",
    "    txt_pdf = txt_pdf.replace('Questões de 136 a 180', '')\n",
    "    txt_pdf = txt_pdf.replace('RASCUNHO DA REDAÇÃO', '')\n",
    "    txt_pdf = txt_pdf.replace('Transcreva a sua Redação para a Folha de Redação.', '')\n",
    "    txt_pdf = txt_pdf.replace('LC - 2º dia|Caderno 7 - AZUL- Página 31', '')\n",
    "    txt_pdf  = re.sub(\"2010\\nCH - 1º dia\\|Caderno 1 - AZUL - Página \\d+\", '', txt_pdf)\n",
    "    txt_pdf  = re.sub(r\"2010\\nCN - 1º dia\\|Caderno 1 - AZUL - Página \\d+\", '', txt_pdf)\n",
    "    txt_pdf  = re.sub(\"2010\\nLC - 2º dia\\|Caderno 7 - AZUL- Página \\d+\", '', txt_pdf)\n",
    "    txt_pdf  = re.sub(r\"2010\\nMT - 2º dia\\|Caderno 7 - AZUL- Página \\d+\", '', txt_pdf)\n",
    "    txt_pdf = txt_pdf.replace('Rascunho', '')\n",
    "    letras = ['\\nA ', '\\nB ',  '\\nC ','\\nD ', '\\nE ']\n",
    "    globals()['alternativa0'] = ''\n",
    "    globals()['alternativa1'] = ''\n",
    "    globals()['alternativa2'] = ''\n",
    "    globals()['alternativa3'] = ''\n",
    "    globals()['alternativa4'] = ''\n",
    "    for i in range(num_primeira_questao, num_ultima_questao+1):\n",
    "        print(i)\n",
    "        if i < num_ultima_questao:\n",
    "            pattern = re.compile(r\"Questão \"+str(i)+\"(.*?)Questão \"+str(i+1), re.DOTALL)\n",
    "            questao = pattern.findall(txt_pdf)\n",
    "            if (len(questao) > 0):\n",
    "                questao = questao[0].strip()\n",
    "                questao = re.sub(r'\\*azul75sab\\d+\\*', '', questao)\n",
    "                \n",
    "            else:\n",
    "                questao = ''\n",
    "            pattern = re.compile(r\"(.*)\"+letras[0], re.DOTALL)\n",
    "            texto_base = pattern.findall(questao)\n",
    "            if (len(texto_base) > 0):\n",
    "                texto_base = texto_base[0].replace('\\n',' ')\n",
    "                texto_base = re.sub(r'\\s+', ' ', texto_base, flags=re.DOTALL)\n",
    "                print(texto_base)\n",
    "            else:\n",
    "                texto_base = ''\n",
    "            for j in range(len(letras)):\n",
    "                if j < 4:\n",
    "                    pattern = re.compile(r''+letras[j]+\"(.*?)\"+letras[j+1], re.DOTALL)\n",
    "                    alternativa = pattern.findall(questao)\n",
    "                    if (len(alternativa) > 0):\n",
    "                        alternativa = alternativa[0].replace('\\n','')\n",
    "                        print(j, alternativa)\n",
    "                        globals()['alternativa'+str(j)] = alternativa\n",
    "                    else:\n",
    "                        globals()['alternativa'+str(j)] = ''\n",
    "                else:\n",
    "                    pattern = re.compile(r''+letras[j]+\"(.*)\", re.DOTALL)\n",
    "                    alternativa = pattern.findall(questao)\n",
    "                    if (len(alternativa) > 0):\n",
    "                        alternativa = alternativa[0].replace('\\n','').strip()\n",
    "                        print(j, alternativa)\n",
    "                        globals()['alternativa'+str(j)] = alternativa\n",
    "                    else:\n",
    "                        globals()['alternativa'+str(j)] = ''\n",
    "            questao = questao.replace('\\n', '')\n",
    "            print(questao)\n",
    "        else:\n",
    "            pattern = re.compile(r\"Questão \"+str(i)+\"(.*)\", re.DOTALL)\n",
    "            questao = pattern.findall(txt_pdf)\n",
    "            questao = questao[0].strip()\n",
    "            pattern = re.compile(r\"(.*)\"+letras[0], re.DOTALL)\n",
    "            texto_base = pattern.findall(questao)\n",
    "            if (len(texto_base) > 0):\n",
    "                texto_base = texto_base[0].replace('\\n',' ').strip()\n",
    "                texto_base = re.sub(r'\\s+', ' ', texto_base, flags=re.DOTALL)\n",
    "                print(texto_base)\n",
    "            else:\n",
    "                texto_base = ''\n",
    "            for j in range(len(letras)):\n",
    "                if j < 4:\n",
    "                    pattern = re.compile(r''+letras[j]+\"(.*?)\"+letras[j+1], re.DOTALL)\n",
    "                    alternativa = pattern.findall(questao)\n",
    "                    if (len(alternativa) > 0):\n",
    "                        alternativa = alternativa[0].replace('\\n','').strip()\n",
    "                        print(j, alternativa)\n",
    "                        globals()['alternativa'+str(j)] = alternativa\n",
    "                    else:\n",
    "                        globals()['alternativa'+str(j)] = ''\n",
    "                else:\n",
    "                    pattern = re.compile(r''+letras[j]+\"(.*)\", re.DOTALL)\n",
    "                    alternativa = pattern.findall(questao)\n",
    "                    if (len(alternativa) > 0):\n",
    "                        alternativa = alternativa[0].replace('\\n','').strip()\n",
    "                        print(j, alternativa)\n",
    "                        globals()['alternativa'+str(j)] = alternativa\n",
    "                    else:\n",
    "                        globals()['alternativa'+str(j)] = ''\n",
    "            questao = questao.replace('\\n', ' ')\n",
    "            questao = re.sub(r'\\s+', ' ', questao, flags=re.DOTALL)\n",
    "            print(questao)\n",
    "        dados.append([ano, cor, meio_aplicacao, i, area, questao, texto_base, globals()['alternativa0'], globals()['alternativa1'], globals()['alternativa2'], globals()['alternativa3'], globals()['alternativa4']])\n",
    "    \n",
    "    #print(dados)\n",
    "    df_dados = pd.DataFrame(dados)\n",
    "    df_dados = df_dados.rename(columns={0: 'ano', 1: 'cor', 2: 'meio_aplicacao', 3: 'num_questao', 4: 'area', 5: 'texto_questao', 6: 'texto_base', 7: 'alternativa_A', 8: 'alternativa_B', 9: 'alternativa_C', 10: 'alternativa_D', 11: 'alternativa_E'})\n",
    "    df_dados = df_dados.sort_values(by='num_questao', ascending = True).reset_index(drop = True)\n",
    "    df_dados.to_csv(file_path + '.csv', sep = ';', index = False)\n",
    "    \n",
    "    return file_path, df_dados"
   ]
  },
  {
   "cell_type": "code",
   "execution_count": null,
   "id": "486aace4",
   "metadata": {},
   "outputs": [],
   "source": [
    "#aplicado a 2010\n",
    "def extrai_questoes_html_1(dir_, ano, arq, cor, meio_aplicacao, area, num_primeira_questao, num_ultima_questao):\n",
    "    dados = []\n",
    "    file_path = os.path.join(dir_, str(ano), arq)\n",
    "    \n",
    "    for i in range(num_primeira_questao, num_ultima_questao):\n",
    "        print('questao', i)\n",
    "        url = \"http://educacao.globo.com/provas/enem-2010/questoes/\"+str(i)+\".html\"\n",
    "        # faz a requisição para a url\n",
    "        response = requests.get(url)\n",
    "        # verifica se a requisição foi bem sucedida\n",
    "        if response.status_code == 200:\n",
    "            #print(response.text)\n",
    "            # transforma a página em um objeto BeautifulSoup\n",
    "            soup = BeautifulSoup(response.text, \"html.parser\")\n",
    "            # procura pelo conteúdo\n",
    "            pattern = re.compile(r\"<span class=\\\"numero\\\">Questão \"+str(i)+\"</span>(.*?)separador separador-resolucao\", re.DOTALL)\n",
    "            questao = pattern.findall(response.text)\n",
    "\n",
    "            if (len(questao) > 0):\n",
    "                pattern = re.compile(r\"<div class=\\\"texto\\\">(.*?)</div>\", re.DOTALL)\n",
    "                texto_base = pattern.findall(questao[0])\n",
    "\n",
    "                pattern = re.compile(r\"<div class=\\\"enunciado\\\">(.*?)</div>\", re.DOTALL)\n",
    "                enunciado = pattern.findall(questao[0])\n",
    "\n",
    "                pattern = re.compile(r\"<div class=\\\"letra\\\">[A-E]+</div>(.*?)</div>\", re.DOTALL)\n",
    "                alternativas = pattern.findall(questao[0])\n",
    "                alternativa_a = alternativas[0]\n",
    "                alternativa_b = alternativas[1]\n",
    "                alternativa_c = alternativas[2]\n",
    "                alternativa_d = alternativas[3]\n",
    "                alternativa_e = alternativas[4]\n",
    "\n",
    "                questao = re.sub(re.compile('<.*?>'), '', questao[0]).replace('\\n', '').strip().replace('<hr class=\"', '')\n",
    "                questao = re.sub(r'\\s+', ' ', questao, flags=re.DOTALL)\n",
    "                texto_base = re.sub(re.compile('<.*?>'), '', texto_base[0]).replace('\\n', '').strip()\n",
    "                enunciado = re.sub(re.compile('<.*?>'), '',enunciado[0]).replace('\\n', '').strip()\n",
    "                texto_base = texto_base + ' ' + enunciado\n",
    "                text_base = re.sub(r'\\s+', ' ', texto_base, flags=re.DOTALL)\n",
    "                alternativa_a = re.sub(re.compile('<.*?>'), '', alternativa_a).replace('\\n', '')\n",
    "                alternativa_a = re.sub(r'\\s+', ' ', alternativa_a, flags=re.DOTALL)\n",
    "                alternativa_b = re.sub(re.compile('<.*?>'), '', alternativa_b).replace('\\n', '')\n",
    "                alternativa_b = re.sub(r'\\s+', ' ', alternativa_b, flags=re.DOTALL)\n",
    "                alternativa_c = re.sub(re.compile('<.*?>'), '', alternativa_c).replace('\\n', '')\n",
    "                alternativa_c = re.sub(r'\\s+', ' ', alternativa_c, flags=re.DOTALL)\n",
    "                alternativa_d = re.sub(re.compile('<.*?>'), '', alternativa_d).replace('\\n', '')\n",
    "                alternativa_d = re.sub(r'\\s+', ' ', alternativa_d, flags=re.DOTALL)\n",
    "                alternativa_e = re.sub(re.compile('<.*?>'), '', alternativa_e).replace('\\n', '')\n",
    "                alternativa_e = re.sub(r'\\s+', ' ', alternativa_e, flags=re.DOTALL)\n",
    "\n",
    "                # escreve o conteúdo em um arquivo txt\n",
    "                with open(file_path+\".txt\", \"w\",  encoding=\"utf-8\") as f:\n",
    "\n",
    "                    f.write(questao)\n",
    "\n",
    "                dados.append([ano, cor, meio_aplicacao, i, area, questao, texto_base, alternativa_a, alternativa_b, alternativa_c, alternativa_d, alternativa_e])    \n",
    "                print([ano, cor, meio_aplicacao, i, area, questao, texto_base, alternativa_a, alternativa_b, alternativa_c, alternativa_d, alternativa_e]) \n",
    "            else:\n",
    "                print('questao vazia')\n",
    "        # se a requisição não foi bem sucedida, imprime uma mensagem de erro\n",
    "        else:\n",
    "            print(\"Erro ao obter a página:\", response.status_code) \n",
    "            \n",
    "    #print(dados)\n",
    "    df_dados = pd.DataFrame(dados)\n",
    "    df_dados = df_dados.rename(columns={0: 'ano', 1: 'cor', 2: 'meio_aplicacao', 3: 'num_questao', 4: 'area', 5: 'texto_questao', 6: 'texto_base', 7: 'alternativa_a', 8: 'alternativa_b', 9: 'alternativa_c', 10: 'alternativa_d', 11: 'alternativa_e'})\n",
    "    df_dados = df_dados.sort_values(by='num_questao', ascending = True).reset_index(drop = True)\n",
    "    df_dados.to_csv(file_path + '.csv', sep = ';', index = False)\n",
    "    \n",
    "    return file_path, df_dados"
   ]
  },
  {
   "cell_type": "code",
   "execution_count": null,
   "id": "c5e7f6e7",
   "metadata": {
    "scrolled": true
   },
   "outputs": [],
   "source": [
    "file_path, df_ENEM_2010_PROVA_GAB_DIA_1_AZUL_1 = extrai_questoes_html_1('_itens', 2010, 'ENEM_2010_PROVA_GAB_DIA_1_AZUL_1(2_Aplicação).pdf', 'AZUL', 'PAPEL', 'CN', 1, 90)"
   ]
  },
  {
   "cell_type": "code",
   "execution_count": null,
   "id": "07184195",
   "metadata": {},
   "outputs": [],
   "source": [
    "df_ENEM_2010_PROVA_GAB_DIA_1_AZUL_1.head(2)"
   ]
  },
  {
   "cell_type": "code",
   "execution_count": null,
   "id": "1dd396fa",
   "metadata": {},
   "outputs": [],
   "source": [
    "df_ENEM_2010_PROVA_GAB_DIA_1_AZUL_1.loc[df_ENEM_2010_PROVA_GAB_DIA_1_AZUL_1['num_questao'] <= 45, 'area'] = 'CH'\n",
    "df_ENEM_2010_PROVA_GAB_DIA_1_AZUL_1.loc[df_ENEM_2010_PROVA_GAB_DIA_1_AZUL_1['num_questao'] > 45, 'area'] = 'CN'\n",
    "print(df_ENEM_2010_PROVA_GAB_DIA_1_AZUL_1.area.unique())"
   ]
  },
  {
   "cell_type": "code",
   "execution_count": null,
   "id": "d81b7e22",
   "metadata": {},
   "outputs": [],
   "source": [
    "file_path, df_ENEM_2010_PROVA_GAB_DIA_2_AZUL_1 = extrai_questoes_html_1('_itens', 2010, 'ENEM_2010_PROVA_GAB_DIA_2_AZUL_1(2_Aplicação).pdf', 'AZUL', 'PAPEL', 'CN', 90, 181)"
   ]
  },
  {
   "cell_type": "code",
   "execution_count": null,
   "id": "f5947851",
   "metadata": {},
   "outputs": [],
   "source": [
    "df_ENEM_2010_PROVA_GAB_DIA_2_AZUL_1.head(2)"
   ]
  },
  {
   "cell_type": "code",
   "execution_count": null,
   "id": "faca7240",
   "metadata": {},
   "outputs": [],
   "source": [
    "df_ENEM_2010_PROVA_GAB_DIA_2_AZUL_1.loc[df_ENEM_2010_PROVA_GAB_DIA_2_AZUL_1['num_questao'] <= 135, 'area'] = 'LC'\n",
    "df_ENEM_2010_PROVA_GAB_DIA_2_AZUL_1.loc[df_ENEM_2010_PROVA_GAB_DIA_2_AZUL_1['num_questao'] > 135, 'area'] = 'MT'\n",
    "print(df_ENEM_2010_PROVA_GAB_DIA_2_AZUL_1.area.unique())\n",
    "df_ENEM_2010_PROVA_GAB_DIA_2_AZUL_1.to_csv(file_path + '.csv', sep = ';', index = False)"
   ]
  },
  {
   "cell_type": "code",
   "execution_count": null,
   "id": "65cc284a",
   "metadata": {},
   "outputs": [],
   "source": [
    "# Concatenação dos dataframes de 2009\n",
    "df_prova_2010 = pd.concat([df_ENEM_2010_PROVA_GAB_DIA_1_AZUL_1, df_ENEM_2010_PROVA_GAB_DIA_2_AZUL_1], ignore_index=True, axis = 0)\n",
    "\n",
    "# Resultado\n",
    "df_prova_2010.shape"
   ]
  },
  {
   "cell_type": "code",
   "execution_count": null,
   "id": "7ad3e104",
   "metadata": {},
   "outputs": [],
   "source": [
    "#geração da base de textos de 2009\n",
    "file = os.path.join('_itens', str(2010), '2010_ENEM_itens')\n",
    "df_prova_2010.to_csv(file + '.csv', sep = ';', index = False)"
   ]
  },
  {
   "cell_type": "code",
   "execution_count": null,
   "id": "e0e29eb4",
   "metadata": {},
   "outputs": [],
   "source": [
    "df_prova_2010.head()"
   ]
  },
  {
   "cell_type": "code",
   "execution_count": null,
   "id": "f3650edd",
   "metadata": {},
   "outputs": [],
   "source": [
    "file = os.path.join('_itens', str(2010), 'ITENS_PROVA_2010')\n",
    "df_itens_2010 = pd.read_csv(file + '.csv', sep = ';', encoding = 'ISO-8859-1')\n",
    "df_itens_2010.head()"
   ]
  },
  {
   "cell_type": "code",
   "execution_count": null,
   "id": "a9188d8f",
   "metadata": {},
   "outputs": [],
   "source": [
    "df_itens_2010['TX_COR'] = df_itens_2010['TX_COR'].str.upper()"
   ]
  },
  {
   "cell_type": "code",
   "execution_count": null,
   "id": "3a1de341",
   "metadata": {},
   "outputs": [],
   "source": [
    "df_itens_2010['id'] = df_itens_2010['CO_POSICAO'].apply(str) + '_' + df_itens_2010['SG_AREA'].apply(str) + '_' + df_itens_2010['TX_COR'].apply(str)"
   ]
  },
  {
   "cell_type": "code",
   "execution_count": null,
   "id": "516b8789",
   "metadata": {},
   "outputs": [],
   "source": [
    "df_prova_2010['id'] = df_prova_2010['num_questao'].apply(str) + '_' + df_prova_2010['area'].apply(str) + '_' + df_prova_2010['cor'].apply(str)"
   ]
  },
  {
   "cell_type": "code",
   "execution_count": null,
   "id": "6fa8a0e7",
   "metadata": {},
   "outputs": [],
   "source": [
    "df_2010_merge = pd.merge(df_itens_2010, df_prova_2010, on='id', how='left')"
   ]
  },
  {
   "cell_type": "code",
   "execution_count": null,
   "id": "4f2f9e89",
   "metadata": {},
   "outputs": [],
   "source": [
    "for col in df_2010_merge.columns:\n",
    "    df_2010_merge = df_2010_merge.rename(columns = {col:col.lower()})"
   ]
  },
  {
   "cell_type": "code",
   "execution_count": null,
   "id": "5a2d8318",
   "metadata": {},
   "outputs": [],
   "source": [
    "file = os.path.join('_itens', str(2010), '2010_ENEM_COMPLETA')\n",
    "df_2010_merge.to_csv(file + '.csv', sep = ';', index = False)"
   ]
  },
  {
   "cell_type": "code",
   "execution_count": null,
   "id": "9a40a096",
   "metadata": {},
   "outputs": [],
   "source": [
    "df_2010_merge.head()"
   ]
  },
  {
   "cell_type": "markdown",
   "id": "7a37babb",
   "metadata": {},
   "source": [
    "### ENEM 2011"
   ]
  },
  {
   "cell_type": "code",
   "execution_count": null,
   "id": "cf88938a",
   "metadata": {},
   "outputs": [],
   "source": [
    "#aplicado a 2011\n",
    "def extrai_questoes_html_2(dir_, ano, arq, cor, meio_aplicacao, area, num_primeira_questao, num_ultima_questao):\n",
    "    dados = []\n",
    "    file_path = os.path.join(dir_, str(ano), arq)\n",
    "    \n",
    "    for i in range(num_primeira_questao, num_ultima_questao):\n",
    "        print('questao', i)\n",
    "        url = \"http://educacao.globo.com/provas/enem-2011/questoes/\"+(str(0)+str(i) if i < 10 else str(i))+\".html\"\n",
    "        print(url)\n",
    "        # faz a requisição para a url\n",
    "        response = requests.get(url)\n",
    "        # verifica se a requisição foi bem sucedida\n",
    "        if response.status_code == 200:\n",
    "            #print(response.text)\n",
    "            # transforma a página em um objeto BeautifulSoup\n",
    "            soup = BeautifulSoup(response.text, \"html.parser\")\n",
    "            # procura pelo conteúdo\n",
    "            pattern = re.compile(r\"<span class=\\\"numero\\\">Questão \"+(str(0)+str(i) if i < 10 else str(i))+\"</span>(.*?)separador separador-resolucao\", re.DOTALL)\n",
    "            questao = pattern.findall(response.text)\n",
    "\n",
    "            if (len(questao) > 0):\n",
    "                pattern = re.compile(r\"<div class=\\\"texto\\\">(.*?)</div>\", re.DOTALL)\n",
    "                texto_base = pattern.findall(questao[0])\n",
    "\n",
    "                pattern = re.compile(r\"<div class=\\\"enunciado\\\">(.*?)</div>\", re.DOTALL)\n",
    "                enunciado = pattern.findall(questao[0])\n",
    "\n",
    "                pattern = re.compile(r\"<div class=\\\"letra\\\">[A-E]+</div>(.*?)</div>\", re.DOTALL)\n",
    "                alternativas = pattern.findall(questao[0])\n",
    "                alternativa_a = alternativas[0]\n",
    "                alternativa_b = alternativas[1]\n",
    "                alternativa_c = alternativas[2]\n",
    "                alternativa_d = alternativas[3]\n",
    "                alternativa_e = alternativas[4]\n",
    "\n",
    "                questao = re.sub(re.compile('<.*?>'), '', questao[0]).replace('\\n', '').strip().replace('<hr class=\"', '')\n",
    "                questao = re.sub(r'\\s+', ' ', questao, flags=re.DOTALL)\n",
    "                texto_base = re.sub(re.compile('<.*?>'), '', texto_base[0]).replace('\\n', '').strip()\n",
    "                enunciado = re.sub(re.compile('<.*?>'), '',enunciado[0]).replace('\\n', '').strip()\n",
    "                texto_base = texto_base + ' ' + enunciado\n",
    "                text_base = re.sub(r'\\s+', ' ', texto_base, flags=re.DOTALL)\n",
    "                alternativa_a = re.sub(re.compile('<.*?>'), '', alternativa_a).replace('\\n', '')\n",
    "                alternativa_a = re.sub(r'\\s+', ' ', alternativa_a, flags=re.DOTALL)\n",
    "                alternativa_b = re.sub(re.compile('<.*?>'), '', alternativa_b).replace('\\n', '')\n",
    "                alternativa_b = re.sub(r'\\s+', ' ', alternativa_b, flags=re.DOTALL)\n",
    "                alternativa_c = re.sub(re.compile('<.*?>'), '', alternativa_c).replace('\\n', '')\n",
    "                alternativa_c = re.sub(r'\\s+', ' ', alternativa_c, flags=re.DOTALL)\n",
    "                alternativa_d = re.sub(re.compile('<.*?>'), '', alternativa_d).replace('\\n', '')\n",
    "                alternativa_d = re.sub(r'\\s+', ' ', alternativa_d, flags=re.DOTALL)\n",
    "                alternativa_e = re.sub(re.compile('<.*?>'), '', alternativa_e).replace('\\n', '')\n",
    "                alternativa_e = re.sub(r'\\s+', ' ', alternativa_e, flags=re.DOTALL)\n",
    "\n",
    "                # escreve o conteúdo em um arquivo txt\n",
    "                with open(file_path+\".txt\", \"w\",  encoding=\"utf-8\") as f:\n",
    "\n",
    "                    f.write(questao)\n",
    "\n",
    "                dados.append([ano, cor, meio_aplicacao, i, area, questao, texto_base, alternativa_a, alternativa_b, alternativa_c, alternativa_d, alternativa_e])    \n",
    "                print([ano, cor, meio_aplicacao, i, area, questao, texto_base, alternativa_a, alternativa_b, alternativa_c, alternativa_d, alternativa_e]) \n",
    "            else:\n",
    "                print('questao vazia')\n",
    "        # se a requisição não foi bem sucedida, imprime uma mensagem de erro\n",
    "        else:\n",
    "            print(\"Erro ao obter a página:\", response.status_code) \n",
    "            \n",
    "    #print(dados)\n",
    "    df_dados = pd.DataFrame(dados)\n",
    "    df_dados = df_dados.rename(columns={0: 'ano', 1: 'cor', 2: 'meio_aplicacao', 3: 'num_questao', 4: 'area', 5: 'texto_questao', 6: 'texto_base', 7: 'alternativa_a', 8: 'alternativa_b', 9: 'alternativa_c', 10: 'alternativa_d', 11: 'alternativa_e'})\n",
    "    df_dados = df_dados.sort_values(by='num_questao', ascending = True).reset_index(drop = True)\n",
    "    df_dados.to_csv(file_path + '.csv', sep = ';', index = False)\n",
    "    \n",
    "    return file_path, df_dados"
   ]
  },
  {
   "cell_type": "code",
   "execution_count": null,
   "id": "10736386",
   "metadata": {},
   "outputs": [],
   "source": [
    "file_path, df_ENEM_2011_CAD_AZUL = extrai_questoes_html_2('_itens', 2011, 'ENEM_2011_CAD_AZUL', 'AZUL', 'PAPEL', 'CH', 1, 181)"
   ]
  },
  {
   "cell_type": "code",
   "execution_count": null,
   "id": "0bd972b4",
   "metadata": {},
   "outputs": [],
   "source": [
    "df_ENEM_2011_CAD_AZUL.shape"
   ]
  },
  {
   "cell_type": "code",
   "execution_count": null,
   "id": "9442bcb8",
   "metadata": {},
   "outputs": [],
   "source": [
    "df_ENEM_2011_CAD_AZUL.loc[df_ENEM_2011_CAD_AZUL['num_questao'] <= 45, 'area'] = 'CH'\n",
    "df_ENEM_2011_CAD_AZUL.loc[df_ENEM_2011_CAD_AZUL['num_questao'] > 45, 'area'] = 'CN'\n",
    "print(df_ENEM_2011_CAD_AZUL.area.unique())\n",
    "df_ENEM_2011_CAD_AZUL.loc[(df_ENEM_2011_CAD_AZUL['num_questao'] <= 135) & (df_ENEM_2011_CAD_AZUL['num_questao'] >= 91), 'area'] = 'LC'\n",
    "df_ENEM_2011_CAD_AZUL.loc[df_ENEM_2011_CAD_AZUL['num_questao'] > 135, 'area'] = 'MT'\n",
    "print(df_ENEM_2011_CAD_AZUL.area.unique())\n",
    "df_ENEM_2011_CAD_AZUL.to_csv(file_path + '.csv', sep = ';', index = False)"
   ]
  },
  {
   "cell_type": "code",
   "execution_count": null,
   "id": "6a0db776",
   "metadata": {},
   "outputs": [],
   "source": [
    "df_ENEM_2011_CAD_AZUL.head()"
   ]
  },
  {
   "cell_type": "code",
   "execution_count": null,
   "id": "f72c017d",
   "metadata": {},
   "outputs": [],
   "source": [
    "df_ENEM_2011_CAD_AZUL['cor'] = 'Azul'"
   ]
  },
  {
   "cell_type": "code",
   "execution_count": null,
   "id": "41765e07",
   "metadata": {},
   "outputs": [],
   "source": [
    "file = os.path.join('_itens', str(2011), 'ITENS_PROVA_2011')\n",
    "df_itens_2011 = pd.read_csv(file + '.csv', sep = ';', encoding = 'ISO-8859-1')\n",
    "df_itens_2011.head()"
   ]
  },
  {
   "cell_type": "code",
   "execution_count": null,
   "id": "68434380",
   "metadata": {},
   "outputs": [],
   "source": [
    "df_itens_2011['id'] = df_itens_2011['CO_POSICAO'].apply(str) + '_' + df_itens_2011['SG_AREA'].apply(str) + '_' + df_itens_2011['TX_COR'].apply(str)"
   ]
  },
  {
   "cell_type": "code",
   "execution_count": null,
   "id": "547c2713",
   "metadata": {},
   "outputs": [],
   "source": [
    "df_ENEM_2011_CAD_AZUL['id'] = df_ENEM_2011_CAD_AZUL['num_questao'].apply(str) + '_' + df_ENEM_2011_CAD_AZUL['area'].apply(str) + '_' + df_ENEM_2011_CAD_AZUL['cor'].apply(str)"
   ]
  },
  {
   "cell_type": "code",
   "execution_count": null,
   "id": "d2969a15",
   "metadata": {},
   "outputs": [],
   "source": [
    "df_ENEM_2011_CAD_AZUL.id.unique()"
   ]
  },
  {
   "cell_type": "code",
   "execution_count": null,
   "id": "19b288de",
   "metadata": {},
   "outputs": [],
   "source": [
    "df_2011_merge = pd.merge(df_itens_2011, df_ENEM_2011_CAD_AZUL, on='id', how='left')"
   ]
  },
  {
   "cell_type": "code",
   "execution_count": null,
   "id": "34d68c0a",
   "metadata": {},
   "outputs": [],
   "source": [
    "for col in df_2011_merge.columns:\n",
    "    df_2011_merge = df_2011_merge.rename(columns = {col:col.lower()})"
   ]
  },
  {
   "cell_type": "code",
   "execution_count": null,
   "id": "440c9ed5",
   "metadata": {},
   "outputs": [],
   "source": [
    "file = os.path.join('_itens', str(2011), '2011_ENEM_COMPLETA')\n",
    "df_2011_merge.to_csv(file + '.csv', sep = ';', index = False)"
   ]
  },
  {
   "cell_type": "code",
   "execution_count": null,
   "id": "836eae64",
   "metadata": {},
   "outputs": [],
   "source": [
    "df_2011_merge.to_csv(file + '.csv', sep = ';', index = False)"
   ]
  },
  {
   "cell_type": "code",
   "execution_count": null,
   "id": "49928985",
   "metadata": {},
   "outputs": [],
   "source": [
    "df_2011_merge.head()"
   ]
  },
  {
   "cell_type": "markdown",
   "id": "b8a1ea23",
   "metadata": {},
   "source": [
    "### 2012"
   ]
  },
  {
   "cell_type": "code",
   "execution_count": null,
   "id": "0888deee",
   "metadata": {},
   "outputs": [],
   "source": [
    "#aplicado a 2012\n",
    "def extrai_questoes_3(dir_, ano, pdf, cor, meio_aplicacao, area, num_primeira_questao, num_ultima_questao):\n",
    "    dados = []\n",
    "    #arquivo pdf\n",
    "    file_path = os.path.join(dir_, str(ano), pdf)\n",
    "    # Abre o arquivo PDF\n",
    "    pdf_file = open(file_path, \"rb\")\n",
    "\n",
    "    # Cria um objeto PDFReader\n",
    "    pdf_reader = PyPDF2.PdfReader(pdf_file)\n",
    "\n",
    "    txt_pdf = ''\n",
    "    # Loop através de cada página do PDF\n",
    "    for page in range(len(pdf_reader.pages)):\n",
    "        # Obtém o objeto da página atual\n",
    "        page_obj = pdf_reader.pages[page]\n",
    "\n",
    "        # Extrai o texto da página atual\n",
    "        page_text = page_obj.extract_text()\n",
    "\n",
    "        # Escreve o texto extraído em um arquivo TXT\n",
    "        with open(file_path + '.txt', \"a\",  encoding=\"utf-8\") as text_file:\n",
    "            text_file.write(page_text)\n",
    "            txt_pdf += page_text + ' '\n",
    "\n",
    "    # Fecha o arquivo PDF\n",
    "    pdf_file.close()\n",
    "\n",
    "    file_path = os.path.join(dir_, str(ano), pdf+'.txt')\n",
    "    #print(txt_pdf)\n",
    "    txt_pdf  = re.sub(r'/g\\d+/', '', txt_pdf)\n",
    "    txt_pdf  = re.sub(r'g/', '', txt_pdf)\n",
    "    txt_pdf  = re.sub(r'/g/', '', txt_pdf)\n",
    "    txt_pdf  = re.sub(r'g\\d+', '', txt_pdf)\n",
    "    txt_pdf = re.sub(r'\\{2,}', \"\", txt_pdf)\n",
    "    txt_pdf = re.sub(r'\\/\\d+', \"\", txt_pdf)\n",
    "    txt_pdf = re.sub(r'#\\d+', \"\", txt_pdf)\n",
    "    txt_pdf = txt_pdf.replace('#2/', '')\n",
    "    txt_pdf = txt_pdf.replace('/', '')\n",
    "    txt_pdf = re.sub(r'\\*((AZUL)|(Amar)|(amar)|(cinz)|(azul)|(rosa)|(bran))((25)|(75))((dom)|(sab)|(DOM)|(SAB))\\d+\\*', '', txt_pdf)\n",
    "    txt_pdf = txt_pdf.replace('2ª APLICAÇÃO', '')\n",
    "    txt_pdf = txt_pdf.replace('CIÊNCIAS HUMANAS E SUAS TECNOLOGIAS', '')\n",
    "    txt_pdf = txt_pdf.replace('Questões de 1 a 45', '')\n",
    "    txt_pdf = txt_pdf.replace('CIÊNCIAS DA NATUREZA E SUAS TECNOLOGIAS', '')\n",
    "    txt_pdf = txt_pdf.replace('Questões de 46 a 90', '')\n",
    "    txt_pdf = txt_pdf.replace('LINGUAGENS E CÓDIGOS E SUAS TECNOLOGIAS', '')\n",
    "    txt_pdf = txt_pdf.replace('Questões de 91 a 135', '')\n",
    "    txt_pdf = txt_pdf.replace('MATEMÁTICA E SUAS TECNOLOGIAS', '')\n",
    "    txt_pdf = txt_pdf.replace('Questões de 136 a 180', '')\n",
    "    txt_pdf = txt_pdf.replace('RASCUNHO DA REDAÇÃO', '')\n",
    "    txt_pdf = txt_pdf.replace('Transcreva a sua Redação para a Folha de Redação.', '')\n",
    "    txt_pdf = txt_pdf.replace('RASCUNHO\\nDA REDAÇÃO1', '')\n",
    "    txt_pdf = txt_pdf.replace('23456789101112131415161718192021222324252627282930', '')\n",
    "    txt_pdf  = re.sub(r\"(LC)|(MT)|(CN)|(CH) - (1º)|(2º) dia \\| Caderno \\d+ - ((AMARELO)|(AZUL)|(CINZA)|(ROSA)|(BRANCO)) - Página \\d+\", '', txt_pdf)\n",
    "    txt_pdf  = re.sub(r\" - (1º)|(2º) dia \\| Caderno \\d+ - ((AMARELO)|(AZUL)|(CINZA)|(ROSA)|(BRANCO)) - Página \\d+\", '', txt_pdf)\n",
    "    txt_pdf  = re.sub(r\"dia \\| Caderno \\d+ - ((AMARELO)|(AZUL)|(CINZA)|(ROSA)|(BRANCO)) - Página \\d+\", '', txt_pdf)\n",
    "    txt_pdf = txt_pdf.replace('CIÊNCIAS DA NATUREZ', '')\n",
    "    txt_pdf = txt_pdf.replace('CIÊNCIAS DA NATUREZAE SUAS TEOLOGIAS', '')\n",
    "    txt_pdf = txt_pdf.replace('AE SUAS TEOLOGIAS', '')\n",
    "    txt_pdf = txt_pdf.replace('E SUAS TEOLOGIAS', '')\n",
    "    letras = ['A\\n', 'B\\n',  'C\\n ','D\\n ', 'E\\n']\n",
    "    globals()['alternativa0'] = ''\n",
    "    globals()['alternativa1'] = ''\n",
    "    globals()['alternativa2'] = ''\n",
    "    globals()['alternativa3'] = ''\n",
    "    globals()['alternativa4'] = ''\n",
    "    for i in range(num_primeira_questao, num_ultima_questao+1):\n",
    "        print(i)\n",
    "        if i < num_ultima_questao:\n",
    "            pattern = re.compile(r\"QUESTÃO \"+(str(0)+str(i) if i < 10 else str(i))+\"(.*?)QUESTÃO \"+(str(0)+str(i+1) if i+1 < 10 else str(i+1)), re.DOTALL)\n",
    "            questao = pattern.findall(txt_pdf)\n",
    "            if (len(questao) > 0):\n",
    "                questao = questao[0]\n",
    "            else:\n",
    "                questao = ''\n",
    "            pattern = re.compile(r\"(.*)\"+letras[0], re.DOTALL)\n",
    "            texto_base = pattern.findall(questao)\n",
    "            if (len(texto_base) > 0):\n",
    "                texto_base = re.sub(r'\\s+', ' ', texto_base[0], flags=re.DOTALL)\n",
    "                print(texto_base)\n",
    "            else:\n",
    "                texto_base = ''\n",
    "            for j in range(len(letras)):\n",
    "                if j < 4:\n",
    "                    pattern = re.compile(r''+letras[j]+\"(.*?)\"+letras[j+1], re.DOTALL)\n",
    "                    alternativa = pattern.findall(questao)\n",
    "                    if (len(alternativa) > 0):\n",
    "                        alternativa = alternativa[0].replace('\\n','')\n",
    "                        print(j, alternativa)\n",
    "                        globals()['alternativa'+str(j)] = alternativa\n",
    "                    else:\n",
    "                        globals()['alternativa'+str(j)] = ''\n",
    "                else:\n",
    "                    pattern = re.compile(r''+letras[j]+\"(.*)\", re.DOTALL)\n",
    "                    alternativa = pattern.findall(questao)\n",
    "                    if (len(alternativa) > 0):\n",
    "                        alternativa = alternativa[0].replace('\\n','').strip()\n",
    "                        print(j, alternativa)\n",
    "                        globals()['alternativa'+str(j)] = alternativa\n",
    "                    else:\n",
    "                        globals()['alternativa'+str(j)] = ''\n",
    "            questao = questao.replace('\\n', '')\n",
    "            print(questao)\n",
    "        else:\n",
    "            pattern = re.compile(r\"QUESTÃO \"+str(i)+\"(.*)\", re.DOTALL)\n",
    "            questao = pattern.findall(txt_pdf)\n",
    "            questao = questao[0].strip()\n",
    "            pattern = re.compile(r\"(.*)\"+letras[0], re.DOTALL)\n",
    "            texto_base = pattern.findall(questao)\n",
    "            if (len(texto_base) > 0):\n",
    "                texto_base = re.sub(r'\\s+', ' ', texto_base[0], flags=re.DOTALL)\n",
    "                print(texto_base)\n",
    "            else:\n",
    "                texto_base = ''\n",
    "            for j in range(len(letras)):\n",
    "                if j < 4:\n",
    "                    pattern = re.compile(r''+letras[j]+\"(.*?)\"+letras[j+1], re.DOTALL)\n",
    "                    alternativa = pattern.findall(questao)\n",
    "                    if (len(alternativa) > 0):\n",
    "                        alternativa = alternativa[0].replace('\\n','').strip()\n",
    "                        print(j, alternativa)\n",
    "                        globals()['alternativa'+str(j)] = alternativa\n",
    "                    else:\n",
    "                        globals()['alternativa'+str(j)] = ''\n",
    "                else:\n",
    "                    pattern = re.compile(r''+letras[j]+\"(.*)\", re.DOTALL)\n",
    "                    alternativa = pattern.findall(questao)\n",
    "                    if (len(alternativa) > 0):\n",
    "                        alternativa = alternativa[0].replace('\\n','').strip()\n",
    "                        print(j, alternativa)\n",
    "                        globals()['alternativa'+str(j)] = alternativa\n",
    "                    else:\n",
    "                        globals()['alternativa'+str(j)] = ''\n",
    "            questao = re.sub(r'\\s+', ' ', questao, flags=re.DOTALL)\n",
    "            print(questao)\n",
    "        dados.append([ano, cor, meio_aplicacao, i, area, questao, texto_base, globals()['alternativa0'], globals()['alternativa1'], globals()['alternativa2'], globals()['alternativa3'], globals()['alternativa4']])\n",
    "    \n",
    "    #print(dados)\n",
    "    df_dados = pd.DataFrame(dados)\n",
    "    df_dados = df_dados.rename(columns={0: 'ano', 1: 'cor', 2: 'meio_aplicacao', 3: 'num_questao', 4: 'area', 5: 'texto_questao', 6: 'texto_base', 7: 'alternativa_A', 8: 'alternativa_B', 9: 'alternativa_C', 10: 'alternativa_D', 11: 'alternativa_E'})\n",
    "    df_dados = df_dados.sort_values(by='num_questao', ascending = True).reset_index(drop = True)\n",
    "    df_dados.to_csv(file_path + '.csv', sep = ';', index = False)\n",
    "    \n",
    "    return file_path, df_dados"
   ]
  },
  {
   "cell_type": "code",
   "execution_count": null,
   "id": "f594bef9",
   "metadata": {},
   "outputs": [],
   "source": [
    "file_path, df_caderno_enem2012_dom_amarelo = extrai_questoes_3('_itens', 2012, 'caderno_enem2012_dom_amarelo.pdf', 'Amarelo', 'PAPEL', 'LC', 96, 180)"
   ]
  },
  {
   "cell_type": "code",
   "execution_count": null,
   "id": "d3acb4fe",
   "metadata": {},
   "outputs": [],
   "source": [
    "df_caderno_enem2012_dom_amarelo.head(2)"
   ]
  },
  {
   "cell_type": "code",
   "execution_count": null,
   "id": "82b56fae",
   "metadata": {},
   "outputs": [],
   "source": [
    "df_caderno_enem2012_dom_amarelo.loc[df_caderno_enem2012_dom_amarelo['num_questao'] <= 135, 'area'] = 'LC'\n",
    "df_caderno_enem2012_dom_amarelo.loc[df_caderno_enem2012_dom_amarelo['num_questao'] > 135, 'area'] = 'MT'\n",
    "print(df_caderno_enem2012_dom_amarelo.area.unique())\n",
    "df_caderno_enem2012_dom_amarelo.to_csv(file_path + '.csv', sep = ';', index = False)"
   ]
  },
  {
   "cell_type": "code",
   "execution_count": null,
   "id": "bcefdfc7",
   "metadata": {},
   "outputs": [],
   "source": [
    "file_path, df_caderno_enem2012_dom_azul = extrai_questoes_3('_itens', 2012, 'caderno_enem2012_dom_azul.pdf', 'Azul', 'PAPEL', 'LC', 96, 180)"
   ]
  },
  {
   "cell_type": "code",
   "execution_count": null,
   "id": "412731c4",
   "metadata": {},
   "outputs": [],
   "source": [
    "df_caderno_enem2012_dom_azul.tail(20)"
   ]
  },
  {
   "cell_type": "code",
   "execution_count": null,
   "id": "c814cc1c",
   "metadata": {},
   "outputs": [],
   "source": [
    "df_caderno_enem2012_dom_azul.loc[df_caderno_enem2012_dom_azul['num_questao'] <= 135, 'area'] = 'LC'\n",
    "df_caderno_enem2012_dom_azul.loc[df_caderno_enem2012_dom_azul['num_questao'] > 135, 'area'] = 'MT'\n",
    "print(df_caderno_enem2012_dom_azul.area.unique())\n",
    "df_caderno_enem2012_dom_azul.to_csv(file_path + '.csv', sep = ';', index = False)"
   ]
  },
  {
   "cell_type": "code",
   "execution_count": null,
   "id": "87a8d33e",
   "metadata": {},
   "outputs": [],
   "source": [
    "file_path, df_caderno_enem2012_dom_cinza = extrai_questoes_3('_itens', 2012, 'caderno_enem2012_dom_cinza.pdf', 'Cinza', 'PAPEL', 'LC', 96, 180)"
   ]
  },
  {
   "cell_type": "code",
   "execution_count": null,
   "id": "9f66ce39",
   "metadata": {},
   "outputs": [],
   "source": [
    "df_caderno_enem2012_dom_cinza.tail(20)"
   ]
  },
  {
   "cell_type": "code",
   "execution_count": null,
   "id": "75b6da0b",
   "metadata": {},
   "outputs": [],
   "source": [
    "df_caderno_enem2012_dom_cinza.loc[df_caderno_enem2012_dom_cinza['num_questao'] <= 135, 'area'] = 'LC'\n",
    "df_caderno_enem2012_dom_cinza.loc[df_caderno_enem2012_dom_cinza['num_questao'] > 135, 'area'] = 'MT'\n",
    "print(df_caderno_enem2012_dom_cinza.area.unique())\n",
    "df_caderno_enem2012_dom_cinza.to_csv(file_path + '.csv', sep = ';', index = False)"
   ]
  },
  {
   "cell_type": "code",
   "execution_count": null,
   "id": "77198ae3",
   "metadata": {},
   "outputs": [],
   "source": [
    "\n",
    "file_path, df_caderno_enem2012_dom_rosa = extrai_questoes_3('_itens', 2012, 'caderno_enem2012_dom_rosa.pdf', 'Rosa', 'PAPEL', 'LC', 96, 180)"
   ]
  },
  {
   "cell_type": "code",
   "execution_count": null,
   "id": "7b6c2305",
   "metadata": {},
   "outputs": [],
   "source": [
    "df_caderno_enem2012_dom_rosa.tail(20)"
   ]
  },
  {
   "cell_type": "code",
   "execution_count": null,
   "id": "73f29e05",
   "metadata": {},
   "outputs": [],
   "source": [
    "df_caderno_enem2012_dom_rosa.loc[df_caderno_enem2012_dom_rosa['num_questao'] <= 135, 'area'] = 'LC'\n",
    "df_caderno_enem2012_dom_rosa.loc[df_caderno_enem2012_dom_rosa['num_questao'] > 135, 'area'] = 'MT'\n",
    "print(df_caderno_enem2012_dom_rosa.area.unique())\n",
    "df_caderno_enem2012_dom_rosa.to_csv(file_path + '.csv', sep = ';', index = False)"
   ]
  },
  {
   "cell_type": "code",
   "execution_count": null,
   "id": "41e1b1d3",
   "metadata": {},
   "outputs": [],
   "source": [
    "file_path, df_caderno_enem2012_sab_amarelo = extrai_questoes_3('_itens', 2012, 'caderno_enem2012_sab_amarelo.pdf', 'Amarelo', 'PAPEL', 'LC', 1, 90)"
   ]
  },
  {
   "cell_type": "code",
   "execution_count": null,
   "id": "0a29d5dd",
   "metadata": {},
   "outputs": [],
   "source": [
    "df_caderno_enem2012_sab_amarelo.loc[df_caderno_enem2012_sab_amarelo['num_questao'] <= 45, 'area'] = 'CH'\n",
    "df_caderno_enem2012_sab_amarelo.loc[df_caderno_enem2012_sab_amarelo['num_questao'] > 45, 'area'] = 'CN'\n",
    "print(df_caderno_enem2012_sab_amarelo.area.unique())\n",
    "df_caderno_enem2012_sab_amarelo.to_csv(file_path + '.csv', sep = ';', index = False)"
   ]
  },
  {
   "cell_type": "code",
   "execution_count": null,
   "id": "7f79cc92",
   "metadata": {},
   "outputs": [],
   "source": [
    "file_path, df_caderno_enem2012_sab_azul = extrai_questoes_3('_itens', 2012, 'caderno_enem2012_sab_azul.pdf', 'Azul', 'PAPEL', 'CH', 1, 90)"
   ]
  },
  {
   "cell_type": "code",
   "execution_count": null,
   "id": "58fb0a7c",
   "metadata": {},
   "outputs": [],
   "source": [
    "df_caderno_enem2012_sab_azul.loc[df_caderno_enem2012_sab_azul['num_questao'] <= 45, 'area'] = 'CH'\n",
    "df_caderno_enem2012_sab_azul.loc[df_caderno_enem2012_sab_azul['num_questao'] > 45, 'area'] = 'CN'\n",
    "print(df_caderno_enem2012_sab_azul.area.unique())\n",
    "df_caderno_enem2012_sab_azul.to_csv(file_path + '.csv', sep = ';', index = False)"
   ]
  },
  {
   "cell_type": "code",
   "execution_count": null,
   "id": "55fb19ef",
   "metadata": {},
   "outputs": [],
   "source": [
    "file_path, df_caderno_enem2012_sab_branco = extrai_questoes_3('_itens', 2012, 'caderno_enem2012_sab_branco.pdf', 'Branco', 'PAPEL', 'CH', 1, 90)"
   ]
  },
  {
   "cell_type": "code",
   "execution_count": null,
   "id": "0183c25e",
   "metadata": {},
   "outputs": [],
   "source": [
    "df_caderno_enem2012_sab_branco.loc[df_caderno_enem2012_sab_branco['num_questao'] <= 45, 'area'] = 'CH'\n",
    "df_caderno_enem2012_sab_branco.loc[df_caderno_enem2012_sab_branco['num_questao'] > 45, 'area'] = 'CN'\n",
    "print(df_caderno_enem2012_sab_branco.area.unique())\n",
    "df_caderno_enem2012_sab_branco.to_csv(file_path + '.csv', sep = ';', index = False)"
   ]
  },
  {
   "cell_type": "code",
   "execution_count": null,
   "id": "2379e820",
   "metadata": {},
   "outputs": [],
   "source": [
    "file_path, df_caderno_enem2012_sab_rosa = extrai_questoes_3('_itens', 2012, 'caderno_enem2012_sab_rosa.pdf', 'Rosa', 'PAPEL', 'CN', 1, 90)"
   ]
  },
  {
   "cell_type": "code",
   "execution_count": null,
   "id": "fe25d2b1",
   "metadata": {},
   "outputs": [],
   "source": [
    "df_caderno_enem2012_sab_rosa.loc[df_caderno_enem2012_sab_rosa['num_questao'] <= 45, 'area'] = 'CH'\n",
    "df_caderno_enem2012_sab_rosa.loc[df_caderno_enem2012_sab_rosa['num_questao'] > 45, 'area'] = 'CN'\n",
    "print(df_caderno_enem2012_sab_rosa.area.unique())\n",
    "df_caderno_enem2012_sab_rosa.to_csv(file_path + '.csv', sep = ';', index = False)"
   ]
  },
  {
   "cell_type": "code",
   "execution_count": null,
   "id": "9d2c6b8a",
   "metadata": {},
   "outputs": [],
   "source": [
    "# Concatenação dos dataframes de 2009\n",
    "df_prova_2012 = pd.concat([df_caderno_enem2012_dom_amarelo, \n",
    "                           df_caderno_enem2012_dom_azul, \n",
    "                           df_caderno_enem2012_dom_cinza,\n",
    "                           df_caderno_enem2012_dom_rosa,\n",
    "                           df_caderno_enem2012_sab_amarelo,\n",
    "                           df_caderno_enem2012_sab_azul,\n",
    "                           df_caderno_enem2012_sab_branco,\n",
    "                           df_caderno_enem2012_sab_rosa], ignore_index=True, axis = 0)\n",
    "\n",
    "# Resultado\n",
    "df_prova_2012.shape"
   ]
  },
  {
   "cell_type": "code",
   "execution_count": null,
   "id": "4dc8be29",
   "metadata": {},
   "outputs": [],
   "source": [
    "df_prova_2012.tail()"
   ]
  },
  {
   "cell_type": "code",
   "execution_count": null,
   "id": "b590f180",
   "metadata": {},
   "outputs": [],
   "source": [
    "file = os.path.join('_itens', str(2012), 'ITENS_PROVA_2012')\n",
    "df_itens_2012 = pd.read_csv(file + '.csv', sep = ';', encoding = 'ISO-8859-1')"
   ]
  },
  {
   "cell_type": "code",
   "execution_count": null,
   "id": "ca8e313d",
   "metadata": {},
   "outputs": [],
   "source": [
    "df_itens_2012.head()"
   ]
  },
  {
   "cell_type": "code",
   "execution_count": null,
   "id": "f65a50ac",
   "metadata": {},
   "outputs": [],
   "source": [
    "df_itens_2012['id'] = df_itens_2012['CO_POSICAO'].apply(str) + '_' + df_itens_2012['SG_AREA'].apply(str) + '_' + df_itens_2012['TX_COR'].apply(str)\n",
    "df_prova_2012['id'] = df_prova_2012['num_questao'].apply(str) + '_' + df_prova_2012['area'].apply(str) + '_' + df_prova_2012['cor'].apply(str)\n",
    "df_2012_merge = pd.merge(df_itens_2012, df_prova_2012, on='id', how='left')\n",
    "for col in df_2012_merge.columns:\n",
    "    df_2012_merge = df_2012_merge.rename(columns = {col:col.lower()})\n",
    "file = os.path.join('_itens', str(2012), '2012_ENEM_COMPLETA')\n",
    "df_2012_merge.to_csv(file + '.csv', sep = ';', index = False)\n",
    "df_2012_merge.to_csv(file + '.csv', sep = ';', index = False)\n",
    "df_2012_merge.head()"
   ]
  },
  {
   "cell_type": "markdown",
   "id": "5e850d09",
   "metadata": {},
   "source": [
    "### 2013"
   ]
  },
  {
   "cell_type": "code",
   "execution_count": null,
   "id": "d703f957",
   "metadata": {},
   "outputs": [],
   "source": [
    "#aplicado a 2013\n",
    "def extrai_questoes_4(dir_, ano, pdf, cor, meio_aplicacao, area, num_primeira_questao, num_ultima_questao):\n",
    "    dados = []\n",
    "    #arquivo pdf\n",
    "    file_path = os.path.join(dir_, str(ano), pdf)\n",
    "    # Abre o arquivo PDF\n",
    "    pdf_file = open(file_path, \"rb\")\n",
    "\n",
    "    # Cria um objeto PDFReader\n",
    "    pdf_reader = PyPDF2.PdfReader(pdf_file)\n",
    "\n",
    "    txt_pdf = ''\n",
    "    # Loop através de cada página do PDF\n",
    "    for page in range(len(pdf_reader.pages)):\n",
    "        # Obtém o objeto da página atual\n",
    "        page_obj = pdf_reader.pages[page]\n",
    "\n",
    "        # Extrai o texto da página atual\n",
    "        page_text = page_obj.extract_text()\n",
    "\n",
    "        # Escreve o texto extraído em um arquivo TXT\n",
    "        with open(file_path + '.txt', \"a\",  encoding=\"utf-8\") as text_file:\n",
    "            text_file.write(page_text)\n",
    "            txt_pdf += page_text + ' '\n",
    "\n",
    "    # Fecha o arquivo PDF\n",
    "    pdf_file.close()\n",
    "\n",
    "    file_path = os.path.join(dir_, str(ano), pdf+'.txt')\n",
    "    #print(txt_pdf)\n",
    "    txt_pdf  = re.sub(r'/g\\d+/', '', txt_pdf)\n",
    "    txt_pdf  = re.sub(r'g/', '', txt_pdf)\n",
    "    txt_pdf  = re.sub(r'/g/', '', txt_pdf)\n",
    "    txt_pdf  = re.sub(r'g\\d+', '', txt_pdf)\n",
    "    txt_pdf = re.sub(r'\\{2,}', \"\", txt_pdf)\n",
    "    txt_pdf = re.sub(r'\\/\\d+', \"\", txt_pdf)\n",
    "    txt_pdf = re.sub(r'#\\d+', \"\", txt_pdf)\n",
    "    txt_pdf = txt_pdf.replace('#2/', '')\n",
    "    txt_pdf = txt_pdf.replace('/', '')\n",
    "    #txt_pdf = re.sub(r'\\*azul75sab\\d+\\*', '', txt_pdf)\n",
    "    #txt_pdf = re.sub(r'\\*azul25dom\\d+\\*', '', txt_pdf)\n",
    "    #txt_pdf = re.sub(r'\\*amar25dom\\d+\\*', '', txt_pdf)\n",
    "    txt_pdf = re.sub(r'\\*((CINZ)|(ROSA)|(BRAN)|(AMAR)|(AZUL)|(Amar)|(amar)|(cinz)|(azul)|(rosa)|(bran))((25)|(75))((dom)|(sab)|(DOM)|(SAB))\\d+\\*', '', txt_pdf)\n",
    "    txt_pdf = txt_pdf.replace('2ª APLICAÇÃO', '')\n",
    "    txt_pdf = txt_pdf.replace('CIÊNCIAS HUMANAS E SUAS TECNOLOGIAS', '')\n",
    "    txt_pdf = txt_pdf.replace('Questões de 1 a 45', '')\n",
    "    txt_pdf = txt_pdf.replace('CIÊNCIAS DA NATUREZA E SUAS TECNOLOGIAS', '')\n",
    "    txt_pdf = txt_pdf.replace('Questões de 46 a 90', '')\n",
    "    txt_pdf = txt_pdf.replace('LINGUAGENS E CÓDIGOS E SUAS TECNOLOGIAS', '')\n",
    "    txt_pdf = txt_pdf.replace('Questões de 91 a 135', '')\n",
    "    txt_pdf = txt_pdf.replace('MATEMÁTICA E SUAS TECNOLOGIAS', '')\n",
    "    txt_pdf = txt_pdf.replace('Questões de 136 a 180', '')\n",
    "    txt_pdf = txt_pdf.replace('RASCUNHO DA REDAÇÃO', '')\n",
    "    txt_pdf = txt_pdf.replace('Transcreva a sua Redação para a Folha de Redação.', '')\n",
    "    txt_pdf = txt_pdf.replace('RASCUNHO\\nDA REDAÇÃO1', '')\n",
    "    txt_pdf = txt_pdf.replace('234567891011\\n12\\n131415161718192021222324252627282930', '')\n",
    "    #LC - 2º dia | Caderno 7 - AZUL - Página 31\n",
    "    #CH - 1º dia | Caderno 2 - AMARELO - Página 10\n",
    "    txt_pdf  = re.sub(r\"(LC)|(MT)|(CN)|(CH) - (1º)|(2º) dia \\| Caderno \\d+ - ((AMARELO)|(AZUL)|(CINZA)|(ROSA)|(BRANCO)) - Página \\d+\", '', txt_pdf)\n",
    "    txt_pdf  = re.sub(r\" - (1º)|(2º) dia \\| Caderno \\d+ - ((AMARELO)|(AZUL)|(CINZA)|(ROSA)|(BRANCO)) - Página \\d+\", '', txt_pdf)\n",
    "    #dia | Caderno 2 - AMARELO - Página 18\n",
    "    txt_pdf  = re.sub(r\"dia \\| Caderno \\d+ - ((AMARELO)|(AZUL)|(CINZA)|(ROSA)|(BRANCO)) - Página \\d+\", '', txt_pdf)\n",
    "    txt_pdf = txt_pdf.replace('CIÊNCIAS DA NATUREZ', '')\n",
    "    txt_pdf = txt_pdf.replace('CIÊNCIAS DA NATUREZAE SUAS TEOLOGIAS', '')\n",
    "    txt_pdf = txt_pdf.replace('AE SUAS TEOLOGIAS', '')\n",
    "    txt_pdf = txt_pdf.replace('E SUAS TEOLOGIAS', '')\n",
    "    txt_pdf = txt_pdf.replace('CIÊNCIAS DA N ATUREZA', '')\n",
    "    letras = ['\\nA ', '\\nB ',  '\\nC ','\\nD ', '\\nE ']\n",
    "    globals()['alternativa0'] = ''\n",
    "    globals()['alternativa1'] = ''\n",
    "    globals()['alternativa2'] = ''\n",
    "    globals()['alternativa3'] = ''\n",
    "    globals()['alternativa4'] = ''\n",
    "    for i in range(num_primeira_questao, num_ultima_questao+1):\n",
    "        print(i)\n",
    "        if i < num_ultima_questao:\n",
    "            #pattern = re.compile(r\"QUESTÃO \"+(str(0)+str(i) if i < 10 else str(i))+\"(.*?)QUESTÃO \"+(str(0)+str(i+1) if i+1 < 10 else str(i+1)), re.DOTALL)\n",
    "            pattern = re.compile(r\"QUESTÃO \"+(str(0)+str(i) if i < 10 else str(i))+\"(.*?)da Associação Brasileira para\", re.DOTALL)\n",
    "            questao = pattern.findall(txt_pdf)\n",
    "            if len(questao) == 0:\n",
    "                pattern = re.compile(r\"QUESTÃO \"+(str(0)+str(i) if i < 10 else str(i))+\"(.*?)QUESTÃO \\d+\", re.DOTALL)\n",
    "                questao = pattern.findall(txt_pdf)\n",
    "            #pattern = re.compile(r\"QUESTÃO \"+(str(0)+str(i) if i < 10 else str(i))+\"(.*?)QUESTÃO \\d+\", re.DOTALL)\n",
    "            #questao = pattern.findall(txt_pdf)\n",
    "            if (len(questao) > 0):\n",
    "                questao = questao[0]\n",
    "            else:\n",
    "                questao = ''\n",
    "            pattern = re.compile(r\"(.*)\"+letras[0], re.DOTALL)\n",
    "            texto_base = pattern.findall(questao)\n",
    "            if (len(texto_base) > 0):\n",
    "                texto_base = re.sub(r'\\s+', ' ', texto_base[0], flags=re.DOTALL)\n",
    "                print(texto_base)\n",
    "            else:\n",
    "                texto_base = ''\n",
    "            for j in range(len(letras)):\n",
    "                if j < 4:\n",
    "                    pattern = re.compile(r''+letras[j]+\"(.*?)\"+letras[j+1], re.DOTALL)\n",
    "                    alternativa = pattern.findall(questao)\n",
    "                    if (len(alternativa) > 0):\n",
    "                        alternativa = alternativa[0].replace('\\n','')\n",
    "                        print(j, alternativa)\n",
    "                        globals()['alternativa'+str(j)] = alternativa\n",
    "                    else:\n",
    "                        globals()['alternativa'+str(j)] = ''\n",
    "                else:\n",
    "                    pattern = re.compile(r''+letras[j]+\"(.*)\", re.DOTALL)\n",
    "                    alternativa = pattern.findall(questao)\n",
    "                    if (len(alternativa) > 0):\n",
    "                        alternativa = alternativa[0].replace('\\n','').strip()\n",
    "                        print(j, alternativa)\n",
    "                        globals()['alternativa'+str(j)] = alternativa\n",
    "                    else:\n",
    "                        globals()['alternativa'+str(j)] = ''\n",
    "            questao = questao.replace('\\n', '')\n",
    "            print(questao)\n",
    "        else:\n",
    "            pattern = re.compile(r\"QUESTÃO \"+str(i)+\"(.*)\", re.DOTALL)\n",
    "            questao = pattern.findall(txt_pdf)\n",
    "            questao = questao[0].strip()\n",
    "            pattern = re.compile(r\"(.*)\"+letras[0], re.DOTALL)\n",
    "            texto_base = pattern.findall(questao)\n",
    "            if (len(texto_base) > 0):\n",
    "                texto_base = re.sub(r'\\s+', ' ', texto_base[0], flags=re.DOTALL)\n",
    "                print(texto_base)\n",
    "            else:\n",
    "                texto_base = ''\n",
    "            for j in range(len(letras)):\n",
    "                if j < 4:\n",
    "                    pattern = re.compile(r''+letras[j]+\"(.*?)\"+letras[j+1], re.DOTALL)\n",
    "                    alternativa = pattern.findall(questao)\n",
    "                    if (len(alternativa) > 0):\n",
    "                        alternativa = alternativa[0].replace('\\n','').strip()\n",
    "                        print(j, alternativa)\n",
    "                        globals()['alternativa'+str(j)] = alternativa\n",
    "                    else:\n",
    "                        globals()['alternativa'+str(j)] = ''\n",
    "                else:\n",
    "                    pattern = re.compile(r''+letras[j]+\"(.*)\", re.DOTALL)\n",
    "                    alternativa = pattern.findall(questao)\n",
    "                    if (len(alternativa) > 0):\n",
    "                        alternativa = alternativa[0].replace('\\n','').strip()\n",
    "                        print(j, alternativa)\n",
    "                        globals()['alternativa'+str(j)] = alternativa\n",
    "                    else:\n",
    "                        globals()['alternativa'+str(j)] = ''\n",
    "            questao = re.sub(r'\\s+', ' ', questao, flags=re.DOTALL)\n",
    "            print(questao)\n",
    "        dados.append([ano, cor, meio_aplicacao, i, area, questao, texto_base, globals()['alternativa0'], globals()['alternativa1'], globals()['alternativa2'], globals()['alternativa3'], globals()['alternativa4']])\n",
    "    \n",
    "    #print(dados)\n",
    "    df_dados = pd.DataFrame(dados)\n",
    "    df_dados = df_dados.rename(columns={0: 'ano', 1: 'cor', 2: 'meio_aplicacao', 3: 'num_questao', 4: 'area', 5: 'texto_questao', 6: 'texto_base', 7: 'alternativa_A', 8: 'alternativa_B', 9: 'alternativa_C', 10: 'alternativa_D', 11: 'alternativa_E'})\n",
    "    df_dados = df_dados.sort_values(by='num_questao', ascending = True).reset_index(drop = True)\n",
    "    df_dados.to_csv(file_path + '.csv', sep = ';', index = False)\n",
    "    \n",
    "    return file_path, df_dados"
   ]
  },
  {
   "cell_type": "code",
   "execution_count": null,
   "id": "c7dada44",
   "metadata": {},
   "outputs": [],
   "source": [
    "file_path, df_Caderno1_Azul_Sab = extrai_questoes_4('_itens', 2013, 'Caderno1_Azul_Sab.pdf', 'AZUL', 'PAPEL', 'CH', 1, 90)"
   ]
  },
  {
   "cell_type": "code",
   "execution_count": null,
   "id": "e7cbdf6e",
   "metadata": {},
   "outputs": [],
   "source": [
    "df_Caderno1_Azul_Sab.loc[df_Caderno1_Azul_Sab['num_questao'] <= 45, 'area'] = 'CH'\n",
    "df_Caderno1_Azul_Sab.loc[df_Caderno1_Azul_Sab['num_questao'] > 45, 'area'] = 'CN'\n",
    "print(df_Caderno1_Azul_Sab.area.unique())\n",
    "df_Caderno1_Azul_Sab.to_csv(file_path + '.csv', sep = ';', index = False)"
   ]
  },
  {
   "cell_type": "code",
   "execution_count": null,
   "id": "0ea449f7",
   "metadata": {},
   "outputs": [],
   "source": [
    "file_path, df_Caderno2_Amarelo_Sab = extrai_questoes_4('_itens', 2013, 'Caderno2_Amarelo_Sab.pdf', 'AMARELO', 'PAPEL', 'CH', 1, 90)"
   ]
  },
  {
   "cell_type": "code",
   "execution_count": null,
   "id": "b2efcca9",
   "metadata": {},
   "outputs": [],
   "source": [
    "df_Caderno2_Amarelo_Sab.loc[df_Caderno2_Amarelo_Sab['num_questao'] <= 45, 'area'] = 'CH'\n",
    "df_Caderno2_Amarelo_Sab.loc[df_Caderno2_Amarelo_Sab['num_questao'] > 45, 'area'] = 'CN'\n",
    "print(df_Caderno2_Amarelo_Sab.area.unique())\n",
    "df_Caderno2_Amarelo_Sab.to_csv(file_path + '.csv', sep = ';', index = False)"
   ]
  },
  {
   "cell_type": "code",
   "execution_count": null,
   "id": "0c226a88",
   "metadata": {},
   "outputs": [],
   "source": [
    "file_path, df_Caderno4_Rosa_Sab = extrai_questoes_4('_itens', 2013, 'Caderno4_Rosa_Sab.pdf', 'ROSA', 'PAPEL', 'CH', 1, 90)"
   ]
  },
  {
   "cell_type": "code",
   "execution_count": null,
   "id": "33009c94",
   "metadata": {},
   "outputs": [],
   "source": [
    "df_Caderno4_Rosa_Sab.loc[df_Caderno4_Rosa_Sab['num_questao'] <= 45, 'area'] = 'CH'\n",
    "df_Caderno4_Rosa_Sab.loc[df_Caderno4_Rosa_Sab['num_questao'] > 45, 'area'] = 'CN'\n",
    "print(df_Caderno4_Rosa_Sab.area.unique())\n",
    "df_Caderno4_Rosa_Sab.to_csv(file_path + '.csv', sep = ';', index = False)"
   ]
  },
  {
   "cell_type": "code",
   "execution_count": null,
   "id": "996ece21",
   "metadata": {},
   "outputs": [],
   "source": [
    "file_path, df_Caderno5_Amarelo_Dom = extrai_questoes_4('_itens', 2013, 'Caderno5_Amarelo_Dom.pdf', 'AMARELO', 'PAPEL', 'LC', 96, 180)"
   ]
  },
  {
   "cell_type": "code",
   "execution_count": null,
   "id": "0b4d858b",
   "metadata": {},
   "outputs": [],
   "source": [
    "df_Caderno5_Amarelo_Dom.loc[df_Caderno5_Amarelo_Dom['num_questao'] <= 135, 'area'] = 'LC'\n",
    "df_Caderno5_Amarelo_Dom.loc[df_Caderno5_Amarelo_Dom['num_questao'] > 135, 'area'] = 'MT'\n",
    "print(df_Caderno5_Amarelo_Dom.area.unique())\n",
    "df_Caderno5_Amarelo_Dom.to_csv(file_path + '.csv', sep = ';', index = False)"
   ]
  },
  {
   "cell_type": "code",
   "execution_count": null,
   "id": "3a3a8fd6",
   "metadata": {},
   "outputs": [],
   "source": [
    "file_path, df_Caderno7_Azul_Dom = extrai_questoes_4('_itens', 2013, 'Caderno7_Azul_Dom.pdf', 'AZUL', 'PAPEL', 'LC', 96, 180)"
   ]
  },
  {
   "cell_type": "code",
   "execution_count": null,
   "id": "d383c3d4",
   "metadata": {},
   "outputs": [],
   "source": [
    "df_Caderno7_Azul_Dom.loc[df_Caderno7_Azul_Dom['num_questao'] <= 135, 'area'] = 'LC'\n",
    "df_Caderno7_Azul_Dom.loc[df_Caderno7_Azul_Dom['num_questao'] > 135, 'area'] = 'MT'\n",
    "print(df_Caderno7_Azul_Dom.area.unique())\n",
    "df_Caderno7_Azul_Dom.to_csv(file_path + '.csv', sep = ';', index = False)"
   ]
  },
  {
   "cell_type": "code",
   "execution_count": null,
   "id": "1aa570fb",
   "metadata": {},
   "outputs": [],
   "source": [
    "file_path, df_Caderno8_Rosa_Dom = extrai_questoes_4('_itens', 2013, 'Caderno8_Rosa_Dom.pdf', 'ROSA', 'PAPEL', 'LC', 96, 180)"
   ]
  },
  {
   "cell_type": "code",
   "execution_count": null,
   "id": "36b6cce0",
   "metadata": {},
   "outputs": [],
   "source": [
    "df_Caderno8_Rosa_Dom.loc[df_Caderno8_Rosa_Dom ['num_questao'] <= 135, 'area'] = 'LC'\n",
    "df_Caderno8_Rosa_Dom.loc[df_Caderno8_Rosa_Dom ['num_questao'] > 135, 'area'] = 'MT'\n",
    "print(df_Caderno8_Rosa_Dom.area.unique())\n",
    "df_Caderno8_Rosa_Dom.to_csv(file_path + '.csv', sep = ';', index = False)"
   ]
  },
  {
   "cell_type": "code",
   "execution_count": null,
   "id": "39a80fd3",
   "metadata": {},
   "outputs": [],
   "source": [
    "# Concatenação dos dataframes de 2009\n",
    "df_prova_2013 = pd.concat([df_Caderno1_Azul_Sab, \n",
    "                           df_Caderno2_Amarelo_Sab, \n",
    "                           df_Caderno4_Rosa_Sab,\n",
    "                           df_Caderno5_Amarelo_Dom,\n",
    "                           df_Caderno8_Rosa_Dom,\n",
    "                           df_Caderno7_Azul_Dom], ignore_index=True, axis = 0)\n",
    "\n",
    "# Resultado\n",
    "df_prova_2013.shape"
   ]
  },
  {
   "cell_type": "code",
   "execution_count": null,
   "id": "dde530ec",
   "metadata": {},
   "outputs": [],
   "source": [
    "file = os.path.join('_itens', str(2013), 'ITENS_PROVA_2013')\n",
    "df_itens_2013 = pd.read_csv(file + '.csv', sep = ';', encoding = 'ISO-8859-1')"
   ]
  },
  {
   "cell_type": "code",
   "execution_count": null,
   "id": "2ef2731d",
   "metadata": {},
   "outputs": [],
   "source": [
    "df_itens_2013['id'] = df_itens_2013['CO_POSICAO'].apply(str) + '_' + df_itens_2013['SG_AREA'].apply(str) + '_' + df_itens_2013['TX_COR'].apply(str)\n",
    "df_prova_2013['id'] = df_prova_2013['num_questao'].apply(str) + '_' + df_prova_2013['area'].apply(str) + '_' + df_prova_2013['cor'].apply(str)\n",
    "df_2013_merge = pd.merge(df_itens_2013, df_prova_2013, on='id', how='left')\n",
    "for col in df_2013_merge.columns:\n",
    "    df_2013_merge = df_2013_merge.rename(columns = {col:col.lower()})\n",
    "file = os.path.join('_itens', str(2013), '2013_ENEM_COMPLETA')\n",
    "df_2013_merge.to_csv(file + '.csv', sep = ';', index = False)\n",
    "df_2013_merge.to_csv(file + '.csv', sep = ';', index = False)"
   ]
  },
  {
   "cell_type": "code",
   "execution_count": null,
   "id": "bc0bbd70",
   "metadata": {},
   "outputs": [],
   "source": [
    "df_2013_merge.head(60)"
   ]
  },
  {
   "cell_type": "markdown",
   "id": "fb70cfaa",
   "metadata": {},
   "source": [
    "### 2014"
   ]
  },
  {
   "cell_type": "code",
   "execution_count": null,
   "id": "301d8f54",
   "metadata": {},
   "outputs": [],
   "source": [
    "#aplicado a 2013\n",
    "def extrai_questoes_5(dir_, ano, pdf, cor, meio_aplicacao, area, num_primeira_questao, num_ultima_questao):\n",
    "    dados = []\n",
    "    #arquivo pdf\n",
    "    file_path = os.path.join(dir_, str(ano), pdf)\n",
    "    # Abre o arquivo PDF\n",
    "    pdf_file = open(file_path, \"rb\")\n",
    "\n",
    "    # Cria um objeto PDFReader\n",
    "    pdf_reader = PyPDF2.PdfReader(pdf_file)\n",
    "\n",
    "    txt_pdf = ''\n",
    "    # Loop através de cada página do PDF\n",
    "    for page in range(len(pdf_reader.pages)):\n",
    "        # Obtém o objeto da página atual\n",
    "        page_obj = pdf_reader.pages[page]\n",
    "\n",
    "        # Extrai o texto da página atual\n",
    "        page_text = page_obj.extract_text()\n",
    "\n",
    "        # Escreve o texto extraído em um arquivo TXT\n",
    "        with open(file_path + '.txt', \"a\",  encoding=\"utf-8\") as text_file:\n",
    "            text_file.write(page_text)\n",
    "            txt_pdf += page_text + ' '\n",
    "\n",
    "    # Fecha o arquivo PDF\n",
    "    pdf_file.close()\n",
    "\n",
    "    file_path = os.path.join(dir_, str(ano), pdf+'.txt')\n",
    "    #print(txt_pdf)\n",
    "    txt_pdf  = re.sub(r'/g\\d+/', '', txt_pdf)\n",
    "    txt_pdf  = re.sub(r'g/', '', txt_pdf)\n",
    "    txt_pdf  = re.sub(r'/g/', '', txt_pdf)\n",
    "    txt_pdf  = re.sub(r'g\\d+', '', txt_pdf)\n",
    "    txt_pdf = re.sub(r'\\{2,}', \"\", txt_pdf)\n",
    "    txt_pdf = re.sub(r'\\/\\d+', \"\", txt_pdf)\n",
    "    txt_pdf = re.sub(r'#\\d+', \"\", txt_pdf)\n",
    "    txt_pdf = txt_pdf.replace('#2/', '')\n",
    "    txt_pdf = txt_pdf.replace('/', '')\n",
    "    #txt_pdf = re.sub(r'\\*azul75sab\\d+\\*', '', txt_pdf)\n",
    "    #txt_pdf = re.sub(r'\\*azul25dom\\d+\\*', '', txt_pdf)\n",
    "    #txt_pdf = re.sub(r'\\*amar25dom\\d+\\*', '', txt_pdf)\n",
    "    txt_pdf = re.sub(r'\\*((CINZ)|(ROSA)|(BRAN)|(AMAR)|(AZUL)|(Amar)|(amar)|(cinz)|(azul)|(rosa)|(bran))((25)|(75))((dom)|(sab)|(DOM)|(SAB))\\d+\\*', '', txt_pdf)\n",
    "    txt_pdf = txt_pdf.replace('2ª APLICAÇÃO', '')\n",
    "    txt_pdf = txt_pdf.replace('CIÊNCIAS HUMANAS E SUAS TECNOLOGIAS', '')\n",
    "    txt_pdf = txt_pdf.replace('Questões de 1 a 45', '')\n",
    "    txt_pdf = txt_pdf.replace('CIÊNCIAS DA NATUREZA E SUAS TECNOLOGIAS', '')\n",
    "    txt_pdf = txt_pdf.replace('Questões de 46 a 90', '')\n",
    "    txt_pdf = txt_pdf.replace('LINGUAGENS E CÓDIGOS E SUAS TECNOLOGIAS', '')\n",
    "    txt_pdf = txt_pdf.replace('Questões de 91 a 135', '')\n",
    "    txt_pdf = txt_pdf.replace('MATEMÁTICA E SUAS TECNOLOGIAS', '')\n",
    "    txt_pdf = txt_pdf.replace('Questões de 136 a 180', '')\n",
    "    txt_pdf = txt_pdf.replace('RASCUNHO DA REDAÇÃO', '')\n",
    "    txt_pdf = txt_pdf.replace('Transcreva a sua Redação para a Folha de Redação.', '')\n",
    "    txt_pdf = txt_pdf.replace('RASCUNHO\\nDA REDAÇÃO1', '')\n",
    "    txt_pdf = txt_pdf.replace('234567891011\\n12\\n131415161718192021222324252627282930', '')\n",
    "    txt_pdf = txt_pdf.replace('23456789101112131415161718192021222324252627282930', '')\n",
    "    \n",
    "    #LC - 2º dia | Caderno 7 - AZUL - Página 31\n",
    "    #CH - 1º dia | Caderno 2 - AMARELO - Página 10\n",
    "    txt_pdf  = re.sub(r\"(LC)|(MT)|(CN)|(CH) - (1º)|(2º) dia \\| Caderno \\d+ - ((AMARELO)|(AZUL)|(CINZA)|(ROSA)|(BRANCO)) - Página \\d+\", '', txt_pdf)\n",
    "    txt_pdf  = re.sub(r\" - (1º)|(2º) dia \\| Caderno \\d+ - ((AMARELO)|(AZUL)|(CINZA)|(ROSA)|(BRANCO)) - Página \\d+\", '', txt_pdf)\n",
    "    #dia | Caderno 2 - AMARELO - Página 18\n",
    "    txt_pdf  = re.sub(r\"dia \\| Caderno \\d+ - ((AMARELO)|(AZUL)|(CINZA)|(ROSA)|(BRANCO)) - Página \\d+\", '', txt_pdf)\n",
    "    txt_pdf = txt_pdf.replace('CIÊNCIAS DA NATUREZ', '')\n",
    "    txt_pdf = txt_pdf.replace('CIÊNCIAS DA NATUREZAE SUAS TEOLOGIAS', '')\n",
    "    txt_pdf = txt_pdf.replace('AE SUAS TEOLOGIAS', '')\n",
    "    txt_pdf = txt_pdf.replace('E SUAS TEOLOGIAS', '')\n",
    "    txt_pdf = txt_pdf.replace('CIÊNCIAS DA N ATUREZA', '')\n",
    "    txt_pdf = txt_pdf.replace('2014', '')    \n",
    "    letras = ['\\nA ', '\\nB ',  '\\nC ','\\nD ', '\\nE ']\n",
    "    globals()['alternativa0'] = ''\n",
    "    globals()['alternativa1'] = ''\n",
    "    globals()['alternativa2'] = ''\n",
    "    globals()['alternativa3'] = ''\n",
    "    globals()['alternativa4'] = ''\n",
    "    for i in range(num_primeira_questao, num_ultima_questao+1):\n",
    "        print(i)\n",
    "        if i < num_ultima_questao:\n",
    "            #pattern = re.compile(r\"QUESTÃO \"+(str(0)+str(i) if i < 10 else str(i))+\"(.*?)QUESTÃO \"+(str(0)+str(i+1) if i+1 < 10 else str(i+1)), re.DOTALL)\n",
    "            #pattern = re.compile(r\"QUESTÃO \"+(str(0)+str(i) if i < 10 else str(i))+\"(.*?)da Associação Brasileira para\", re.DOTALL)\n",
    "            #questao = pattern.findall(txt_pdf)\n",
    "            #if len(questao) == 0:\n",
    "                #pattern = re.compile(r\"QUESTÃO \"+(str(0)+str(i) if i < 10 else str(i))+\"(.*?)QUESTÃO \\d+\", re.DOTALL)\n",
    "                #questao = pattern.findall(txt_pdf)\n",
    "            pattern = re.compile(r\"QUESTÃO \"+(str(0)+str(i) if i < 10 else str(i))+\"(.*?)QUESTÃO \\d+\", re.DOTALL)\n",
    "            questao = pattern.findall(txt_pdf)\n",
    "            if (len(questao) > 0):\n",
    "                questao = questao[0]\n",
    "            else:\n",
    "                questao = ''\n",
    "            pattern = re.compile(r\"(.*)\"+letras[0], re.DOTALL)\n",
    "            texto_base = pattern.findall(questao)\n",
    "            if (len(texto_base) > 0):\n",
    "                texto_base = re.sub(r'\\s+', ' ', texto_base[0], flags=re.DOTALL)\n",
    "                print(texto_base)\n",
    "            else:\n",
    "                texto_base = ''\n",
    "            for j in range(len(letras)):\n",
    "                if j < 4:\n",
    "                    pattern = re.compile(r''+letras[j]+\"(.*?)\"+letras[j+1], re.DOTALL)\n",
    "                    alternativa = pattern.findall(questao)\n",
    "                    if (len(alternativa) > 0):\n",
    "                        alternativa = alternativa[0].replace('\\n','')\n",
    "                        print(j, alternativa)\n",
    "                        globals()['alternativa'+str(j)] = alternativa\n",
    "                    else:\n",
    "                        globals()['alternativa'+str(j)] = ''\n",
    "                else:\n",
    "                    pattern = re.compile(r''+letras[j]+\"(.*)\", re.DOTALL)\n",
    "                    alternativa = pattern.findall(questao)\n",
    "                    if (len(alternativa) > 0):\n",
    "                        alternativa = alternativa[0].replace('\\n','').strip()\n",
    "                        print(j, alternativa)\n",
    "                        globals()['alternativa'+str(j)] = alternativa\n",
    "                    else:\n",
    "                        globals()['alternativa'+str(j)] = ''\n",
    "            questao = questao.replace('\\n', '')\n",
    "            print(questao)\n",
    "        else:\n",
    "            pattern = re.compile(r\"QUESTÃO \"+str(i)+\"(.*)\", re.DOTALL)\n",
    "            questao = pattern.findall(txt_pdf)\n",
    "            questao = questao[0].strip()\n",
    "            pattern = re.compile(r\"(.*)\"+letras[0], re.DOTALL)\n",
    "            texto_base = pattern.findall(questao)\n",
    "            if (len(texto_base) > 0):\n",
    "                texto_base = re.sub(r'\\s+', ' ', texto_base[0], flags=re.DOTALL)\n",
    "                print(texto_base)\n",
    "            else:\n",
    "                texto_base = ''\n",
    "            for j in range(len(letras)):\n",
    "                if j < 4:\n",
    "                    pattern = re.compile(r''+letras[j]+\"(.*?)\"+letras[j+1], re.DOTALL)\n",
    "                    alternativa = pattern.findall(questao)\n",
    "                    if (len(alternativa) > 0):\n",
    "                        alternativa = alternativa[0].replace('\\n','').strip()\n",
    "                        print(j, alternativa)\n",
    "                        globals()['alternativa'+str(j)] = alternativa\n",
    "                    else:\n",
    "                        globals()['alternativa'+str(j)] = ''\n",
    "                else:\n",
    "                    pattern = re.compile(r''+letras[j]+\"(.*)\", re.DOTALL)\n",
    "                    alternativa = pattern.findall(questao)\n",
    "                    if (len(alternativa) > 0):\n",
    "                        alternativa = alternativa[0].replace('\\n','').strip()\n",
    "                        print(j, alternativa)\n",
    "                        globals()['alternativa'+str(j)] = alternativa\n",
    "                    else:\n",
    "                        globals()['alternativa'+str(j)] = ''\n",
    "            questao = re.sub(r'\\s+', ' ', questao, flags=re.DOTALL)\n",
    "            print(questao)\n",
    "        dados.append([ano, cor, meio_aplicacao, i, area, questao, texto_base, globals()['alternativa0'], globals()['alternativa1'], globals()['alternativa2'], globals()['alternativa3'], globals()['alternativa4']])\n",
    "    \n",
    "    #print(dados)\n",
    "    df_dados = pd.DataFrame(dados)\n",
    "    df_dados = df_dados.rename(columns={0: 'ano', 1: 'cor', 2: 'meio_aplicacao', 3: 'num_questao', 4: 'area', 5: 'texto_questao', 6: 'texto_base', 7: 'alternativa_A', 8: 'alternativa_B', 9: 'alternativa_C', 10: 'alternativa_D', 11: 'alternativa_E'})\n",
    "    df_dados = df_dados.sort_values(by='num_questao', ascending = True).reset_index(drop = True)\n",
    "    df_dados.to_csv(file_path + '.csv', sep = ';', index = False)\n",
    "    \n",
    "    return file_path, df_dados"
   ]
  },
  {
   "cell_type": "code",
   "execution_count": null,
   "id": "08905db3",
   "metadata": {},
   "outputs": [],
   "source": [
    "file_path, df_2014_PV_impresso_D1_CD1= extrai_questoes_5('_itens', 2014, '2014_PV_impresso_D1_CD1.pdf', 'Azul', 'PAPEL', 'CN', 1, 90)"
   ]
  },
  {
   "cell_type": "code",
   "execution_count": null,
   "id": "34f1e77b",
   "metadata": {},
   "outputs": [],
   "source": [
    "df_2014_PV_impresso_D1_CD1.loc[df_2014_PV_impresso_D1_CD1['num_questao'] <= 45, 'area'] = 'CH'\n",
    "df_2014_PV_impresso_D1_CD1.loc[df_2014_PV_impresso_D1_CD1['num_questao'] > 45, 'area'] = 'CN'\n",
    "print(df_2014_PV_impresso_D1_CD1.area.unique())\n",
    "df_2014_PV_impresso_D1_CD1.to_csv(file_path + '.csv', sep = ';', index = False)"
   ]
  },
  {
   "cell_type": "code",
   "execution_count": null,
   "id": "3d807392",
   "metadata": {},
   "outputs": [],
   "source": [
    "file_path, df_2014_PV_impresso_D2_CD5 = extrai_questoes_5('_itens', 2014, '2014_PV_impresso_D2_CD5.pdf', 'Amarelo', 'PAPEL', 'LC', 96, 180)"
   ]
  },
  {
   "cell_type": "code",
   "execution_count": null,
   "id": "32f505fd",
   "metadata": {},
   "outputs": [],
   "source": [
    "df_2014_PV_impresso_D2_CD5.loc[df_2014_PV_impresso_D2_CD5['num_questao'] <= 135, 'area'] = 'LC'\n",
    "df_2014_PV_impresso_D2_CD5.loc[df_2014_PV_impresso_D2_CD5['num_questao'] > 135, 'area'] = 'MT'\n",
    "print(df_2014_PV_impresso_D2_CD5.area.unique())\n",
    "df_2014_PV_impresso_D2_CD5.to_csv(file_path + '.csv', sep = ';', index = False)"
   ]
  },
  {
   "cell_type": "code",
   "execution_count": null,
   "id": "89bc11a5",
   "metadata": {},
   "outputs": [],
   "source": [
    "# Concatenação dos dataframes de 2009\n",
    "df_prova_2014 = pd.concat([df_2014_PV_impresso_D1_CD1, \n",
    "                           df_2014_PV_impresso_D2_CD5], ignore_index=True, axis = 0)\n",
    "\n",
    "# Resultado\n",
    "df_prova_2014.shape"
   ]
  },
  {
   "cell_type": "code",
   "execution_count": null,
   "id": "a768fd32",
   "metadata": {},
   "outputs": [],
   "source": [
    "file = os.path.join('_itens', str(2014), 'ITENS_PROVA_2014')\n",
    "df_itens_2014 = pd.read_csv(file + '.csv', sep = ';', encoding = 'ISO-8859-1')"
   ]
  },
  {
   "cell_type": "code",
   "execution_count": null,
   "id": "38ef50c6",
   "metadata": {},
   "outputs": [],
   "source": [
    "df_itens_2014['id'] = df_itens_2014['CO_POSICAO'].apply(str) + '_' + df_itens_2014['SG_AREA'].apply(str) + '_' + df_itens_2014['TX_COR'].apply(str)\n",
    "df_prova_2014['id'] = df_prova_2014['num_questao'].apply(str) + '_' + df_prova_2014['area'].apply(str) + '_' + df_prova_2014['cor'].apply(str)\n",
    "df_2014_merge = pd.merge(df_itens_2014, df_prova_2014, on='id', how='left')\n",
    "for col in df_2014_merge.columns:\n",
    "    df_2014_merge = df_2014_merge.rename(columns = {col:col.lower()})\n",
    "file = os.path.join('_itens', str(2014), '2014_ENEM_COMPLETA')\n",
    "df_2014_merge.to_csv(file + '.csv', sep = ';', index = False)\n",
    "df_2014_merge.to_csv(file + '.csv', sep = ';', index = False)"
   ]
  },
  {
   "cell_type": "markdown",
   "id": "356add82",
   "metadata": {},
   "source": [
    "### 2015"
   ]
  },
  {
   "cell_type": "code",
   "execution_count": null,
   "id": "a07e71ee",
   "metadata": {},
   "outputs": [],
   "source": [
    "#aplicado a 2015\n",
    "def extrai_questoes_6(dir_, ano, pdf, cor, meio_aplicacao, area, num_primeira_questao, num_ultima_questao):\n",
    "    dados = []\n",
    "    #arquivo pdf\n",
    "    file_path = os.path.join(dir_, str(ano), pdf)\n",
    "    # Abre o arquivo PDF\n",
    "    pdf_file = open(file_path, \"rb\")\n",
    "\n",
    "    # Cria um objeto PDFReader\n",
    "    pdf_reader = PyPDF2.PdfReader(pdf_file)\n",
    "\n",
    "    txt_pdf = ''\n",
    "    # Loop através de cada página do PDF\n",
    "    for page in range(len(pdf_reader.pages)):\n",
    "        # Obtém o objeto da página atual\n",
    "        page_obj = pdf_reader.pages[page]\n",
    "\n",
    "        # Extrai o texto da página atual\n",
    "        page_text = page_obj.extract_text()\n",
    "\n",
    "        # Escreve o texto extraído em um arquivo TXT\n",
    "        with open(file_path + '.txt', \"a\",  encoding=\"utf-8\") as text_file:\n",
    "            text_file.write(page_text)\n",
    "            txt_pdf += page_text + ' '\n",
    "\n",
    "    # Fecha o arquivo PDF\n",
    "    pdf_file.close()\n",
    "\n",
    "    file_path = os.path.join(dir_, str(ano), pdf+'.txt')\n",
    "    #print(txt_pdf)\n",
    "    txt_pdf  = re.sub(r'/g\\d+/', '', txt_pdf)\n",
    "    txt_pdf  = re.sub(r'g/', '', txt_pdf)\n",
    "    txt_pdf  = re.sub(r'/g/', '', txt_pdf)\n",
    "    txt_pdf = re.sub(r'\\{2,}', \"\", txt_pdf)\n",
    "    txt_pdf = re.sub(r'\\/\\d+', \"\", txt_pdf)\n",
    "    txt_pdf = re.sub(r'#\\d+', \"\", txt_pdf)\n",
    "    txt_pdf = txt_pdf.replace('#2/', '')\n",
    "    txt_pdf = txt_pdf.replace('/', '')\n",
    "    txt_pdf = re.sub(r'\\*((CINZ)|(ROSA)|(BRAN)|(AMAR)|(AZUL)|(Amar)|(amar)|(cinz)|(azul)|(rosa)|(bran))((25)|(75))((dom)|(sab)|(DOM)|(SAB))\\d+\\*', '', txt_pdf)\n",
    "    txt_pdf = txt_pdf.replace('2ª APLICAÇÃO', '')\n",
    "    txt_pdf = txt_pdf.replace('CIÊNCIAS HUMANAS E SUAS TECNOLOGIAS', '')\n",
    "    txt_pdf = txt_pdf.replace('Questões de 1 a 45', '')\n",
    "    txt_pdf = txt_pdf.replace('CIÊNCIAS DA NATUREZA E SUAS TECNOLOGIAS', '')\n",
    "    txt_pdf = txt_pdf.replace('Questões de 46 a 90', '')\n",
    "    txt_pdf = txt_pdf.replace('LINGUAGENS E CÓDIGOS E SUAS TECNOLOGIAS', '')\n",
    "    txt_pdf = txt_pdf.replace('Questões de 91 a 135', '')\n",
    "    txt_pdf = txt_pdf.replace('MATEMÁTICA E SUAS TECNOLOGIAS', '')\n",
    "    txt_pdf = txt_pdf.replace('Questões de 136 a 180', '')\n",
    "    txt_pdf = txt_pdf.replace('RASCUNHO DA REDAÇÃO', '')\n",
    "    txt_pdf = txt_pdf.replace('Transcreva a sua Redação para a Folha de Redação.', '')\n",
    "    txt_pdf = txt_pdf.replace('RASCUNHO\\nDA REDAÇÃO1', '')\n",
    "    txt_pdf = txt_pdf.replace('234567891011\\n12\\n131415161718192021222324252627282930', '')\n",
    "    txt_pdf  = re.sub(r\"(LC)|(MT)|(CN)|(CH) - (1º)|(2º) dia \\| Caderno \\d+ - ((AMARELO)|(AZUL)|(CINZA)|(ROSA)|(BRANCO)) - Página \\d+\", '', txt_pdf)\n",
    "    txt_pdf  = re.sub(r\" - (1º)|(2º) dia \\| Caderno \\d+ - ((AMARELO)|(AZUL)|(CINZA)|(ROSA)|(BRANCO)) - Página \\d+\", '', txt_pdf)\n",
    "    txt_pdf  = re.sub(r\"dia \\| Caderno \\d+ - ((AMARELO)|(AZUL)|(CINZA)|(ROSA)|(BRANCO)) - Página \\d+\", '', txt_pdf)\n",
    "    txt_pdf = txt_pdf.replace('CIÊNCIAS DA NATUREZ', '')\n",
    "    txt_pdf = txt_pdf.replace('CIÊNCIAS DA NATUREZAE SUAS TEOLOGIAS', '')\n",
    "    txt_pdf = txt_pdf.replace('AE SUAS TEOLOGIAS', '')\n",
    "    txt_pdf = txt_pdf.replace('E SUAS TEOLOGIAS', '')\n",
    "    txt_pdf = txt_pdf.replace('CIÊNCIAS DA N ATUREZA', '')\n",
    "    txt_pdf = txt_pdf.replace('2014', '')\n",
    "    txt_pdf = txt_pdf.replace('\\n2015', '')\n",
    "    txt_pdf = txt_pdf.replace('. 2015', '')\n",
    "    txt_pdf = txt_pdf.replace('.  2015', '')\n",
    "    letras = ['\\nA ', '\\nB ',  '\\nC ','\\nD ', '\\nE ']\n",
    "    globals()['alternativa0'] = ''\n",
    "    globals()['alternativa1'] = ''\n",
    "    globals()['alternativa2'] = ''\n",
    "    globals()['alternativa3'] = ''\n",
    "    globals()['alternativa4'] = ''\n",
    "    for i in range(num_primeira_questao, num_ultima_questao+1):\n",
    "        print(i)\n",
    "        if i < num_ultima_questao:\n",
    "            #pattern = re.compile(r\"QUESTÃO \"+(str(0)+str(i) if i < 10 else str(i))+\"(.*?)QUESTÃO \"+(str(0)+str(i+1) if i+1 < 10 else str(i+1)), re.DOTALL)\n",
    "            #pattern = re.compile(r\"QUESTÃO \"+(str(0)+str(i) if i < 10 else str(i))+\"(.*?)da Associação Brasileira para\", re.DOTALL)\n",
    "            #questao = pattern.findall(txt_pdf)\n",
    "            #if len(questao) == 0:\n",
    "                #pattern = re.compile(r\"QUESTÃO \"+(str(0)+str(i) if i < 10 else str(i))+\"(.*?)QUESTÃO \\d+\", re.DOTALL)\n",
    "                #questao = pattern.findall(txt_pdf)\n",
    "            pattern = re.compile(r\"QUESTÃO \"+(str(0)+str(i) if i < 10 else str(i))+\"(.*?)QUESTÃO \\d+\", re.DOTALL)\n",
    "            questao = pattern.findall(txt_pdf)\n",
    "            if (len(questao) > 0):\n",
    "                questao = questao[0]\n",
    "            else:\n",
    "                questao = ''\n",
    "            pattern = re.compile(r\"(.*)\"+letras[0], re.DOTALL)\n",
    "            texto_base = pattern.findall(questao)\n",
    "            if (len(texto_base) > 0):\n",
    "                texto_base = re.sub(r'\\s+', ' ', texto_base[0], flags=re.DOTALL)\n",
    "                print(texto_base)\n",
    "            else:\n",
    "                texto_base = ''\n",
    "            for j in range(len(letras)):\n",
    "                if j < 4:\n",
    "                    pattern = re.compile(r''+letras[j]+\"(.*?)\"+letras[j+1], re.DOTALL)\n",
    "                    alternativa = pattern.findall(questao)\n",
    "                    if (len(alternativa) > 0):\n",
    "                        alternativa = alternativa[0].replace('\\n','')\n",
    "                        print(j, alternativa)\n",
    "                        globals()['alternativa'+str(j)] = alternativa\n",
    "                    else:\n",
    "                        globals()['alternativa'+str(j)] = ''\n",
    "                else:\n",
    "                    pattern = re.compile(r''+letras[j]+\"(.*)\", re.DOTALL)\n",
    "                    alternativa = pattern.findall(questao)\n",
    "                    if (len(alternativa) > 0):\n",
    "                        alternativa = alternativa[0].replace('\\n','').strip()\n",
    "                        print(j, alternativa)\n",
    "                        globals()['alternativa'+str(j)] = alternativa\n",
    "                    else:\n",
    "                        globals()['alternativa'+str(j)] = ''\n",
    "            questao = questao.replace('\\n', '')\n",
    "            print(questao)\n",
    "        else:\n",
    "            pattern = re.compile(r\"QUESTÃO \"+str(i)+\"(.*)\", re.DOTALL)\n",
    "            questao = pattern.findall(txt_pdf)\n",
    "            questao = questao[0].strip()\n",
    "            pattern = re.compile(r\"(.*)\"+letras[0], re.DOTALL)\n",
    "            texto_base = pattern.findall(questao)\n",
    "            if (len(texto_base) > 0):\n",
    "                texto_base = re.sub(r'\\s+', ' ', texto_base[0], flags=re.DOTALL)\n",
    "                \n",
    "                print(texto_base)\n",
    "            else:\n",
    "                texto_base = ''\n",
    "            for j in range(len(letras)):\n",
    "                if j < 4:\n",
    "                    pattern = re.compile(r''+letras[j]+\"(.*?)\"+letras[j+1], re.DOTALL)\n",
    "                    alternativa = pattern.findall(questao)\n",
    "                    if (len(alternativa) > 0):\n",
    "                        alternativa = re.sub(r'\\s+', ' ', alternativa[0], flags=re.DOTALL)\n",
    "                        print(j, alternativa)\n",
    "                        alternativa = alternativa.replace('RAScUnHO DA REDAÇÃO2015 1 2 3 4 56 7 8910111213141516 17 18192021222324252627 28 29 30', '')\n",
    "                        globals()['alternativa'+str(j)] = alternativa\n",
    "                    else:\n",
    "                        globals()['alternativa'+str(j)] = ''\n",
    "                else:\n",
    "                    pattern = re.compile(r''+letras[j]+\"(.*)\", re.DOTALL)\n",
    "                    alternativa = pattern.findall(questao)\n",
    "                    if (len(alternativa) > 0):\n",
    "                        alternativa = re.sub(r'\\s+', ' ', alternativa[0], flags=re.DOTALL)\n",
    "                        print(j, alternativa)\n",
    "                        alternativa = alternativa.replace('RAScUnHO DA REDAÇÃO2015 1 2 3 4 56 7 8910111213141516 17 18192021222324252627 28 29 30', '')\n",
    "                        globals()['alternativa'+str(j)] = alternativa\n",
    "                    else:\n",
    "                        globals()['alternativa'+str(j)] = ''\n",
    "            questao = re.sub(r'\\s+', ' ', questao, flags=re.DOTALL)\n",
    "            questao = questao.replace('RAScUnHODA REDAÇÃO2015123456789101112131415161718192021222324252627282930', '')\n",
    "            questao = questao.replace('RAScUnHO DA REDAÇÃO2015 1 2 3 4 56 7 8910111213141516 17 18192021222324252627 28 29 30', '')\n",
    "            print(questao)\n",
    "        dados.append([ano, cor, meio_aplicacao, i, area, questao, texto_base, globals()['alternativa0'], globals()['alternativa1'], globals()['alternativa2'], globals()['alternativa3'], globals()['alternativa4']])\n",
    "    \n",
    "    #print(dados)\n",
    "    df_dados = pd.DataFrame(dados)\n",
    "    df_dados = df_dados.rename(columns={0: 'ano', 1: 'cor', 2: 'meio_aplicacao', 3: 'num_questao', 4: 'area', 5: 'texto_questao', 6: 'texto_base', 7: 'alternativa_A', 8: 'alternativa_B', 9: 'alternativa_C', 10: 'alternativa_D', 11: 'alternativa_E'})\n",
    "    df_dados = df_dados.sort_values(by='num_questao', ascending = True).reset_index(drop = True)\n",
    "    df_dados.to_csv(file_path + '.csv', sep = ';', index = False)\n",
    "    \n",
    "    return file_path, df_dados"
   ]
  },
  {
   "cell_type": "code",
   "execution_count": null,
   "id": "fe26c3c4",
   "metadata": {},
   "outputs": [],
   "source": [
    "file_path, df_2015_PV_impresso_D1_CD1 = extrai_questoes_6('_itens', 2015, '2015_PV_impresso_D1_CD1.pdf', 'Azul', 'PAPEL', 'CH', 1, 90)"
   ]
  },
  {
   "cell_type": "code",
   "execution_count": null,
   "id": "f5e068b6",
   "metadata": {},
   "outputs": [],
   "source": [
    "df_2015_PV_impresso_D1_CD1.loc[df_2015_PV_impresso_D1_CD1['num_questao'] <= 45, 'area'] = 'CH'\n",
    "df_2015_PV_impresso_D1_CD1.loc[df_2015_PV_impresso_D1_CD1['num_questao'] > 45, 'area'] = 'CN'\n",
    "print(df_2015_PV_impresso_D1_CD1.area.unique())\n",
    "df_2015_PV_impresso_D1_CD1.to_csv(file_path + '.csv', sep = ';', index = False)"
   ]
  },
  {
   "cell_type": "code",
   "execution_count": null,
   "id": "d3130e38",
   "metadata": {},
   "outputs": [],
   "source": [
    "file_path, df_2015_PV_impresso_D2_CD2 = extrai_questoes_6('_itens', 2015, '2015_PV_impresso_D2_CD7.pdf', 'Azul', 'PAPEL', 'LC', 96, 180)"
   ]
  },
  {
   "cell_type": "code",
   "execution_count": null,
   "id": "094c87c6",
   "metadata": {},
   "outputs": [],
   "source": [
    "df_2015_PV_impresso_D2_CD2.loc[df_2015_PV_impresso_D2_CD2['num_questao'] <= 135, 'area'] = 'LC'\n",
    "df_2015_PV_impresso_D2_CD2.loc[df_2015_PV_impresso_D2_CD2['num_questao'] > 135, 'area'] = 'MT'\n",
    "print(df_2015_PV_impresso_D2_CD2.area.unique())\n",
    "df_2015_PV_impresso_D2_CD2.to_csv(file_path + '.csv', sep = ';', index = False)"
   ]
  },
  {
   "cell_type": "code",
   "execution_count": null,
   "id": "8151d090",
   "metadata": {},
   "outputs": [],
   "source": [
    "# Concatenação dos dataframes de 2009\n",
    "df_prova_2015 = pd.concat([df_2015_PV_impresso_D1_CD1, \n",
    "                           df_2015_PV_impresso_D2_CD2], ignore_index=True, axis = 0)\n",
    "\n",
    "# Resultado\n",
    "df_prova_2015.shape"
   ]
  },
  {
   "cell_type": "code",
   "execution_count": null,
   "id": "e75f80a1",
   "metadata": {},
   "outputs": [],
   "source": [
    "file = os.path.join('_itens', str(2015), 'ITENS_PROVA_2015')\n",
    "df_itens_2015 = pd.read_csv(file + '.csv', sep = ';', encoding = 'ISO-8859-1')\n",
    "df_itens_2015['id'] = df_itens_2015['CO_POSICAO'].apply(str) + '_' + df_itens_2015['SG_AREA'].apply(str) + '_' + df_itens_2015['TX_COR'].apply(str)\n",
    "df_prova_2015['id'] = df_prova_2015['num_questao'].apply(str) + '_' + df_prova_2015['area'].apply(str) + '_' + df_prova_2015['cor'].apply(str)\n",
    "df_2015_merge = pd.merge(df_itens_2015, df_prova_2015, on='id', how='left')\n",
    "for col in df_2015_merge.columns:\n",
    "    df_2015_merge = df_2015_merge.rename(columns = {col:col.lower()})\n",
    "file = os.path.join('_itens', str(2015), '2015_ENEM_COMPLETA')\n",
    "df_2015_merge.to_csv(file + '.csv', sep = ';', index = False)\n",
    "df_2015_merge.to_csv(file + '.csv', sep = ';', index = False)"
   ]
  },
  {
   "cell_type": "markdown",
   "id": "a505abb1",
   "metadata": {},
   "source": [
    "### 2017"
   ]
  },
  {
   "cell_type": "code",
   "execution_count": null,
   "id": "675818d5",
   "metadata": {},
   "outputs": [],
   "source": [
    "#aplicado a 2015\n",
    "def extrai_questoes_7(dir_, ano, pdf, cor, meio_aplicacao, area, co_prova, num_primeira_questao, num_ultima_questao):\n",
    "    dados = []\n",
    "    #arquivo pdf\n",
    "    file_path = os.path.join(dir_, str(ano), pdf)\n",
    "    # Abre o arquivo PDF\n",
    "    pdf_file = open(file_path, \"rb\")\n",
    "\n",
    "    # Cria um objeto PDFReader\n",
    "    pdf_reader = PyPDF2.PdfReader(pdf_file)\n",
    "\n",
    "    txt_pdf = ''\n",
    "    # Loop através de cada página do PDF\n",
    "    for page in range(len(pdf_reader.pages)):\n",
    "        # Obtém o objeto da página atual\n",
    "        page_obj = pdf_reader.pages[page]\n",
    "\n",
    "        # Extrai o texto da página atual\n",
    "        page_text = page_obj.extract_text()\n",
    "\n",
    "        # Escreve o texto extraído em um arquivo TXT\n",
    "        with open(file_path + '.txt', \"a\",  encoding=\"utf-8\") as text_file:\n",
    "            text_file.write(page_text)\n",
    "            txt_pdf += page_text + ' '\n",
    "\n",
    "    # Fecha o arquivo PDF\n",
    "    pdf_file.close()\n",
    "\n",
    "    file_path = os.path.join(dir_, str(ano), pdf+'.txt')\n",
    "    #print(txt_pdf)\n",
    "    txt_pdf  = re.sub(r'/g\\d+/', '', txt_pdf)\n",
    "    txt_pdf  = re.sub(r'g/', '', txt_pdf)\n",
    "    txt_pdf  = re.sub(r'/g/', '', txt_pdf)\n",
    "    txt_pdf = re.sub(r'\\{2,}', \"\", txt_pdf)\n",
    "    txt_pdf = re.sub(r'\\/\\d+', \"\", txt_pdf)\n",
    "    txt_pdf = re.sub(r'#\\d+', \"\", txt_pdf)\n",
    "    txt_pdf = txt_pdf.replace('#2/', '')\n",
    "    txt_pdf = txt_pdf.replace('/', '')\n",
    "    #*SA0175AZ6*\n",
    "    #*DO0525AM31*\n",
    "    txt_pdf = re.sub(r\"\\*2017[A-Z]{2}\\d{4}[A-Z]{2}\\d+\\*\", '', txt_pdf)\n",
    "    txt_pdf = re.sub(r\"\\*[A-Z]{2}\\d{4}[A-Z]{2}\\d+\\*\", '', txt_pdf)\n",
    "    txt_pdf = re.sub(r'\\*((SA)(CINZ)|(ROSA)|(BRAN)|(AMAR)|(AZUL)|(Amar)|(amar)|(cinz)|(azul)|(rosa)|(bran))[0-9]+((AZ)(dom)|(sab)|(DOM)|(SAB))\\d+\\*', '', txt_pdf)\n",
    "    txt_pdf = txt_pdf.replace('2ª APLICAÇÃO', '')\n",
    "    txt_pdf = txt_pdf.replace('CIÊNCIAS HUMANAS E SUAS TECNOLOGIAS', '')\n",
    "    txt_pdf = txt_pdf.replace('Questões de 1 a 45', '')\n",
    "    txt_pdf = txt_pdf.replace('CIÊNCIAS DA NATUREZA E SUAS TECNOLOGIAS', '')\n",
    "    txt_pdf = txt_pdf.replace('Questões de 46 a 90', '')\n",
    "    txt_pdf = txt_pdf.replace('LINGUAGENS E CÓDIGOS E SUAS TECNOLOGIAS', '')\n",
    "    txt_pdf = txt_pdf.replace('Questões de 91 a 135', '')\n",
    "    txt_pdf = txt_pdf.replace('MATEMÁTICA E SUAS TECNOLOGIAS', '')\n",
    "    txt_pdf = txt_pdf.replace('Questões de 136 a 180', '')\n",
    "    txt_pdf = txt_pdf.replace('RASCUNHO DA REDAÇÃO', '')\n",
    "    txt_pdf = txt_pdf.replace('Transcreva a sua Redação para a Folha de Redação.', '')\n",
    "    txt_pdf = txt_pdf.replace('RASCUNHO\\nDA REDAÇÃO1', '')\n",
    "    txt_pdf = txt_pdf.replace('234567891011\\n12\\n131415161718192021222324252627282930', '')\n",
    "    txt_pdf  = re.sub(r\"(LC)|(MT)|(CN)|(CH) - (1º)|(2º) dia \\| Caderno \\d+ - ((AMARELO)|(AZUL)|(CINZA)|(ROSA)|(BRANCO)) - Página \\d+\", '', txt_pdf)\n",
    "    txt_pdf  = re.sub(r\" - (1º)|(2º) dia \\| Caderno \\d+ - ((AMARELO)|(AZUL)|(CINZA)|(ROSA)|(BRANCO)) - Página \\d+\", '', txt_pdf)\n",
    "    txt_pdf  = re.sub(r\"dia \\| Caderno \\d+ - ((AMARELO)|(AZUL)|(CINZA)|(ROSA)|(BRANCO)) - Página \\d+\", '', txt_pdf)\n",
    "    txt_pdf = txt_pdf.replace('CIÊNCIAS DA NATUREZ', '')\n",
    "    txt_pdf = txt_pdf.replace('CIÊNCIAS DA NATUREZAE SUAS TEOLOGIAS', '')\n",
    "    txt_pdf = txt_pdf.replace('AE SUAS TEOLOGIAS', '')\n",
    "    txt_pdf = txt_pdf.replace('E SUAS TEOLOGIAS', '')\n",
    "    txt_pdf = txt_pdf.replace('CIÊNCIAS DA N ATUREZA', '')\n",
    "    txt_pdf = txt_pdf.replace('2014', '')\n",
    "    txt_pdf = txt_pdf.replace('\\n2015', '')\n",
    "    txt_pdf = txt_pdf.replace('. 2015', '')\n",
    "    txt_pdf = txt_pdf.replace('.  2015', '')\n",
    "    txt_pdf = txt_pdf.replace('- 2017', '')\n",
    "    txt_pdf = txt_pdf.replace('23456789101112131415161718192021222324252627282930', '')\n",
    "    letras = ['\\nA ', '\\nB ', '\\nC ', '\\nD ', '\\nE ']\n",
    "    #letras = ['A\\n ', 'B\\n ', 'C\\n ', 'D\\n ', 'E\\n']\n",
    "    globals()['alternativa0'] = ''\n",
    "    globals()['alternativa1'] = ''\n",
    "    globals()['alternativa2'] = ''\n",
    "    globals()['alternativa3'] = ''\n",
    "    globals()['alternativa4'] = ''\n",
    "    for i in range(num_primeira_questao, num_ultima_questao+1):\n",
    "        print(i)\n",
    "        if i < num_ultima_questao:\n",
    "            #pattern = re.compile(r\"QUESTÃO \"+(str(0)+str(i) if i < 10 else str(i))+\"(.*?)QUESTÃO \"+(str(0)+str(i+1) if i+1 < 10 else str(i+1)), re.DOTALL)\n",
    "            #pattern = re.compile(r\"QUESTÃO \"+(str(0)+str(i) if i < 10 else str(i))+\"(.*?)da Associação Brasileira para\", re.DOTALL)\n",
    "            #questao = pattern.findall(txt_pdf)\n",
    "            #if len(questao) == 0:\n",
    "                #pattern = re.compile(r\"QUESTÃO \"+(str(0)+str(i) if i < 10 else str(i))+\"(.*?)QUESTÃO \\d+\", re.DOTALL)\n",
    "                #questao = pattern.findall(txt_pdf)\n",
    "            pattern = re.compile(r\"QUESTÃO \"+(str(0)+str(i) if i < 10 else str(i))+\"(.*?)QUESTÃO \\d+\", re.DOTALL)\n",
    "            questao = pattern.findall(txt_pdf)\n",
    "            if (len(questao) > 0):\n",
    "                questao = questao[0]\n",
    "            else:\n",
    "                questao = ''\n",
    "            pattern = re.compile(r\"(.*)\"+letras[0], re.DOTALL)\n",
    "            texto_base = pattern.findall(questao)\n",
    "            if (len(texto_base) > 0):\n",
    "                texto_base = re.sub(r'\\s+', ' ', texto_base[0], flags=re.DOTALL)\n",
    "                print(texto_base)\n",
    "            else:\n",
    "                texto_base = ''\n",
    "            for j in range(len(letras)):\n",
    "                if j < 4:\n",
    "                    pattern = re.compile(r''+letras[j]+\"(.*?)\"+letras[j+1], re.DOTALL)\n",
    "                    #(?<=(A\\n|\\nA)).*?(?=B\\n|\\nB)\n",
    "                    #pattern = re.compile(r'(?<=(\\n'+letras[j]+' |'+letras[j]+'\\n|\\n'+letras[j]+')).*?(?=\\n'+letras[j+1]+' |'+letras[j+1]+'\\n|\\n'+letras[j+1]+' )', re.DOTALL)\n",
    "                    alternativa = pattern.findall(questao)\n",
    "                    if (len(alternativa) > 0):\n",
    "                        alternativa = re.sub(r'\\s+', ' ', alternativa[0], flags=re.DOTALL)\n",
    "                        print(j, alternativa)\n",
    "                        globals()['alternativa'+str(j)] = alternativa\n",
    "                    else:\n",
    "                        globals()['alternativa'+str(j)] = ''\n",
    "                else:\n",
    "                    pattern = re.compile(r''+letras[j]+\"(.*)\", re.DOTALL)\n",
    "                    alternativa = pattern.findall(questao)\n",
    "                    if (len(alternativa) > 0):\n",
    "                        alternativa = re.sub(r'\\s+', ' ', alternativa[0], flags=re.DOTALL)\n",
    "                        print(j, alternativa)\n",
    "                        globals()['alternativa'+str(j)] = alternativa\n",
    "                    else:\n",
    "                        globals()['alternativa'+str(j)] = ''\n",
    "            questao = questao.replace('\\n', '')\n",
    "            print(questao)\n",
    "        else:\n",
    "            pattern = re.compile(r\"QUESTÃO \"+str(i)+\"(.*)\", re.DOTALL)\n",
    "            questao = pattern.findall(txt_pdf)\n",
    "            questao = questao[0].strip()\n",
    "            pattern = re.compile(r\"(.*)\"+letras[0], re.DOTALL)\n",
    "            texto_base = pattern.findall(questao)\n",
    "            if (len(texto_base) > 0):\n",
    "                texto_base = re.sub(r'\\s+', ' ', texto_base[0], flags=re.DOTALL)\n",
    "                \n",
    "                print(texto_base)\n",
    "            else:\n",
    "                texto_base = ''\n",
    "            for j in range(len(letras)):\n",
    "                if j < 4:\n",
    "                    pattern = re.compile(r''+letras[j]+\"(.*?)\"+letras[j+1], re.DOTALL)\n",
    "                    alternativa = pattern.findall(questao)\n",
    "                    if (len(alternativa) > 0):\n",
    "                        alternativa = re.sub(r'\\s+', ' ', alternativa[0], flags=re.DOTALL)\n",
    "                        print(j, alternativa)\n",
    "                        alternativa = alternativa.replace('23456789101112131415161718192021222324252627282930', '')\n",
    "                        globals()['alternativa'+str(j)] = alternativa\n",
    "                    else:\n",
    "                        globals()['alternativa'+str(j)] = ''\n",
    "                else:\n",
    "                    pattern = re.compile(r''+letras[j]+\"(.*)\", re.DOTALL)\n",
    "                    alternativa = pattern.findall(questao)\n",
    "                    if (len(alternativa) > 0):\n",
    "                        alternativa = re.sub(r'\\s+', ' ', alternativa[0], flags=re.DOTALL)\n",
    "                        print(j, alternativa)\n",
    "                        alternativa = alternativa.replace('23456789101112131415161718192021222324252627282930', '')\n",
    "                        globals()['alternativa'+str(j)] = alternativa\n",
    "                    else:\n",
    "                        globals()['alternativa'+str(j)] = ''\n",
    "            questao = re.sub(r'\\s+', ' ', questao, flags=re.DOTALL)\n",
    "            questao = questao.replace('RAScUnHODA REDAÇÃO2015123456789101112131415161718192021222324252627282930', '')\n",
    "            questao = questao.replace('RAScUnHO DA REDAÇÃO2015 1 2 3 4 56 7 8910111213141516 17 18192021222324252627 28 29 30', '')\n",
    "            print(questao)\n",
    "        dados.append([ano, cor, meio_aplicacao, i, area, co_prova, questao, texto_base, globals()['alternativa0'], globals()['alternativa1'], globals()['alternativa2'], globals()['alternativa3'], globals()['alternativa4']])\n",
    "    \n",
    "    #print(dados)\n",
    "    df_dados = pd.DataFrame(dados)\n",
    "    df_dados = df_dados.rename(columns={0: 'ano', 1: 'cor', 2: 'meio_aplicacao', 3: 'num_questao', 4: 'area', 5: 'co_prova', 6: 'texto_questao', 7: 'texto_base', 8: 'alternativa_A', 9: 'alternativa_B', 10: 'alternativa_C', 11: 'alternativa_D', 12: 'alternativa_E'})\n",
    "    df_dados = df_dados.sort_values(by='num_questao', ascending = True).reset_index(drop = True)\n",
    "    df_dados.to_csv(file_path + '.csv', sep = ';', index = False)\n",
    "    \n",
    "    return file_path, df_dados"
   ]
  },
  {
   "cell_type": "markdown",
   "id": "d24e90fb",
   "metadata": {},
   "source": [
    "#### P1"
   ]
  },
  {
   "cell_type": "code",
   "execution_count": null,
   "id": "85b74725",
   "metadata": {},
   "outputs": [],
   "source": [
    "file_path, df_ENEM_2017_P1_CAD_01_DIA_1_AZUL = extrai_questoes_7('_itens', 2017, 'ENEM_2017_P1_CAD_01_DIA_1_AZUL.pdf', 'AZUL', 'PAPEL', 'LC', 399,  6, 90)"
   ]
  },
  {
   "cell_type": "code",
   "execution_count": null,
   "id": "3b7fdfe5",
   "metadata": {},
   "outputs": [],
   "source": [
    "df_ENEM_2017_P1_CAD_01_DIA_1_AZUL.loc[df_ENEM_2017_P1_CAD_01_DIA_1_AZUL['num_questao'] <= 45, 'area'] = 'LC'\n",
    "df_ENEM_2017_P1_CAD_01_DIA_1_AZUL.loc[df_ENEM_2017_P1_CAD_01_DIA_1_AZUL['num_questao'] <= 45, 'co_prova'] = 399\n",
    "df_ENEM_2017_P1_CAD_01_DIA_1_AZUL.loc[df_ENEM_2017_P1_CAD_01_DIA_1_AZUL['num_questao'] > 45, 'area'] = 'CH'\n",
    "df_ENEM_2017_P1_CAD_01_DIA_1_AZUL.loc[df_ENEM_2017_P1_CAD_01_DIA_1_AZUL['num_questao'] > 45, 'co_prova'] = 395\n",
    "df_ENEM_2017_P1_CAD_01_DIA_1_AZUL.loc[df_ENEM_2017_P1_CAD_01_DIA_1_AZUL['num_questao'] <= 45, 'num_questao'] = df_ENEM_2017_P1_CAD_01_DIA_1_AZUL.loc[df_ENEM_2017_P1_CAD_01_DIA_1_AZUL['num_questao'] <= 45, 'num_questao'] + 5\n",
    "df_ENEM_2017_P1_CAD_01_DIA_1_AZUL.loc[(df_ENEM_2017_P1_CAD_01_DIA_1_AZUL['num_questao'] > 45) & (df_ENEM_2017_P1_CAD_01_DIA_1_AZUL['area'] == 'CH'), 'num_questao'] = df_ENEM_2017_P1_CAD_01_DIA_1_AZUL.loc[(df_ENEM_2017_P1_CAD_01_DIA_1_AZUL['num_questao'] > 45) & (df_ENEM_2017_P1_CAD_01_DIA_1_AZUL['area'] == 'CH'), 'num_questao'] - 45\n",
    "print(np.sort(df_ENEM_2017_P1_CAD_01_DIA_1_AZUL.num_questao.unique()))\n",
    "print(df_ENEM_2017_P1_CAD_01_DIA_1_AZUL.area.unique())\n",
    "print(df_ENEM_2017_P1_CAD_01_DIA_1_AZUL.co_prova.unique())\n",
    "df_ENEM_2017_P1_CAD_01_DIA_1_AZUL.to_csv(file_path + '.csv', sep = ';', index = False)"
   ]
  },
  {
   "cell_type": "code",
   "execution_count": null,
   "id": "96362e43",
   "metadata": {},
   "outputs": [],
   "source": [
    "file_path, df_ENEM_2017_P1_CAD_02_DIA_1_AMARELO = extrai_questoes_7('_itens', 2017, 'ENEM_2017_P1_CAD_02_DIA_1_AMARELO.pdf', 'AMARELA', 'PAPEL', 'LC', 400,  6, 90)"
   ]
  },
  {
   "cell_type": "code",
   "execution_count": null,
   "id": "03e60918",
   "metadata": {},
   "outputs": [],
   "source": [
    "df_ENEM_2017_P1_CAD_02_DIA_1_AMARELO.loc[df_ENEM_2017_P1_CAD_02_DIA_1_AMARELO['num_questao'] <= 45, 'area'] = 'LC'\n",
    "df_ENEM_2017_P1_CAD_02_DIA_1_AMARELO.loc[df_ENEM_2017_P1_CAD_02_DIA_1_AMARELO['num_questao'] <= 45, 'co_prova'] = 400\n",
    "df_ENEM_2017_P1_CAD_02_DIA_1_AMARELO.loc[df_ENEM_2017_P1_CAD_02_DIA_1_AMARELO['num_questao'] > 45, 'area'] = 'CH'\n",
    "df_ENEM_2017_P1_CAD_02_DIA_1_AMARELO.loc[df_ENEM_2017_P1_CAD_02_DIA_1_AMARELO['num_questao'] > 45, 'co_prova'] = 396\n",
    "df_ENEM_2017_P1_CAD_02_DIA_1_AMARELO.loc[df_ENEM_2017_P1_CAD_02_DIA_1_AMARELO['num_questao'] <= 45, 'num_questao'] = df_ENEM_2017_P1_CAD_02_DIA_1_AMARELO.loc[df_ENEM_2017_P1_CAD_02_DIA_1_AMARELO['num_questao'] <= 45, 'num_questao'] + 5\n",
    "df_ENEM_2017_P1_CAD_02_DIA_1_AMARELO.loc[(df_ENEM_2017_P1_CAD_02_DIA_1_AMARELO['num_questao'] > 45) & (df_ENEM_2017_P1_CAD_02_DIA_1_AMARELO['area'] == 'CH'), 'num_questao'] = df_ENEM_2017_P1_CAD_02_DIA_1_AMARELO.loc[(df_ENEM_2017_P1_CAD_02_DIA_1_AMARELO['num_questao'] > 45) & (df_ENEM_2017_P1_CAD_02_DIA_1_AMARELO['area'] == 'CH'), 'num_questao'] - 45\n",
    "print(np.sort(df_ENEM_2017_P1_CAD_02_DIA_1_AMARELO.num_questao.unique()))\n",
    "print(df_ENEM_2017_P1_CAD_02_DIA_1_AMARELO.area.unique())\n",
    "print(df_ENEM_2017_P1_CAD_02_DIA_1_AMARELO.co_prova.unique())\n",
    "df_ENEM_2017_P1_CAD_02_DIA_1_AMARELO.to_csv(file_path + '.csv', sep = ';', index = False)"
   ]
  },
  {
   "cell_type": "code",
   "execution_count": null,
   "id": "050618de",
   "metadata": {},
   "outputs": [],
   "source": [
    "file_path, df_ENEM_2017_P1_CAD_03_DIA_1_BRANCO = extrai_questoes_7('_itens', 2017, 'ENEM_2017_P1_CAD_03_DIA_1_BRANCO.pdf', 'BRANCA', 'PAPEL', 'LC', 402,  6, 90)"
   ]
  },
  {
   "cell_type": "code",
   "execution_count": null,
   "id": "1f655678",
   "metadata": {},
   "outputs": [],
   "source": [
    "df_ENEM_2017_P1_CAD_03_DIA_1_BRANCO.loc[df_ENEM_2017_P1_CAD_03_DIA_1_BRANCO['num_questao'] <= 45, 'area'] = 'LC'\n",
    "df_ENEM_2017_P1_CAD_03_DIA_1_BRANCO.loc[df_ENEM_2017_P1_CAD_03_DIA_1_BRANCO['num_questao'] <= 45, 'co_prova'] = 402\n",
    "df_ENEM_2017_P1_CAD_03_DIA_1_BRANCO.loc[df_ENEM_2017_P1_CAD_03_DIA_1_BRANCO['num_questao'] > 45, 'area'] = 'CH'\n",
    "df_ENEM_2017_P1_CAD_03_DIA_1_BRANCO.loc[df_ENEM_2017_P1_CAD_03_DIA_1_BRANCO['num_questao'] > 45, 'co_prova'] = 397\n",
    "df_ENEM_2017_P1_CAD_03_DIA_1_BRANCO.loc[df_ENEM_2017_P1_CAD_03_DIA_1_BRANCO['num_questao'] <= 45, 'num_questao'] = df_ENEM_2017_P1_CAD_03_DIA_1_BRANCO.loc[df_ENEM_2017_P1_CAD_03_DIA_1_BRANCO['num_questao'] <= 45, 'num_questao'] + 5\n",
    "df_ENEM_2017_P1_CAD_03_DIA_1_BRANCO.loc[(df_ENEM_2017_P1_CAD_03_DIA_1_BRANCO['num_questao'] > 45) & (df_ENEM_2017_P1_CAD_03_DIA_1_BRANCO['area'] == 'CH'), 'num_questao'] = df_ENEM_2017_P1_CAD_03_DIA_1_BRANCO.loc[(df_ENEM_2017_P1_CAD_03_DIA_1_BRANCO['num_questao'] > 45) & (df_ENEM_2017_P1_CAD_03_DIA_1_BRANCO['area'] == 'CH'), 'num_questao'] - 45\n",
    "print(np.sort(df_ENEM_2017_P1_CAD_03_DIA_1_BRANCO.num_questao.unique()))\n",
    "print(df_ENEM_2017_P1_CAD_03_DIA_1_BRANCO.area.unique())\n",
    "print(df_ENEM_2017_P1_CAD_03_DIA_1_BRANCO.co_prova.unique())\n",
    "df_ENEM_2017_P1_CAD_03_DIA_1_BRANCO.to_csv(file_path + '.csv', sep = ';', index = False)"
   ]
  },
  {
   "cell_type": "code",
   "execution_count": null,
   "id": "ada32b3c",
   "metadata": {},
   "outputs": [],
   "source": [
    "file_path, df_ENEM_2017_P1_CAD_04_DIA_1_ROSA = extrai_questoes_7('_itens', 2017, 'ENEM_2017_P1_CAD_04_DIA_1_ROSA.pdf', 'ROSA', 'PAPEL', 'LC', 402,  6, 90)"
   ]
  },
  {
   "cell_type": "code",
   "execution_count": null,
   "id": "ff3fe8d6",
   "metadata": {},
   "outputs": [],
   "source": [
    "df_ENEM_2017_P1_CAD_04_DIA_1_ROSA.loc[df_ENEM_2017_P1_CAD_04_DIA_1_ROSA['num_questao'] <= 45, 'area'] = 'LC'\n",
    "df_ENEM_2017_P1_CAD_04_DIA_1_ROSA.loc[df_ENEM_2017_P1_CAD_04_DIA_1_ROSA['num_questao'] <= 45, 'co_prova'] = 401\n",
    "df_ENEM_2017_P1_CAD_04_DIA_1_ROSA.loc[df_ENEM_2017_P1_CAD_04_DIA_1_ROSA['num_questao'] > 45, 'area'] = 'CH'\n",
    "df_ENEM_2017_P1_CAD_04_DIA_1_ROSA.loc[df_ENEM_2017_P1_CAD_04_DIA_1_ROSA['num_questao'] > 45, 'co_prova'] = 398\n",
    "df_ENEM_2017_P1_CAD_04_DIA_1_ROSA.loc[df_ENEM_2017_P1_CAD_04_DIA_1_ROSA['num_questao'] <= 45, 'num_questao'] = df_ENEM_2017_P1_CAD_04_DIA_1_ROSA.loc[df_ENEM_2017_P1_CAD_04_DIA_1_ROSA['num_questao'] <= 45, 'num_questao'] + 5\n",
    "df_ENEM_2017_P1_CAD_04_DIA_1_ROSA.loc[(df_ENEM_2017_P1_CAD_04_DIA_1_ROSA['num_questao'] > 45) & (df_ENEM_2017_P1_CAD_04_DIA_1_ROSA['area'] == 'CH'), 'num_questao'] = df_ENEM_2017_P1_CAD_04_DIA_1_ROSA.loc[(df_ENEM_2017_P1_CAD_04_DIA_1_ROSA['num_questao'] > 45) & (df_ENEM_2017_P1_CAD_04_DIA_1_ROSA['area'] == 'CH'), 'num_questao'] - 45\n",
    "print(np.sort(df_ENEM_2017_P1_CAD_04_DIA_1_ROSA.num_questao.unique()))\n",
    "print(df_ENEM_2017_P1_CAD_04_DIA_1_ROSA.area.unique())\n",
    "print(df_ENEM_2017_P1_CAD_04_DIA_1_ROSA.co_prova.unique())\n",
    "df_ENEM_2017_P1_CAD_04_DIA_1_ROSA.to_csv(file_path + '.csv', sep = ';', index = False)"
   ]
  },
  {
   "cell_type": "code",
   "execution_count": null,
   "id": "8b2ed8f8",
   "metadata": {},
   "outputs": [],
   "source": [
    "file_path, df_ENEM_2017_P1_CAD_05_DIA_2_AMARELO = extrai_questoes_7('_itens', 2017, 'ENEM_2017_P1_CAD_05_DIA_2_AMARELO.pdf', 'AMARELA', 'PAPEL', 'CN', 392,  91, 180)"
   ]
  },
  {
   "cell_type": "code",
   "execution_count": null,
   "id": "a5ccb7bb",
   "metadata": {},
   "outputs": [],
   "source": [
    "df_ENEM_2017_P1_CAD_05_DIA_2_AMARELO.loc[df_ENEM_2017_P1_CAD_05_DIA_2_AMARELO['num_questao'] <= 135, 'area'] = 'CN'\n",
    "df_ENEM_2017_P1_CAD_05_DIA_2_AMARELO.loc[df_ENEM_2017_P1_CAD_05_DIA_2_AMARELO['num_questao'] <= 135, 'co_prova'] = 392\n",
    "df_ENEM_2017_P1_CAD_05_DIA_2_AMARELO.loc[df_ENEM_2017_P1_CAD_05_DIA_2_AMARELO['num_questao'] > 135, 'area'] = 'MT'\n",
    "df_ENEM_2017_P1_CAD_05_DIA_2_AMARELO.loc[df_ENEM_2017_P1_CAD_05_DIA_2_AMARELO['num_questao'] > 135, 'co_prova'] = 404\n",
    "df_ENEM_2017_P1_CAD_05_DIA_2_AMARELO.loc[df_ENEM_2017_P1_CAD_05_DIA_2_AMARELO['num_questao'] <= 135, 'num_questao'] = df_ENEM_2017_P1_CAD_05_DIA_2_AMARELO.loc[df_ENEM_2017_P1_CAD_05_DIA_2_AMARELO['num_questao'] <= 135, 'num_questao'] - 90\n",
    "df_ENEM_2017_P1_CAD_05_DIA_2_AMARELO.loc[df_ENEM_2017_P1_CAD_05_DIA_2_AMARELO['num_questao'] > 135, 'num_questao'] = df_ENEM_2017_P1_CAD_05_DIA_2_AMARELO.loc[df_ENEM_2017_P1_CAD_05_DIA_2_AMARELO['num_questao'] > 135, 'num_questao'] - 135\n",
    "print(np.sort(df_ENEM_2017_P1_CAD_05_DIA_2_AMARELO.num_questao.unique()))\n",
    "print(df_ENEM_2017_P1_CAD_05_DIA_2_AMARELO.area.unique())\n",
    "print(df_ENEM_2017_P1_CAD_05_DIA_2_AMARELO.co_prova.unique())\n",
    "df_ENEM_2017_P1_CAD_05_DIA_2_AMARELO.to_csv(file_path + '.csv', sep = ';', index = False)"
   ]
  },
  {
   "cell_type": "code",
   "execution_count": null,
   "id": "8b10b0be",
   "metadata": {},
   "outputs": [],
   "source": [
    "file_path, df_ENEM_2017_P1_CAD_06_DIA_2_CINZA = extrai_questoes_7('_itens', 2017, 'ENEM_2017_P1_CAD_06_DIA_2_CINZA.pdf', 'CINZA', 'PAPEL', 'CN', 393,  91, 180)"
   ]
  },
  {
   "cell_type": "code",
   "execution_count": null,
   "id": "fdc1b1f2",
   "metadata": {},
   "outputs": [],
   "source": [
    "df_ENEM_2017_P1_CAD_06_DIA_2_CINZA.loc[df_ENEM_2017_P1_CAD_06_DIA_2_CINZA['num_questao'] <= 135, 'area'] = 'CN'\n",
    "df_ENEM_2017_P1_CAD_06_DIA_2_CINZA.loc[df_ENEM_2017_P1_CAD_06_DIA_2_CINZA['num_questao'] <= 135, 'co_prova'] = 393\n",
    "df_ENEM_2017_P1_CAD_06_DIA_2_CINZA.loc[df_ENEM_2017_P1_CAD_06_DIA_2_CINZA['num_questao'] > 135, 'area'] = 'MT'\n",
    "df_ENEM_2017_P1_CAD_06_DIA_2_CINZA.loc[df_ENEM_2017_P1_CAD_06_DIA_2_CINZA['num_questao'] > 135, 'co_prova'] = 406\n",
    "df_ENEM_2017_P1_CAD_06_DIA_2_CINZA.loc[df_ENEM_2017_P1_CAD_06_DIA_2_CINZA['num_questao'] <= 135, 'num_questao'] = df_ENEM_2017_P1_CAD_06_DIA_2_CINZA.loc[df_ENEM_2017_P1_CAD_06_DIA_2_CINZA['num_questao'] <= 135, 'num_questao'] - 90\n",
    "df_ENEM_2017_P1_CAD_06_DIA_2_CINZA.loc[df_ENEM_2017_P1_CAD_06_DIA_2_CINZA['num_questao'] > 135, 'num_questao'] = df_ENEM_2017_P1_CAD_06_DIA_2_CINZA.loc[df_ENEM_2017_P1_CAD_06_DIA_2_CINZA['num_questao'] > 135, 'num_questao'] - 135\n",
    "print(np.sort(df_ENEM_2017_P1_CAD_06_DIA_2_CINZA.num_questao.unique()))\n",
    "print(df_ENEM_2017_P1_CAD_06_DIA_2_CINZA.area.unique())\n",
    "print(df_ENEM_2017_P1_CAD_06_DIA_2_CINZA.co_prova.unique())\n",
    "df_ENEM_2017_P1_CAD_06_DIA_2_CINZA.to_csv(file_path + '.csv', sep = ';', index = False)"
   ]
  },
  {
   "cell_type": "code",
   "execution_count": null,
   "id": "2b0d0495",
   "metadata": {},
   "outputs": [],
   "source": [
    "file_path, df_ENEM_2017_P1_CAD_07_DIA_2_AZUL = extrai_questoes_7('_itens', 2017, 'ENEM_2017_P1_CAD_07_DIA_2_AZUL.pdf', 'AZUL', 'PAPEL', 'CN', 391,  91, 180)"
   ]
  },
  {
   "cell_type": "code",
   "execution_count": null,
   "id": "bc4cfa59",
   "metadata": {},
   "outputs": [],
   "source": [
    "df_ENEM_2017_P1_CAD_07_DIA_2_AZUL.loc[df_ENEM_2017_P1_CAD_07_DIA_2_AZUL['num_questao'] <= 135, 'area'] = 'CN'\n",
    "df_ENEM_2017_P1_CAD_07_DIA_2_AZUL.loc[df_ENEM_2017_P1_CAD_07_DIA_2_AZUL['num_questao'] <= 135, 'co_prova'] = 391\n",
    "df_ENEM_2017_P1_CAD_07_DIA_2_AZUL.loc[df_ENEM_2017_P1_CAD_07_DIA_2_AZUL['num_questao'] > 135, 'area'] = 'MT'\n",
    "df_ENEM_2017_P1_CAD_07_DIA_2_AZUL.loc[df_ENEM_2017_P1_CAD_07_DIA_2_AZUL['num_questao'] > 135, 'co_prova'] = 403\n",
    "df_ENEM_2017_P1_CAD_07_DIA_2_AZUL.loc[df_ENEM_2017_P1_CAD_07_DIA_2_AZUL['num_questao'] <= 135, 'num_questao'] = df_ENEM_2017_P1_CAD_07_DIA_2_AZUL.loc[df_ENEM_2017_P1_CAD_07_DIA_2_AZUL['num_questao'] <= 135, 'num_questao'] - 90\n",
    "df_ENEM_2017_P1_CAD_07_DIA_2_AZUL.loc[df_ENEM_2017_P1_CAD_07_DIA_2_AZUL['num_questao'] > 135, 'num_questao'] = df_ENEM_2017_P1_CAD_07_DIA_2_AZUL.loc[df_ENEM_2017_P1_CAD_07_DIA_2_AZUL['num_questao'] > 135, 'num_questao'] - 135\n",
    "print(np.sort(df_ENEM_2017_P1_CAD_07_DIA_2_AZUL.num_questao.unique()))\n",
    "print(df_ENEM_2017_P1_CAD_07_DIA_2_AZUL.area.unique())\n",
    "print(df_ENEM_2017_P1_CAD_07_DIA_2_AZUL.co_prova.unique())\n",
    "df_ENEM_2017_P1_CAD_07_DIA_2_AZUL.to_csv(file_path + '.csv', sep = ';', index = False)"
   ]
  },
  {
   "cell_type": "code",
   "execution_count": null,
   "id": "f5655011",
   "metadata": {},
   "outputs": [],
   "source": [
    "file_path, df_ENEM_2017_P1_CAD_08_DIA_2_ROSA = extrai_questoes_7('_itens', 2017, 'ENEM_2017_P1_CAD_08_DIA_2_ROSA.pdf', 'ROSA', 'PAPEL', 'CN', 394,  91, 180)"
   ]
  },
  {
   "cell_type": "code",
   "execution_count": null,
   "id": "b4b7dff7",
   "metadata": {},
   "outputs": [],
   "source": [
    "df_ENEM_2017_P1_CAD_08_DIA_2_ROSA.loc[df_ENEM_2017_P1_CAD_08_DIA_2_ROSA['num_questao'] <= 135, 'area'] = 'CN'\n",
    "df_ENEM_2017_P1_CAD_08_DIA_2_ROSA.loc[df_ENEM_2017_P1_CAD_08_DIA_2_ROSA['num_questao'] <= 135, 'co_prova'] = 394\n",
    "df_ENEM_2017_P1_CAD_08_DIA_2_ROSA.loc[df_ENEM_2017_P1_CAD_08_DIA_2_ROSA['num_questao'] > 135, 'area'] = 'MT'\n",
    "df_ENEM_2017_P1_CAD_08_DIA_2_ROSA.loc[df_ENEM_2017_P1_CAD_08_DIA_2_ROSA['num_questao'] > 135, 'co_prova'] = 405\n",
    "df_ENEM_2017_P1_CAD_08_DIA_2_ROSA.loc[df_ENEM_2017_P1_CAD_08_DIA_2_ROSA['num_questao'] <= 135, 'num_questao'] = df_ENEM_2017_P1_CAD_08_DIA_2_ROSA.loc[df_ENEM_2017_P1_CAD_08_DIA_2_ROSA['num_questao'] <= 135, 'num_questao'] - 90\n",
    "df_ENEM_2017_P1_CAD_08_DIA_2_ROSA.loc[df_ENEM_2017_P1_CAD_08_DIA_2_ROSA['num_questao'] > 135, 'num_questao'] = df_ENEM_2017_P1_CAD_08_DIA_2_ROSA.loc[df_ENEM_2017_P1_CAD_08_DIA_2_ROSA['num_questao'] > 135, 'num_questao'] - 135\n",
    "print(np.sort(df_ENEM_2017_P1_CAD_08_DIA_2_ROSA.num_questao.unique()))\n",
    "print(df_ENEM_2017_P1_CAD_08_DIA_2_ROSA.area.unique())\n",
    "print(df_ENEM_2017_P1_CAD_08_DIA_2_ROSA.co_prova.unique())\n",
    "df_ENEM_2017_P1_CAD_08_DIA_2_ROSA.to_csv(file_path + '.csv', sep = ';', index = False)"
   ]
  },
  {
   "cell_type": "markdown",
   "id": "19dce485",
   "metadata": {},
   "source": [
    "#### P2"
   ]
  },
  {
   "cell_type": "code",
   "execution_count": null,
   "id": "c8884226",
   "metadata": {},
   "outputs": [],
   "source": [
    "file_path, df_ENEM_2017_P2_CAD_02_DIA_1_AMARELO = extrai_questoes_7('_itens', 2017, 'ENEM_2017_P2_CAD_02_DIA_1_AMARELO.pdf', 'AMARELA', 'PAPEL', 'LC', 440, 6, 90)"
   ]
  },
  {
   "cell_type": "code",
   "execution_count": null,
   "id": "e3c99133",
   "metadata": {},
   "outputs": [],
   "source": [
    "df_ENEM_2017_P2_CAD_02_DIA_1_AMARELO.loc[df_ENEM_2017_P2_CAD_02_DIA_1_AMARELO['num_questao'] <= 45, 'area'] = 'LC'\n",
    "df_ENEM_2017_P2_CAD_02_DIA_1_AMARELO.loc[df_ENEM_2017_P2_CAD_02_DIA_1_AMARELO['num_questao'] <= 45, 'co_prova'] = 440\n",
    "df_ENEM_2017_P2_CAD_02_DIA_1_AMARELO.loc[df_ENEM_2017_P2_CAD_02_DIA_1_AMARELO['num_questao'] > 45, 'area'] = 'CH'\n",
    "df_ENEM_2017_P2_CAD_02_DIA_1_AMARELO.loc[df_ENEM_2017_P2_CAD_02_DIA_1_AMARELO['num_questao'] > 45, 'co_prova'] = 436\n",
    "df_ENEM_2017_P2_CAD_02_DIA_1_AMARELO.loc[df_ENEM_2017_P2_CAD_02_DIA_1_AMARELO['num_questao'] <= 45, 'num_questao'] = df_ENEM_2017_P2_CAD_02_DIA_1_AMARELO.loc[df_ENEM_2017_P2_CAD_02_DIA_1_AMARELO['num_questao'] <= 45, 'num_questao'] + 5\n",
    "df_ENEM_2017_P2_CAD_02_DIA_1_AMARELO.loc[(df_ENEM_2017_P2_CAD_02_DIA_1_AMARELO['num_questao'] > 45) & (df_ENEM_2017_P2_CAD_02_DIA_1_AMARELO['area'] == 'CH'), 'num_questao'] = df_ENEM_2017_P2_CAD_02_DIA_1_AMARELO.loc[(df_ENEM_2017_P2_CAD_02_DIA_1_AMARELO['num_questao'] > 45) & (df_ENEM_2017_P2_CAD_02_DIA_1_AMARELO['area'] == 'CH'), 'num_questao'] - 45\n",
    "print(np.sort(df_ENEM_2017_P2_CAD_02_DIA_1_AMARELO.num_questao.unique()))\n",
    "print(df_ENEM_2017_P2_CAD_02_DIA_1_AMARELO.area.unique())\n",
    "print(df_ENEM_2017_P2_CAD_02_DIA_1_AMARELO.co_prova.unique())\n",
    "df_ENEM_2017_P2_CAD_02_DIA_1_AMARELO.to_csv(file_path + '.csv', sep = ';', index = False)"
   ]
  },
  {
   "cell_type": "code",
   "execution_count": null,
   "id": "88291337",
   "metadata": {},
   "outputs": [],
   "source": [
    "file_path, df_ENEM_2017_P2_CAD_03_DIA_1_BRANCO = extrai_questoes_7('_itens', 2017, 'ENEM_2017_P2_CAD_03_DIA_1_BRANCO.pdf', 'BRANCA', 'PAPEL', 'LC', 441, 6, 90)"
   ]
  },
  {
   "cell_type": "code",
   "execution_count": null,
   "id": "2f4ab99a",
   "metadata": {},
   "outputs": [],
   "source": [
    "df_ENEM_2017_P2_CAD_03_DIA_1_BRANCO.loc[df_ENEM_2017_P2_CAD_03_DIA_1_BRANCO['num_questao'] <= 45, 'area'] = 'LC'\n",
    "df_ENEM_2017_P2_CAD_03_DIA_1_BRANCO.loc[df_ENEM_2017_P2_CAD_03_DIA_1_BRANCO['num_questao'] <= 45, 'co_prova'] = 441\n",
    "df_ENEM_2017_P2_CAD_03_DIA_1_BRANCO.loc[df_ENEM_2017_P2_CAD_03_DIA_1_BRANCO['num_questao'] > 45, 'area'] = 'CH'\n",
    "df_ENEM_2017_P2_CAD_03_DIA_1_BRANCO.loc[df_ENEM_2017_P2_CAD_03_DIA_1_BRANCO['num_questao'] > 45, 'co_prova'] = 437\n",
    "df_ENEM_2017_P2_CAD_03_DIA_1_BRANCO.loc[df_ENEM_2017_P2_CAD_03_DIA_1_BRANCO['num_questao'] <= 45, 'num_questao'] = df_ENEM_2017_P2_CAD_03_DIA_1_BRANCO.loc[df_ENEM_2017_P2_CAD_03_DIA_1_BRANCO['num_questao'] <= 45, 'num_questao'] + 5\n",
    "df_ENEM_2017_P2_CAD_03_DIA_1_BRANCO.loc[(df_ENEM_2017_P2_CAD_03_DIA_1_BRANCO['num_questao'] > 45) & (df_ENEM_2017_P2_CAD_03_DIA_1_BRANCO['area'] == 'CH'), 'num_questao'] = df_ENEM_2017_P2_CAD_03_DIA_1_BRANCO.loc[(df_ENEM_2017_P2_CAD_03_DIA_1_BRANCO['num_questao'] > 45) & (df_ENEM_2017_P2_CAD_03_DIA_1_BRANCO['area'] == 'CH'), 'num_questao'] - 45\n",
    "print(np.sort(df_ENEM_2017_P2_CAD_03_DIA_1_BRANCO.num_questao.unique()))\n",
    "print(df_ENEM_2017_P2_CAD_03_DIA_1_BRANCO.area.unique())\n",
    "print(df_ENEM_2017_P2_CAD_03_DIA_1_BRANCO.co_prova.unique())\n",
    "df_ENEM_2017_P2_CAD_03_DIA_1_BRANCO.to_csv(file_path + '.csv', sep = ';', index = False)"
   ]
  },
  {
   "cell_type": "code",
   "execution_count": null,
   "id": "27ded352",
   "metadata": {},
   "outputs": [],
   "source": [
    "file_path, df_ENEM_2017_P2_CAD_04_DIA_1_ROSA = extrai_questoes_7('_itens', 2017, 'ENEM_2017_P2_CAD_04_DIA_1_ROSA.pdf', 'ROSA', 'PAPEL', 'LC', 442, 6, 90)"
   ]
  },
  {
   "cell_type": "code",
   "execution_count": null,
   "id": "ef33d158",
   "metadata": {},
   "outputs": [],
   "source": [
    "df_ENEM_2017_P2_CAD_04_DIA_1_ROSA.loc[df_ENEM_2017_P2_CAD_04_DIA_1_ROSA['num_questao'] <= 45, 'area'] = 'LC'\n",
    "df_ENEM_2017_P2_CAD_04_DIA_1_ROSA.loc[df_ENEM_2017_P2_CAD_04_DIA_1_ROSA['num_questao'] <= 45, 'co_prova'] = 442\n",
    "df_ENEM_2017_P2_CAD_04_DIA_1_ROSA.loc[df_ENEM_2017_P2_CAD_04_DIA_1_ROSA['num_questao'] > 45, 'area'] = 'CH'\n",
    "df_ENEM_2017_P2_CAD_04_DIA_1_ROSA.loc[df_ENEM_2017_P2_CAD_04_DIA_1_ROSA['num_questao'] > 45, 'co_prova'] = 438\n",
    "df_ENEM_2017_P2_CAD_04_DIA_1_ROSA.loc[df_ENEM_2017_P2_CAD_04_DIA_1_ROSA['num_questao'] <= 45, 'num_questao'] = df_ENEM_2017_P2_CAD_04_DIA_1_ROSA.loc[df_ENEM_2017_P2_CAD_04_DIA_1_ROSA['num_questao'] <= 45, 'num_questao'] + 5\n",
    "df_ENEM_2017_P2_CAD_04_DIA_1_ROSA.loc[(df_ENEM_2017_P2_CAD_04_DIA_1_ROSA['num_questao'] > 45) & (df_ENEM_2017_P2_CAD_04_DIA_1_ROSA['area'] == 'CH'), 'num_questao'] = df_ENEM_2017_P2_CAD_04_DIA_1_ROSA.loc[(df_ENEM_2017_P2_CAD_04_DIA_1_ROSA['num_questao'] > 45) & (df_ENEM_2017_P2_CAD_04_DIA_1_ROSA['area'] == 'CH'), 'num_questao'] - 45\n",
    "print(np.sort(df_ENEM_2017_P2_CAD_04_DIA_1_ROSA.num_questao.unique()))\n",
    "print(df_ENEM_2017_P2_CAD_04_DIA_1_ROSA.area.unique())\n",
    "print(df_ENEM_2017_P2_CAD_04_DIA_1_ROSA.co_prova.unique())\n",
    "df_ENEM_2017_P2_CAD_04_DIA_1_ROSA.to_csv(file_path + '.csv', sep = ';', index = False)"
   ]
  },
  {
   "cell_type": "code",
   "execution_count": null,
   "id": "372a2d69",
   "metadata": {},
   "outputs": [],
   "source": [
    "file_path, df_ENEM_2017_P2_CAD_05_DIA_2_AMARELO = extrai_questoes_7('_itens', 2017, 'ENEM_2017_P2_CAD_05_DIA_2_AMARELO.pdf', 'AMARELA', 'PAPEL', 'CN', 431, 91, 180)"
   ]
  },
  {
   "cell_type": "code",
   "execution_count": null,
   "id": "e5d1fabd",
   "metadata": {},
   "outputs": [],
   "source": [
    "df_ENEM_2017_P2_CAD_05_DIA_2_AMARELO.loc[df_ENEM_2017_P2_CAD_05_DIA_2_AMARELO['num_questao'] <= 135, 'area'] = 'CN'\n",
    "df_ENEM_2017_P2_CAD_05_DIA_2_AMARELO.loc[df_ENEM_2017_P2_CAD_05_DIA_2_AMARELO['num_questao'] <= 135, 'co_prova'] = 431\n",
    "df_ENEM_2017_P2_CAD_05_DIA_2_AMARELO.loc[df_ENEM_2017_P2_CAD_05_DIA_2_AMARELO['num_questao'] > 135, 'area'] = 'MT'\n",
    "df_ENEM_2017_P2_CAD_05_DIA_2_AMARELO.loc[df_ENEM_2017_P2_CAD_05_DIA_2_AMARELO['num_questao'] > 135, 'co_prova'] = 443\n",
    "df_ENEM_2017_P2_CAD_05_DIA_2_AMARELO.loc[df_ENEM_2017_P2_CAD_05_DIA_2_AMARELO['num_questao'] <= 135, 'num_questao'] = df_ENEM_2017_P2_CAD_05_DIA_2_AMARELO.loc[df_ENEM_2017_P2_CAD_05_DIA_2_AMARELO['num_questao'] <= 135, 'num_questao'] - 90\n",
    "df_ENEM_2017_P2_CAD_05_DIA_2_AMARELO.loc[df_ENEM_2017_P2_CAD_05_DIA_2_AMARELO['num_questao'] > 135, 'num_questao'] = df_ENEM_2017_P2_CAD_05_DIA_2_AMARELO.loc[df_ENEM_2017_P2_CAD_05_DIA_2_AMARELO['num_questao'] > 135, 'num_questao'] - 135\n",
    "print(np.sort(df_ENEM_2017_P2_CAD_05_DIA_2_AMARELO.num_questao.unique()))\n",
    "print(df_ENEM_2017_P2_CAD_05_DIA_2_AMARELO.area.unique())\n",
    "print(df_ENEM_2017_P2_CAD_05_DIA_2_AMARELO.co_prova.unique())\n",
    "df_ENEM_2017_P2_CAD_05_DIA_2_AMARELO.to_csv(file_path + '.csv', sep = ';', index = False)"
   ]
  },
  {
   "cell_type": "code",
   "execution_count": null,
   "id": "a2e184f1",
   "metadata": {},
   "outputs": [],
   "source": [
    "file_path, df_ENEM_2017_P2_CAD_06_DIA_2_CINZA = extrai_questoes_7('_itens', 2017, 'ENEM_2017_P2_CAD_06_DIA_2_CINZA.pdf', 'CINZA', 'PAPEL', 'CN', 432, 91, 180)"
   ]
  },
  {
   "cell_type": "code",
   "execution_count": null,
   "id": "b848bb56",
   "metadata": {},
   "outputs": [],
   "source": [
    "df_ENEM_2017_P2_CAD_06_DIA_2_CINZA.loc[df_ENEM_2017_P2_CAD_06_DIA_2_CINZA['num_questao'] <= 135, 'area'] = 'CN'\n",
    "df_ENEM_2017_P2_CAD_06_DIA_2_CINZA.loc[df_ENEM_2017_P2_CAD_06_DIA_2_CINZA['num_questao'] <= 135, 'co_prova'] = 432\n",
    "df_ENEM_2017_P2_CAD_06_DIA_2_CINZA.loc[df_ENEM_2017_P2_CAD_06_DIA_2_CINZA['num_questao'] > 135, 'area'] = 'MT'\n",
    "df_ENEM_2017_P2_CAD_06_DIA_2_CINZA.loc[df_ENEM_2017_P2_CAD_06_DIA_2_CINZA['num_questao'] > 135, 'co_prova'] = 444\n",
    "df_ENEM_2017_P2_CAD_06_DIA_2_CINZA.loc[df_ENEM_2017_P2_CAD_06_DIA_2_CINZA['num_questao'] <= 135, 'num_questao'] = df_ENEM_2017_P2_CAD_06_DIA_2_CINZA.loc[df_ENEM_2017_P2_CAD_06_DIA_2_CINZA['num_questao'] <= 135, 'num_questao'] - 90\n",
    "df_ENEM_2017_P2_CAD_06_DIA_2_CINZA.loc[df_ENEM_2017_P2_CAD_06_DIA_2_CINZA['num_questao'] > 135, 'num_questao'] = df_ENEM_2017_P2_CAD_06_DIA_2_CINZA.loc[df_ENEM_2017_P2_CAD_06_DIA_2_CINZA['num_questao'] > 135, 'num_questao'] - 135\n",
    "print(np.sort(df_ENEM_2017_P2_CAD_06_DIA_2_CINZA.num_questao.unique()))\n",
    "print(df_ENEM_2017_P2_CAD_06_DIA_2_CINZA.area.unique())\n",
    "print(df_ENEM_2017_P2_CAD_06_DIA_2_CINZA.co_prova.unique())\n",
    "df_ENEM_2017_P2_CAD_06_DIA_2_CINZA.to_csv(file_path + '.csv', sep = ';', index = False)"
   ]
  },
  {
   "cell_type": "code",
   "execution_count": null,
   "id": "28128773",
   "metadata": {},
   "outputs": [],
   "source": [
    "file_path, df_ENEM_2017_P2_CAD_07_DIA_2_AZUL = extrai_questoes_7('_itens', 2017, 'ENEM_2017_P2_CAD_07_DIA_2_AZUL.pdf', 'AZUL', 'PAPEL', 'CN', 433, 91, 180)"
   ]
  },
  {
   "cell_type": "code",
   "execution_count": null,
   "id": "110934c4",
   "metadata": {},
   "outputs": [],
   "source": [
    "df_ENEM_2017_P2_CAD_07_DIA_2_AZUL.loc[df_ENEM_2017_P2_CAD_07_DIA_2_AZUL['num_questao'] <= 135, 'area'] = 'CN'\n",
    "df_ENEM_2017_P2_CAD_07_DIA_2_AZUL.loc[df_ENEM_2017_P2_CAD_07_DIA_2_AZUL['num_questao'] <= 135, 'co_prova'] = 433\n",
    "df_ENEM_2017_P2_CAD_07_DIA_2_AZUL.loc[df_ENEM_2017_P2_CAD_07_DIA_2_AZUL['num_questao'] > 135, 'area'] = 'MT'\n",
    "df_ENEM_2017_P2_CAD_07_DIA_2_AZUL.loc[df_ENEM_2017_P2_CAD_07_DIA_2_AZUL['num_questao'] > 135, 'co_prova'] = 445\n",
    "df_ENEM_2017_P2_CAD_07_DIA_2_AZUL.loc[df_ENEM_2017_P2_CAD_07_DIA_2_AZUL['num_questao'] <= 135, 'num_questao'] = df_ENEM_2017_P2_CAD_07_DIA_2_AZUL.loc[df_ENEM_2017_P2_CAD_07_DIA_2_AZUL['num_questao'] <= 135, 'num_questao'] - 90\n",
    "df_ENEM_2017_P2_CAD_07_DIA_2_AZUL.loc[df_ENEM_2017_P2_CAD_07_DIA_2_AZUL['num_questao'] > 135, 'num_questao'] = df_ENEM_2017_P2_CAD_07_DIA_2_AZUL.loc[df_ENEM_2017_P2_CAD_07_DIA_2_AZUL['num_questao'] > 135, 'num_questao'] - 135\n",
    "print(np.sort(df_ENEM_2017_P2_CAD_07_DIA_2_AZUL.num_questao.unique()))\n",
    "print(df_ENEM_2017_P2_CAD_07_DIA_2_AZUL.area.unique())\n",
    "print(df_ENEM_2017_P2_CAD_07_DIA_2_AZUL.co_prova.unique())\n",
    "df_ENEM_2017_P2_CAD_07_DIA_2_AZUL.to_csv(file_path + '.csv', sep = ';', index = False)"
   ]
  },
  {
   "cell_type": "code",
   "execution_count": null,
   "id": "5bb57a80",
   "metadata": {},
   "outputs": [],
   "source": [
    "file_path, df_ENEM_2017_P2_CAD_08_DIA_2_ROSA = extrai_questoes_7('_itens', 2017, 'ENEM_2017_P2_CAD_08_DIA_2_ROSA.pdf', 'ROSA', 'PAPEL', 'CN', 434, 91, 180)"
   ]
  },
  {
   "cell_type": "code",
   "execution_count": null,
   "id": "30d9d1ef",
   "metadata": {},
   "outputs": [],
   "source": [
    "df_ENEM_2017_P2_CAD_08_DIA_2_ROSA.loc[df_ENEM_2017_P2_CAD_08_DIA_2_ROSA['num_questao'] <= 135, 'area'] = 'CN'\n",
    "df_ENEM_2017_P2_CAD_08_DIA_2_ROSA.loc[df_ENEM_2017_P2_CAD_08_DIA_2_ROSA['num_questao'] <= 135, 'co_prova'] = 434\n",
    "df_ENEM_2017_P2_CAD_08_DIA_2_ROSA.loc[df_ENEM_2017_P2_CAD_08_DIA_2_ROSA['num_questao'] > 135, 'area'] = 'MT'\n",
    "df_ENEM_2017_P2_CAD_08_DIA_2_ROSA.loc[df_ENEM_2017_P2_CAD_08_DIA_2_ROSA['num_questao'] > 135, 'co_prova'] = 446\n",
    "df_ENEM_2017_P2_CAD_08_DIA_2_ROSA.loc[df_ENEM_2017_P2_CAD_08_DIA_2_ROSA['num_questao'] <= 135, 'num_questao'] = df_ENEM_2017_P2_CAD_08_DIA_2_ROSA.loc[df_ENEM_2017_P2_CAD_08_DIA_2_ROSA['num_questao'] <= 135, 'num_questao'] - 90\n",
    "df_ENEM_2017_P2_CAD_08_DIA_2_ROSA.loc[df_ENEM_2017_P2_CAD_08_DIA_2_ROSA['num_questao'] > 135, 'num_questao'] = df_ENEM_2017_P2_CAD_08_DIA_2_ROSA.loc[df_ENEM_2017_P2_CAD_08_DIA_2_ROSA['num_questao'] > 135, 'num_questao'] - 135\n",
    "print(np.sort(df_ENEM_2017_P2_CAD_08_DIA_2_ROSA.num_questao.unique()))\n",
    "print(df_ENEM_2017_P2_CAD_08_DIA_2_ROSA.area.unique())\n",
    "print(df_ENEM_2017_P2_CAD_08_DIA_2_ROSA.co_prova.unique())\n",
    "df_ENEM_2017_P2_CAD_08_DIA_2_ROSA.to_csv(file_path + '.csv', sep = ';', index = False)"
   ]
  },
  {
   "cell_type": "code",
   "execution_count": null,
   "id": "f123cb91",
   "metadata": {},
   "outputs": [],
   "source": [
    "# Concatenação dos dataframes de 2009\n",
    "df_prova_2017 = pd.concat([df_ENEM_2017_P1_CAD_01_DIA_1_AZUL,\n",
    "                            df_ENEM_2017_P1_CAD_02_DIA_1_AMARELO,\n",
    "                            df_ENEM_2017_P1_CAD_03_DIA_1_BRANCO,\n",
    "                            df_ENEM_2017_P1_CAD_04_DIA_1_ROSA,\n",
    "                            df_ENEM_2017_P1_CAD_05_DIA_2_AMARELO,\n",
    "                            df_ENEM_2017_P1_CAD_06_DIA_2_CINZA,\n",
    "                            df_ENEM_2017_P1_CAD_07_DIA_2_AZUL,\n",
    "                            df_ENEM_2017_P1_CAD_08_DIA_2_ROSA,\n",
    "                            df_ENEM_2017_P2_CAD_02_DIA_1_AMARELO,\n",
    "                            df_ENEM_2017_P2_CAD_03_DIA_1_BRANCO,\n",
    "                            df_ENEM_2017_P2_CAD_04_DIA_1_ROSA,\n",
    "                            df_ENEM_2017_P2_CAD_05_DIA_2_AMARELO,\n",
    "                            df_ENEM_2017_P2_CAD_06_DIA_2_CINZA,\n",
    "                            df_ENEM_2017_P2_CAD_07_DIA_2_AZUL,\n",
    "                            df_ENEM_2017_P2_CAD_08_DIA_2_ROSA], ignore_index=True, axis = 0)\n",
    "\n",
    "# Resultado\n",
    "df_prova_2017.shape"
   ]
  },
  {
   "cell_type": "code",
   "execution_count": null,
   "id": "bea4ff81",
   "metadata": {},
   "outputs": [],
   "source": [
    "file = os.path.join('_itens', str(2017), 'ITENS_PROVA_2017')\n",
    "df_itens_2017 = pd.read_csv(file + '.csv', sep = ';', encoding = 'ISO-8859-1')\n",
    "df_itens_2017['id'] = df_itens_2017['CO_POSICAO'].apply(str) + '_' + df_itens_2017['SG_AREA'].apply(str) + '_' + df_itens_2017['TX_COR'].apply(str) + '_' + df_itens_2017['CO_PROVA'].apply(str)\n",
    "df_prova_2017['id'] = df_prova_2017['num_questao'].apply(str) + '_' + df_prova_2017['area'].apply(str) + '_' + df_prova_2017['cor'].apply(str) + '_' + df_prova_2017['co_prova'].apply(str)\n",
    "df_2017_merge = pd.merge(df_itens_2017, df_prova_2017, on='id', how='left')\n",
    "df_2017_merge = df_2017_merge.drop(df_2017_merge.columns[20], axis = 1)\n",
    "for col in df_2017_merge.columns:\n",
    "    df_2017_merge = df_2017_merge.rename(columns = {col:col.lower()})\n",
    "file = os.path.join('_itens', str(2017), '2017_ENEM_COMPLETA')\n",
    "df_2017_merge.to_csv(file + '.csv', sep = ';', index = False)"
   ]
  },
  {
   "cell_type": "code",
   "execution_count": null,
   "id": "8faf3536",
   "metadata": {},
   "outputs": [],
   "source": [
    "df_2017_merge.head()"
   ]
  },
  {
   "cell_type": "markdown",
   "id": "3c3817ea",
   "metadata": {},
   "source": [
    "### 2019"
   ]
  },
  {
   "cell_type": "code",
   "execution_count": null,
   "id": "d90a8367",
   "metadata": {},
   "outputs": [],
   "source": [
    "#aplicado a 2019\n",
    "def extrai_questoes_8(dir_, ano, pdf, cor, meio_aplicacao, area, co_prova, num_primeira_questao, num_ultima_questao):\n",
    "    dados = []\n",
    "    #arquivo pdf\n",
    "    file_path = os.path.join(dir_, str(ano), pdf)\n",
    "    # Abre o arquivo PDF\n",
    "    pdf_file = open(file_path, \"rb\")\n",
    "\n",
    "    # Cria um objeto PDFReader\n",
    "    pdf_reader = PyPDF2.PdfReader(pdf_file)\n",
    "\n",
    "    txt_pdf = ''\n",
    "    # Loop através de cada página do PDF\n",
    "    for page in range(len(pdf_reader.pages)):\n",
    "        # Obtém o objeto da página atual\n",
    "        page_obj = pdf_reader.pages[page]\n",
    "\n",
    "        # Extrai o texto da página atual\n",
    "        page_text = page_obj.extract_text()\n",
    "\n",
    "        # Escreve o texto extraído em um arquivo TXT\n",
    "        with open(file_path + '.txt', \"a\",  encoding=\"utf-8\") as text_file:\n",
    "            text_file.write(page_text)\n",
    "            txt_pdf += page_text + ' '\n",
    "\n",
    "    # Fecha o arquivo PDF\n",
    "    pdf_file.close()\n",
    "\n",
    "    file_path = os.path.join(dir_, str(ano), pdf+'.txt')\n",
    "    #print(txt_pdf)\n",
    "    txt_pdf  = re.sub(r'/g\\d+/', '', txt_pdf)\n",
    "    txt_pdf  = re.sub(r'g/', '', txt_pdf)\n",
    "    txt_pdf  = re.sub(r'/g/', '', txt_pdf)\n",
    "    txt_pdf = re.sub(r'\\{2,}', \"\", txt_pdf)\n",
    "    txt_pdf = re.sub(r'\\/\\d+', \"\", txt_pdf)\n",
    "    txt_pdf = re.sub(r'#\\d+', \"\", txt_pdf)\n",
    "    txt_pdf = txt_pdf.replace('#2/', '')\n",
    "    txt_pdf = txt_pdf.replace('/', '')\n",
    "    #*SA0175AZ6*\n",
    "    #*DO0525AM31*\n",
    "    txt_pdf = re.sub(r\"\\*2017[A-Z]{2}\\d{4}[A-Z]{2}\\d+\\*\", '', txt_pdf)\n",
    "    txt_pdf = re.sub(r\"\\*[A-Z]{2}\\d{4}[A-Z]{2}\\d+\\*\", '', txt_pdf)\n",
    "    txt_pdf = re.sub(r'\\*((SA)(CINZ)|(ROSA)|(BRAN)|(AMAR)|(AZUL)|(Amar)|(amar)|(cinz)|(azul)|(rosa)|(bran))[0-9]+((AZ)(dom)|(sab)|(DOM)|(SAB))\\d+\\*', '', txt_pdf)\n",
    "    txt_pdf = txt_pdf.replace('2ª APLICAÇÃO', '')\n",
    "    txt_pdf = txt_pdf.replace('CIÊNCIAS HUMANAS E SUAS TECNOLOGIAS', '')\n",
    "    txt_pdf = txt_pdf.replace('Questões de 1 a 45', '')\n",
    "    txt_pdf = txt_pdf.replace('CIÊNCIAS DA NATUREZA E SUAS TECNOLOGIAS', '')\n",
    "    txt_pdf = txt_pdf.replace('Questões de 46 a 90', '')\n",
    "    txt_pdf = txt_pdf.replace('LINGUAGENS E CÓDIGOS E SUAS TECNOLOGIAS', '')\n",
    "    txt_pdf = txt_pdf.replace('Questões de 91 a 135', '')\n",
    "    txt_pdf = txt_pdf.replace('MATEMÁTICA E SUAS TECNOLOGIAS', '')\n",
    "    txt_pdf = txt_pdf.replace('Questões de 136 a 180', '')\n",
    "    txt_pdf = txt_pdf.replace('RASCUNHO DA REDAÇÃO', '')\n",
    "    txt_pdf = txt_pdf.replace('Transcreva a sua Redação para a Folha de Redação.', '')\n",
    "    txt_pdf = txt_pdf.replace('RASCUNHO\\nDA REDAÇÃO1', '')\n",
    "    txt_pdf = txt_pdf.replace('234567891011\\n12\\n131415161718192021222324252627282930', '')\n",
    "    txt_pdf  = re.sub(r\"(LC)|(MT)|(CN)|(CH) - (1º)|(2º) dia \\| Caderno \\d+ - ((AMARELO)|(AZUL)|(CINZA)|(ROSA)|(BRANCO)) - Página \\d+\", '', txt_pdf)\n",
    "    txt_pdf  = re.sub(r\" - (1º)|(2º) dia \\| Caderno \\d+ - ((AMARELO)|(AZUL)|(CINZA)|(ROSA)|(BRANCO)) - Página \\d+\", '', txt_pdf)\n",
    "    txt_pdf  = re.sub(r\"dia \\| Caderno \\d+ - ((AMARELO)|(AZUL)|(CINZA)|(ROSA)|(BRANCO)) - Página \\d+\", '', txt_pdf)\n",
    "    txt_pdf = txt_pdf.replace('CIÊNCIAS DA NATUREZ', '')\n",
    "    txt_pdf = txt_pdf.replace('CIÊNCIAS DA NATUREZAE SUAS TEOLOGIAS', '')\n",
    "    txt_pdf = txt_pdf.replace('AE SUAS TEOLOGIAS', '')\n",
    "    txt_pdf = txt_pdf.replace('E SUAS TEOLOGIAS', '')\n",
    "    txt_pdf = txt_pdf.replace('CIÊNCIAS DA N ATUREZA', '')\n",
    "    txt_pdf = txt_pdf.replace('2014', '')\n",
    "    txt_pdf = txt_pdf.replace('\\n2015', '')\n",
    "    txt_pdf = txt_pdf.replace('. 2015', '')\n",
    "    txt_pdf = txt_pdf.replace('.  2015', '')\n",
    "    txt_pdf = txt_pdf.replace('- 2017', '')\n",
    "    txt_pdf = txt_pdf.replace('23456789101112131415161718192021222324252627282930', '')\n",
    "    txt_pdf = txt_pdf.replace('RASCUNH\\n DA REDAÇÃO 1', '')\n",
    "    letras = ['\\nA ', '\\nB ', '\\nC ', '\\nD ', '\\nE ']\n",
    "    #letras = ['A\\n ', 'B\\n ', 'C\\n ', 'D\\n ', 'E\\n']\n",
    "    globals()['alternativa0'] = ''\n",
    "    globals()['alternativa1'] = ''\n",
    "    globals()['alternativa2'] = ''\n",
    "    globals()['alternativa3'] = ''\n",
    "    globals()['alternativa4'] = ''\n",
    "    for i in range(num_primeira_questao, num_ultima_questao+1):\n",
    "        print(i)\n",
    "        if i < num_ultima_questao:\n",
    "            #pattern = re.compile(r\"QUESTÃO \"+(str(0)+str(i) if i < 10 else str(i))+\"(.*?)QUESTÃO \"+(str(0)+str(i+1) if i+1 < 10 else str(i+1)), re.DOTALL)\n",
    "            #pattern = re.compile(r\"QUESTÃO \"+(str(0)+str(i) if i < 10 else str(i))+\"(.*?)da Associação Brasileira para\", re.DOTALL)\n",
    "            #questao = pattern.findall(txt_pdf)\n",
    "            #if len(questao) == 0:\n",
    "                #pattern = re.compile(r\"QUESTÃO \"+(str(0)+str(i) if i < 10 else str(i))+\"(.*?)QUESTÃO \\d+\", re.DOTALL)\n",
    "                #questao = pattern.findall(txt_pdf)\n",
    "            pattern = re.compile(r\"Questão \"+(str(0)+str(i) if i < 10 else str(i))+\"(.*?)Questão \\d+\", re.DOTALL)\n",
    "            questao = pattern.findall(txt_pdf)\n",
    "            if (len(questao) > 0):\n",
    "                questao = questao[0]\n",
    "            else:\n",
    "                questao = ''\n",
    "            pattern = re.compile(r\"(.*)\"+letras[0], re.DOTALL)\n",
    "            print('texto_base')\n",
    "            texto_base = pattern.findall(questao)\n",
    "            if (len(texto_base) > 0):\n",
    "                texto_base = re.sub(r'\\s+', ' ', texto_base[0], flags=re.DOTALL)\n",
    "                print(texto_base)\n",
    "            else:\n",
    "                texto_base = ''\n",
    "            for j in range(len(letras)):\n",
    "                if j < 4:\n",
    "                    pattern = re.compile(r''+letras[j]+\"(.*?)\"+letras[j+1], re.DOTALL)\n",
    "                    #(?<=(A\\n|\\nA)).*?(?=B\\n|\\nB)\n",
    "                    #pattern = re.compile(r'(?<=(\\n'+letras[j]+' |'+letras[j]+'\\n|\\n'+letras[j]+')).*?(?=\\n'+letras[j+1]+' |'+letras[j+1]+'\\n|\\n'+letras[j+1]+' )', re.DOTALL)\n",
    "                    alternativa = pattern.findall(questao)\n",
    "                    if (len(alternativa) > 0):\n",
    "                        alternativa = re.sub(r'\\s+', ' ', alternativa[0], flags=re.DOTALL)\n",
    "                        print(j, alternativa)\n",
    "                        globals()['alternativa'+str(j)] = alternativa\n",
    "                    else:\n",
    "                        globals()['alternativa'+str(j)] = ''\n",
    "                else:\n",
    "                    pattern = re.compile(r''+letras[j]+\"(.*)\", re.DOTALL)\n",
    "                    alternativa = pattern.findall(questao)\n",
    "                    if (len(alternativa) > 0):\n",
    "                        alternativa = re.sub(r'\\s+', ' ', alternativa[0], flags=re.DOTALL)\n",
    "                        print(j, alternativa)\n",
    "                        globals()['alternativa'+str(j)] = alternativa\n",
    "                    else:\n",
    "                        globals()['alternativa'+str(j)] = ''\n",
    "            questao = questao.replace('\\n', '')\n",
    "            print('questão')\n",
    "            print(questao)\n",
    "        else:\n",
    "            pattern = re.compile(r\"Questão \"+str(i)+\"(.*)\", re.DOTALL)\n",
    "            questao = pattern.findall(txt_pdf)\n",
    "            questao = questao[0].strip()\n",
    "            pattern = re.compile(r\"(.*)\"+letras[0], re.DOTALL)\n",
    "            texto_base = pattern.findall(questao)\n",
    "            if (len(texto_base) > 0):\n",
    "                texto_base = re.sub(r'\\s+', ' ', texto_base[0], flags=re.DOTALL)\n",
    "                \n",
    "                print(texto_base)\n",
    "            else:\n",
    "                texto_base = ''\n",
    "                \n",
    "            print('alternativas')\n",
    "            for j in range(len(letras)):\n",
    "                if j < 4:\n",
    "                    \n",
    "                    pattern = re.compile(r''+letras[j]+\"(.*?)\"+letras[j+1], re.DOTALL)\n",
    "                    alternativa = pattern.findall(questao)\n",
    "                    if (len(alternativa) > 0):\n",
    "                        alternativa = re.sub(r'\\s+', ' ', alternativa[0], flags=re.DOTALL)\n",
    "                        print(j, alternativa)\n",
    "                        globals()['alternativa'+str(j)] = alternativa\n",
    "                    else:\n",
    "                        globals()['alternativa'+str(j)] = ''\n",
    "                else:\n",
    "                    pattern = re.compile(r''+letras[j]+\"(.*)\", re.DOTALL)\n",
    "                    alternativa = pattern.findall(questao)\n",
    "                    if (len(alternativa) > 0):\n",
    "                        alternativa = re.sub(r'\\s+', ' ', alternativa[0], flags=re.DOTALL)\n",
    "                        alternativa = alternativa.replace('23456789101112131415161718192021222324252627282930', '')\n",
    "                        alternativa = alternativa.replace('RASCUNHO DA REDAÇÃO 1', '')\n",
    "                        alternativa = alternativa.replace('2 3 4 5 6 7 8 9 10 11 12 13 14 15 16 17 18 19 20 21 22 23 24 25 26 27 28 29 30', '')\n",
    "                        print(j, alternativa)\n",
    "                        globals()['alternativa'+str(j)] = alternativa\n",
    "                    else:\n",
    "                        globals()['alternativa'+str(j)] = ''\n",
    "            questao = re.sub(r'\\s+', ' ', questao, flags=re.DOTALL)\n",
    "            questao = questao.replace('RAScUnHODA REDAÇÃO2015123456789101112131415161718192021222324252627282930', '')\n",
    "            questao = questao.replace('RAScUnHO DA REDAÇÃO2015 1 2 3 4 56 7 8910111213141516 17 18192021222324252627 28 29 30', '')\n",
    "            questao = questao.replace('RASCUNHO DA REDAÇÃO 1', '')\n",
    "            questao = questao.replace('2 3 4 5 6 7 8 9 10 11 12 13 14 15 16 17 18 19 20 21 22 23 24 25 26 27 28 29 30', '')\n",
    "            print(questao)\n",
    "        dados.append([ano, cor, meio_aplicacao, i, area, co_prova, questao, texto_base, globals()['alternativa0'], globals()['alternativa1'], globals()['alternativa2'], globals()['alternativa3'], globals()['alternativa4']])\n",
    "    \n",
    "    #print(dados)\n",
    "    df_dados = pd.DataFrame(dados)\n",
    "    df_dados = df_dados.rename(columns={0: 'ano', 1: 'cor', 2: 'meio_aplicacao', 3: 'num_questao', 4: 'area', 5: 'co_prova', 6: 'texto_questao', 7: 'texto_base', 8: 'alternativa_A', 9: 'alternativa_B', 10: 'alternativa_C', 11: 'alternativa_D', 12: 'alternativa_E'})\n",
    "    df_dados = df_dados.sort_values(by='num_questao', ascending = True).reset_index(drop = True)\n",
    "    df_dados.to_csv(file_path + '.csv', sep = ';', index = False)\n",
    "    \n",
    "    return file_path, df_dados"
   ]
  },
  {
   "cell_type": "markdown",
   "id": "f39fd9b7",
   "metadata": {},
   "source": [
    "#### P1"
   ]
  },
  {
   "cell_type": "code",
   "execution_count": null,
   "id": "4bd39cb1",
   "metadata": {},
   "outputs": [],
   "source": [
    "file_path, df_ENEM_2019_P1_CAD_01_DIA_1_AZUL = extrai_questoes_8('_itens', 2019, 'ENEM_2019_P1_CAD_01_DIA_1_AZUL.pdf', 'Azul', 'PAPEL', 'LC', 511,  6, 90)"
   ]
  },
  {
   "cell_type": "code",
   "execution_count": null,
   "id": "5c6a5541",
   "metadata": {},
   "outputs": [],
   "source": [
    "df_ENEM_2019_P1_CAD_01_DIA_1_AZUL.loc[df_ENEM_2019_P1_CAD_01_DIA_1_AZUL['num_questao'] <= 45, 'area'] = 'LC'\n",
    "df_ENEM_2019_P1_CAD_01_DIA_1_AZUL.loc[df_ENEM_2019_P1_CAD_01_DIA_1_AZUL['num_questao'] <= 45, 'co_prova'] = 511\n",
    "df_ENEM_2019_P1_CAD_01_DIA_1_AZUL.loc[df_ENEM_2019_P1_CAD_01_DIA_1_AZUL['num_questao'] > 45, 'area'] = 'CH'\n",
    "df_ENEM_2019_P1_CAD_01_DIA_1_AZUL.loc[df_ENEM_2019_P1_CAD_01_DIA_1_AZUL['num_questao'] > 45, 'co_prova'] = 507\n",
    "print(np.sort(df_ENEM_2019_P1_CAD_01_DIA_1_AZUL.num_questao.unique()))\n",
    "print(df_ENEM_2019_P1_CAD_01_DIA_1_AZUL.area.unique())\n",
    "print(df_ENEM_2019_P1_CAD_01_DIA_1_AZUL.co_prova.unique())\n",
    "df_ENEM_2019_P1_CAD_01_DIA_1_AZUL.to_csv(file_path + '.csv', sep = ';', index = False)"
   ]
  },
  {
   "cell_type": "code",
   "execution_count": null,
   "id": "0b1d6871",
   "metadata": {},
   "outputs": [],
   "source": [
    "file_path, df_ENEM_2019_P1_CAD_02_DIA_1_AMARELO = extrai_questoes_8('_itens', 2019, 'ENEM_2019_P1_CAD_02_DIA_1_AMARELO.pdf', 'Amarela', 'PAPEL', 'LC', 512,  6, 90)"
   ]
  },
  {
   "cell_type": "code",
   "execution_count": null,
   "id": "f3996344",
   "metadata": {},
   "outputs": [],
   "source": [
    "df_ENEM_2019_P1_CAD_02_DIA_1_AMARELO.loc[df_ENEM_2019_P1_CAD_02_DIA_1_AMARELO['num_questao'] <= 45, 'area'] = 'LC'\n",
    "df_ENEM_2019_P1_CAD_02_DIA_1_AMARELO.loc[df_ENEM_2019_P1_CAD_02_DIA_1_AMARELO['num_questao'] <= 45, 'co_prova'] = 512\n",
    "df_ENEM_2019_P1_CAD_02_DIA_1_AMARELO.loc[df_ENEM_2019_P1_CAD_02_DIA_1_AMARELO['num_questao'] > 45, 'area'] = 'CH'\n",
    "df_ENEM_2019_P1_CAD_02_DIA_1_AMARELO.loc[df_ENEM_2019_P1_CAD_02_DIA_1_AMARELO['num_questao'] > 45, 'co_prova'] = 508\n",
    "print(np.sort(df_ENEM_2019_P1_CAD_02_DIA_1_AMARELO.num_questao.unique()))\n",
    "print(df_ENEM_2019_P1_CAD_02_DIA_1_AMARELO.area.unique())\n",
    "print(df_ENEM_2019_P1_CAD_02_DIA_1_AMARELO.co_prova.unique())\n",
    "df_ENEM_2019_P1_CAD_02_DIA_1_AMARELO.to_csv(file_path + '.csv', sep = ';', index = False)"
   ]
  },
  {
   "cell_type": "code",
   "execution_count": null,
   "id": "1dd463e2",
   "metadata": {},
   "outputs": [],
   "source": [
    "file_path, df_ENEM_2019_P1_CAD_03_DIA_1_BRANCO = extrai_questoes_8('_itens', 2019, 'ENEM_2019_P1_CAD_03_DIA_1_BRANCO.pdf', 'Branca', 'PAPEL', 'LC', 514,  6, 90)"
   ]
  },
  {
   "cell_type": "code",
   "execution_count": null,
   "id": "c513bc9c",
   "metadata": {},
   "outputs": [],
   "source": [
    "df_ENEM_2019_P1_CAD_03_DIA_1_BRANCO.loc[df_ENEM_2019_P1_CAD_03_DIA_1_BRANCO['num_questao'] <= 45, 'area'] = 'LC'\n",
    "df_ENEM_2019_P1_CAD_03_DIA_1_BRANCO.loc[df_ENEM_2019_P1_CAD_03_DIA_1_BRANCO['num_questao'] <= 45, 'co_prova'] = 514\n",
    "df_ENEM_2019_P1_CAD_03_DIA_1_BRANCO.loc[df_ENEM_2019_P1_CAD_03_DIA_1_BRANCO['num_questao'] > 45, 'area'] = 'CH'\n",
    "df_ENEM_2019_P1_CAD_03_DIA_1_BRANCO.loc[df_ENEM_2019_P1_CAD_03_DIA_1_BRANCO['num_questao'] > 45, 'co_prova'] = 509\n",
    "print(np.sort(df_ENEM_2019_P1_CAD_03_DIA_1_BRANCO.num_questao.unique()))\n",
    "print(df_ENEM_2019_P1_CAD_03_DIA_1_BRANCO.area.unique())\n",
    "print(df_ENEM_2019_P1_CAD_03_DIA_1_BRANCO.co_prova.unique())\n",
    "df_ENEM_2019_P1_CAD_03_DIA_1_BRANCO.to_csv(file_path + '.csv', sep = ';', index = False)"
   ]
  },
  {
   "cell_type": "code",
   "execution_count": null,
   "id": "5cba0b92",
   "metadata": {},
   "outputs": [],
   "source": [
    "file_path, df_ENEM_2019_P1_CAD_04_DIA_1_ROSA = extrai_questoes_8('_itens', 2019, 'ENEM_2019_P1_CAD_04_DIA_1_ROSA.pdf', 'Rosa', 'PAPEL', 'LC', 513,  6, 90)"
   ]
  },
  {
   "cell_type": "code",
   "execution_count": null,
   "id": "cc185dc7",
   "metadata": {},
   "outputs": [],
   "source": [
    "df_ENEM_2019_P1_CAD_04_DIA_1_ROSA.loc[df_ENEM_2019_P1_CAD_04_DIA_1_ROSA['num_questao'] <= 45, 'area'] = 'LC'\n",
    "df_ENEM_2019_P1_CAD_04_DIA_1_ROSA.loc[df_ENEM_2019_P1_CAD_04_DIA_1_ROSA['num_questao'] <= 45, 'co_prova'] = 513\n",
    "df_ENEM_2019_P1_CAD_04_DIA_1_ROSA.loc[df_ENEM_2019_P1_CAD_04_DIA_1_ROSA['num_questao'] > 45, 'area'] = 'CH'\n",
    "df_ENEM_2019_P1_CAD_04_DIA_1_ROSA.loc[df_ENEM_2019_P1_CAD_04_DIA_1_ROSA['num_questao'] > 45, 'co_prova'] = 510\n",
    "print(np.sort(df_ENEM_2019_P1_CAD_04_DIA_1_ROSA.num_questao.unique()))\n",
    "print(df_ENEM_2019_P1_CAD_04_DIA_1_ROSA.area.unique())\n",
    "print(df_ENEM_2019_P1_CAD_04_DIA_1_ROSA.co_prova.unique())\n",
    "df_ENEM_2019_P1_CAD_04_DIA_1_ROSA.to_csv(file_path + '.csv', sep = ';', index = False)"
   ]
  },
  {
   "cell_type": "code",
   "execution_count": null,
   "id": "303f4955",
   "metadata": {},
   "outputs": [],
   "source": [
    "file_path, df_ENEM_2019_P1_CAD_05_DIA_2_AMARELO = extrai_questoes_8('_itens', 2019, 'ENEM_2019_P1_CAD_05_DIA_2_AMARELO.pdf', 'Amarela', 'PAPEL', 'CN', 504,  91, 180)"
   ]
  },
  {
   "cell_type": "code",
   "execution_count": null,
   "id": "8cf65e3d",
   "metadata": {},
   "outputs": [],
   "source": [
    "df_ENEM_2019_P1_CAD_05_DIA_2_AMARELO.loc[df_ENEM_2019_P1_CAD_05_DIA_2_AMARELO['num_questao'] <= 135, 'area'] = 'CN'\n",
    "df_ENEM_2019_P1_CAD_05_DIA_2_AMARELO.loc[df_ENEM_2019_P1_CAD_05_DIA_2_AMARELO['num_questao'] <= 135, 'co_prova'] = 504\n",
    "df_ENEM_2019_P1_CAD_05_DIA_2_AMARELO.loc[df_ENEM_2019_P1_CAD_05_DIA_2_AMARELO['num_questao'] > 135, 'area'] = 'MT'\n",
    "df_ENEM_2019_P1_CAD_05_DIA_2_AMARELO.loc[df_ENEM_2019_P1_CAD_05_DIA_2_AMARELO['num_questao'] > 135, 'co_prova'] = 516\n",
    "print(np.sort(df_ENEM_2019_P1_CAD_05_DIA_2_AMARELO.num_questao.unique()))\n",
    "print(df_ENEM_2019_P1_CAD_05_DIA_2_AMARELO.area.unique())\n",
    "print(df_ENEM_2019_P1_CAD_05_DIA_2_AMARELO.co_prova.unique())\n",
    "df_ENEM_2019_P1_CAD_05_DIA_2_AMARELO.to_csv(file_path + '.csv', sep = ';', index = False)"
   ]
  },
  {
   "cell_type": "code",
   "execution_count": null,
   "id": "721bcf05",
   "metadata": {},
   "outputs": [],
   "source": [
    "file_path, df_ENEM_2019_P1_CAD_06_DIA_2_CINZA = extrai_questoes_8('_itens', 2019, 'ENEM_2019_P1_CAD_06_DIA_2_CINZA.pdf', 'Cinza', 'PAPEL', 'CN', 505,  91, 180)"
   ]
  },
  {
   "cell_type": "code",
   "execution_count": null,
   "id": "781400e5",
   "metadata": {},
   "outputs": [],
   "source": [
    "df_ENEM_2019_P1_CAD_06_DIA_2_CINZA.loc[df_ENEM_2019_P1_CAD_06_DIA_2_CINZA['num_questao'] <= 135, 'area'] = 'CN'\n",
    "df_ENEM_2019_P1_CAD_06_DIA_2_CINZA.loc[df_ENEM_2019_P1_CAD_06_DIA_2_CINZA['num_questao'] <= 135, 'co_prova'] = 505\n",
    "df_ENEM_2019_P1_CAD_06_DIA_2_CINZA.loc[df_ENEM_2019_P1_CAD_06_DIA_2_CINZA['num_questao'] > 135, 'area'] = 'MT'\n",
    "df_ENEM_2019_P1_CAD_06_DIA_2_CINZA.loc[df_ENEM_2019_P1_CAD_06_DIA_2_CINZA['num_questao'] > 135, 'co_prova'] = 518\n",
    "print(np.sort(df_ENEM_2019_P1_CAD_06_DIA_2_CINZA.num_questao.unique()))\n",
    "print(df_ENEM_2019_P1_CAD_06_DIA_2_CINZA.area.unique())\n",
    "print(df_ENEM_2019_P1_CAD_06_DIA_2_CINZA.co_prova.unique())\n",
    "df_ENEM_2019_P1_CAD_06_DIA_2_CINZA.to_csv(file_path + '.csv', sep = ';', index = False)"
   ]
  },
  {
   "cell_type": "code",
   "execution_count": null,
   "id": "041229a0",
   "metadata": {},
   "outputs": [],
   "source": [
    "file_path, df_ENEM_2019_P1_CAD_07_DIA_2_AZUL = extrai_questoes_8('_itens', 2019, 'ENEM_2019_P1_CAD_07_DIA_2_AZUL.pdf', 'Azul', 'PAPEL', 'CN', 503,  91, 180)"
   ]
  },
  {
   "cell_type": "code",
   "execution_count": null,
   "id": "01b305f1",
   "metadata": {},
   "outputs": [],
   "source": [
    "df_ENEM_2019_P1_CAD_07_DIA_2_AZUL.loc[df_ENEM_2019_P1_CAD_07_DIA_2_AZUL['num_questao'] <= 135, 'area'] = 'CN'\n",
    "df_ENEM_2019_P1_CAD_07_DIA_2_AZUL.loc[df_ENEM_2019_P1_CAD_07_DIA_2_AZUL['num_questao'] <= 135, 'co_prova'] = 503\n",
    "df_ENEM_2019_P1_CAD_07_DIA_2_AZUL.loc[df_ENEM_2019_P1_CAD_07_DIA_2_AZUL['num_questao'] > 135, 'area'] = 'MT'\n",
    "df_ENEM_2019_P1_CAD_07_DIA_2_AZUL.loc[df_ENEM_2019_P1_CAD_07_DIA_2_AZUL['num_questao'] > 135, 'co_prova'] = 515\n",
    "print(np.sort(df_ENEM_2019_P1_CAD_07_DIA_2_AZUL.num_questao.unique()))\n",
    "print(df_ENEM_2019_P1_CAD_07_DIA_2_AZUL.area.unique())\n",
    "print(df_ENEM_2019_P1_CAD_07_DIA_2_AZUL.co_prova.unique())\n",
    "df_ENEM_2019_P1_CAD_07_DIA_2_AZUL.to_csv(file_path + '.csv', sep = ';', index = False)"
   ]
  },
  {
   "cell_type": "code",
   "execution_count": null,
   "id": "a19dc4d6",
   "metadata": {},
   "outputs": [],
   "source": [
    "file_path, df_ENEM_2019_P1_CAD_08_DIA_2_ROSA = extrai_questoes_8('_itens', 2019, 'ENEM_2019_P1_CAD_08_DIA_2_ROSA.pdf', 'Rosa', 'PAPEL', 'CN', 506,  91, 180)"
   ]
  },
  {
   "cell_type": "code",
   "execution_count": null,
   "id": "f9e8d536",
   "metadata": {},
   "outputs": [],
   "source": [
    "df_ENEM_2019_P1_CAD_08_DIA_2_ROSA.loc[df_ENEM_2019_P1_CAD_08_DIA_2_ROSA['num_questao'] <= 135, 'area'] = 'CN'\n",
    "df_ENEM_2019_P1_CAD_08_DIA_2_ROSA.loc[df_ENEM_2019_P1_CAD_08_DIA_2_ROSA['num_questao'] <= 135, 'co_prova'] = 506\n",
    "df_ENEM_2019_P1_CAD_08_DIA_2_ROSA.loc[df_ENEM_2019_P1_CAD_08_DIA_2_ROSA['num_questao'] > 135, 'area'] = 'MT'\n",
    "df_ENEM_2019_P1_CAD_08_DIA_2_ROSA.loc[df_ENEM_2019_P1_CAD_08_DIA_2_ROSA['num_questao'] > 135, 'co_prova'] = 517\n",
    "print(np.sort(df_ENEM_2019_P1_CAD_08_DIA_2_ROSA.num_questao.unique()))\n",
    "print(df_ENEM_2019_P1_CAD_08_DIA_2_ROSA.area.unique())\n",
    "print(df_ENEM_2019_P1_CAD_08_DIA_2_ROSA.co_prova.unique())\n",
    "df_ENEM_2019_P1_CAD_08_DIA_2_ROSA.to_csv(file_path + '.csv', sep = ';', index = False)"
   ]
  },
  {
   "cell_type": "markdown",
   "id": "7744bdd7",
   "metadata": {},
   "source": [
    "#### P2"
   ]
  },
  {
   "cell_type": "code",
   "execution_count": null,
   "id": "5ef6e58e",
   "metadata": {},
   "outputs": [],
   "source": [
    "file_path, df_ENEM_2019_P2_CAD_01_DIA_1_AZUL = extrai_questoes_8('_itens', 2019, 'ENEM_2019_P2_CAD_01_DIA_1_AZUL.pdf', 'Azul', 'PAPEL', 'LC', 551,  6, 90)"
   ]
  },
  {
   "cell_type": "code",
   "execution_count": null,
   "id": "f433aee6",
   "metadata": {},
   "outputs": [],
   "source": [
    "df_ENEM_2019_P2_CAD_01_DIA_1_AZUL.loc[df_ENEM_2019_P2_CAD_01_DIA_1_AZUL['num_questao'] <= 45, 'area'] = 'LC'\n",
    "df_ENEM_2019_P2_CAD_01_DIA_1_AZUL.loc[df_ENEM_2019_P2_CAD_01_DIA_1_AZUL['num_questao'] <= 45, 'co_prova'] = 551\n",
    "df_ENEM_2019_P2_CAD_01_DIA_1_AZUL.loc[df_ENEM_2019_P2_CAD_01_DIA_1_AZUL['num_questao'] > 45, 'area'] = 'CH'\n",
    "df_ENEM_2019_P2_CAD_01_DIA_1_AZUL.loc[df_ENEM_2019_P2_CAD_01_DIA_1_AZUL['num_questao'] > 45, 'co_prova'] = 547\n",
    "print(np.sort(df_ENEM_2019_P2_CAD_01_DIA_1_AZUL.num_questao.unique()))\n",
    "print(df_ENEM_2019_P2_CAD_01_DIA_1_AZUL.area.unique())\n",
    "print(df_ENEM_2019_P2_CAD_01_DIA_1_AZUL.co_prova.unique())\n",
    "df_ENEM_2019_P2_CAD_01_DIA_1_AZUL.to_csv(file_path + '.csv', sep = ';', index = False)"
   ]
  },
  {
   "cell_type": "code",
   "execution_count": null,
   "id": "f0b65bc5",
   "metadata": {},
   "outputs": [],
   "source": [
    "file_path, df_ENEM_2019_P2_CAD_02_DIA_1_AMARELO = extrai_questoes_8('_itens', 2019, 'ENEM_2019_P2_CAD_02_DIA_1_AMARELO.pdf', 'Amarela', 'PAPEL', 'LC', 552,  6, 90)"
   ]
  },
  {
   "cell_type": "code",
   "execution_count": null,
   "id": "2a528d71",
   "metadata": {},
   "outputs": [],
   "source": [
    "df_ENEM_2019_P2_CAD_02_DIA_1_AMARELO.loc[df_ENEM_2019_P2_CAD_02_DIA_1_AMARELO['num_questao'] <= 45, 'area'] = 'LC'\n",
    "df_ENEM_2019_P2_CAD_02_DIA_1_AMARELO.loc[df_ENEM_2019_P2_CAD_02_DIA_1_AMARELO['num_questao'] <= 45, 'co_prova'] = 552\n",
    "df_ENEM_2019_P2_CAD_02_DIA_1_AMARELO.loc[df_ENEM_2019_P2_CAD_02_DIA_1_AMARELO['num_questao'] > 45, 'area'] = 'CH'\n",
    "df_ENEM_2019_P2_CAD_02_DIA_1_AMARELO.loc[df_ENEM_2019_P2_CAD_02_DIA_1_AMARELO['num_questao'] > 45, 'co_prova'] = 548\n",
    "print(np.sort(df_ENEM_2019_P2_CAD_02_DIA_1_AMARELO.num_questao.unique()))\n",
    "print(df_ENEM_2019_P2_CAD_02_DIA_1_AMARELO.area.unique())\n",
    "print(df_ENEM_2019_P2_CAD_02_DIA_1_AMARELO.co_prova.unique())\n",
    "df_ENEM_2019_P2_CAD_02_DIA_1_AMARELO.to_csv(file_path + '.csv', sep = ';', index = False)"
   ]
  },
  {
   "cell_type": "code",
   "execution_count": null,
   "id": "8500f1cc",
   "metadata": {},
   "outputs": [],
   "source": [
    "file_path, df_ENEM_2019_P2_CAD_04_DIA_1_ROSA = extrai_questoes_8('_itens', 2019, 'ENEM_2019_P2_CAD_04_DIA_1_ROSA.pdf', 'Rosa', 'PAPEL', 'LC', 550,  6, 90)"
   ]
  },
  {
   "cell_type": "code",
   "execution_count": null,
   "id": "cd36acc0",
   "metadata": {},
   "outputs": [],
   "source": [
    "df_ENEM_2019_P2_CAD_04_DIA_1_ROSA.loc[df_ENEM_2019_P2_CAD_04_DIA_1_ROSA['num_questao'] <= 45, 'area'] = 'LC'\n",
    "df_ENEM_2019_P2_CAD_04_DIA_1_ROSA.loc[df_ENEM_2019_P2_CAD_04_DIA_1_ROSA['num_questao'] <= 45, 'co_prova'] = 554\n",
    "df_ENEM_2019_P2_CAD_04_DIA_1_ROSA.loc[df_ENEM_2019_P2_CAD_04_DIA_1_ROSA['num_questao'] > 45, 'area'] = 'CH'\n",
    "df_ENEM_2019_P2_CAD_04_DIA_1_ROSA.loc[df_ENEM_2019_P2_CAD_04_DIA_1_ROSA['num_questao'] > 45, 'co_prova'] = 550\n",
    "print(np.sort(df_ENEM_2019_P2_CAD_04_DIA_1_ROSA.num_questao.unique()))\n",
    "print(df_ENEM_2019_P2_CAD_04_DIA_1_ROSA.area.unique())\n",
    "print(df_ENEM_2019_P2_CAD_04_DIA_1_ROSA.co_prova.unique())\n",
    "df_ENEM_2019_P2_CAD_04_DIA_1_ROSA.to_csv(file_path + '.csv', sep = ';', index = False)"
   ]
  },
  {
   "cell_type": "code",
   "execution_count": null,
   "id": "f2af991a",
   "metadata": {},
   "outputs": [],
   "source": [
    "file_path, df_ENEM_2019_P2_CAD_03_DIA_1_BRANCO = extrai_questoes_8('_itens', 2019, 'ENEM_2019_P2_CAD_03_DIA_1_BRANCO.pdf', 'Branca', 'PAPEL', 'LC', 553,  6, 90)"
   ]
  },
  {
   "cell_type": "code",
   "execution_count": null,
   "id": "d003e035",
   "metadata": {},
   "outputs": [],
   "source": [
    "df_ENEM_2019_P2_CAD_03_DIA_1_BRANCO.loc[df_ENEM_2019_P2_CAD_03_DIA_1_BRANCO['num_questao'] <= 45, 'area'] = 'LC'\n",
    "df_ENEM_2019_P2_CAD_03_DIA_1_BRANCO.loc[df_ENEM_2019_P2_CAD_03_DIA_1_BRANCO['num_questao'] <= 45, 'co_prova'] = 553\n",
    "df_ENEM_2019_P2_CAD_03_DIA_1_BRANCO.loc[df_ENEM_2019_P2_CAD_03_DIA_1_BRANCO['num_questao'] > 45, 'area'] = 'CH'\n",
    "df_ENEM_2019_P2_CAD_03_DIA_1_BRANCO.loc[df_ENEM_2019_P2_CAD_03_DIA_1_BRANCO['num_questao'] > 45, 'co_prova'] = 549\n",
    "print(np.sort(df_ENEM_2019_P2_CAD_03_DIA_1_BRANCO.num_questao.unique()))\n",
    "print(df_ENEM_2019_P2_CAD_03_DIA_1_BRANCO.area.unique())\n",
    "print(df_ENEM_2019_P2_CAD_03_DIA_1_BRANCO.co_prova.unique())\n",
    "df_ENEM_2019_P2_CAD_03_DIA_1_BRANCO.to_csv(file_path + '.csv', sep = ';', index = False)"
   ]
  },
  {
   "cell_type": "code",
   "execution_count": null,
   "id": "e0f97676",
   "metadata": {},
   "outputs": [],
   "source": [
    "file_path, df_ENEM_2019_P2_CAD_05_DIA_2_AMARELO = extrai_questoes_8('_itens', 2019, 'ENEM_2019_P2_CAD_05_DIA_2_AMARELO.pdf', 'Amarela', 'PAPEL', 'LC', 552,  91, 180)"
   ]
  },
  {
   "cell_type": "code",
   "execution_count": null,
   "id": "785225b7",
   "metadata": {},
   "outputs": [],
   "source": [
    "df_ENEM_2019_P2_CAD_05_DIA_2_AMARELO.loc[df_ENEM_2019_P2_CAD_05_DIA_2_AMARELO['num_questao'] <= 135, 'area'] = 'CN'\n",
    "df_ENEM_2019_P2_CAD_05_DIA_2_AMARELO.loc[df_ENEM_2019_P2_CAD_05_DIA_2_AMARELO['num_questao'] <= 135, 'co_prova'] = 552\n",
    "df_ENEM_2019_P2_CAD_05_DIA_2_AMARELO.loc[df_ENEM_2019_P2_CAD_05_DIA_2_AMARELO['num_questao'] > 135, 'area'] = 'MT'\n",
    "df_ENEM_2019_P2_CAD_05_DIA_2_AMARELO.loc[df_ENEM_2019_P2_CAD_05_DIA_2_AMARELO['num_questao'] > 135, 'co_prova'] = 548\n",
    "print(np.sort(df_ENEM_2019_P2_CAD_05_DIA_2_AMARELO.num_questao.unique()))\n",
    "print(df_ENEM_2019_P2_CAD_05_DIA_2_AMARELO.area.unique())\n",
    "print(df_ENEM_2019_P2_CAD_05_DIA_2_AMARELO.co_prova.unique())\n",
    "df_ENEM_2019_P2_CAD_05_DIA_2_AMARELO.to_csv(file_path + '.csv', sep = ';', index = False)"
   ]
  },
  {
   "cell_type": "code",
   "execution_count": null,
   "id": "08c50205",
   "metadata": {},
   "outputs": [],
   "source": [
    "file_path, df_ENEM_2019_P2_CAD_06_DIA_2_CINZA = extrai_questoes_8('_itens', 2019, 'ENEM_2019_P2_CAD_06_DIA_2_CINZA.pdf', 'Cinza', 'PAPEL', 'CN', 544,  91, 180)"
   ]
  },
  {
   "cell_type": "code",
   "execution_count": null,
   "id": "65ee3d12",
   "metadata": {},
   "outputs": [],
   "source": [
    "df_ENEM_2019_P2_CAD_06_DIA_2_CINZA.loc[df_ENEM_2019_P2_CAD_06_DIA_2_CINZA['num_questao'] <= 135, 'area'] = 'CN'\n",
    "df_ENEM_2019_P2_CAD_06_DIA_2_CINZA.loc[df_ENEM_2019_P2_CAD_06_DIA_2_CINZA['num_questao'] <= 135, 'co_prova'] = 544\n",
    "df_ENEM_2019_P2_CAD_06_DIA_2_CINZA.loc[df_ENEM_2019_P2_CAD_06_DIA_2_CINZA['num_questao'] > 135, 'area'] = 'MT'\n",
    "df_ENEM_2019_P2_CAD_06_DIA_2_CINZA.loc[df_ENEM_2019_P2_CAD_06_DIA_2_CINZA['num_questao'] > 135, 'co_prova'] = 556\n",
    "print(np.sort(df_ENEM_2019_P2_CAD_06_DIA_2_CINZA.num_questao.unique()))\n",
    "print(df_ENEM_2019_P2_CAD_06_DIA_2_CINZA.area.unique())\n",
    "print(df_ENEM_2019_P2_CAD_06_DIA_2_CINZA.co_prova.unique())\n",
    "df_ENEM_2019_P2_CAD_06_DIA_2_CINZA.to_csv(file_path + '.csv', sep = ';', index = False)"
   ]
  },
  {
   "cell_type": "code",
   "execution_count": null,
   "id": "95af3bd8",
   "metadata": {},
   "outputs": [],
   "source": [
    "file_path, df_ENEM_2019_P2_CAD_07_DIA_2_AZUL = extrai_questoes_8('_itens', 2019, 'ENEM_2019_P2_CAD_07_DIA_2_AZUL.pdf', 'Azul', 'PAPEL', 'CN', 545,  91, 180)"
   ]
  },
  {
   "cell_type": "code",
   "execution_count": null,
   "id": "33d64de9",
   "metadata": {},
   "outputs": [],
   "source": [
    "df_ENEM_2019_P2_CAD_07_DIA_2_AZUL.loc[df_ENEM_2019_P2_CAD_07_DIA_2_AZUL['num_questao'] <= 135, 'area'] = 'CN'\n",
    "df_ENEM_2019_P2_CAD_07_DIA_2_AZUL.loc[df_ENEM_2019_P2_CAD_07_DIA_2_AZUL['num_questao'] <= 135, 'co_prova'] = 545\n",
    "df_ENEM_2019_P2_CAD_07_DIA_2_AZUL.loc[df_ENEM_2019_P2_CAD_07_DIA_2_AZUL['num_questao'] > 135, 'area'] = 'MT'\n",
    "df_ENEM_2019_P2_CAD_07_DIA_2_AZUL.loc[df_ENEM_2019_P2_CAD_07_DIA_2_AZUL['num_questao'] > 135, 'co_prova'] = 557\n",
    "print(np.sort(df_ENEM_2019_P2_CAD_07_DIA_2_AZUL.num_questao.unique()))\n",
    "print(df_ENEM_2019_P2_CAD_07_DIA_2_AZUL.area.unique())\n",
    "print(df_ENEM_2019_P2_CAD_07_DIA_2_AZUL.co_prova.unique())\n",
    "df_ENEM_2019_P2_CAD_07_DIA_2_AZUL.to_csv(file_path + '.csv', sep = ';', index = False)"
   ]
  },
  {
   "cell_type": "code",
   "execution_count": null,
   "id": "0e9c0b13",
   "metadata": {},
   "outputs": [],
   "source": [
    "file_path, df_ENEM_2019_P2_CAD_08_DIA_2_ROSA = extrai_questoes_8('_itens', 2019, 'ENEM_2019_P2_CAD_08_DIA_2_ROSA.pdf', 'Rosa', 'PAPEL', 'CN', 546,  91, 180)"
   ]
  },
  {
   "cell_type": "code",
   "execution_count": null,
   "id": "d37580bd",
   "metadata": {},
   "outputs": [],
   "source": [
    "df_ENEM_2019_P2_CAD_08_DIA_2_ROSA.loc[df_ENEM_2019_P2_CAD_08_DIA_2_ROSA['num_questao'] <= 135, 'area'] = 'CN'\n",
    "df_ENEM_2019_P2_CAD_08_DIA_2_ROSA.loc[df_ENEM_2019_P2_CAD_08_DIA_2_ROSA['num_questao'] <= 135, 'co_prova'] = 546\n",
    "df_ENEM_2019_P2_CAD_08_DIA_2_ROSA.loc[df_ENEM_2019_P2_CAD_08_DIA_2_ROSA['num_questao'] > 135, 'area'] = 'MT'\n",
    "df_ENEM_2019_P2_CAD_08_DIA_2_ROSA.loc[df_ENEM_2019_P2_CAD_08_DIA_2_ROSA['num_questao'] > 135, 'co_prova'] = 558\n",
    "print(np.sort(df_ENEM_2019_P2_CAD_08_DIA_2_ROSA.num_questao.unique()))\n",
    "print(df_ENEM_2019_P2_CAD_08_DIA_2_ROSA.area.unique())\n",
    "print(df_ENEM_2019_P2_CAD_08_DIA_2_ROSA.co_prova.unique())\n",
    "df_ENEM_2019_P2_CAD_08_DIA_2_ROSA.to_csv(file_path + '.csv', sep = ';', index = False)"
   ]
  },
  {
   "cell_type": "code",
   "execution_count": null,
   "id": "1e930572",
   "metadata": {},
   "outputs": [],
   "source": [
    "# Concatenação dos dataframes de 2009\n",
    "df_prova_2019 = pd.concat([df_ENEM_2019_P1_CAD_01_DIA_1_AZUL,\n",
    "                            df_ENEM_2019_P1_CAD_02_DIA_1_AMARELO,\n",
    "                            df_ENEM_2019_P1_CAD_03_DIA_1_BRANCO,\n",
    "                            df_ENEM_2019_P1_CAD_04_DIA_1_ROSA,\n",
    "                            df_ENEM_2019_P1_CAD_05_DIA_2_AMARELO,\n",
    "                            df_ENEM_2019_P1_CAD_06_DIA_2_CINZA,\n",
    "                            df_ENEM_2019_P1_CAD_07_DIA_2_AZUL,\n",
    "                            df_ENEM_2019_P1_CAD_08_DIA_2_ROSA,\n",
    "                            df_ENEM_2019_P2_CAD_01_DIA_1_AZUL,\n",
    "                            df_ENEM_2019_P2_CAD_02_DIA_1_AMARELO,\n",
    "                            df_ENEM_2019_P2_CAD_03_DIA_1_BRANCO,\n",
    "                            df_ENEM_2019_P2_CAD_04_DIA_1_ROSA,\n",
    "                            df_ENEM_2019_P2_CAD_05_DIA_2_AMARELO,\n",
    "                            df_ENEM_2019_P2_CAD_06_DIA_2_CINZA,\n",
    "                            df_ENEM_2019_P2_CAD_07_DIA_2_AZUL,\n",
    "                            df_ENEM_2019_P2_CAD_08_DIA_2_ROSA], ignore_index=True, axis = 0)\n",
    "\n",
    "# Resultado\n",
    "df_prova_2019.shape"
   ]
  },
  {
   "cell_type": "code",
   "execution_count": null,
   "id": "36d9b093",
   "metadata": {},
   "outputs": [],
   "source": [
    "file = os.path.join('_itens', str(2019), 'ITENS_PROVA_2019')\n",
    "df_itens_2019 = pd.read_csv(file + '.csv', sep = ';', encoding = 'ISO-8859-1')\n",
    "df_itens_2019['id'] = df_itens_2019['CO_POSICAO'].apply(str) + '_' + df_itens_2019['SG_AREA'].apply(str) + '_' + df_itens_2019['TX_COR'].apply(str) + '_' + df_itens_2019['CO_PROVA'].apply(str)\n",
    "df_prova_2019['id'] = df_prova_2019['num_questao'].apply(str) + '_' + df_prova_2019['area'].apply(str) + '_' + df_prova_2019['cor'].apply(str) + '_' + df_prova_2019['co_prova'].apply(str)\n",
    "df_2019_merge = pd.merge(df_itens_2019, df_prova_2019, on='id', how='left')\n",
    "df_2019_merge = df_2019_merge.drop(df_2019_merge.columns[20], axis = 1)\n",
    "for col in df_2019_merge.columns:\n",
    "    df_2019_merge = df_2019_merge.rename(columns = {col:col.lower()})\n",
    "file = os.path.join('_itens', str(2019), '2019_ENEM_COMPLETA')\n",
    "df_2019_merge.to_csv(file + '.csv', sep = ';', index = False)"
   ]
  },
  {
   "cell_type": "markdown",
   "id": "3a7b364d",
   "metadata": {},
   "source": [
    "### 2020"
   ]
  },
  {
   "cell_type": "code",
   "execution_count": null,
   "id": "f6ee4ac4",
   "metadata": {},
   "outputs": [],
   "source": [
    "#aplicado a 2020\n",
    "def extrai_questoes_9(dir_, ano, pdf, cor, meio_aplicacao, area, co_prova, num_primeira_questao, num_ultima_questao):\n",
    "    dados = []\n",
    "    #arquivo pdf\n",
    "    file_path = os.path.join(dir_, str(ano), pdf)\n",
    "    # Abre o arquivo PDF\n",
    "    pdf_file = open(file_path, \"rb\")\n",
    "\n",
    "    # Cria um objeto PDFReader\n",
    "    pdf_reader = PyPDF2.PdfReader(pdf_file)\n",
    "\n",
    "    txt_pdf = ''\n",
    "    # Loop através de cada página do PDF\n",
    "    for page in range(len(pdf_reader.pages)):\n",
    "        # Obtém o objeto da página atual\n",
    "        page_obj = pdf_reader.pages[page]\n",
    "\n",
    "        # Extrai o texto da página atual\n",
    "        page_text = page_obj.extract_text()\n",
    "\n",
    "        # Escreve o texto extraído em um arquivo TXT\n",
    "        with open(file_path + '.txt', \"a\",  encoding=\"utf-8\") as text_file:\n",
    "            text_file.write(page_text)\n",
    "            txt_pdf += page_text + ' '\n",
    "\n",
    "    # Fecha o arquivo PDF\n",
    "    pdf_file.close()\n",
    "\n",
    "    file_path = os.path.join(dir_, str(ano), pdf+'.txt')\n",
    "    #print(txt_pdf)\n",
    "    txt_pdf  = re.sub(r'/g\\d+/', '', txt_pdf)\n",
    "    txt_pdf  = re.sub(r'g/', '', txt_pdf)\n",
    "    txt_pdf  = re.sub(r'/g/', '', txt_pdf)\n",
    "    txt_pdf = re.sub(r'\\{2,}', \"\", txt_pdf)\n",
    "    txt_pdf = re.sub(r'\\/\\d+', \"\", txt_pdf)\n",
    "    txt_pdf = re.sub(r'#\\d+', \"\", txt_pdf)\n",
    "    txt_pdf = txt_pdf.replace('#2/', '')\n",
    "    txt_pdf = txt_pdf.replace('/', '')\n",
    "    #*SA0175AZ6*\n",
    "    #*DO0525AM31*\n",
    "    txt_pdf = re.sub(r\"\\*2017[A-Z]{2}\\d{4}[A-Z]{2}\\d+\\*\", '', txt_pdf)\n",
    "    txt_pdf = re.sub(r\"\\*[A-Z]{2}\\d{4}[A-Z]{2}\\d+\\*\", '', txt_pdf)\n",
    "    txt_pdf = re.sub(r'\\*((SA)(CINZ)|(ROSA)|(BRAN)|(AMAR)|(AZUL)|(Amar)|(amar)|(cinz)|(azul)|(rosa)|(bran))[0-9]+((AZ)(dom)|(sab)|(DOM)|(SAB))\\d+\\*', '', txt_pdf)\n",
    "    txt_pdf = txt_pdf.replace('2ª APLICAÇÃO', '')\n",
    "    txt_pdf = txt_pdf.replace('CIÊNCIAS HUMANAS E SUAS TECNOLOGIAS', '')\n",
    "    txt_pdf = txt_pdf.replace('Questões de 1 a 45', '')\n",
    "    txt_pdf = txt_pdf.replace('CIÊNCIAS DA NATUREZA E SUAS TECNOLOGIAS', '')\n",
    "    txt_pdf = txt_pdf.replace('Questões de 46 a 90', '')\n",
    "    txt_pdf = txt_pdf.replace('LINGUAGENS E CÓDIGOS E SUAS TECNOLOGIAS', '')\n",
    "    txt_pdf = txt_pdf.replace('Questões de 91 a 135', '')\n",
    "    txt_pdf = txt_pdf.replace('MATEMÁTICA E SUAS TECNOLOGIAS', '')\n",
    "    txt_pdf = txt_pdf.replace('Questões de 136 a 180', '')\n",
    "    txt_pdf = txt_pdf.replace('RASCUNHO DA REDAÇÃO', '')\n",
    "    txt_pdf = txt_pdf.replace('Transcreva a sua Redação para a Folha de Redação.', '')\n",
    "    txt_pdf = txt_pdf.replace('RASCUNHO\\nDA REDAÇÃO1', '')\n",
    "    txt_pdf = txt_pdf.replace('234567891011\\n12\\n131415161718192021222324252627282930', '')\n",
    "    txt_pdf  = re.sub(r\"(LC)|(MT)|(CN)|(CH) - (1º)|(2º) dia \\| Caderno \\d+ - ((AMARELO)|(AZUL)|(CINZA)|(ROSA)|(BRANCO)) - Página \\d+\", '', txt_pdf)\n",
    "    txt_pdf  = re.sub(r\" - (1º)|(2º) dia \\| Caderno \\d+ - ((AMARELO)|(AZUL)|(CINZA)|(ROSA)|(BRANCO)) - Página \\d+\", '', txt_pdf)\n",
    "    txt_pdf  = re.sub(r\"dia \\| Caderno \\d+ - ((AMARELO)|(AZUL)|(CINZA)|(ROSA)|(BRANCO)) - Página \\d+\", '', txt_pdf)\n",
    "    txt_pdf = txt_pdf.replace('CIÊNCIAS DA NATUREZ', '')\n",
    "    txt_pdf = txt_pdf.replace('CIÊNCIAS DA NATUREZAE SUAS TEOLOGIAS', '')\n",
    "    txt_pdf = txt_pdf.replace('AE SUAS TEOLOGIAS', '')\n",
    "    txt_pdf = txt_pdf.replace('E SUAS TEOLOGIAS', '')\n",
    "    txt_pdf = txt_pdf.replace('CIÊNCIAS DA N ATUREZA', '')\n",
    "    txt_pdf = txt_pdf.replace('2014', '')\n",
    "    txt_pdf = txt_pdf.replace('\\n2015', '')\n",
    "    txt_pdf = txt_pdf.replace('. 2015', '')\n",
    "    txt_pdf = txt_pdf.replace('.  2015', '')\n",
    "    txt_pdf = txt_pdf.replace('- 2017', '')\n",
    "    txt_pdf = txt_pdf.replace('23456789101112131415161718192021222324252627282930', '')\n",
    "    txt_pdf = txt_pdf.replace('RASCUNH\\n DA REDAÇÃO 1', '')\n",
    "    txt_pdf = txt_pdf.replace(' - Linguagens, Códigos e suas Tecnologias', '')\n",
    "    txt_pdf = txt_pdf.replace(' - Ciências Humanas e suas Tecnologias', '')\n",
    "    letras = ['\\nA ', '\\nB ', '\\nC ', '\\nD ', '\\nE ']\n",
    "    #letras = ['A\\n ', 'B\\n ', 'C\\n ', 'D\\n ', 'E\\n']\n",
    "    globals()['alternativa0'] = ''\n",
    "    globals()['alternativa1'] = ''\n",
    "    globals()['alternativa2'] = ''\n",
    "    globals()['alternativa3'] = ''\n",
    "    globals()['alternativa4'] = ''\n",
    "    for i in range(num_primeira_questao, num_ultima_questao+1):\n",
    "        print(i)\n",
    "        if i < num_ultima_questao:\n",
    "            #pattern = re.compile(r\"QUESTÃO \"+(str(0)+str(i) if i < 10 else str(i))+\"(.*?)QUESTÃO \"+(str(0)+str(i+1) if i+1 < 10 else str(i+1)), re.DOTALL)\n",
    "            #pattern = re.compile(r\"QUESTÃO \"+(str(0)+str(i) if i < 10 else str(i))+\"(.*?)da Associação Brasileira para\", re.DOTALL)\n",
    "            #questao = pattern.findall(txt_pdf)\n",
    "            #if len(questao) == 0:\n",
    "                #pattern = re.compile(r\"QUESTÃO \"+(str(0)+str(i) if i < 10 else str(i))+\"(.*?)QUESTÃO \\d+\", re.DOTALL)\n",
    "                #questao = pattern.findall(txt_pdf)\n",
    "            pattern = re.compile(r\"Questão \"+(str(0)+str(i) if i < 10 else str(i))+\"(.*?)Questão \\d+\", re.DOTALL)\n",
    "            questao = pattern.findall(txt_pdf)\n",
    "            if (len(questao) > 0):\n",
    "                questao = questao[0]\n",
    "            else:\n",
    "                questao = ''\n",
    "            pattern = re.compile(r\"(.*)\"+letras[0], re.DOTALL)\n",
    "            print('texto_base')\n",
    "            texto_base = pattern.findall(questao)\n",
    "            if (len(texto_base) > 0):\n",
    "                texto_base = re.sub(r'\\s+', ' ', texto_base[0], flags=re.DOTALL)\n",
    "                print(texto_base)\n",
    "            else:\n",
    "                texto_base = ''\n",
    "            for j in range(len(letras)):\n",
    "                if j < 4:\n",
    "                    pattern = re.compile(r''+letras[j]+\"(.*?)\"+letras[j+1], re.DOTALL)\n",
    "                    #(?<=(A\\n|\\nA)).*?(?=B\\n|\\nB)\n",
    "                    #pattern = re.compile(r'(?<=(\\n'+letras[j]+' |'+letras[j]+'\\n|\\n'+letras[j]+')).*?(?=\\n'+letras[j+1]+' |'+letras[j+1]+'\\n|\\n'+letras[j+1]+' )', re.DOTALL)\n",
    "                    alternativa = pattern.findall(questao)\n",
    "                    if (len(alternativa) > 0):\n",
    "                        alternativa = re.sub(r'\\s+', ' ', alternativa[0], flags=re.DOTALL)\n",
    "                        print(j, alternativa)\n",
    "                        globals()['alternativa'+str(j)] = alternativa\n",
    "                    else:\n",
    "                        globals()['alternativa'+str(j)] = ''\n",
    "                else:\n",
    "                    pattern = re.compile(r''+letras[j]+\"(.*)\", re.DOTALL)\n",
    "                    alternativa = pattern.findall(questao)\n",
    "                    if (len(alternativa) > 0):\n",
    "                        alternativa = re.sub(r'\\s+', ' ', alternativa[0], flags=re.DOTALL)\n",
    "                        print(j, alternativa)\n",
    "                        globals()['alternativa'+str(j)] = alternativa\n",
    "                    else:\n",
    "                        globals()['alternativa'+str(j)] = ''\n",
    "            questao = questao.replace('\\n', '')\n",
    "            print('questão')\n",
    "            print(questao)\n",
    "        else:\n",
    "            pattern = re.compile(r\"Questão \"+str(i)+\"(.*)\", re.DOTALL)\n",
    "            questao = pattern.findall(txt_pdf)\n",
    "            questao = questao[0].strip()\n",
    "            pattern = re.compile(r\"(.*)\"+letras[0], re.DOTALL)\n",
    "            texto_base = pattern.findall(questao)\n",
    "            if (len(texto_base) > 0):\n",
    "                texto_base = re.sub(r'\\s+', ' ', texto_base[0], flags=re.DOTALL)\n",
    "                \n",
    "                print(texto_base)\n",
    "            else:\n",
    "                texto_base = ''\n",
    "                \n",
    "            print('alternativas')\n",
    "            for j in range(len(letras)):\n",
    "                if j < 4:\n",
    "                    \n",
    "                    pattern = re.compile(r''+letras[j]+\"(.*?)\"+letras[j+1], re.DOTALL)\n",
    "                    alternativa = pattern.findall(questao)\n",
    "                    if (len(alternativa) > 0):\n",
    "                        alternativa = re.sub(r'\\s+', ' ', alternativa[0], flags=re.DOTALL)\n",
    "                        print(j, alternativa)\n",
    "                        globals()['alternativa'+str(j)] = alternativa\n",
    "                    else:\n",
    "                        globals()['alternativa'+str(j)] = ''\n",
    "                else:\n",
    "                    pattern = re.compile(r''+letras[j]+\"(.*)\", re.DOTALL)\n",
    "                    alternativa = pattern.findall(questao)\n",
    "                    if (len(alternativa) > 0):\n",
    "                        alternativa = re.sub(r'\\s+', ' ', alternativa[0], flags=re.DOTALL)\n",
    "                        alternativa = alternativa.replace('23456789101112131415161718192021222324252627282930', '')\n",
    "                        alternativa = alternativa.replace('RASCUNHO DA REDAÇÃO 1', '')\n",
    "                        alternativa = alternativa.replace('2 3 4 5 6 7 8 9 10 11 12 13 14 15 16 17 18 19 20 21 22 23 24 25 26 27 28 29 30', '')\n",
    "                        print(j, alternativa)\n",
    "                        globals()['alternativa'+str(j)] = alternativa\n",
    "                    else:\n",
    "                        globals()['alternativa'+str(j)] = ''\n",
    "            questao = re.sub(r'\\s+', ' ', questao, flags=re.DOTALL)\n",
    "            questao = questao.replace('RAScUnHODA REDAÇÃO2015123456789101112131415161718192021222324252627282930', '')\n",
    "            questao = questao.replace('RAScUnHO DA REDAÇÃO2015 1 2 3 4 56 7 8910111213141516 17 18192021222324252627 28 29 30', '')\n",
    "            questao = questao.replace('RASCUNHO DA REDAÇÃO 1', '')\n",
    "            questao = questao.replace('2 3 4 5 6 7 8 9 10 11 12 13 14 15 16 17 18 19 20 21 22 23 24 25 26 27 28 29 30', '')\n",
    "            print(questao)\n",
    "        dados.append([ano, cor, meio_aplicacao, i, area, co_prova, questao, texto_base, globals()['alternativa0'], globals()['alternativa1'], globals()['alternativa2'], globals()['alternativa3'], globals()['alternativa4']])\n",
    "    \n",
    "    #print(dados)\n",
    "    df_dados = pd.DataFrame(dados)\n",
    "    df_dados = df_dados.rename(columns={0: 'ano', 1: 'cor', 2: 'meio_aplicacao', 3: 'num_questao', 4: 'area', 5: 'co_prova', 6: 'texto_questao', 7: 'texto_base', 8: 'alternativa_A', 9: 'alternativa_B', 10: 'alternativa_C', 11: 'alternativa_D', 12: 'alternativa_E'})\n",
    "    df_dados = df_dados.sort_values(by='num_questao', ascending = True).reset_index(drop = True)\n",
    "    df_dados.to_csv(file_path + '.csv', sep = ';', index = False)\n",
    "    \n",
    "    return file_path, df_dados"
   ]
  },
  {
   "cell_type": "markdown",
   "id": "35215a89",
   "metadata": {},
   "source": [
    "#### DIGITAL"
   ]
  },
  {
   "cell_type": "code",
   "execution_count": null,
   "id": "b3e439b5",
   "metadata": {},
   "outputs": [],
   "source": [
    "file_path, df_ENEM_2020_DIGITAL_CAD_01_DIA_1_AZUL_INGLES = extrai_questoes_9('_itens', 2020, 'ENEM_2020_DIGITAL_CAD_01_DIA_1_AZUL_INGLES.pdf', 'AZUL', 1, 'LC', 691,  6, 90)"
   ]
  },
  {
   "cell_type": "code",
   "execution_count": null,
   "id": "fb923cd4",
   "metadata": {},
   "outputs": [],
   "source": [
    "df_ENEM_2020_DIGITAL_CAD_01_DIA_1_AZUL_INGLES.loc[df_ENEM_2020_DIGITAL_CAD_01_DIA_1_AZUL_INGLES['num_questao'] <= 45, 'area'] = 'LC'\n",
    "df_ENEM_2020_DIGITAL_CAD_01_DIA_1_AZUL_INGLES.loc[df_ENEM_2020_DIGITAL_CAD_01_DIA_1_AZUL_INGLES['num_questao'] <= 45, 'co_prova'] = 691\n",
    "df_ENEM_2020_DIGITAL_CAD_01_DIA_1_AZUL_INGLES.loc[df_ENEM_2020_DIGITAL_CAD_01_DIA_1_AZUL_INGLES['num_questao'] > 45, 'area'] = 'CH'\n",
    "df_ENEM_2020_DIGITAL_CAD_01_DIA_1_AZUL_INGLES.loc[df_ENEM_2020_DIGITAL_CAD_01_DIA_1_AZUL_INGLES['num_questao'] > 45, 'co_prova'] = 687\n",
    "print(np.sort(df_ENEM_2020_DIGITAL_CAD_01_DIA_1_AZUL_INGLES.num_questao.unique()))\n",
    "print(df_ENEM_2020_DIGITAL_CAD_01_DIA_1_AZUL_INGLES.area.unique())\n",
    "print(df_ENEM_2020_DIGITAL_CAD_01_DIA_1_AZUL_INGLES.co_prova.unique())\n",
    "df_ENEM_2020_DIGITAL_CAD_01_DIA_1_AZUL_INGLES.to_csv(file_path + '.csv', sep = ';', index = False)"
   ]
  },
  {
   "cell_type": "code",
   "execution_count": null,
   "id": "4c1e80f3",
   "metadata": {},
   "outputs": [],
   "source": [
    "file_path, df_ENEM_2020_DIGITAL_CAD_02_DIA_1_AMARELO_INGLES = extrai_questoes_9('_itens', 2020, 'ENEM_2020_DIGITAL_CAD_02_DIA_1_AMARELO_INGLES.pdf', 'AMARELA', 1, 'LC', 692,  6, 90)"
   ]
  },
  {
   "cell_type": "code",
   "execution_count": null,
   "id": "e76c30b7",
   "metadata": {},
   "outputs": [],
   "source": [
    "df_ENEM_2020_DIGITAL_CAD_02_DIA_1_AMARELO_INGLES.loc[df_ENEM_2020_DIGITAL_CAD_02_DIA_1_AMARELO_INGLES['num_questao'] <= 45, 'area'] = 'LC'\n",
    "df_ENEM_2020_DIGITAL_CAD_02_DIA_1_AMARELO_INGLES.loc[df_ENEM_2020_DIGITAL_CAD_02_DIA_1_AMARELO_INGLES['num_questao'] <= 45, 'co_prova'] = 692\n",
    "df_ENEM_2020_DIGITAL_CAD_02_DIA_1_AMARELO_INGLES.loc[df_ENEM_2020_DIGITAL_CAD_02_DIA_1_AMARELO_INGLES['num_questao'] > 45, 'area'] = 'CH'\n",
    "df_ENEM_2020_DIGITAL_CAD_02_DIA_1_AMARELO_INGLES.loc[df_ENEM_2020_DIGITAL_CAD_02_DIA_1_AMARELO_INGLES['num_questao'] > 45, 'co_prova'] = 688\n",
    "print(np.sort(df_ENEM_2020_DIGITAL_CAD_02_DIA_1_AMARELO_INGLES.num_questao.unique()))\n",
    "print(df_ENEM_2020_DIGITAL_CAD_02_DIA_1_AMARELO_INGLES.area.unique())\n",
    "print(df_ENEM_2020_DIGITAL_CAD_02_DIA_1_AMARELO_INGLES.co_prova.unique())\n",
    "df_ENEM_2020_DIGITAL_CAD_02_DIA_1_AMARELO_INGLES.to_csv(file_path + '.csv', sep = ';', index = False)"
   ]
  },
  {
   "cell_type": "code",
   "execution_count": null,
   "id": "fcea0d95",
   "metadata": {},
   "outputs": [],
   "source": [
    "file_path, df_ENEM_2020_DIGITAL_CAD_03_DIA_1_BRANCO_INGLES = extrai_questoes_9('_itens', 2020, 'ENEM_2020_DIGITAL_CAD_03_DIA_1_BRANCO_INGLES.pdf', 'BRANCA', 1, 'LC', 693,  6, 90)"
   ]
  },
  {
   "cell_type": "code",
   "execution_count": null,
   "id": "1de6c9ae",
   "metadata": {},
   "outputs": [],
   "source": [
    "df_ENEM_2020_DIGITAL_CAD_03_DIA_1_BRANCO_INGLES.loc[df_ENEM_2020_DIGITAL_CAD_03_DIA_1_BRANCO_INGLES['num_questao'] <= 45, 'area'] = 'LC'\n",
    "df_ENEM_2020_DIGITAL_CAD_03_DIA_1_BRANCO_INGLES.loc[df_ENEM_2020_DIGITAL_CAD_03_DIA_1_BRANCO_INGLES['num_questao'] <= 45, 'co_prova'] = 693\n",
    "df_ENEM_2020_DIGITAL_CAD_03_DIA_1_BRANCO_INGLES.loc[df_ENEM_2020_DIGITAL_CAD_03_DIA_1_BRANCO_INGLES['num_questao'] > 45, 'area'] = 'CH'\n",
    "df_ENEM_2020_DIGITAL_CAD_03_DIA_1_BRANCO_INGLES.loc[df_ENEM_2020_DIGITAL_CAD_03_DIA_1_BRANCO_INGLES['num_questao'] > 45, 'co_prova'] = 689\n",
    "print(np.sort(df_ENEM_2020_DIGITAL_CAD_03_DIA_1_BRANCO_INGLES.num_questao.unique()))\n",
    "print(df_ENEM_2020_DIGITAL_CAD_03_DIA_1_BRANCO_INGLES.area.unique())\n",
    "print(df_ENEM_2020_DIGITAL_CAD_03_DIA_1_BRANCO_INGLES.co_prova.unique())\n",
    "df_ENEM_2020_DIGITAL_CAD_03_DIA_1_BRANCO_INGLES.to_csv(file_path + '.csv', sep = ';', index = False)"
   ]
  },
  {
   "cell_type": "code",
   "execution_count": null,
   "id": "7964e893",
   "metadata": {},
   "outputs": [],
   "source": [
    "file_path, df_ENEM_2020_DIGITAL_CAD_04_DIA_1_ROSA_INGLES = extrai_questoes_9('_itens', 2020, 'ENEM_2020_DIGITAL_CAD_04_DIA_1_ROSA_INGLES.pdf', 'ROSA', 1, 'LC', 694,  6, 90)"
   ]
  },
  {
   "cell_type": "code",
   "execution_count": null,
   "id": "91179c43",
   "metadata": {},
   "outputs": [],
   "source": [
    "df_ENEM_2020_DIGITAL_CAD_04_DIA_1_ROSA_INGLES.loc[df_ENEM_2020_DIGITAL_CAD_04_DIA_1_ROSA_INGLES['num_questao'] <= 45, 'area'] = 'LC'\n",
    "df_ENEM_2020_DIGITAL_CAD_04_DIA_1_ROSA_INGLES.loc[df_ENEM_2020_DIGITAL_CAD_04_DIA_1_ROSA_INGLES['num_questao'] <= 45, 'co_prova'] = 694\n",
    "df_ENEM_2020_DIGITAL_CAD_04_DIA_1_ROSA_INGLES.loc[df_ENEM_2020_DIGITAL_CAD_04_DIA_1_ROSA_INGLES['num_questao'] > 45, 'area'] = 'CH'\n",
    "df_ENEM_2020_DIGITAL_CAD_04_DIA_1_ROSA_INGLES.loc[df_ENEM_2020_DIGITAL_CAD_04_DIA_1_ROSA_INGLES['num_questao'] > 45, 'co_prova'] = 690\n",
    "print(np.sort(df_ENEM_2020_DIGITAL_CAD_04_DIA_1_ROSA_INGLES.num_questao.unique()))\n",
    "print(df_ENEM_2020_DIGITAL_CAD_04_DIA_1_ROSA_INGLES.area.unique())\n",
    "print(df_ENEM_2020_DIGITAL_CAD_04_DIA_1_ROSA_INGLES.co_prova.unique())\n",
    "df_ENEM_2020_DIGITAL_CAD_04_DIA_1_ROSA_INGLES.to_csv(file_path + '.csv', sep = ';', index = False)"
   ]
  },
  {
   "cell_type": "code",
   "execution_count": null,
   "id": "686f162b",
   "metadata": {},
   "outputs": [],
   "source": [
    "file_path, df_ENEM_2020_DIGITAL_CAD_05_DIA_2_AMARELO = extrai_questoes_9('_itens', 2020, 'ENEM_2020_DIGITAL_CAD_05_DIA_2_AMARELO.pdf', 'AMARELA', 1, 'CN', 700,  91, 180)"
   ]
  },
  {
   "cell_type": "code",
   "execution_count": null,
   "id": "91ea02d7",
   "metadata": {},
   "outputs": [],
   "source": [
    "df_ENEM_2020_DIGITAL_CAD_05_DIA_2_AMARELO.loc[df_ENEM_2020_DIGITAL_CAD_05_DIA_2_AMARELO['num_questao'] <= 135, 'area'] = 'CN'\n",
    "df_ENEM_2020_DIGITAL_CAD_05_DIA_2_AMARELO.loc[df_ENEM_2020_DIGITAL_CAD_05_DIA_2_AMARELO['num_questao'] <= 135, 'co_prova'] = 700\n",
    "df_ENEM_2020_DIGITAL_CAD_05_DIA_2_AMARELO.loc[df_ENEM_2020_DIGITAL_CAD_05_DIA_2_AMARELO['num_questao'] > 135, 'area'] = 'MT'\n",
    "df_ENEM_2020_DIGITAL_CAD_05_DIA_2_AMARELO.loc[df_ENEM_2020_DIGITAL_CAD_05_DIA_2_AMARELO['num_questao'] > 135, 'co_prova'] = 696\n",
    "print(np.sort(df_ENEM_2020_DIGITAL_CAD_05_DIA_2_AMARELO.num_questao.unique()))\n",
    "print(df_ENEM_2020_DIGITAL_CAD_05_DIA_2_AMARELO.area.unique())\n",
    "print(df_ENEM_2020_DIGITAL_CAD_05_DIA_2_AMARELO.co_prova.unique())\n",
    "df_ENEM_2020_DIGITAL_CAD_05_DIA_2_AMARELO.to_csv(file_path + '.csv', sep = ';', index = False)"
   ]
  },
  {
   "cell_type": "code",
   "execution_count": null,
   "id": "82a2278f",
   "metadata": {},
   "outputs": [],
   "source": [
    "file_path, df_ENEM_2020_DIGITAL_CAD_06_DIA_2_CINZA = extrai_questoes_9('_itens', 2020, 'ENEM_2020_DIGITAL_CAD_06_DIA_2_CINZA.pdf', 'CINZA', 1, 'CN', 702,  91, 180)"
   ]
  },
  {
   "cell_type": "code",
   "execution_count": null,
   "id": "9937b823",
   "metadata": {},
   "outputs": [],
   "source": [
    "df_ENEM_2020_DIGITAL_CAD_06_DIA_2_CINZA.loc[df_ENEM_2020_DIGITAL_CAD_06_DIA_2_CINZA['num_questao'] <= 135, 'area'] = 'CN'\n",
    "df_ENEM_2020_DIGITAL_CAD_06_DIA_2_CINZA.loc[df_ENEM_2020_DIGITAL_CAD_06_DIA_2_CINZA['num_questao'] <= 135, 'co_prova'] = 702\n",
    "df_ENEM_2020_DIGITAL_CAD_06_DIA_2_CINZA.loc[df_ENEM_2020_DIGITAL_CAD_06_DIA_2_CINZA['num_questao'] > 135, 'area'] = 'MT'\n",
    "df_ENEM_2020_DIGITAL_CAD_06_DIA_2_CINZA.loc[df_ENEM_2020_DIGITAL_CAD_06_DIA_2_CINZA['num_questao'] > 135, 'co_prova'] = 698\n",
    "print(np.sort(df_ENEM_2020_DIGITAL_CAD_06_DIA_2_CINZA.num_questao.unique()))\n",
    "print(df_ENEM_2020_DIGITAL_CAD_06_DIA_2_CINZA.area.unique())\n",
    "print(df_ENEM_2020_DIGITAL_CAD_06_DIA_2_CINZA.co_prova.unique())\n",
    "df_ENEM_2020_DIGITAL_CAD_06_DIA_2_CINZA.to_csv(file_path + '.csv', sep = ';', index = False)"
   ]
  },
  {
   "cell_type": "code",
   "execution_count": null,
   "id": "e57fa7a2",
   "metadata": {},
   "outputs": [],
   "source": [
    "file_path, df_ENEM_2020_DIGITAL_CAD_07_DIA_2_AZUL = extrai_questoes_9('_itens', 2020, 'ENEM_2020_DIGITAL_CAD_07_DIA_2_AZUL.pdf', 'AZUL', 1, 'CN', 699,  91, 180)"
   ]
  },
  {
   "cell_type": "code",
   "execution_count": null,
   "id": "9ca180cb",
   "metadata": {},
   "outputs": [],
   "source": [
    "df_ENEM_2020_DIGITAL_CAD_07_DIA_2_AZUL.loc[df_ENEM_2020_DIGITAL_CAD_07_DIA_2_AZUL['num_questao'] <= 135, 'area'] = 'CN'\n",
    "df_ENEM_2020_DIGITAL_CAD_07_DIA_2_AZUL.loc[df_ENEM_2020_DIGITAL_CAD_07_DIA_2_AZUL['num_questao'] <= 135, 'co_prova'] = 699\n",
    "df_ENEM_2020_DIGITAL_CAD_07_DIA_2_AZUL.loc[df_ENEM_2020_DIGITAL_CAD_07_DIA_2_AZUL['num_questao'] > 135, 'area'] = 'MT'\n",
    "df_ENEM_2020_DIGITAL_CAD_07_DIA_2_AZUL.loc[df_ENEM_2020_DIGITAL_CAD_07_DIA_2_AZUL['num_questao'] > 135, 'co_prova'] = 695\n",
    "print(np.sort(df_ENEM_2020_DIGITAL_CAD_07_DIA_2_AZUL.num_questao.unique()))\n",
    "print(df_ENEM_2020_DIGITAL_CAD_07_DIA_2_AZUL.area.unique())\n",
    "print(df_ENEM_2020_DIGITAL_CAD_07_DIA_2_AZUL.co_prova.unique())\n",
    "df_ENEM_2020_DIGITAL_CAD_07_DIA_2_AZUL.to_csv(file_path + '.csv', sep = ';', index = False)"
   ]
  },
  {
   "cell_type": "code",
   "execution_count": null,
   "id": "37293f9c",
   "metadata": {},
   "outputs": [],
   "source": [
    "file_path, df_ENEM_2020_DIGITAL_CAD_08_DIA_2_ROSA = extrai_questoes_9('_itens', 2020, 'ENEM_2020_DIGITAL_CAD_08_DIA_2_ROSA.pdf', 'ROSA', 1, 'CN', 701,  91, 180)"
   ]
  },
  {
   "cell_type": "code",
   "execution_count": null,
   "id": "c3c4ea4b",
   "metadata": {},
   "outputs": [],
   "source": [
    "df_ENEM_2020_DIGITAL_CAD_08_DIA_2_ROSA.loc[df_ENEM_2020_DIGITAL_CAD_08_DIA_2_ROSA['num_questao'] <= 135, 'area'] = 'CN'\n",
    "df_ENEM_2020_DIGITAL_CAD_08_DIA_2_ROSA.loc[df_ENEM_2020_DIGITAL_CAD_08_DIA_2_ROSA['num_questao'] <= 135, 'co_prova'] = 701\n",
    "df_ENEM_2020_DIGITAL_CAD_08_DIA_2_ROSA.loc[df_ENEM_2020_DIGITAL_CAD_08_DIA_2_ROSA['num_questao'] > 135, 'area'] = 'MT'\n",
    "df_ENEM_2020_DIGITAL_CAD_08_DIA_2_ROSA.loc[df_ENEM_2020_DIGITAL_CAD_08_DIA_2_ROSA['num_questao'] > 135, 'co_prova'] = 697\n",
    "print(np.sort(df_ENEM_2020_DIGITAL_CAD_08_DIA_2_ROSA.num_questao.unique()))\n",
    "print(df_ENEM_2020_DIGITAL_CAD_08_DIA_2_ROSA.area.unique())\n",
    "print(df_ENEM_2020_DIGITAL_CAD_08_DIA_2_ROSA.co_prova.unique())\n",
    "df_ENEM_2020_DIGITAL_CAD_08_DIA_2_ROSA.to_csv(file_path + '.csv', sep = ';', index = False)"
   ]
  },
  {
   "cell_type": "code",
   "execution_count": null,
   "id": "b1e20503",
   "metadata": {},
   "outputs": [],
   "source": [
    "#aplicado a 2020\n",
    "def extrai_questoes_10(dir_, ano, pdf, cor, meio_aplicacao, areas, cos_prova, num_primeira_questao, num_ultima_questao):\n",
    "    dados = []\n",
    "    #arquivo pdf\n",
    "    file_path = os.path.join(dir_, str(ano), pdf)\n",
    "    # Abre o arquivo PDF\n",
    "    pdf_file = open(file_path, \"rb\")\n",
    "\n",
    "    # Cria um objeto PDFReader\n",
    "    pdf_reader = PyPDF2.PdfReader(pdf_file)\n",
    "\n",
    "    txt_pdf = ''\n",
    "    # Loop através de cada página do PDF\n",
    "    for page in range(len(pdf_reader.pages)):\n",
    "        # Obtém o objeto da página atual\n",
    "        page_obj = pdf_reader.pages[page]\n",
    "\n",
    "        # Extrai o texto da página atual\n",
    "        page_text = page_obj.extract_text()\n",
    "\n",
    "        # Escreve o texto extraído em um arquivo TXT\n",
    "        with open(file_path + '.txt', \"a\",  encoding=\"utf-8\") as text_file:\n",
    "            text_file.write(page_text)\n",
    "            txt_pdf += page_text + ' '\n",
    "\n",
    "    # Fecha o arquivo PDF\n",
    "    pdf_file.close()\n",
    "\n",
    "    file_path = os.path.join(dir_, str(ano), pdf+'.txt')\n",
    "    #print(txt_pdf)\n",
    "    txt_pdf  = re.sub(r'/g\\d+/', '', txt_pdf)\n",
    "    txt_pdf  = re.sub(r'g/', '', txt_pdf)\n",
    "    txt_pdf  = re.sub(r'/g/', '', txt_pdf)\n",
    "    txt_pdf = re.sub(r'\\{2,}', \"\", txt_pdf)\n",
    "    txt_pdf = re.sub(r'\\/\\d+', \"\", txt_pdf)\n",
    "    txt_pdf = re.sub(r'#\\d+', \"\", txt_pdf)\n",
    "    txt_pdf = txt_pdf.replace('#2/', '')\n",
    "    txt_pdf = txt_pdf.replace('/', '')\n",
    "    #*SA0175AZ6*\n",
    "    #*DO0525AM31*\n",
    "    #*010175AZ22*\n",
    "    txt_pdf = re.sub(r\"\\*2017[A-Z]{2}\\d{4}[A-Z]{2}\\d+\\*\", '', txt_pdf)\n",
    "    txt_pdf = re.sub(r\"\\*[A-Z]{2}\\d{4}[A-Z]{2}\\d+\\*\", '', txt_pdf)\n",
    "    txt_pdf = re.sub(r\"\\*\\d{6}[A-Z]{2}\\d+\\*\", '', txt_pdf)\n",
    "    txt_pdf = re.sub(r'\\*((SA)(CINZ)|(ROSA)|(BRAN)|(AMAR)|(AZUL)|(Amar)|(amar)|(cinz)|(azul)|(rosa)|(bran))[0-9]+((AZ)(dom)|(sab)|(DOM)|(SAB))\\d+\\*', '', txt_pdf)\n",
    "    txt_pdf = txt_pdf.replace('2ª APLICAÇÃO', '')\n",
    "    txt_pdf = txt_pdf.replace('CIÊNCIAS HUMANAS E SUAS TECNOLOGIAS', '')\n",
    "    txt_pdf = txt_pdf.replace('Questões de 1 a 45', '')\n",
    "    txt_pdf = txt_pdf.replace('CIÊNCIAS DA NATUREZA E SUAS TECNOLOGIAS', '')\n",
    "    txt_pdf = txt_pdf.replace('Questões de 46 a 90', '')\n",
    "    txt_pdf = txt_pdf.replace('LINGUAGENS E CÓDIGOS E SUAS TECNOLOGIAS', '')\n",
    "    txt_pdf = txt_pdf.replace('Questões de 91 a 135', '')\n",
    "    txt_pdf = txt_pdf.replace('MATEMÁTICA E SUAS TECNOLOGIAS', '')\n",
    "    txt_pdf = txt_pdf.replace('Questões de 136 a 180', '')\n",
    "    txt_pdf = txt_pdf.replace('RASCUNHO DA REDAÇÃO', '')\n",
    "    txt_pdf = txt_pdf.replace('Transcreva a sua Redação para a Folha de Redação.', '')\n",
    "    txt_pdf = txt_pdf.replace('RASCUNHO\\nDA REDAÇÃO1', '')\n",
    "    txt_pdf = txt_pdf.replace('234567891011\\n12\\n131415161718192021222324252627282930', '')\n",
    "    txt_pdf  = re.sub(r\"(LC)|(MT)|(CN)|(CH) - (1º)|(2º) dia \\| Caderno \\d+ - ((AMARELO)|(AZUL)|(CINZA)|(ROSA)|(BRANCO)) - Página \\d+\", '', txt_pdf)\n",
    "    txt_pdf  = re.sub(r\" - (1º)|(2º) dia \\| Caderno \\d+ - ((AMARELO)|(AZUL)|(CINZA)|(ROSA)|(BRANCO)) - Página \\d+\", '', txt_pdf)\n",
    "    txt_pdf  = re.sub(r\"dia \\| Caderno \\d+ - ((AMARELO)|(AZUL)|(CINZA)|(ROSA)|(BRANCO)) - Página \\d+\", '', txt_pdf)\n",
    "    txt_pdf = txt_pdf.replace('CIÊNCIAS DA NATUREZ', '')\n",
    "    txt_pdf = txt_pdf.replace('CIÊNCIAS DA NATUREZAE SUAS TEOLOGIAS', '')\n",
    "    txt_pdf = txt_pdf.replace('AE SUAS TEOLOGIAS', '')\n",
    "    txt_pdf = txt_pdf.replace('E SUAS TEOLOGIAS', '')\n",
    "    txt_pdf = txt_pdf.replace('CIÊNCIAS DA N ATUREZA', '')\n",
    "    txt_pdf = txt_pdf.replace('2014', '')\n",
    "    txt_pdf = txt_pdf.replace('\\n2015', '')\n",
    "    txt_pdf = txt_pdf.replace('. 2015', '')\n",
    "    txt_pdf = txt_pdf.replace('.  2015', '')\n",
    "    txt_pdf = txt_pdf.replace('- 2017', '')\n",
    "    txt_pdf = txt_pdf.replace('23456789101112131415161718192021222324252627282930', '')\n",
    "    txt_pdf = txt_pdf.replace('RASCUNH\\n DA REDAÇÃO 1', '')\n",
    "    txt_pdf = txt_pdf.replace(' - Linguagens, Códigos e suas Tecnologias', '')\n",
    "    txt_pdf = txt_pdf.replace(' - Ciências Humanas e suas Tecnologias', '')\n",
    "    txt_pdf = txt_pdf.replace('CH - 1°', '')\n",
    "    txt_pdf = txt_pdf.replace('- 1°', '')\n",
    "    txt_pdf = txt_pdf.replace('- 2°', '')\n",
    "    txt_pdf = txt_pdf.replace('2ª aplicação', '')\n",
    "    letras = ['\\nA ', '\\nB ', '\\nC ', '\\nD ', '\\nE ']\n",
    "    #letras = ['A\\n ', 'B\\n ', 'C\\n ', 'D\\n ', 'E\\n']\n",
    "    globals()['alternativa0'] = ''\n",
    "    globals()['alternativa1'] = ''\n",
    "    globals()['alternativa2'] = ''\n",
    "    globals()['alternativa3'] = ''\n",
    "    globals()['alternativa4'] = ''\n",
    "    for i in range(num_primeira_questao, num_ultima_questao+1):\n",
    "        print(i)\n",
    "        if i < num_ultima_questao:\n",
    "            #pattern = re.compile(r\"QUESTÃO \"+(str(0)+str(i) if i < 10 else str(i))+\"(.*?)QUESTÃO \"+(str(0)+str(i+1) if i+1 < 10 else str(i+1)), re.DOTALL)\n",
    "            #pattern = re.compile(r\"QUESTÃO \"+(str(0)+str(i) if i < 10 else str(i))+\"(.*?)da Associação Brasileira para\", re.DOTALL)\n",
    "            #questao = pattern.findall(txt_pdf)\n",
    "            #if len(questao) == 0:\n",
    "                #pattern = re.compile(r\"QUESTÃO \"+(str(0)+str(i) if i < 10 else str(i))+\"(.*?)QUESTÃO \\d+\", re.DOTALL)\n",
    "                #questao = pattern.findall(txt_pdf)\n",
    "            #pattern = re.compile(r\"Questão \"+(str(0)+str(i) if i < 10 else str(i))+\"(.*?)Questão \\d+\", re.DOTALL)\n",
    "            pattern = re.compile(r\"Questão \"+str(i)+\"(.*?)Questão \\d+\", re.DOTALL)\n",
    "            questao = pattern.findall(txt_pdf)\n",
    "            if (len(questao) > 0):\n",
    "                questao = questao[0]\n",
    "            else:\n",
    "                questao = ''\n",
    "            pattern = re.compile(r\"(.*)\"+letras[0], re.DOTALL)\n",
    "            print('texto_base')\n",
    "            texto_base = pattern.findall(questao)\n",
    "            if (len(texto_base) > 0):\n",
    "                texto_base = re.sub(r'\\s+', ' ', texto_base[0], flags=re.DOTALL)\n",
    "                print(texto_base)\n",
    "            else:\n",
    "                texto_base = ''\n",
    "            for j in range(len(letras)):\n",
    "                if j < 4:\n",
    "                    pattern = re.compile(r''+letras[j]+\"(.*?)\"+letras[j+1], re.DOTALL)\n",
    "                    #(?<=(A\\n|\\nA)).*?(?=B\\n|\\nB)\n",
    "                    #pattern = re.compile(r'(?<=(\\n'+letras[j]+' |'+letras[j]+'\\n|\\n'+letras[j]+')).*?(?=\\n'+letras[j+1]+' |'+letras[j+1]+'\\n|\\n'+letras[j+1]+' )', re.DOTALL)\n",
    "                    alternativa = pattern.findall(questao)\n",
    "                    if (len(alternativa) > 0):\n",
    "                        alternativa = re.sub(r'\\s+', ' ', alternativa[0], flags=re.DOTALL)\n",
    "                        print(j, alternativa)\n",
    "                        globals()['alternativa'+str(j)] = alternativa\n",
    "                    else:\n",
    "                        globals()['alternativa'+str(j)] = ''\n",
    "                else:\n",
    "                    pattern = re.compile(r''+letras[j]+\"(.*)\", re.DOTALL)\n",
    "                    alternativa = pattern.findall(questao)\n",
    "                    if (len(alternativa) > 0):\n",
    "                        alternativa = re.sub(r'\\s+', ' ', alternativa[0], flags=re.DOTALL)\n",
    "                        print(j, alternativa)\n",
    "                        globals()['alternativa'+str(j)] = alternativa\n",
    "                    else:\n",
    "                        globals()['alternativa'+str(j)] = ''\n",
    "            questao = questao.replace('\\n', '')\n",
    "            print('questão')\n",
    "            print(questao)\n",
    "        else:\n",
    "            pattern = re.compile(r\"Questão \"+str(i)+\"(.*)\", re.DOTALL)\n",
    "            questao = pattern.findall(txt_pdf)\n",
    "            questao = questao[0].strip()\n",
    "            pattern = re.compile(r\"(.*)\"+letras[0], re.DOTALL)\n",
    "            texto_base = pattern.findall(questao)\n",
    "            if (len(texto_base) > 0):\n",
    "                texto_base = re.sub(r'\\s+', ' ', texto_base[0], flags=re.DOTALL)\n",
    "                \n",
    "                print(texto_base)\n",
    "            else:\n",
    "                texto_base = ''\n",
    "                \n",
    "            print('alternativas')\n",
    "            for j in range(len(letras)):\n",
    "                if j < 4:\n",
    "                    \n",
    "                    pattern = re.compile(r''+letras[j]+\"(.*?)\"+letras[j+1], re.DOTALL)\n",
    "                    alternativa = pattern.findall(questao)\n",
    "                    if (len(alternativa) > 0):\n",
    "                        alternativa = re.sub(r'\\s+', ' ', alternativa[0], flags=re.DOTALL)\n",
    "                        print(j, alternativa)\n",
    "                        globals()['alternativa'+str(j)] = alternativa\n",
    "                    else:\n",
    "                        globals()['alternativa'+str(j)] = ''\n",
    "                else:\n",
    "                    pattern = re.compile(r''+letras[j]+\"(.*)\", re.DOTALL)\n",
    "                    alternativa = pattern.findall(questao)\n",
    "                    if (len(alternativa) > 0):\n",
    "                        alternativa = re.sub(r'\\s+', ' ', alternativa[0], flags=re.DOTALL)\n",
    "                        alternativa = alternativa.replace('23456789101112131415161718192021222324252627282930', '')\n",
    "                        alternativa = alternativa.replace('RASCUNHO DA REDAÇÃO 1', '')\n",
    "                        alternativa = alternativa.replace('2 3 4 5 6 7 8 9 10 11 12 13 14 15 16 17 18 19 20 21 22 23 24 25 26 27 28 29 30', '')\n",
    "                        alternativa = alternativa.replace('0101 4 9 10321 1°', '')\n",
    "                        alternativa = alternativa.replace('0102 1° 9 10321', '')\n",
    "                        alternativa =  alternativa.replace('1° 9 10321 0104', '')\n",
    "                        alternativa =  alternativa.replace('2° 0201 56789101112', '')\n",
    "                        alternativa =  alternativa.replace('2° 0203 56789101112', '')\n",
    "                        alternativa =  alternativa.replace('2° 0202 56789101112', '')\n",
    "                        alternativa =  alternativa.replace('0204 56789101112 2°', '')\n",
    "                        alternativa =  alternativa.replace('2ª aplicação 2ª aplicação', '')\n",
    "                        alternativa =  alternativa.replace('1° 0103  4 9 10321', '')\n",
    "                        print(j, alternativa)\n",
    "                        globals()['alternativa'+str(j)] = alternativa\n",
    "                    else:\n",
    "                        globals()['alternativa'+str(j)] = ''\n",
    "            questao = re.sub(r'\\s+', ' ', questao, flags=re.DOTALL)\n",
    "            questao = questao.replace('RAScUnHODA REDAÇÃO2015123456789101112131415161718192021222324252627282930', '')\n",
    "            questao = questao.replace('RAScUnHO DA REDAÇÃO2015 1 2 3 4 56 7 8910111213141516 17 18192021222324252627 28 29 30', '')\n",
    "            questao = questao.replace('RASCUNHO DA REDAÇÃO 1', '')\n",
    "            questao = questao.replace('2 3 4 5 6 7 8 9 10 11 12 13 14 15 16 17 18 19 20 21 22 23 24 25 26 27 28 29 30', '')\n",
    "            questao = questao.replace('0101 4 9 10321 1°', '')\n",
    "            questao =  questao.replace('0102 1° 9 10321', '')\n",
    "            questao =  questao.replace('1° 9 10321 0104', '')\n",
    "            questao =  questao.replace('2° 0201 56789101112', '')\n",
    "            questao =  questao.replace('2° 0203 56789101112', '')\n",
    "            questao =  questao.replace('2° 0202 56789101112', '')\n",
    "            questao =  questao.replace('0204 56789101112 2°', '')\n",
    "            questao =  questao.replace('2ª aplicação 2ª aplicação', '')\n",
    "            questao =  questao.replace('1° 0103  4 9 10321', '')\n",
    "            print(questao)\n",
    "        dados.append([ano, cor, meio_aplicacao, i, areas[0], cos_prova[0],  questao, texto_base, globals()['alternativa0'], globals()['alternativa1'], globals()['alternativa2'], globals()['alternativa3'], globals()['alternativa4']])\n",
    "    \n",
    "    #print(dados)\n",
    "    \n",
    "    df_dados = pd.DataFrame(dados)\n",
    "    df_dados = df_dados.rename(columns={0: 'ano', 1: 'cor', 2: 'meio_aplicacao', 3: 'num_questao', 4: 'area', 5: 'co_prova', 6: 'texto_questao', 7: 'texto_base', 8: 'alternativa_A', 9: 'alternativa_B', 10: 'alternativa_C', 11: 'alternativa_D', 12: 'alternativa_E'})\n",
    "    df_dados = df_dados.sort_values(by='num_questao', ascending = True).reset_index(drop = True)\n",
    "    if (areas[0] == 'LC'):\n",
    "        df_dados.loc[df_dados['num_questao'] <= 45, 'area'] = areas[0]\n",
    "        df_dados.loc[df_dados['num_questao'] <= 45, 'co_prova'] = cos_prova[0]\n",
    "        df_dados.loc[df_dados['num_questao'] > 45, 'area'] = areas[1]\n",
    "        df_dados.loc[df_dados['num_questao'] > 45, 'co_prova'] = cos_prova[1]\n",
    "        print(np.sort(df_dados.num_questao.unique()))\n",
    "        print(df_dados.area.unique())\n",
    "        print(df_dados.co_prova.unique())\n",
    "    elif (areas[0] == 'CN'):\n",
    "        df_dados.loc[df_dados['num_questao'] <= 135, 'area'] = areas[0]\n",
    "        df_dados.loc[df_dados['num_questao'] <= 135, 'co_prova'] = cos_prova[0]\n",
    "        df_dados.loc[df_dados['num_questao'] > 135, 'area'] = areas[1]\n",
    "        df_dados.loc[df_dados['num_questao'] > 135, 'co_prova'] = cos_prova[1]\n",
    "        print(np.sort(df_dados.num_questao.unique()))\n",
    "        print(df_dados.area.unique())\n",
    "        print(df_dados.co_prova.unique())\n",
    "    \n",
    "    df_dados.to_csv(file_path + '.csv', sep = ';', index = False)\n",
    "\n",
    "    return file_path, df_dados"
   ]
  },
  {
   "cell_type": "markdown",
   "id": "61c78dbc",
   "metadata": {},
   "source": [
    "#### PAPEL - P1"
   ]
  },
  {
   "cell_type": "code",
   "execution_count": null,
   "id": "5a0a769a",
   "metadata": {},
   "outputs": [],
   "source": [
    "areas_cos_prova = []"
   ]
  },
  {
   "cell_type": "code",
   "execution_count": null,
   "id": "3bc87c2e",
   "metadata": {},
   "outputs": [],
   "source": [
    "file_path, df_ENEM_2020_P1_CAD_01_DIA_1_AZUL = extrai_questoes_10('_itens', 2020, 'ENEM_2020_P1_CAD_01_DIA_1_AZUL.pdf', 'AZUL', 0, ['LC', 'CH'], [577, 567],  6, 90)"
   ]
  },
  {
   "cell_type": "code",
   "execution_count": null,
   "id": "4a788d5e",
   "metadata": {},
   "outputs": [],
   "source": [
    "file_path, df_ENEM_2020_P1_CAD_02_DIA_1_AMARELO = extrai_questoes_10('_itens', 2020, 'ENEM_2020_P1_CAD_02_DIA_1_AMARELO.pdf', 'AMARELA', 0, ['LC', 'CH'], [578, 568],  6, 90)"
   ]
  },
  {
   "cell_type": "code",
   "execution_count": null,
   "id": "1ee55b89",
   "metadata": {},
   "outputs": [],
   "source": [
    "file_path, df_ENEM_2020_P1_CAD_03_DIA_1_BRANCO = extrai_questoes_10('_itens', 2020, 'ENEM_2020_P1_CAD_03_DIA_1_BRANCO.pdf', 'BRANCA', 0, ['LC', 'CH'], [580, 569],  6, 90)"
   ]
  },
  {
   "cell_type": "code",
   "execution_count": null,
   "id": "fc5a4f2e",
   "metadata": {},
   "outputs": [],
   "source": [
    "file_path, df_ENEM_2020_P1_CAD_04_DIA_1_ROSA = extrai_questoes_10('_itens', 2020, 'ENEM_2020_P1_CAD_04_DIA_1_ROSA.pdf', 'ROSA', 0, ['LC', 'CH'], [579, 570],  6, 90)"
   ]
  },
  {
   "cell_type": "code",
   "execution_count": null,
   "id": "b82bdb97",
   "metadata": {},
   "outputs": [],
   "source": [
    "file_path, df_ENEM_2020_P1_CAD_05_DIA_2_AMARELO = extrai_questoes_10('_itens', 2020, 'ENEM_2020_P1_CAD_05_DIA_2_AMARELO.pdf', 'AMARELA', 0, ['CN', 'MT'], [598, 588],  91, 180)"
   ]
  },
  {
   "cell_type": "code",
   "execution_count": null,
   "id": "f4f6c7fe",
   "metadata": {},
   "outputs": [],
   "source": [
    "file_path, df_ENEM_2020_P1_CAD_07_DIA_2_AZUL = extrai_questoes_10('_itens', 2020, 'ENEM_2020_P1_CAD_07_DIA_2_AZUL.pdf', 'AZUL', 0, ['CN', 'MT'], [597, 587],  91, 180)"
   ]
  },
  {
   "cell_type": "code",
   "execution_count": null,
   "id": "0eccd1fc",
   "metadata": {},
   "outputs": [],
   "source": [
    "\n",
    "file_path, df_ENEM_2020_P1_CAD_06_DIA_2_CINZA = extrai_questoes_10('_itens', 2020, 'ENEM_2020_P1_CAD_06_DIA_2_CINZA.pdf', 'CINZA', 0, ['CN', 'MT'], [599, 590],  91, 180)"
   ]
  },
  {
   "cell_type": "code",
   "execution_count": null,
   "id": "a1239222",
   "metadata": {},
   "outputs": [],
   "source": [
    "file_path, df_ENEM_2020_P1_CAD_08_DIA_2_ROSA = extrai_questoes_10('_itens', 2020, 'ENEM_2020_P1_CAD_08_DIA_2_ROSA.pdf', 'ROSA', 0, ['CN', 'MT'], [600, 589],  91, 180)"
   ]
  },
  {
   "cell_type": "markdown",
   "id": "823d2325",
   "metadata": {},
   "source": [
    "#### PAPEL - P2"
   ]
  },
  {
   "cell_type": "code",
   "execution_count": null,
   "id": "dfbac461",
   "metadata": {},
   "outputs": [],
   "source": [
    "dados = [['ENEM_2020_P2_CAD_01_DIA_1_AZUL.pdf', 'AZUL', ['LC', 'CH'], [617, 607], [6, 90]],\n",
    "        ['ENEM_2020_P2_CAD_02_DIA_1_AMARELO.pdf', 'AMARELA' , ['LC', 'CH'],[618, 608], [6, 90]],\n",
    "        ['ENEM_2020_P2_CAD_03_DIA_1_BRANCO.pdf', 'BRANCA' , ['LC', 'CH'],[620, 609], [6, 90]],\n",
    "        ['ENEM_2020_P2_CAD_04_DIA_1_ROSA.pdf', 'ROSA' , ['LC', 'CH'],[619, 610], [6, 90]],\n",
    "        ['ENEM_2020_P2_CAD_05_DIA_2_AMARELO.pdf', 'AMARELA' , ['CN', 'MT'],[638, 628], [91, 180]],\n",
    "        ['ENEM_2020_P2_CAD_06_DIA_2_CINZA.pdf', 'CINZA' , ['CN', 'MT'],[639, 630], [91, 180]],\n",
    "        ['ENEM_2020_P2_CAD_07_DIA_2_AZUL.pdf', 'AZUL' , ['CN', 'MT'],[637, 627], [91, 180]],\n",
    "        ['ENEM_2020_P2_CAD_08_DIA_2_ROSA.pdf', 'ROSA' , ['CN', 'MT'],[640, 629], [91, 180]]]\n",
    "dados"
   ]
  },
  {
   "cell_type": "code",
   "execution_count": null,
   "id": "546bdf54",
   "metadata": {},
   "outputs": [],
   "source": [
    "file_path, df_ENEM_2020_P2_CAD_01_DIA_1_AZUL = extrai_questoes_10('_itens', 2020, dados[0][0], dados[0][1], 0, [dados[0][2][0], dados[0][2][1]], [dados[0][3][0], dados[0][3][1]],  dados[0][4][0], dados[0][4][1])"
   ]
  },
  {
   "cell_type": "code",
   "execution_count": null,
   "id": "7e0f1d26",
   "metadata": {},
   "outputs": [],
   "source": [
    "file_path, df_ENEM_2020_P2_CAD_02_DIA_1_AMARELO = extrai_questoes_10('_itens', 2020, dados[1][0], dados[1][1], 0, [dados[1][2][0], dados[1][2][1]], [dados[1][3][0], dados[1][3][1]],  dados[1][4][0], dados[1][4][1])"
   ]
  },
  {
   "cell_type": "code",
   "execution_count": null,
   "id": "01b8fe2e",
   "metadata": {},
   "outputs": [],
   "source": [
    "file_path, df_ENEM_2020_P2_CAD_03_DIA_1_BRANCO = extrai_questoes_10('_itens', 2020, dados[2][0], dados[2][1], 0, [dados[2][2][0], dados[2][2][1]], [dados[2][3][0], dados[2][3][1]],  dados[2][4][0], dados[2][4][1])"
   ]
  },
  {
   "cell_type": "code",
   "execution_count": null,
   "id": "8fda30cf",
   "metadata": {},
   "outputs": [],
   "source": [
    "file_path, df_ENEM_2020_P2_CAD_04_DIA_1_ROSA = extrai_questoes_10('_itens', 2020, dados[3][0], dados[3][1], 0, [dados[3][2][0], dados[3][2][1]], [dados[3][3][0], dados[3][3][1]],  dados[3][4][0], dados[3][4][1])"
   ]
  },
  {
   "cell_type": "code",
   "execution_count": null,
   "id": "61b927df",
   "metadata": {},
   "outputs": [],
   "source": [
    "file_path, df_ENEM_2020_P2_CAD_05_DIA_2_AMARELO = extrai_questoes_10('_itens', 2020, dados[4][0], dados[4][1], 0, [dados[4][2][0], dados[4][2][1]], [dados[4][3][0], dados[4][3][1]],  dados[4][4][0], dados[4][4][1])"
   ]
  },
  {
   "cell_type": "code",
   "execution_count": null,
   "id": "5bb237e7",
   "metadata": {},
   "outputs": [],
   "source": [
    "file_path, df_ENEM_2020_P2_CAD_06_DIA_2_CINZA = extrai_questoes_10('_itens', 2020, dados[5][0], dados[5][1], 0, [dados[5][2][0], dados[5][2][1]], [dados[5][3][0], dados[5][3][1]],  dados[5][4][0], dados[5][4][1])"
   ]
  },
  {
   "cell_type": "code",
   "execution_count": null,
   "id": "9182c1b2",
   "metadata": {},
   "outputs": [],
   "source": [
    "file_path, df_ENEM_2020_P2_CAD_07_DIA_2_AZUL = extrai_questoes_10('_itens', 2020, dados[6][0], dados[6][1], 0, [dados[6][2][0], dados[6][2][1]], [dados[6][3][0], dados[6][3][1]],  dados[6][4][0], dados[6][4][1])"
   ]
  },
  {
   "cell_type": "code",
   "execution_count": null,
   "id": "205ceaed",
   "metadata": {},
   "outputs": [],
   "source": [
    "file_path, df_ENEM_2020_P2_CAD_08_DIA_2_ROSA = extrai_questoes_10('_itens', 2020, dados[7][0], dados[7][1], 0, [dados[7][2][0], dados[7][2][1]], [dados[7][3][0], dados[7][3][1]],  dados[7][4][0], dados[7][4][1])"
   ]
  },
  {
   "cell_type": "code",
   "execution_count": null,
   "id": "cd0cd852",
   "metadata": {},
   "outputs": [],
   "source": [
    "# Concatenação dos dataframes de 2020\n",
    "df_prova_2020 = pd.concat([df_ENEM_2020_DIGITAL_CAD_01_DIA_1_AZUL_INGLES,\n",
    "                          df_ENEM_2020_DIGITAL_CAD_02_DIA_1_AMARELO_INGLES,\n",
    "                          df_ENEM_2020_DIGITAL_CAD_03_DIA_1_BRANCO_INGLES,\n",
    "                          df_ENEM_2020_DIGITAL_CAD_04_DIA_1_ROSA_INGLES,\n",
    "                          df_ENEM_2020_DIGITAL_CAD_05_DIA_2_AMARELO,\n",
    "                          df_ENEM_2020_DIGITAL_CAD_06_DIA_2_CINZA,\n",
    "                          df_ENEM_2020_DIGITAL_CAD_07_DIA_2_AZUL,\n",
    "                          df_ENEM_2020_DIGITAL_CAD_08_DIA_2_ROSA,\n",
    "                          df_ENEM_2020_P1_CAD_01_DIA_1_AZUL,\n",
    "                          df_ENEM_2020_P1_CAD_02_DIA_1_AMARELO,\n",
    "                          df_ENEM_2020_P1_CAD_03_DIA_1_BRANCO,\n",
    "                          df_ENEM_2020_P1_CAD_04_DIA_1_ROSA,\n",
    "                          df_ENEM_2020_P1_CAD_05_DIA_2_AMARELO,\n",
    "                          df_ENEM_2020_P1_CAD_06_DIA_2_CINZA,\n",
    "                          df_ENEM_2020_P1_CAD_07_DIA_2_AZUL,\n",
    "                          df_ENEM_2020_P1_CAD_08_DIA_2_ROSA,\n",
    "                          df_ENEM_2020_P2_CAD_01_DIA_1_AZUL,\n",
    "                          df_ENEM_2020_P2_CAD_02_DIA_1_AMARELO,\n",
    "                          df_ENEM_2020_P2_CAD_03_DIA_1_BRANCO,\n",
    "                          df_ENEM_2020_P2_CAD_04_DIA_1_ROSA,\n",
    "                          df_ENEM_2020_P2_CAD_05_DIA_2_AMARELO,\n",
    "                          df_ENEM_2020_P2_CAD_06_DIA_2_CINZA,\n",
    "                          df_ENEM_2020_P2_CAD_07_DIA_2_AZUL,\n",
    "                          df_ENEM_2020_P2_CAD_08_DIA_2_ROSA], ignore_index=True, axis = 0)\n",
    "\n",
    "# Resultado\n",
    "df_prova_2020.shape"
   ]
  },
  {
   "cell_type": "code",
   "execution_count": null,
   "id": "0cd3b070",
   "metadata": {},
   "outputs": [],
   "source": [
    "file = os.path.join('_itens', str(2020), 'ITENS_PROVA_2020')\n",
    "df_itens_2020 = pd.read_csv(file + '.csv', sep = ';', encoding = 'ISO-8859-1')\n",
    "df_itens_2020['id'] = df_itens_2020['CO_POSICAO'].apply(str) + '_' + df_itens_2020['SG_AREA'].apply(str) + '_' + df_itens_2020['TX_COR'].apply(str) + '_' + df_itens_2020['CO_PROVA'].apply(str) + '_' + df_itens_2020['TP_VERSAO_DIGITAL'].apply(str) \n",
    "df_prova_2020['id'] = df_prova_2020['num_questao'].apply(str) + '_' + df_prova_2020['area'].apply(str) + '_' + df_prova_2020['cor'].apply(str) + '_' + df_prova_2020['co_prova'].apply(str) + '_' + df_prova_2020['meio_aplicacao'].apply(str) \n",
    "df_2020_merge = pd.merge(df_itens_2020, df_prova_2020, on='id', how='left')\n",
    "df_2020_merge = df_2020_merge.drop(df_2020_merge.columns[20], axis = 1)\n",
    "for col in df_2020_merge.columns:\n",
    "    df_2020_merge = df_2020_merge.rename(columns = {col:col.lower()})\n",
    "file = os.path.join('_itens', str(2020), '2020_ENEM_COMPLETA')\n",
    "df_2020_merge.to_csv(file + '.csv', sep = ';', index = False)"
   ]
  },
  {
   "cell_type": "markdown",
   "id": "971c4f36",
   "metadata": {},
   "source": [
    "### 2021"
   ]
  },
  {
   "cell_type": "code",
   "execution_count": null,
   "id": "739e5362",
   "metadata": {},
   "outputs": [],
   "source": [
    "file_path = os.path.join('_itens', '2021')\n",
    "files = os.listdir(file_path)\n",
    "\n",
    "for file in files:\n",
    "    print('-', file)"
   ]
  },
  {
   "cell_type": "markdown",
   "id": "a66bf5bb",
   "metadata": {},
   "source": [
    "- ENEM_2021_DIGITAL_CAD_01_DIA_1_AZUL_INGLES.pdf LC 889 CH 879\n",
    "- ENEM_2021_DIGITAL_CAD_02_DIA_1_AMARELO_INGLES.pdf LC 890 CH 880\n",
    "- ENEM_2021_DIGITAL_CAD_03_DIA_1_BRANCO_INGLES.pdf LC 892 CH 881\n",
    "- ENEM_2021_DIGITAL_CAD_04_DIA_1_ROSA_INGLES.pdf LC 891 CH 882\n",
    "- ENEM_2021_DIGITAL_CAD_05_DIA_2_AMARELO.pdf CN 910 MT 900\n",
    "- ENEM_2021_DIGITAL_CAD_06_DIA_2_CINZA.pdf CN 911 MT 902\n",
    "- ENEM_2021_DIGITAL_CAD_07_DIA_2_AZUL.pdf CN 909 MT 899\n",
    "- ENEM_2021_DIGITAL_CAD_08_DIA_2_ROSA.pdf CN 912 MT 901\n",
    "- ENEM_2021_P2_CAD_01_DIA_1_AZUL.pdf LC 969 CH 959\n",
    "- ENEM_2021_P2_CAD_02_DIA_1_AMARELO.pdf LC 970  CH 960\n",
    "- ENEM_2021_P2_CAD_03_DIA_1_BRANCO.pdf LC 972 CH 961\n",
    "- ENEM_2021_P2_CAD_04_DIA_1_ROSA.pdf LC 971 CH 962\n",
    "- ENEM_2021_P2_CAD_05_DIA_2_AMARELO.pdf CN 990 MT 980\n",
    "- ENEM_2021_P2_CAD_06_DIA_2_CINZA.pdf CN 991 MT 982\n",
    "- ENEM_2021_P2_CAD_07_DIA_2_AZUL.pdf CN 989 MT 979\n",
    "- ENEM_2021_P2_CAD_08_DIA_2_ROSA.pdf CN 992 MT 981"
   ]
  },
  {
   "cell_type": "code",
   "execution_count": null,
   "id": "d29a5d44",
   "metadata": {},
   "outputs": [],
   "source": [
    "#aplicado a 2021\n",
    "def extrai_questoes_11(dir_, ano, pdf, cor, meio_aplicacao, areas, cos_prova, num_primeira_questao, num_ultima_questao):\n",
    "    dados = []\n",
    "    #arquivo pdf\n",
    "    file_path = os.path.join(dir_, str(ano), pdf)\n",
    "    # Abre o arquivo PDF\n",
    "    pdf_file = open(file_path, \"rb\")\n",
    "\n",
    "    # Cria um objeto PDFReader\n",
    "    pdf_reader = PyPDF2.PdfReader(pdf_file)\n",
    "\n",
    "    txt_pdf = ''\n",
    "    # Loop através de cada página do PDF\n",
    "    for page in range(len(pdf_reader.pages)):\n",
    "        # Obtém o objeto da página atual\n",
    "        page_obj = pdf_reader.pages[page]\n",
    "\n",
    "        # Extrai o texto da página atual\n",
    "        page_text = page_obj.extract_text()\n",
    "\n",
    "        # Escreve o texto extraído em um arquivo TXT\n",
    "        with open(file_path + '.txt', \"a\",  encoding=\"utf-8\") as text_file:\n",
    "            text_file.write(page_text)\n",
    "            txt_pdf += page_text + ' '\n",
    "\n",
    "    # Fecha o arquivo PDF\n",
    "    pdf_file.close()\n",
    "\n",
    "    file_path = os.path.join(dir_, str(ano), pdf+'.txt')\n",
    "    #print(txt_pdf)\n",
    "    txt_pdf  = re.sub(r'/g\\d+/', '', txt_pdf)\n",
    "    txt_pdf  = re.sub(r'g/', '', txt_pdf)\n",
    "    txt_pdf  = re.sub(r'/g/', '', txt_pdf)\n",
    "    txt_pdf = re.sub(r'\\{2,}', \"\", txt_pdf)\n",
    "    txt_pdf = re.sub(r'\\/\\d+', \"\", txt_pdf)\n",
    "    txt_pdf = re.sub(r'#\\d+', \"\", txt_pdf)\n",
    "    txt_pdf = txt_pdf.replace('#2/', '')\n",
    "    txt_pdf = txt_pdf.replace('/', '')\n",
    "    #*SA0175AZ6*\n",
    "    #*DO0525AM31*\n",
    "    #*010175AZ22*\n",
    "    txt_pdf = re.sub(r\"\\*2017[A-Z]{2}\\d{4}[A-Z]{2}\\d+\\*\", '', txt_pdf)\n",
    "    txt_pdf = re.sub(r\"\\*[A-Z]{2}\\d{4}[A-Z]{2}\\d+\\*\", '', txt_pdf)\n",
    "    txt_pdf = re.sub(r\"\\*\\d{6}[A-Z]{2}\\d+\\*\", '', txt_pdf)\n",
    "    txt_pdf = re.sub(r'\\*((SA)(CINZ)|(ROSA)|(BRAN)|(AMAR)|(AZUL)|(Amar)|(amar)|(cinz)|(azul)|(rosa)|(bran))[0-9]+((AZ)(dom)|(sab)|(DOM)|(SAB))\\d+\\*', '', txt_pdf)\n",
    "    txt_pdf = txt_pdf.replace('2ª APLICAÇÃO', '')\n",
    "    txt_pdf = txt_pdf.replace('CIÊNCIAS HUMANAS E SUAS TECNOLOGIAS', '')\n",
    "    txt_pdf = txt_pdf.replace('Questões de 1 a 45', '')\n",
    "    txt_pdf = txt_pdf.replace('CIÊNCIAS DA NATUREZA E SUAS TECNOLOGIAS', '')\n",
    "    txt_pdf = txt_pdf.replace('Questões de 46 a 90', '')\n",
    "    txt_pdf = txt_pdf.replace('LINGUAGENS E CÓDIGOS E SUAS TECNOLOGIAS', '')\n",
    "    txt_pdf = txt_pdf.replace('Questões de 91 a 135', '')\n",
    "    txt_pdf = txt_pdf.replace('MATEMÁTICA E SUAS TECNOLOGIAS', '')\n",
    "    txt_pdf = txt_pdf.replace('Questões de 136 a 180', '')\n",
    "    txt_pdf = txt_pdf.replace('RASCUNHO DA REDAÇÃO', '')\n",
    "    txt_pdf = txt_pdf.replace('Transcreva a sua Redação para a Folha de Redação.', '')\n",
    "    txt_pdf = txt_pdf.replace('RASCUNHO\\nDA REDAÇÃO1', '')\n",
    "    txt_pdf = txt_pdf.replace('234567891011\\n12\\n131415161718192021222324252627282930', '')\n",
    "    txt_pdf  = re.sub(r\"(LC)|(MT)|(CN)|(CH) - (1º)|(2º) dia \\| Caderno \\d+ - ((AMARELO)|(AZUL)|(CINZA)|(ROSA)|(BRANCO)) - Página \\d+\", '', txt_pdf)\n",
    "    txt_pdf  = re.sub(r\" - (1º)|(2º) dia \\| Caderno \\d+ - ((AMARELO)|(AZUL)|(CINZA)|(ROSA)|(BRANCO)) - Página \\d+\", '', txt_pdf)\n",
    "    txt_pdf  = re.sub(r\"dia \\| Caderno \\d+ - ((AMARELO)|(AZUL)|(CINZA)|(ROSA)|(BRANCO)) - Página \\d+\", '', txt_pdf)\n",
    "    txt_pdf = txt_pdf.replace('CIÊNCIAS DA NATUREZ', '')\n",
    "    txt_pdf = txt_pdf.replace('CIÊNCIAS DA NATUREZAE SUAS TEOLOGIAS', '')\n",
    "    txt_pdf = txt_pdf.replace('AE SUAS TEOLOGIAS', '')\n",
    "    txt_pdf = txt_pdf.replace('E SUAS TEOLOGIAS', '')\n",
    "    txt_pdf = txt_pdf.replace('CIÊNCIAS DA N ATUREZA', '')\n",
    "    txt_pdf = txt_pdf.replace('2014', '')\n",
    "    txt_pdf = txt_pdf.replace('\\n2015', '')\n",
    "    txt_pdf = txt_pdf.replace('. 2015', '')\n",
    "    txt_pdf = txt_pdf.replace('.  2015', '')\n",
    "    txt_pdf = txt_pdf.replace('- 2017', '')\n",
    "    txt_pdf = txt_pdf.replace('23456789101112131415161718192021222324252627282930', '')\n",
    "    txt_pdf = txt_pdf.replace('RASCUNH\\n DA REDAÇÃO 1', '')\n",
    "    txt_pdf = txt_pdf.replace(' - Linguagens, Códigos e suas Tecnologias', '')\n",
    "    txt_pdf = txt_pdf.replace(' - Ciências Humanas e suas Tecnologias', '')\n",
    "    txt_pdf = txt_pdf.replace('CH - 1°', '')\n",
    "    txt_pdf = txt_pdf.replace('- 1°', '')\n",
    "    txt_pdf = txt_pdf.replace('- 2°', '')\n",
    "    txt_pdf = txt_pdf.replace('2ª aplicação', '')\n",
    "    txt_pdf =  txt_pdf.replace(' - Ciências Humanas e suas T ecnologias', '')\n",
    "    txt_pdf =  txt_pdf.replace(' - Linguagens, Códigos e suas T ecnologias', '')\n",
    "    txt_pdf =  txt_pdf.replace(' - Ciências da Natureza e suas T ecnologias', '')\n",
    "    txt_pdf =  txt_pdf.replace(' - Matemática e suas T ecnologias', '')\n",
    "    #letras = ['\\nA ', '\\nB ', '\\nC ', '\\nD ', '\\nE ']\n",
    "    #letras = ['A\\n ', 'B\\n ', 'C\\n ', 'D\\n ', 'E\\n']\n",
    "    #re.findall(r'Questão 15(.*?)\\nA.', texto)\n",
    "    #letras = ['\\nA.', '\\nB.', '\\nC.', '\\nD.', '\\nE.']\n",
    "    letras = ['\\nA', '\\nB', '\\nC', '\\nD', '\\nE']\n",
    "    globals()['alternativa0'] = ''\n",
    "    globals()['alternativa1'] = ''\n",
    "    globals()['alternativa2'] = ''\n",
    "    globals()['alternativa3'] = ''\n",
    "    globals()['alternativa4'] = ''\n",
    "    for i in range(num_primeira_questao, num_ultima_questao+1):\n",
    "        print(i)\n",
    "        if i < num_ultima_questao:\n",
    "            #pattern = re.compile(r\"QUESTÃO \"+(str(0)+str(i) if i < 10 else str(i))+\"(.*?)QUESTÃO \"+(str(0)+str(i+1) if i+1 < 10 else str(i+1)), re.DOTALL)\n",
    "            #pattern = re.compile(r\"QUESTÃO \"+(str(0)+str(i) if i < 10 else str(i))+\"(.*?)da Associação Brasileira para\", re.DOTALL)\n",
    "            #questao = pattern.findall(txt_pdf)\n",
    "            #if len(questao) == 0:\n",
    "                #pattern = re.compile(r\"QUESTÃO \"+(str(0)+str(i) if i < 10 else str(i))+\"(.*?)QUESTÃO \\d+\", re.DOTALL)\n",
    "                #questao = pattern.findall(txt_pdf)\n",
    "            #pattern = re.compile(r\"Questão \"+(str(0)+str(i) if i < 10 else str(i))+\"(.*?)Questão \\d+\", re.DOTALL)\n",
    "            pattern = re.compile(r\"Questão \"+str(i)+\"(.*?)Questão \\d+\", re.DOTALL)\n",
    "            questao = pattern.findall(txt_pdf)\n",
    "            if (len(questao) > 0):\n",
    "                questao = questao[0]\n",
    "            else:\n",
    "                questao = ''\n",
    "            pattern = re.compile(r\"(.*)\"+letras[0], re.DOTALL)\n",
    "            print('texto_base')\n",
    "            texto_base = pattern.findall(questao)\n",
    "            if (len(texto_base) > 0):\n",
    "                texto_base = re.sub(r'\\s+', ' ', texto_base[0], flags=re.DOTALL)\n",
    "                print(texto_base)\n",
    "            else:\n",
    "                texto_base = ''\n",
    "            for j in range(len(letras)):\n",
    "                if j < 4:\n",
    "                    \n",
    "                    pattern = re.compile(r''+letras[j]+\"(.*?)\"+letras[j+1], re.DOTALL)\n",
    "                    #(?<=(A\\n|\\nA)).*?(?=B\\n|\\nB)\n",
    "                    #pattern = re.compile(r'(?<=(\\n'+letras[j]+' |'+letras[j]+'\\n|\\n'+letras[j]+')).*?(?=\\n'+letras[j+1]+' |'+letras[j+1]+'\\n|\\n'+letras[j+1]+' )', re.DOTALL)\n",
    "                    alternativa = pattern.findall(questao)\n",
    "                    if (len(alternativa) > 0):\n",
    "                        alternativa = re.sub(r'\\s+', ' ', alternativa[0], flags=re.DOTALL)\n",
    "                        print(j, alternativa)\n",
    "                        globals()['alternativa'+str(j)] = alternativa\n",
    "                    else:\n",
    "                        globals()['alternativa'+str(j)] = ''\n",
    "                else:\n",
    "                    pattern = re.compile(r''+letras[j]+\"(.*)\", re.DOTALL)\n",
    "                    alternativa = pattern.findall(questao)\n",
    "                    if (len(alternativa) > 0):\n",
    "                        alternativa = re.sub(r'\\s+', ' ', alternativa[0], flags=re.DOTALL)\n",
    "                        print(j, alternativa)\n",
    "                        globals()['alternativa'+str(j)] = alternativa\n",
    "                    else:\n",
    "                        globals()['alternativa'+str(j)] = ''\n",
    "            questao = questao.replace('\\n', '')\n",
    "            print('questão')\n",
    "            print(questao)\n",
    "        else:\n",
    "            pattern = re.compile(r\"Questão \"+str(i)+\"(.*)\", re.DOTALL)\n",
    "            questao = pattern.findall(txt_pdf)\n",
    "            questao = questao[0].strip()\n",
    "            pattern = re.compile(r\"(.*)\"+letras[0], re.DOTALL)\n",
    "            texto_base = pattern.findall(questao)\n",
    "            if (len(texto_base) > 0):\n",
    "                texto_base = re.sub(r'\\s+', ' ', texto_base[0], flags=re.DOTALL)\n",
    "                \n",
    "                print(texto_base)\n",
    "            else:\n",
    "                texto_base = ''\n",
    "                \n",
    "            print('alternativas')\n",
    "            for j in range(len(letras)):\n",
    "                if j < 4:\n",
    "                    \n",
    "                    pattern = re.compile(r''+letras[j]+\"(.*?)\"+letras[j+1], re.DOTALL)\n",
    "                    alternativa = pattern.findall(questao)\n",
    "                    if (len(alternativa) > 0):\n",
    "                        alternativa = re.sub(r'\\s+', ' ', alternativa[0], flags=re.DOTALL)\n",
    "                        print(j, alternativa)\n",
    "                        globals()['alternativa'+str(j)] = alternativa\n",
    "                    else:\n",
    "                        globals()['alternativa'+str(j)] = ''\n",
    "                else:\n",
    "                    pattern = re.compile(r''+letras[j]+\"(.*)\", re.DOTALL)\n",
    "                    alternativa = pattern.findall(questao)\n",
    "                    if (len(alternativa) > 0):\n",
    "                        alternativa = re.sub(r'\\s+', ' ', alternativa[0], flags=re.DOTALL)\n",
    "                        alternativa = alternativa.replace('23456789101112131415161718192021222324252627282930', '')\n",
    "                        alternativa = alternativa.replace('RASCUNHO DA REDAÇÃO 1', '')\n",
    "                        alternativa = alternativa.replace('2 3 4 5 6 7 8 9 10 11 12 13 14 15 16 17 18 19 20 21 22 23 24 25 26 27 28 29 30', '')\n",
    "                        alternativa = alternativa.replace('0101 4 9 10321 1°', '')\n",
    "                        alternativa = alternativa.replace('0102 1° 9 10321', '')\n",
    "                        alternativa =  alternativa.replace('1° 9 10321 0104', '')\n",
    "                        alternativa =  alternativa.replace('2° 0201 56789101112', '')\n",
    "                        alternativa =  alternativa.replace('2° 0203 56789101112', '')\n",
    "                        alternativa =  alternativa.replace('2° 0202 56789101112', '')\n",
    "                        alternativa =  alternativa.replace('0204 56789101112 2°', '')\n",
    "                        alternativa =  alternativa.replace('2ª aplicação 2ª aplicação', '')\n",
    "                        alternativa =  alternativa.replace('1° 0103  4 9 10321', '')\n",
    "                        print(j, alternativa)\n",
    "                        globals()['alternativa'+str(j)] = alternativa\n",
    "                    else:\n",
    "                        globals()['alternativa'+str(j)] = ''\n",
    "            questao = re.sub(r'\\s+', ' ', questao, flags=re.DOTALL)\n",
    "            questao = questao.replace('RAScUnHODA REDAÇÃO2015123456789101112131415161718192021222324252627282930', '')\n",
    "            questao = questao.replace('RAScUnHO DA REDAÇÃO2015 1 2 3 4 56 7 8910111213141516 17 18192021222324252627 28 29 30', '')\n",
    "            questao = questao.replace('RASCUNHO DA REDAÇÃO 1', '')\n",
    "            questao = questao.replace('2 3 4 5 6 7 8 9 10 11 12 13 14 15 16 17 18 19 20 21 22 23 24 25 26 27 28 29 30', '')\n",
    "            questao = questao.replace('0101 4 9 10321 1°', '')\n",
    "            questao =  questao.replace('0102 1° 9 10321', '')\n",
    "            questao =  questao.replace('1° 9 10321 0104', '')\n",
    "            questao =  questao.replace('2° 0201 56789101112', '')\n",
    "            questao =  questao.replace('2° 0203 56789101112', '')\n",
    "            questao =  questao.replace('2° 0202 56789101112', '')\n",
    "            questao =  questao.replace('0204 56789101112 2°', '')\n",
    "            questao =  questao.replace('2ª aplicação 2ª aplicação', '')\n",
    "            questao =  questao.replace('1° 0103  4 9 10321', '')\n",
    "            questao =  questao.replace(' - Ciências Humanas e suas T ecnologias', '')\n",
    "            questao =  questao.replace(' - Linguagens, Códigos e suas T ecnologias', '')\n",
    "            print(questao)\n",
    "        dados.append([ano, cor, meio_aplicacao, i, areas[0], cos_prova[0],  questao, texto_base, globals()['alternativa0'], globals()['alternativa1'], globals()['alternativa2'], globals()['alternativa3'], globals()['alternativa4']])\n",
    "    \n",
    "    #print(dados)\n",
    "    \n",
    "    df_dados = pd.DataFrame(dados)\n",
    "    df_dados = df_dados.rename(columns={0: 'ano', 1: 'cor', 2: 'meio_aplicacao', 3: 'num_questao', 4: 'area', 5: 'co_prova', 6: 'texto_questao', 7: 'texto_base', 8: 'alternativa_A', 9: 'alternativa_B', 10: 'alternativa_C', 11: 'alternativa_D', 12: 'alternativa_E'})\n",
    "    df_dados = df_dados.sort_values(by='num_questao', ascending = True).reset_index(drop = True)\n",
    "    if (areas[0] == 'LC'):\n",
    "        df_dados.loc[df_dados['num_questao'] <= 45, 'area'] = areas[0]\n",
    "        df_dados.loc[df_dados['num_questao'] <= 45, 'co_prova'] = cos_prova[0]\n",
    "        df_dados.loc[df_dados['num_questao'] > 45, 'area'] = areas[1]\n",
    "        df_dados.loc[df_dados['num_questao'] > 45, 'co_prova'] = cos_prova[1]\n",
    "        print(np.sort(df_dados.num_questao.unique()))\n",
    "        print(df_dados.area.unique())\n",
    "        print(df_dados.co_prova.unique())\n",
    "    elif (areas[0] == 'CN'):\n",
    "        df_dados.loc[df_dados['num_questao'] <= 135, 'area'] = areas[0]\n",
    "        df_dados.loc[df_dados['num_questao'] <= 135, 'co_prova'] = cos_prova[0]\n",
    "        df_dados.loc[df_dados['num_questao'] > 135, 'area'] = areas[1]\n",
    "        df_dados.loc[df_dados['num_questao'] > 135, 'co_prova'] = cos_prova[1]\n",
    "        print(np.sort(df_dados.num_questao.unique()))\n",
    "        print(df_dados.area.unique())\n",
    "        print(df_dados.co_prova.unique())\n",
    "    \n",
    "    df_dados.to_csv(file_path + '.csv', sep = ';', index = False)\n",
    "\n",
    "    return file_path, df_dados"
   ]
  },
  {
   "cell_type": "code",
   "execution_count": null,
   "id": "2d795899",
   "metadata": {},
   "outputs": [],
   "source": [
    "dados_21 = [['ENEM_2021_DIGITAL_CAD_01_DIA_1_AZUL_INGLES.pdf', 'AZUL', ['LC', 'CH'], [889, 879], [6, 90]],\n",
    "        ['ENEM_2021_DIGITAL_CAD_02_DIA_1_AMARELO_INGLES.pdf', 'AMARELA' , ['LC', 'CH'],[890, 880], [6, 90]],\n",
    "        ['ENEM_2021_DIGITAL_CAD_04_DIA_1_ROSA_INGLES.pdf', 'ROSA' , ['LC', 'CH'],[891, 882], [6, 90]],\n",
    "        ['ENEM_2021_DIGITAL_CAD_03_DIA_1_BRANCO_INGLES.pdf', 'BRANCA' , ['LC', 'CH'],[892, 881], [6, 90]],\n",
    "        ['ENEM_2021_DIGITAL_CAD_05_DIA_2_AMARELO.pdf', 'AMARELA' , ['CN', 'MT'],[910, 900], [91, 180]],\n",
    "        ['ENEM_2021_DIGITAL_CAD_06_DIA_2_CINZA.pdf', 'CINZA' , ['CN', 'MT'],[911, 902], [91, 180]],\n",
    "        ['ENEM_2021_DIGITAL_CAD_07_DIA_2_AZUL.pdf', 'AZUL' , ['CN', 'MT'],[909, 899], [91, 180]],\n",
    "        ['ENEM_2021_DIGITAL_CAD_08_DIA_2_ROSA.pdf', 'ROSA' , ['CN', 'MT'],[912, 901], [91, 180]]]\n",
    "dados_21"
   ]
  },
  {
   "cell_type": "code",
   "execution_count": null,
   "id": "3e206914",
   "metadata": {},
   "outputs": [],
   "source": [
    "file_path, df_ENEM_2021_DIGITAL_CAD_01_DIA_1_AZUL_INGLES = extrai_questoes_11('_itens', 2021, dados_21[0][0], dados_21[0][1], 1, [dados_21[0][2][0], dados_21[0][2][1]], [dados_21[0][3][0], dados_21[0][3][1]],  dados_21[0][4][0], dados_21[0][4][1])"
   ]
  },
  {
   "cell_type": "code",
   "execution_count": null,
   "id": "5c3b822d",
   "metadata": {},
   "outputs": [],
   "source": [
    "file_path, df_ENEM_2021_DIGITAL_CAD_02_DIA_1_AMARELO_INGLES = extrai_questoes_11('_itens', 2021, dados_21[1][0], dados_21[1][1], 1, [dados_21[1][2][0], dados_21[1][2][1]], [dados_21[1][3][0], dados_21[1][3][1]],  dados_21[1][4][0], dados_21[1][4][1])"
   ]
  },
  {
   "cell_type": "code",
   "execution_count": null,
   "id": "2822a5f4",
   "metadata": {},
   "outputs": [],
   "source": [
    "file_path, df_ENEM_2021_DIGITAL_CAD_04_DIA_1_ROSA_INGLES = extrai_questoes_11('_itens', 2021, dados_21[2][0], dados_21[2][1], 1, [dados_21[2][2][0], dados_21[2][2][1]], [dados_21[2][3][0], dados_21[2][3][1]],  dados_21[2][4][0], dados_21[2][4][1])"
   ]
  },
  {
   "cell_type": "code",
   "execution_count": null,
   "id": "f35511f4",
   "metadata": {},
   "outputs": [],
   "source": [
    "file_path, df_ENEM_2021_DIGITAL_CAD_03_DIA_1_BRANCO_INGLES = extrai_questoes_11('_itens', 2021, dados_21[3][0], dados_21[3][1], 1, [dados_21[3][2][0], dados_21[3][2][1]], [dados_21[3][3][0], dados_21[3][3][1]],  dados_21[3][4][0], dados_21[3][4][1])"
   ]
  },
  {
   "cell_type": "code",
   "execution_count": null,
   "id": "0fd7abcc",
   "metadata": {},
   "outputs": [],
   "source": [
    "file_path, df_ENEM_2021_DIGITAL_CAD_05_DIA_2_AMARELO = extrai_questoes_11('_itens', 2021, dados_21[4][0], dados_21[4][1], 1, [dados_21[4][2][0], dados_21[4][2][1]], [dados_21[4][3][0], dados_21[4][3][1]],  dados_21[4][4][0], dados_21[4][4][1])"
   ]
  },
  {
   "cell_type": "code",
   "execution_count": null,
   "id": "c120939b",
   "metadata": {},
   "outputs": [],
   "source": [
    "file_path, df_ENEM_2021_DIGITAL_CAD_06_DIA_2_CINZA = extrai_questoes_11('_itens', 2021, dados_21[5][0], dados_21[5][1], 1, [dados_21[5][2][0], dados_21[5][2][1]], [dados_21[5][3][0], dados_21[5][3][1]],  dados_21[5][4][0], dados_21[5][4][1])"
   ]
  },
  {
   "cell_type": "code",
   "execution_count": null,
   "id": "2c2d5f87",
   "metadata": {},
   "outputs": [],
   "source": [
    "file_path, df_ENEM_2021_DIGITAL_CAD_07_DIA_2_AZUL = extrai_questoes_11('_itens', 2021, dados_21[6][0], dados_21[6][1], 1, [dados_21[6][2][0], dados_21[6][2][1]], [dados_21[6][3][0], dados_21[6][3][1]],  dados_21[6][4][0], dados_21[6][4][1])"
   ]
  },
  {
   "cell_type": "code",
   "execution_count": null,
   "id": "3bc3351f",
   "metadata": {},
   "outputs": [],
   "source": [
    "file_path, df_ENEM_2021_DIGITAL_CAD_08_DIA_2_ROSA = extrai_questoes_11('_itens', 2021, dados_21[7][0], dados_21[7][1], 1, [dados_21[7][2][0], dados_21[7][2][1]], [dados_21[7][3][0], dados_21[7][3][1]],  dados_21[7][4][0], dados_21[7][4][1])"
   ]
  },
  {
   "cell_type": "code",
   "execution_count": null,
   "id": "86341dab",
   "metadata": {},
   "outputs": [],
   "source": [
    "# Concatenação dos dataframes de 2021\n",
    "df_prova_2021 = pd.concat([df_ENEM_2021_DIGITAL_CAD_01_DIA_1_AZUL_INGLES,\n",
    "                          df_ENEM_2021_DIGITAL_CAD_02_DIA_1_AMARELO_INGLES,\n",
    "                          df_ENEM_2021_DIGITAL_CAD_03_DIA_1_BRANCO_INGLES,\n",
    "                          df_ENEM_2021_DIGITAL_CAD_04_DIA_1_ROSA_INGLES,\n",
    "                          df_ENEM_2021_DIGITAL_CAD_05_DIA_2_AMARELO,\n",
    "                          df_ENEM_2021_DIGITAL_CAD_06_DIA_2_CINZA,\n",
    "                          df_ENEM_2021_DIGITAL_CAD_07_DIA_2_AZUL,\n",
    "                          df_ENEM_2021_DIGITAL_CAD_08_DIA_2_ROSA], ignore_index=True, axis = 0)\n",
    "\n",
    "# Resultado\n",
    "df_prova_2021.shape"
   ]
  },
  {
   "cell_type": "code",
   "execution_count": null,
   "id": "a527a3a3",
   "metadata": {},
   "outputs": [],
   "source": [
    "np.sort(df_prova_2021.co_prova.unique())"
   ]
  },
  {
   "cell_type": "code",
   "execution_count": null,
   "id": "ea05ab0b",
   "metadata": {},
   "outputs": [],
   "source": [
    "file = os.path.join('_itens', str(2021), 'ITENS_PROVA_2021')\n",
    "df_itens_2021 = pd.read_csv(file + '.csv', sep = ';', encoding = 'ISO-8859-1')\n",
    "df_itens_2021['id'] = df_itens_2021['CO_POSICAO'].apply(str) + '_' + df_itens_2021['SG_AREA'].apply(str) + '_' + df_itens_2021['TX_COR'].apply(str) \n",
    "df_prova_2021['id'] = df_prova_2021['num_questao'].apply(str) + '_' + df_prova_2021['area'].apply(str) + '_' + df_prova_2021['cor'].apply(str)\n",
    "df_2021_merge = pd.merge(df_itens_2021, df_prova_2021, on='id', how='left')\n",
    "df_2021_merge = df_2021_merge.drop(df_2021_merge.columns[20], axis = 1)\n",
    "for col in df_2021_merge.columns:\n",
    "    df_2021_merge = df_2021_merge.rename(columns = {col:col.lower()})\n",
    "file = os.path.join('_itens', str(2021), '2021_ENEM_COMPLETA')\n",
    "df_2021_merge.to_csv(file + '.csv', sep = ';', index = False)"
   ]
  },
  {
   "cell_type": "markdown",
   "id": "00aa7f6e",
   "metadata": {},
   "source": [
    "### reunir em um dataframe todos os dados coletados"
   ]
  },
  {
   "cell_type": "code",
   "execution_count": null,
   "id": "d23d280e",
   "metadata": {},
   "outputs": [],
   "source": [
    "# especificação dos tipos de cada coluna\n",
    "'''dtype = {'nu_param_a': float, 'nu_param_b': float, 'nu_param_c': float}\n",
    "\n",
    "df = pd.read_csv('arquivo.csv', dtype=dtype)'''\n",
    "\n",
    "# Concatenação dos dataframes\n",
    "df_itens_geral = pd.concat([pd.read_csv(os.path.join('_itens', '2010', '2010_ENEM_COMPLETA') + '.csv', sep = ';', encoding = 'UTF-8'),\n",
    "                            pd.read_csv(os.path.join('_itens', '2011', '2011_ENEM_COMPLETA') + '.csv', sep = ';', encoding = 'UTF-8'),\n",
    "                            pd.read_csv(os.path.join('_itens', '2012','2012_ENEM_COMPLETA') + '.csv', sep = ';', encoding = 'UTF-8'),\n",
    "                            pd.read_csv(os.path.join('_itens', '2013','2013_ENEM_COMPLETA') + '.csv', sep = ';', encoding = 'UTF-8'),\n",
    "                            pd.read_csv(os.path.join('_itens', '2014','2014_ENEM_COMPLETA') + '.csv', sep = ';', encoding = 'UTF-8'),\n",
    "                            pd.read_csv(os.path.join('_itens', '2015','2015_ENEM_COMPLETA') + '.csv', sep = ';', encoding = 'UTF-8'),\n",
    "                            pd.read_csv(os.path.join('_itens', '2017','2017_ENEM_COMPLETA') + '.csv', sep = ';', encoding = 'UTF-8'),\n",
    "                            pd.read_csv(os.path.join('_itens', '2019','2019_ENEM_COMPLETA') + '.csv', sep = ';', encoding = 'UTF-8'),\n",
    "                            pd.read_csv(os.path.join('_itens', '2020','2020_ENEM_COMPLETA') + '.csv', sep = ';', encoding = 'UTF-8'),\n",
    "                            pd.read_csv(os.path.join('_itens', '2021','2021_ENEM_COMPLETA') + '.csv', sep = ';', encoding = 'UTF-8')], ignore_index=True, axis = 0)\n",
    "\n",
    "# Resultado\n",
    "df_itens_geral.shape"
   ]
  },
  {
   "cell_type": "code",
   "execution_count": null,
   "id": "36a24031",
   "metadata": {},
   "outputs": [],
   "source": [
    "df_itens_geral.columns"
   ]
  },
  {
   "cell_type": "code",
   "execution_count": null,
   "id": "e56d47f2",
   "metadata": {},
   "outputs": [],
   "source": [
    "df_itens_geral = df_itens_geral.drop('co_prova.1', axis = 1).reset_index(drop = True)"
   ]
  },
  {
   "cell_type": "code",
   "execution_count": null,
   "id": "97dcfe39",
   "metadata": {},
   "outputs": [],
   "source": [
    "indexs = df_itens_geral[df_itens_geral['nu_param_a'].str.contains(',', na=False)].nu_param_a.index\n",
    "for i in indexs:\n",
    "    df_itens_geral.loc[i, 'nu_param_a'] = df_itens_geral.loc[i, 'nu_param_a'].replace(',', '.')\n",
    "    \n",
    "indexs = df_itens_geral[df_itens_geral['nu_param_b'].str.contains(',', na=False)].nu_param_b.index\n",
    "for i in indexs:\n",
    "    df_itens_geral.loc[i, 'nu_param_b'] = df_itens_geral.loc[i, 'nu_param_b'].replace(',', '.')\n",
    "    \n",
    "indexs = df_itens_geral[df_itens_geral['nu_param_c'].str.contains(',', na=False)].nu_param_c.index\n",
    "for i in indexs:\n",
    "    df_itens_geral.loc[i, 'nu_param_c'] = df_itens_geral.loc[i, 'nu_param_c'].replace(',', '.')"
   ]
  },
  {
   "cell_type": "code",
   "execution_count": null,
   "id": "20dc1464",
   "metadata": {},
   "outputs": [],
   "source": [
    "df_itens_geral.nu_param_a = df_itens_geral.nu_param_a.astype(float)\n",
    "df_itens_geral.nu_param_b = df_itens_geral.nu_param_b.astype(float)\n",
    "df_itens_geral.nu_param_c = df_itens_geral.nu_param_c.astype(float)"
   ]
  },
  {
   "cell_type": "code",
   "execution_count": null,
   "id": "7a7dfc01",
   "metadata": {},
   "outputs": [],
   "source": [
    "df_itens_geral.isnull().sum()"
   ]
  },
  {
   "cell_type": "code",
   "execution_count": null,
   "id": "109e0979",
   "metadata": {},
   "outputs": [],
   "source": [
    "df_itens_geral.head()"
   ]
  },
  {
   "cell_type": "code",
   "execution_count": null,
   "id": "2386acfd",
   "metadata": {},
   "outputs": [],
   "source": [
    "file = os.path.join('_itens', 'df_itens_geral')\n",
    "df_itens_geral.to_csv(file + '.csv', sep = ';', index = False)"
   ]
  },
  {
   "cell_type": "code",
   "execution_count": null,
   "id": "e7390cf0",
   "metadata": {},
   "outputs": [],
   "source": [
    "df_itens_geral.co_item"
   ]
  },
  {
   "cell_type": "code",
   "execution_count": null,
   "id": "ac1109d0",
   "metadata": {},
   "outputs": [],
   "source": [
    "df_itens_geral1 = df_itens_geral.drop_duplicates(subset=['co_item'])"
   ]
  },
  {
   "cell_type": "code",
   "execution_count": null,
   "id": "dd202cb9",
   "metadata": {},
   "outputs": [],
   "source": [
    "df_itens_geral1 = df_itens_geral1.drop_duplicates(subset=['texto_questao'])"
   ]
  },
  {
   "cell_type": "code",
   "execution_count": null,
   "id": "620893e1",
   "metadata": {},
   "outputs": [],
   "source": [
    "df_itens_geral1 = df_itens_geral1[(~df_itens_geral1.nu_param_a.isnull()) & ((~df_itens_geral1.nu_param_b.isnull()) & (~df_itens_geral1.nu_param_c.isnull()) & (df_itens_geral1.tx_motivo_aban.isnull()) & (~df_itens_geral1.texto_questao.isnull()))]"
   ]
  },
  {
   "cell_type": "code",
   "execution_count": null,
   "id": "14cc3770",
   "metadata": {},
   "outputs": [],
   "source": [
    "df_itens_geral1.isnull().sum()"
   ]
  },
  {
   "cell_type": "code",
   "execution_count": null,
   "id": "72adcd41",
   "metadata": {},
   "outputs": [],
   "source": [
    "df_itens_geral1.shape"
   ]
  },
  {
   "cell_type": "code",
   "execution_count": null,
   "id": "19334c02",
   "metadata": {},
   "outputs": [],
   "source": [
    "file = os.path.join('_itens', 'df_itens_geral_validos')\n",
    "df_itens_geral1.to_csv(file + '.csv', sep = ';', index = False)"
   ]
  },
  {
   "cell_type": "code",
   "execution_count": null,
   "id": "b508a155",
   "metadata": {},
   "outputs": [],
   "source": []
  }
 ],
 "metadata": {
  "kernelspec": {
   "display_name": "Python 3 (ipykernel)",
   "language": "python",
   "name": "python3"
  },
  "language_info": {
   "codemirror_mode": {
    "name": "ipython",
    "version": 3
   },
   "file_extension": ".py",
   "mimetype": "text/x-python",
   "name": "python",
   "nbconvert_exporter": "python",
   "pygments_lexer": "ipython3",
   "version": "3.9.12"
  }
 },
 "nbformat": 4,
 "nbformat_minor": 5
}
